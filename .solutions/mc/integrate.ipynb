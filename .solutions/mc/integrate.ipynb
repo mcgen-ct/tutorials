{
 "cells": [
  {
   "cell_type": "markdown",
   "metadata": {
    "id": "Integration_and_Sampling"
   },
   "source": [
    "# Integration and Sampling"
   ]
  },
  {
   "cell_type": "markdown",
   "metadata": {},
   "source": [
    "In this notebook we first investigate sampling random numbers other than uniform, and then use random number sampling to calculate integrals."
   ]
  },
  {
   "cell_type": "markdown",
   "metadata": {
    "id": "Requirements"
   },
   "source": [
    "## Requirements"
   ]
  },
  {
   "cell_type": "markdown",
   "metadata": {},
   "source": [
    "We need a random number generator. We could use one of the RNGs implemented in [`rng.ipynb`](rng.ipynb), but instead we will use the default `numpy` RNG. We also need the `math` module and `matplotlib`."
   ]
  },
  {
   "cell_type": "code",
   "execution_count": null,
   "metadata": {},
   "outputs": [],
   "source": [
    "# Import the `numpy` and `math` modules.\n",
    "import numpy as np\n",
    "import math\n",
    "\n",
    "# Import the `matplotlib` module.\n",
    "import matplotlib.pyplot as plt\n",
    "\n",
    "# Create an RNG, with a seed of 10.\n",
    "rng = np.random.default_rng(10)"
   ]
  },
  {
   "cell_type": "markdown",
   "metadata": {
    "id": "Introduction"
   },
   "source": [
    "## Introduction"
   ]
  },
  {
   "cell_type": "markdown",
   "metadata": {},
   "source": [
    "Typical events produced within the Large Hadron Collider (LHC) from colliding protons have $\\mathcal{O}(100)$ or more particles produced. When calculating a cross-section for a two-to-two process we typically only need to integrate over two variables, $\\theta$ and $\\phi$. A two-to-$n$ process requires integrating over $3n -4$ variables, so a typical LHC event would require integrating over $\\mathcal{O}(300)$ variables. This is numerically challenging, at best, and with current technology is just simply not possible. To calcululate LHC events, we can instead factorise the problem into more manageable parts using probabilistic methods. Even still, calculating a perturbative cross-section for a $4$-body final state requires integrating over $8$ variables which is a challenging numerical integration. The bottom line is that performing high dimension integrals quickly and efficiently is a core problem in particle physic, and is very numerically challenging.\n",
    "\n",
    "However, before we tackle integration with MC, we need to first discuss how we can efficiently sample distributions. In the [`rng.ipynb`](mc/rng.ipynb) notebook, we have hard to make a good generator for uniformly-distributed random variates. In practice, however, the probability distributions of interest are not uniform. Fortunately, uniform random variates can either be transformed into a different distribution or used as part of an accept/reject algorithm that converges to the desired probability distribution. Random variates -- uniform or not -- are also a primary part of the Monte Carlo integration method, so it is worthwhile to know how to transform uniform into complicated.\n",
    "\n",
    "In this notebook, we only consider continous distributions, but everything that we say can be applied, with some modification, to discrete distributions."
   ]
  },
  {
   "cell_type": "markdown",
   "metadata": {
    "id": "Analytic_Sampling"
   },
   "source": [
    "## Analytic Sampling"
   ]
  },
  {
   "cell_type": "markdown",
   "metadata": {},
   "source": [
    "Analytic, or inverse cumulative distribution function (CDF) sampling allows us to transform a uniform distribution into our target distribution, $f(x)$. However, this is not possible for every $f(x)$. To sample $f(x)$ the following must generally be fulfilled.\n",
    "\n",
    "1. The sampling of $f(x)$ is bounded, where over this range $f(x)$ is positive.\n",
    "\n",
    "$$\n",
    "f(x) \\geq 0 \\text{ for } x_\\min < x < x_\\max\n",
    "$$\n",
    "\n",
    "2. The integral of $f(x)$ can be calculated.\n",
    "\n",
    "$$\n",
    "F(x) = \\int \\text{d}x\\, f(x)\n",
    "$$\n",
    "\n",
    "3. The integral of $f(x)$ can be inverted, which we label $F^{-1}(x)$.\n",
    "\n",
    "With these three conditions met we can then sample a distribution for $f(x)$ as follows. First, we can consider integrating a distribution from $x_\\min$ to $x$, as shown in the figure below.\n",
    "\n",
    "![Schematic of analytic sampling.](figures/sampleAnalytic)\n",
    "\n",
    "We then draw a uniform random number $R$ which gives us the following relation.\n",
    "\n",
    "$$\n",
    "\\int_{x_{\\min}}^x \\text{d}x'\\, f(x') = R \\int_{x_{\\min}}^{x_{\\max}} \\text{d}{x'}\\, f(x')\n",
    "$$\n",
    "\n",
    "We then perform the integration, where $F(x)$ is the indefinite integral of $f(x)$.\n",
    "\n",
    "$$\n",
    "F(x) - F(x_{\\min}) = R(F(x_\\max) - F(x_\\min))\n",
    "$$\n",
    "\n",
    "We can then write $F(x_\\max) - F(x_\\min)$ as $A$, the area under the integral.\n",
    "$$\n",
    "F(x) - F(x_{\\min}) = R A\n",
    "$$\n",
    "\n",
    "We then solve for $x$.\n",
    "\n",
    "$$\n",
    "x = F^{-1}(F(x_{\\min}) + R A)\n",
    "$$\n",
    "\n",
    "So, we can uniformly sample $R$ and then use the final relation to transform this into $x$, as sampled from $f(x)$."
   ]
  },
  {
   "cell_type": "markdown",
   "metadata": {
    "id": "Exercise:_generic_sampler"
   },
   "source": [
    "### Exercise: generic sampler"
   ]
  },
  {
   "cell_type": "markdown",
   "metadata": {},
   "source": [
    "Before we try to generate any specific distributions using this method, let us first set up a generic sampler class which uses the steps above."
   ]
  },
  {
   "cell_type": "code",
   "execution_count": null,
   "metadata": {},
   "outputs": [],
   "source": [
    "### START_EXERCISE\n",
    "class SampleAnalytic:\n",
    "    \"\"\"\n",
    "    Base class to analytically sample a distribution from a random\n",
    "    distribution.\n",
    "    \"\"\"\n",
    "\n",
    "    def __init__(self, rng, xmin, xmax):\n",
    "        \"\"\"\n",
    "        Initialize the sampler, given the limits on f(x).\n",
    "\n",
    "        rng:  uniform random number generator, should have method `uniform()`.\n",
    "        xmin: lower bound of the sampling region.\n",
    "        xmax: upper bound of the sampling region.\n",
    "        \"\"\"\n",
    "        self.rng = rng\n",
    "        self.xmin = xmin\n",
    "        self.xmax = xmax\n",
    "        self.F_xmin = self.F(xmin)\n",
    "        self.area = self.F(xmax) - self.F(xmin)\n",
    "\n",
    "    def f(self, x):\n",
    "        \"\"\"\n",
    "        Return the function being sampled, f(x). This method is not necessary,\n",
    "        but very useful for importance sampling and checking the distribution.\n",
    "\n",
    "        x: value to calculate f(x) for.\n",
    "        \"\"\"\n",
    "        # Implment f(x) here.\n",
    "        return 0.0\n",
    "\n",
    "    def F(self, x):\n",
    "        \"\"\"\n",
    "        Returns F(x), the indefinite integral for f(x).\n",
    "\n",
    "        x: value to calculate the indefinite integral for f(x).\n",
    "        \"\"\"\n",
    "        # Implement F(x) here.\n",
    "        return 0.0\n",
    "\n",
    "    def F_inv(self, f):\n",
    "        \"\"\"\n",
    "        Returns the inverse of the F(x).\n",
    "\n",
    "        F: the value of F(x) to calculate the inverse.\n",
    "        \"\"\"\n",
    "        # Implement F^-1(x) here.\n",
    "        return 0.0\n",
    "\n",
    "    def __call__(self):\n",
    "        \"\"\"\n",
    "        Return the sampled value.\n",
    "        \"\"\"\n",
    "        # Define the function from above that transforms a uniformly sampled\n",
    "        # random number to the desired distribution.\n",
    "        return 0.0"
   ]
  },
  {
   "cell_type": "code",
   "execution_count": null,
   "metadata": {},
   "outputs": [],
   "source": [
    "class SampleLinear(SampleAnalytic):\n",
    "    \"\"\"\n",
    "    Class to analytically sample a linear function.\n",
    "    \"\"\"\n",
    "\n",
    "    def __init__(self, rng, xmin, xmax, m, b):\n",
    "        \"\"\"\n",
    "        Initialize the sampler, given the limits on f(x) and the linear\n",
    "        parameters.\n",
    "\n",
    "        f(x) = mx + b\n",
    "\n",
    "        rng:  uniform random number generator, should have method `uniform()`.\n",
    "        xmin: lower bound of the sampling region.\n",
    "        xmax: upper bound of the sampling region.\n",
    "        m:    slope of the linear distribution.\n",
    "        b:    intercept of the linear distribution.\n",
    "        \"\"\"\n",
    "        # Set the linear parameters. This must be done before the base class\n",
    "        # is initialized.\n",
    "        # Initialize the base class.\n",
    "\n",
    "    def f(self, x):\n",
    "        \"\"\"\n",
    "        Return the function being sampled, f(x).\n",
    "\n",
    "        x: value to calculate f(x) for.\n",
    "        \"\"\"\n",
    "        return 0.0\n",
    "\n",
    "    def F(self, x):\n",
    "        \"\"\"\n",
    "        Returns F(x), the indefinite integral for f(x).\n",
    "\n",
    "        x: value to calculate the indefinite integral for f(x).\n",
    "        \"\"\"\n",
    "        return 0.0\n",
    "\n",
    "    def F_inv(self, f):\n",
    "        \"\"\"\n",
    "        Returns the inverse of the F(x).\n",
    "\n",
    "        F: the value of F(x) to calculate the inverse.\n",
    "        \"\"\"\n",
    "        # Handle the special case of no slope.\n",
    "        return 0.0"
   ]
  },
  {
   "cell_type": "code",
   "execution_count": null,
   "metadata": {},
   "outputs": [],
   "source": [
    "# Create the sampler.\n",
    "\n",
    "# Call the `plot_sampler` method."
   ]
  },
  {
   "cell_type": "code",
   "execution_count": null,
   "metadata": {},
   "outputs": [],
   "source": [
    "class SampleCauchy(SampleAnalytic):\n",
    "    \"\"\"\n",
    "    Class to analytically sample a Cauchy function.\n",
    "    \"\"\"\n",
    "\n",
    "    def __init__(self, rng, xmin, xmax, x0, gamma):\n",
    "        \"\"\"\n",
    "        Initialize the sampler, given the limits on f(x) and the linear\n",
    "        parameters.\n",
    "\n",
    "        f(x) = 1/pi * (gamma/(x - x0)^2 + gamma^2)\n",
    "\n",
    "        rng:   uniform random number generator, should have method `uniform()`.\n",
    "        xmin:  lower bound of the sampling region.\n",
    "        xmax:  upper bound of the sampling region.\n",
    "        x0:    location parameter.\n",
    "        gamma: scale parameter.\n",
    "        \"\"\"\n",
    "        # Set the parameters.\n",
    "        # Initialize the base class.\n",
    "        super().__init__(rng, xmin, xmax)\n",
    "\n",
    "    def f(self, x):\n",
    "        \"\"\"\n",
    "        Return the function being sampled, f(x).\n",
    "\n",
    "        x: value to calculate f(x) for.\n",
    "        \"\"\"\n",
    "        return 0.0\n",
    "\n",
    "    def F(self, x):\n",
    "        \"\"\"\n",
    "        Returns F(x), the indefinite integral for f(x).\n",
    "\n",
    "        x: value to calculate the indefinite integral for f(x).\n",
    "        \"\"\"\n",
    "        return 0.0\n",
    "\n",
    "    def F_inv(self, f):\n",
    "        \"\"\"\n",
    "        Returns the inverse of the F(x).\n",
    "\n",
    "        F: the value of F(x) to calculate the inverse.\n",
    "        \"\"\"\n",
    "        return 0.0"
   ]
  },
  {
   "cell_type": "code",
   "execution_count": null,
   "metadata": {},
   "outputs": [],
   "source": [
    "# Create the sampler.\n",
    "\n",
    "# Plot the comparison."
   ]
  }
 ],
 "metadata": {
  "colab": {
   "collapsed_sections": [
    "Requirements",
    "Introduction",
    "Analytic_Sampling",
    "Exercise:_generic_sampler"
   ],
   "provenance": []
  },
  "kernelspec": {
   "display_name": "Python 3 (ipykernel)",
   "language": "python",
   "name": "python3"
  },
  "language_info": {
   "codemirror_mode": {
    "name": "ipython",
    "version": 3
   }
  }
 },
 "nbformat": 4,
 "nbformat_minor": 0
}