{
 "cells": [
  {
   "cell_type": "markdown",
   "metadata": {
    "id": "Hard_Process"
   },
   "source": [
    "# Hard Process"
   ]
  },
  {
   "cell_type": "markdown",
   "metadata": {},
   "source": [
    "The starting point for almost any high energy particle physics MC event generator is the hard process, where the signal of inteterest to the user is generated. For example, this could be $g g \\to H$, $q \\bar{q} \\to Z$, or $g g \\to t\\bar{t}$. Whatever is chosen becomes the start point for the entire event. In Pythia, the event generation roughly proceeds through the following steps.\n",
    "\n",
    "1. Hard process is generated.\n",
    "2. Resonances prouced in the hard process, like a Higgs or $Z$ are decayed.\n",
    "3. Perturbative evolution of the hard process via parton showers, initial and final state, is performed.\n",
    "4. Additional scatterings from the beam, multi-parton interactions (MPI) are interleaved into the perturbative evolution.\n",
    "5. Partons from the shower are combined together into hadrons through the phenomenoligcal process of hadronization.\n",
    "6. These hadrons are decayed.\n",
    "7. Other non-perturbative effects are included, like hadronic rescattering or Bose-Einstein correlations. Sometimes these processes are interleaved with the decays.\n",
    "\n",
    "Condensing this down even further, we have three major steps: hard process, evolution, and hadronization as shown below.\n",
    "\n",
    "![Event factorization.](https://github.com/mcgen-ct/tutorials/blob/main/.full/mc/figures/event.png?raw=1)\n",
    "\n",
    "In this tutorial, we work through how the hard process can be calculated numerically from scratch."
   ]
  },
  {
   "cell_type": "markdown",
   "metadata": {
    "id": "Requirements"
   },
   "source": [
    "## Requirements"
   ]
  },
  {
   "cell_type": "markdown",
   "metadata": {},
   "source": [
    "In this notebook, we would like to make some comparisons to Pythia to check whether we are getting reasonable answers. To do this, we need to set up our environment. First, we install and import the `wurlitzer` module. This allows programs that have C-like backends to write their output to the Python console. In short, this allows the output of Pythia to be displayed in this notebook."
   ]
  },
  {
   "cell_type": "code",
   "execution_count": null,
   "metadata": {},
   "outputs": [],
   "source": [
    "# Redirect the C output of Pythia to the notebook.\n",
    "!pip install wurlitzer\n",
    "from wurlitzer import sys_pipes_forever\n",
    "\n",
    "sys_pipes_forever()"
   ]
  },
  {
   "cell_type": "markdown",
   "metadata": {},
   "source": [
    "Next, we need to install the Pythia module."
   ]
  },
  {
   "cell_type": "code",
   "execution_count": null,
   "metadata": {},
   "outputs": [],
   "source": [
    "# Install and import the Pythia module.\n",
    "!pip install pythia8mc\n",
    "import pythia8mc as pythia8"
   ]
  },
  {
   "cell_type": "markdown",
   "metadata": {},
   "source": [
    "We also have a few local utilities that we need to represent vectors and particle data."
   ]
  },
  {
   "cell_type": "code",
   "execution_count": null,
   "metadata": {},
   "outputs": [],
   "source": [
    "# Download the `vector` and `particle` modules.\n",
    "!wget -q -N https://gitlab.com/mcgen-ct/tutorials/-/raw/main/.full/mc/vector.py\n",
    "!wget -q -N https://gitlab.com/mcgen-ct/tutorials/-/raw/main/.full/mc/particle.py\n",
    "\n",
    "# Import the necessary classes.\n",
    "from vector import FourVector, Vector, Matrix\n",
    "from particle import ParticleDatabase, ParticleData"
   ]
  },
  {
   "cell_type": "markdown",
   "metadata": {},
   "source": [
    "We will also need some particle data. We will use the Pythia particle data, which can be read by the `pdb` class we just imported."
   ]
  },
  {
   "cell_type": "code",
   "execution_count": null,
   "metadata": {},
   "outputs": [],
   "source": [
    "# Download the Pythia particle database.\n",
    "!wget -q -N https://gitlab.com/mcgen-ct/tutorials/-/raw/main/.full/mc/data/ParticleData.xml\n",
    "\n",
    "# Create a particle database we can use throughout this notebook.\n",
    "pdb = ParticleDatabase()"
   ]
  },
  {
   "cell_type": "markdown",
   "metadata": {},
   "source": [
    "Finally, we need a random number generator. We could use one of the RNGs implemented in [`rng.ipynb`](rng.ipynb), but instead we will use the default `numpy` RNG. We also need the `math` module."
   ]
  },
  {
   "cell_type": "code",
   "execution_count": null,
   "metadata": {},
   "outputs": [],
   "source": [
    "# Import the `numpy` and `math` modules.\n",
    "import numpy as np\n",
    "import math\n",
    "\n",
    "# Create an RNG, with a seed of 10.\n",
    "rng = np.random.default_rng(10)"
   ]
  },
  {
   "cell_type": "markdown",
   "metadata": {
    "id": "Introduction"
   },
   "source": [
    "## Introduction"
   ]
  },
  {
   "cell_type": "markdown",
   "metadata": {},
   "source": [
    "In particle physics we oftentimes collide two particles together, and then want to calculate the probability of some given final state. For example, we collide an electron and a positron and want to calculate the probability that we produce a muon and and an anti-muon in the final state, $e^- e^+ \\to \\mu^- \\mu^+$. With quantum mechanics we can calculate the probability of transitioning from state $A$ at time $-\\infty$ to state $B$ at time $+\\infty$. In other words, the initial state $A$ is non-interacting in the far past and the final state $B$ is non-interacting in the far future. This probability of transitioning from $A$ to $B$ is,\n",
    "\n",
    "$$\n",
    "|_{+\\infty} \\langle B | A \\rangle_{-\\infty} |^2 = |_{+\\infty} \\langle b_1 \\ldots b_m | a_1 \\ldots a_n \\rangle_{-\\infty} |^2\n",
    "$$\n",
    "\n",
    "using Dirac notation. In the example $e^- e^+ \\to \\mu^- \\mu^+$, $|A\\rangle$ is the two particle state $|e^- e^+\\rangle$ and $\\langle B |$ is the two particle state $\\langle \\mu^- \\mu^+|$. To calculate this probability, either $| A \\rangle$ needs to be evolved to time $+\\infty$ or $\\langle B |$ needs to be evolved to time $-\\infty$. This is done with the scattering-matrix $S$,\n",
    "\n",
    "$$\n",
    "| \\Psi \\rangle_{+\\infty} = S^\\dagger | \\Psi\\rangle_{-\\infty}\n",
    "$$\n",
    "\n",
    "which takes a state $\\Psi$ in the far future to the far past, and $S^\\dagger S = 1$. The scattering-matrix can be factorised into a non-interacting component and an interacting component,\n",
    "\n",
    "$$\n",
    "|_{-\\infty} \\langle B | S | A \\rangle_{-\\infty} | = {}_{-\\infty} \\langle B | A \\rangle_{-\\infty} + \\mathcal{M}_{A \\to B}\\mathcal{P}\n",
    "$$\n",
    "\n",
    "where the non-interacting term is zero if the initial and final state are different, including momenta, and one if identical. The interacting term is written as a matrix element, $\\mathcal{M}$, and a phase-space component, $\\mathcal{P}$. This matrix element encodes the particle interactions for the process.\n",
    "\n",
    "The matrix element for a process can be calculated using functional integration, as realized by Richard Feynman. There is a monumental amount of theory behind all this that we are not discussing here, but the end result is quite beautiful and can be visually represented via Feynman diagrams.\n",
    "\n",
    "![Scattering diagram](https://github.com/mcgen-ct/tutorials/blob/main/.full/mc/figures/scatter.png?raw=1)\n",
    "\n",
    "Each member of the Feynman diagram represents a mathematical object. In this diagram there are three components: external particle lines in blue, an internal propagator in green, and interaction vertices in red.\n",
    "\n",
    "$$\n",
    "\\mathcal{M} = \\text{i}\\left[\\color{blue}{\\bar{u}_{(3)}} \\color{red}{\\text{i} \\sqrt{4\\pi\\alpha} \\gamma^\\mu} \\color{blue}{v_{(4)}} \\right] \\color{green}{\\frac{-\\text{i} g_{\\mu\\nu}}{|p_{(0)}|^2}} \\left[\\color{blue}{\\bar{v}_{(2)}} \\color{red}{\\text{i} \\sqrt{4\\pi\\alpha} \\gamma^\\nu} \\color{blue}{u_{(1)}} \\right]\n",
    "$$\n",
    "\n",
    "After contracting our indices $\\mu$ and $\\nu$ we have the following.\n",
    "\n",
    "$$\n",
    "\\mathcal{M} = \\frac{\\color{red}{-4\\pi\\alpha}}{\\color{green}{|p_{(0)}|^2}}\\left[\\color{blue}{\\bar{u}_{(3)}} \\color{red}{\\gamma^\\mu} \\color{blue}{v_{(4)}} \\right] \\left[\\color{blue}{\\bar{v}_{(2)}} \\color{red}{\\gamma_\\mu} \\color{blue}{u_{(1)}} \\right]\n",
    "$$\n",
    "\n",
    "In this diagram, the electron and positron annihilate into an off-shell photon, which then produces a muon and anti-muon final state. There are infinitely more diagrams which can be drawn with the same initial and final state as this diagram, but these diagrams have more factors of $\\alpha$, the fine structure constant of $1/137$. Since $\\alpha$ is much less than one, these diagrams contribute very little to the summed matrix element, and can oftentimes be neglected. This is what we call a leading order diagram, as these diagrams represent a perturbative expansion about $\\alpha$ of the interaction between the initial and final state.\n",
    "\n",
    "Each line in the diagram, corresponding to a particle, is assigned a momentum. The electron has momentum $p_{(1)}$, the positron $p_{(2)}$, the photon $p_{(0)}$, the muon $p_{(3)}$, and the anti-muon $p_{(4)}$. The photon momentum is determined by conservation of energy and momentum, $p_{(0)} = p_{(1)} + p_{(2)}$. Additionally, each incoming or outgoing particle is assigned a helicity, $\\lambda_{(i)}$, which is the spin of the particle projected along the direction of the particle momentum. Fermions are spin $\\frac{1}{2}$ and can take on two helicity eigenvalues, either $+1$ or $-1$. The fermion lines, e.g., the electron/positron and muon/anti-muon lines, are Dirac spinors which represent the wave function of the particle.\n",
    "\n",
    "Our goal is to numerically represent this matrix element, and then integrate a cross-section. Throughout this notebook we will work in the Weyl basis to define our Dirac spinors $u$ and $v$, and the Dirac matrices $\\gamma^\\mu$."
   ]
  },
  {
   "cell_type": "markdown",
   "metadata": {
    "id": "Dirac_Matrices"
   },
   "source": [
    "## Dirac Matrices"
   ]
  },
  {
   "cell_type": "markdown",
   "metadata": {},
   "source": [
    "The Dirac matrices, $\\gamma^\\mu$ are defined as,\n",
    "\n",
    "$$\n",
    "\\gamma^0 = \\begin{pmatrix}\n",
    "  0 & 0 & 1 & 0 \\\\\n",
    "  0 & 0 & 0 & 1 \\\\\n",
    "  1 & 0 & 0 & 0 \\\\\n",
    "  0 & 1 & 0 & 0 \\\\\n",
    "\\end{pmatrix}\\quad\n",
    "\\gamma^1 = \\begin{pmatrix}\n",
    "  0 & 0 & 0 & 1 \\\\\n",
    "  0 & 0 & 1 & 0 \\\\\n",
    "  0 & -1 & 0 & 0 \\\\\n",
    "  -1 & 0 & 0 & 0 \\\\\n",
    "\\end{pmatrix}\\quad\n",
    "\\gamma^2 = \\begin{pmatrix}\n",
    "  0 & 0 & 0 & -\\text{i} \\\\\n",
    "  0 & 0 & \\text{i} & 0 \\\\\n",
    "  0 & \\text{i} & 0 & 0 \\\\\n",
    "  -\\text{i} & 0 & 0 & 0 \\\\\n",
    "\\end{pmatrix}\\quad\n",
    "\\gamma^3 = \\begin{pmatrix}\n",
    "  0 & 0 & 1 & 0 \\\\\n",
    "  0 & 0 & 0 & -1 \\\\\n",
    "  -1 & 0 & 0 & 0 \\\\\n",
    "  0 & 1 & 0 & 0 \\\\\n",
    "\\end{pmatrix}\n",
    "$$\n",
    "\n",
    "and can have their index raised and lowered with the Minkowski metric,\n",
    "\n",
    "$$\n",
    "g_{\\mu\\nu} = \\begin{pmatrix}\n",
    "  1 & 0 & 0 & 0 \\\\\n",
    "  0 & -1 & 0 & 0 \\\\\n",
    "  0 & 0 & -1 & 0 \\\\\n",
    "  0 & 0 & 0 & -1 \\\\\n",
    "\\end{pmatrix}\n",
    "$$\n",
    "\n",
    "just like a four-vector. The repeated index in the matrix element definition for $e^- e^+ \\to \\mu^- \\mu^+$ indicates that a summation should be performed over $\\mu$ from $0$ to $3$."
   ]
  },
  {
   "cell_type": "markdown",
   "metadata": {
    "id": "Exercise:_implement_the_Dirac_matrices"
   },
   "source": [
    "### Exercise: implement the Dirac matrices"
   ]
  },
  {
   "cell_type": "markdown",
   "metadata": {},
   "source": [
    "Using the Weyl basis above, implement the Diract matrices in the skeleton class below. Here, the `FourVector` class transforms under the Minkowski metric using the notation `~v` for `FourVector` `v`."
   ]
  },
  {
   "cell_type": "code",
   "execution_count": null,
   "metadata": {},
   "outputs": [],
   "source": [
    "class DiracMatrices(FourVector):\n",
    "    \"\"\"\n",
    "    This class provides the Dirac matrices. Note that this class\n",
    "    inherits from the 'FourVector' class. This is because the Dirac\n",
    "    matrices also transform under the Minkowski metric, just like\n",
    "    standard four-vectors.\n",
    "    \"\"\"\n",
    "\n",
    "    def __init__(self, v0=None, v1=None, v2=None, v3=None):\n",
    "        \"\"\"\n",
    "        Initialize the Dirac matrices. Ideally this would not be mutable.\n",
    "        \"\"\"\n",
    "        g0 = Matrix(\n",
    "            [0.0, 0.0, 1.0, 0.0],\n",
    "            [0.0, 0.0, 0.0, 1.0],\n",
    "            [1.0, 0.0, 0.0, 0.0],\n",
    "            [0.0, 1.0, 0.0, 0.0],\n",
    "        )\n",
    "        g1 = Matrix(\n",
    "            [0.0, 0.0, 0.0, 1.0],\n",
    "            [0.0, 0.0, 1.0, 0.0],\n",
    "            [0.0, -1.0, 0.0, 0.0],\n",
    "            [-1.0, 0.0, 0.0, 0.0],\n",
    "        )\n",
    "        g2 = Matrix(\n",
    "            [0.0, 0.0, 0.0, -1.0j],\n",
    "            [0.0, 0.0, 1.0j, 0.0],\n",
    "            [0.0, 1.0j, 0.0, 0.0],\n",
    "            [-1.0j, 0.0, 0.0, 0.0],\n",
    "        )\n",
    "        g3 = Matrix(\n",
    "            [0.0, 0.0, 1.0, 0.0],\n",
    "            [0.0, 0.0, 0.0, -1.0],\n",
    "            [-1.0, 0.0, 0.0, 0.0],\n",
    "            [0.0, 1.0, 0.0, 0.0],\n",
    "        )\n",
    "        FourVector.__init__(self, g0, g1, g2, g3)"
   ]
  },
  {
   "cell_type": "markdown",
   "metadata": {
    "id": "Exercise:_use_the_Dirac_matrices"
   },
   "source": [
    "### Exercise: use the Dirac matrices"
   ]
  },
  {
   "cell_type": "markdown",
   "metadata": {},
   "source": [
    "Once a `DiracMatrix` object, say `dm`, the individual matrices can be accessed by the index operator, `[i]`. Since we will be wanting to check a few outputs, let us write a little `show` method which makes this a little easier."
   ]
  },
  {
   "cell_type": "code",
   "execution_count": null,
   "metadata": {},
   "outputs": [],
   "source": [
    "# Create the Dirac matrices.\n",
    "dm = DiracMatrices()\n",
    "\n",
    "# Loop over the Dirac matrices and print.\n",
    "for i in range(0, 4):\n",
    "    print(f\"------ dm[{i}] = \\n{dm[i]}]\")"
   ]
  },
  {
   "cell_type": "markdown",
   "metadata": {
    "id": "Dirac_Spinors"
   },
   "source": [
    "## Dirac Spinors"
   ]
  },
  {
   "cell_type": "markdown",
   "metadata": {},
   "source": [
    "In the Weyl basis, the Dirac spinors can be written as,\n",
    "\n",
    "$$\n",
    "u(p,\\lambda) = \\begin{pmatrix}\n",
    "  \\kappa(p,\\lambda)\\sqrt{p^0 - \\lambda q} \\\\\n",
    "  \\kappa(p,\\lambda)\\sqrt{p^0 + \\lambda q} \\\\\n",
    "\\end{pmatrix}\\quad v(p,\\lambda) = \\begin{pmatrix}\n",
    "  -\\lambda\\kappa(p,-\\lambda)\\sqrt{p^0 + \\lambda q} \\\\\n",
    "  \\phantom{-}\\lambda\\kappa(p,-\\lambda)\\sqrt{p^0 - \\lambda q} \\\\\n",
    "\\end{pmatrix}\n",
    "$$\n",
    "where $q$ is $\\sqrt{p^1p^1 + p^2p^2 + p^3p^3}$, $\\kappa$ is given by,\n",
    "\n",
    "$$\n",
    "\\kappa(p,\\lambda) = \\begin{cases}\n",
    "  \\xi\\begin{pmatrix}\n",
    "  q + p^3 \\\\\n",
    "  \\text{i} p^2 + p^1 \\\\\n",
    "  \\end{pmatrix} & \\text{for } \\lambda=+1, ~\n",
    "  \\begin{pmatrix} 0 \\\\ 1 \\\\ \\end{pmatrix}\\phantom{-}\n",
    "  \\quad\\text{as }{p^3 \\to - q, p^2 = 0, p^1 \\to +0} \\\\\n",
    "  \\xi\\begin{pmatrix}\n",
    "  \\text{i} p^2 - p^1 \\\\\n",
    "  q + p^3 \\\\\n",
    "  \\end{pmatrix} & \\textrm{for }\\lambda=-1, ~\n",
    "  \\begin{pmatrix} -1 \\\\ 0 \\\\ \\end{pmatrix}\n",
    "  \\quad\\textrm{as }{p^3 \\to - q, p^2 = 0, p^1 \\to +0} \\\\\n",
    "\\end{cases}\n",
    "$$\n",
    "the normalisation $\\xi$ is,\n",
    "\n",
    "$$\n",
    "\\xi = \\frac{1}{\\sqrt{2\\left(q^2 +  q p^3\\right)}}\n",
    "$$\n",
    "\n",
    "and Einstein notation has been used for the momentum $p$, e.g., $p^0$ is the energy, $p^1$ is the $x$-component, $p^2$ is the $y$-component, and $p^3$ is the $z$-component. Note that both $u$ and $v$ are vectors of length four, but they do not transform under Lorentz transformations. The bar of a Dirac spinor, or anti-particle Dirac spinor, is given by $\\bar{u} = u^\\dagger \\gamma^0$, where $u^\\dagger$ is the conjugate transpose of $u$."
   ]
  },
  {
   "cell_type": "markdown",
   "metadata": {
    "id": "Exercise:_particle_data"
   },
   "source": [
    "### Exercise: particle data"
   ]
  },
  {
   "cell_type": "markdown",
   "metadata": {},
   "source": [
    "Before we implement a particle class that can return Dirac spinors, we should make sure we understand how to work with the particle database. Access a muon and print all the relevant data that is stored for it."
   ]
  },
  {
   "cell_type": "code",
   "execution_count": null,
   "metadata": {},
   "outputs": [],
   "source": [
    "# Get the muon.\n",
    "pd = pdb[\"mu-\"]\n",
    "\n",
    "# Loop over its members and print.\n",
    "for key, val in pd.__dict__.items():\n",
    "    print(f\"--\\n{key}: {val}\")"
   ]
  },
  {
   "cell_type": "markdown",
   "metadata": {
    "id": "Exercise:_implement_a_particle_with_Dirac_spinors"
   },
   "source": [
    "### Exercise: implement a particle with Dirac spinors"
   ]
  },
  {
   "cell_type": "markdown",
   "metadata": {},
   "source": [
    "We could implement a class just to store the Dirac spinors, but really we want Dirac spinors as associated with a particle that has some momentum and helicity. To that end, let us define a `Particle` class using the skeleton below. Everything is already filled in, except the `w` method which returns the Dirac spinor."
   ]
  },
  {
   "cell_type": "code",
   "execution_count": null,
   "metadata": {},
   "outputs": [],
   "source": [
    "class Particle:\n",
    "    \"\"\"\n",
    "    This class represents a particle.\n",
    "    \"\"\"\n",
    "\n",
    "    def __init__(self, data, p, h):\n",
    "        \"\"\"\n",
    "        Initialize the `Particle` class, given `data` of type\n",
    "        `ParticleData` for that particle type, the momentum\n",
    "        four-vector `p`, and the helicity `h`.\n",
    "\n",
    "        Additional members are also available.\n",
    "        c: color for this particle.\n",
    "        a: anti-color for this particle.\n",
    "        t: production vertex for this particle.\n",
    "        parents:  list of parents for this particle.\n",
    "        children: list of children for this particle.\n",
    "        \"\"\"\n",
    "        from math import sqrt\n",
    "\n",
    "        self.data = data\n",
    "        self.p = +p\n",
    "        if self.p[0] < 0:\n",
    "            self.p[0] = sqrt(sum([pj**2 for pj in p[1:]]) + data.mass**2)\n",
    "        self.h = float(h)\n",
    "        self.c = 0\n",
    "        self.a = 0\n",
    "        self.t = FourVector(0, 0, 0, 0)\n",
    "        self.parents = []\n",
    "        self.children = []\n",
    "\n",
    "    def __str__(self):\n",
    "        \"\"\"\n",
    "        Return a string to print this particle.\n",
    "        \"\"\"\n",
    "        return (\"%6s: %r\\n\" * 3 + \"h, c, a: %.2e, %i, %i\\n\") % (\n",
    "            \"data\",\n",
    "            self.data,\n",
    "            \"p\",\n",
    "            self.p,\n",
    "            \"t\",\n",
    "            self.t,\n",
    "            self.h,\n",
    "            self.c,\n",
    "            self.a,\n",
    "        )\n",
    "\n",
    "    def w(self):\n",
    "        \"\"\"\n",
    "        Return the Dirac spinor for this particle.\n",
    "        \"\"\"\n",
    "        from math import sqrt\n",
    "\n",
    "        if self.data.spin != 2:\n",
    "            return None\n",
    "        # Check if particle or anti-particle.\n",
    "        s = -1 if self.data.pid < 0 else 1\n",
    "        p = sqrt(sum([pj**2 for pj in self.p[1:]]))\n",
    "        # Handle if |p| == p[3].\n",
    "        if p + self.p[3] == 0:\n",
    "            xi = 1.0\n",
    "            if s * self.h == 1:\n",
    "                kappa = [0, 1]\n",
    "            elif s * self.h == -1:\n",
    "                kappa = [-1, 0]\n",
    "            else:\n",
    "                kappa = [0, 0]\n",
    "        # Handle otherwise.\n",
    "        else:\n",
    "            xi = 1.0 / sqrt(2.0 * p * (p + self.p[3]))\n",
    "            if s * self.h == 1:\n",
    "                kappa = [p + self.p[3], self.p[2] * 1.0j + self.p[1]]\n",
    "            elif s * self.h == -1:\n",
    "                kappa = [self.p[2] * 1.0j - self.p[1], p + self.p[3]]\n",
    "            else:\n",
    "                kappa = [0, 0]\n",
    "        hp = xi * sqrt(self.p[0] + self.h * p)\n",
    "        hm = xi * sqrt(self.p[0] - self.h * p)\n",
    "        # Return the anti-particle spinor.\n",
    "        if s == -1:\n",
    "            return Vector(\n",
    "                -self.h * kappa[0] * hp,\n",
    "                -self.h * kappa[1] * hp,\n",
    "                self.h * kappa[0] * hm,\n",
    "                self.h * kappa[1] * hm,\n",
    "            )\n",
    "        # Return the particle spinor.\n",
    "        else:\n",
    "            return Vector(kappa[0] * hm, kappa[1] * hm, kappa[0] * hp, kappa[1] * hp)\n",
    "\n",
    "    def wbar(self):\n",
    "        \"\"\"\n",
    "        Return the bar Dirac spinor for this particle.\n",
    "        \"\"\"\n",
    "        w = ~self.w()\n",
    "        w[0], w[1], w[2], w[3] = w[2], w[3], w[0], w[1]\n",
    "        return w"
   ]
  },
  {
   "cell_type": "markdown",
   "metadata": {
    "id": "Cross-Section"
   },
   "source": [
    "## Cross-Section"
   ]
  },
  {
   "cell_type": "markdown",
   "metadata": {},
   "source": [
    "We now have almost all the ingredients needed to calculate the probability for the process $e^- e^+ \\to \\mu^- \\mu^+$. In the end, what we actually calculate is the cross-section: the process probability, per unit time, over the particle flux of the initial state. The cross-section has units of area, typically given in barn which is $10^{-28}~\\text{m}^2$. The differential cross-section for a two-to-two scattering is given by,\n",
    "\n",
    "$$\n",
    "\\text{d}\\sigma = \\left(\\frac{\\hbar c}{8\\pi}\\right)^2\n",
    "\\frac{\\mathcal{S} }{(p_{(1)}^0 + p_{(2)}^0)^2} \\sqrt{\\frac\n",
    "  {\\sum_{i=1}^3(p_{(3)}^i)^2}{\\sum_{i=1}^3(p_{(1)}^i)^2}}\n",
    "\\left(\\mathcal{M}^*\\mathcal{M}\\right)\\, \\sin\\theta\\, \\text{d}\\theta\\, \\text{d}\\phi\n",
    "$$\n",
    "\n",
    "where this is differential in two variables, $\\phi$ and $\\theta$,\n",
    "and $\\mathcal{S}$ is $\\frac{1}{2}$ if the outgoing particles are identical, $1$ otherwise. Assuming a frame where both the incoming electron and positron are oriented along the $z$-direction and have equal and opposite momenta, the momenta for the outgoing muon and anti-muon can be defined as,\n",
    "\n",
    "$$\n",
    "  \\begin{split}\n",
    "    p_{(3)}\n",
    "    &= (p_{(1)}^0,~ q\\sin\\theta \\cos\\phi,~  q\\sin\\theta \\sin\\phi,~\n",
    "    q\\cos\\theta) \\\\\n",
    "    p_{(4)}\n",
    "    &= (p_{(1)}^0,~ -q\\sin\\theta \\cos\\phi,~ -q\\sin\\theta \\sin\\phi,~\n",
    "    -q\\cos\\theta) \\\\\n",
    "  \\end{split}\n",
    "$$\n",
    "in terms of $\\phi$ and $\\theta$ where $q = \\sqrt{p_{(1)}^0 p_{(1)}^0 - m_{(3)}m_{(3)}}$.\n",
    "\n",
    "But, we still need to be able to perform the integral over $\\phi$ and $\\theta$. This is where Monte Carlo integration enters. This is a very powerful numerical technique that can be used to integrate an $n$-dimensional function. See [`integrate.ipynb`](integrate.ipynb) for more details. The integral for a two-variable function is,\n",
    "\n",
    "$$\n",
    "\\int_{x_\\min}^{x_\\max}\n",
    "\\int_{y_\\min}^{y_\\max} f(x,\n",
    "y)\\,\\text{d}x\\,\\text{d}y \\approx \\langle f \\rangle (x_\\max -\n",
    "x_\\min)(y_\\max - y_\\min)\n",
    "$$\n",
    "\n",
    "where $\\langle f \\rangle$ is the average value for $f(x, y)$ when randomly sampled with uniform $x$ and $y$. Consider an $f(x,y)$ which is $1$ if within the unit circle, and $0$ otherwise. We can find the integral by randomly sampling an $x$ from $-1$ to $1$, and similarly a\n",
    "$y$ from $-1$ to $1$, and evaluating $f(x, y)$. We can do this a large number of times and calculate the average value for $f(x, y)$. As we sample more and more, this average value, multiplied by $4$ will approach the area of the unit circle."
   ]
  },
  {
   "cell_type": "markdown",
   "metadata": {
    "id": "Exercise:_integrate_a_circle"
   },
   "source": [
    "### Exercise: integrate a circle"
   ]
  },
  {
   "cell_type": "markdown",
   "metadata": {},
   "source": [
    "Let us first try the first example of integrating a circle to calculate $\\pi$. First, write a 2D MC integration class, following the skeleton below."
   ]
  },
  {
   "cell_type": "code",
   "execution_count": null,
   "metadata": {},
   "outputs": [],
   "source": [
    "class Integrator:\n",
    "    \"\"\"\n",
    "    This class integrates a two variable function.\n",
    "    \"\"\"\n",
    "\n",
    "    def __init__(self, rng, f, xmin, xmax, ymin, ymax):\n",
    "        \"\"\"\n",
    "        Initialize the integrator, given a random number generator `rng`,\n",
    "        function `f`, a minimum x `xmin`, a maximum x `xmax`,\n",
    "        a minumum y `ymin`, and a maxumimum y `ymax.\n",
    "        \"\"\"\n",
    "        self.rng = rng\n",
    "        self.f = f\n",
    "        self.xmin = xmin\n",
    "        self.xmax = xmax\n",
    "        self.ymin = ymin\n",
    "        self.ymax = ymax\n",
    "        self.xdif = xmax - xmin\n",
    "        self.ydif = ymax - ymin\n",
    "\n",
    "    def mc(self, n=1000):\n",
    "        \"\"\"\n",
    "        Perform MC integration for given number of sampling points `n`.\n",
    "        \"\"\"\n",
    "        t = 0\n",
    "        for i in range(0, n):\n",
    "            x = self.xmin + rng.uniform() * self.xdif\n",
    "            y = self.ymin + rng.uniform() * self.ydif\n",
    "            t += self.f(x, y)\n",
    "        return t / float(n) * self.xdif * self.ydif"
   ]
  },
  {
   "cell_type": "markdown",
   "metadata": {},
   "source": [
    "Now, integrate a circle and calculate $\\pi$."
   ]
  },
  {
   "cell_type": "code",
   "execution_count": null,
   "metadata": {},
   "outputs": [],
   "source": [
    "# Define the circle function.\n",
    "def circle(x, y):\n",
    "    \"\"\"\n",
    "    Return 1 if `x` and `y` in a unit circle, 0 otherwise.\n",
    "    \"\"\"\n",
    "    from math import sqrt\n",
    "\n",
    "    # 1 if inside, 0 if outside.\n",
    "    f = sqrt(1 - x**2)\n",
    "    return 0 if abs(y) > f else 1\n",
    "\n",
    "\n",
    "# Circle integration.\n",
    "integrator = Integrator(rng, circle, -1, 1, -1, 1)\n",
    "print(integrator.mc())"
   ]
  },
  {
   "cell_type": "markdown",
   "metadata": {
    "id": "Exercise:_calculating_the_differential_cross-section"
   },
   "source": [
    "### Exercise: calculating the differential cross-section"
   ]
  },
  {
   "cell_type": "markdown",
   "metadata": {},
   "source": [
    "Create a class `Annihilate` which has members corresponding to the four particles of $e^- e^+ \\to \\mu^- \\mu^+$ using the skeleton below. Specifically, define the `xs` method which implements the $2 \\to 2$ cross-section formula. Note that the matrix element has already been defined."
   ]
  },
  {
   "cell_type": "code",
   "execution_count": null,
   "metadata": {},
   "outputs": [],
   "source": [
    "class Annihilate:\n",
    "    \"\"\"\n",
    "    This class defines the cross-section function needed to calculate\n",
    "    the integrated cross-section of e+ e- -> mu+ mu-.\n",
    "    \"\"\"\n",
    "\n",
    "    def __init__(self, p1, p2, p3, p4):\n",
    "        \"\"\"\n",
    "        Initialize the\n",
    "        \"\"\"\n",
    "        from math import pi\n",
    "\n",
    "        self.p1 = p1\n",
    "        self.p2 = p2\n",
    "        self.p3 = p3\n",
    "        self.p4 = p4\n",
    "        self.dmu = DiracMatrices()\n",
    "        self.dml = ~self.dmu\n",
    "        # Calculate the cross-section prefactor ((hbar c)/(8 pi))^2 in\n",
    "        # units m^2 GeV^2.\n",
    "        self.xspre = (1.97326979e-16 / (8 * pi)) ** 2\n",
    "        # Calculate the matrix-element prefactor (-4 pi alpha).\n",
    "        self.mepre = -4 * pi / 137.0\n",
    "\n",
    "    def me(self):\n",
    "        \"\"\"\n",
    "        Return the matrix element given the state of the internally\n",
    "        represented particles.\n",
    "        \"\"\"\n",
    "        p0 = self.p1.p + self.p2.p\n",
    "        return (\n",
    "            self.mepre\n",
    "            / p0**2\n",
    "            * sum(\n",
    "                [\n",
    "                    (self.p3.wbar() * self.dmu[mu] * self.p4.w())\n",
    "                    * (self.p2.wbar() * self.dml[mu] * self.p1.w())\n",
    "                    for mu in range(0, 4)\n",
    "                ]\n",
    "            )\n",
    "        )\n",
    "\n",
    "    def xs(self, phi, theta):\n",
    "        \"\"\"\n",
    "        Return the cross-section in m^2 for a given phi and theta.\n",
    "        \"\"\"\n",
    "        from math import sqrt, cos, sin\n",
    "\n",
    "        ct = cos(theta)\n",
    "        st = sin(theta)\n",
    "        q = sqrt(self.p1.p[0] ** 2 - self.p3.data.mass**2)\n",
    "        p = sqrt(sum([self.p1.p[mu] ** 2 for mu in range(1, 4)]))\n",
    "        self.p3.p[0] = self.p1.p[0]\n",
    "        self.p3.p[1] = q * st * cos(phi)\n",
    "        self.p3.p[2] = q * st * sin(phi)\n",
    "        self.p3.p[3] = q * ct\n",
    "        self.p4.p = ~self.p3.p\n",
    "        me = self.me()\n",
    "        try:\n",
    "            me2 = me.real**2 + me.imag**2\n",
    "        except:\n",
    "            me2 = me**2\n",
    "        return self.xspre * me2 * q / p * st / (self.p1.p[0] + self.p2.p[0]) ** 2"
   ]
  },
  {
   "cell_type": "markdown",
   "metadata": {
    "id": "Exercise:_helicity_cross-section"
   },
   "source": [
    "### Exercise: helicity cross-section"
   ]
  },
  {
   "cell_type": "markdown",
   "metadata": {},
   "source": [
    "Using the `Integrator` and `Annihilate` classes, calculate the cross-section for each helicity configuration for the process $e^- e^+ \\to \\mu^- \\mu^+$. Give the electron momentum of $100$ GeV, and the positron $-100$ GeV along the $z$ direction."
   ]
  },
  {
   "cell_type": "code",
   "execution_count": null,
   "metadata": {},
   "outputs": [],
   "source": [
    "from math import pi\n",
    "\n",
    "# Create the momenta.\n",
    "p1 = FourVector(-1.0, 0.0, 0.0, 100)\n",
    "p2 = FourVector(-1.0, 0.0, 0.0, -100)\n",
    "p3 = FourVector(0.0, 0.0, 0.0, 0.0)\n",
    "p4 = FourVector(0.0, 0.0, 0.0, 0.0)\n",
    "\n",
    "# Create the particles.\n",
    "pp1 = Particle(pdb[\"e-\"], p1, 1)\n",
    "pp2 = Particle(pdb[\"e+\"], p2, 1)\n",
    "pp3 = Particle(pdb[\"mu-\"], p3, 1)\n",
    "pp4 = Particle(pdb[\"mu+\"], p4, 1)\n",
    "\n",
    "# Create the annihilation object and integrator.\n",
    "a = Annihilate(pp1, pp2, pp3, pp4)\n",
    "i = Integrator(rng, a.xs, 0.0, 2 * pi, 0, pi)\n",
    "\n",
    "# Loop over the helicities and integrate.\n",
    "for h1 in [-1, 1]:\n",
    "    pp1.h = h1\n",
    "    for h2 in [-1, 1]:\n",
    "        pp2.h = h2\n",
    "        for h3 in [-1, 1]:\n",
    "            pp3.h = h3\n",
    "            for h4 in [-1, 1]:\n",
    "                pp4.h = h4\n",
    "                # Print the result.\n",
    "                print(\"%2i %2i %2i %2i %8.1e\" % (h1, h2, h3, h4, i.mc(1000) / 1e-31))"
   ]
  },
  {
   "cell_type": "markdown",
   "metadata": {
    "id": "Comparisons_with_Pythia"
   },
   "source": [
    "## Comparisons with Pythia"
   ]
  },
  {
   "cell_type": "markdown",
   "metadata": {},
   "source": [
    "Now that we have a cross-section calculated out, is useful to compare this against Pythia to check our result. To do that, we need the total cross-section averaged over initial helicity configurations and summed over final."
   ]
  },
  {
   "cell_type": "code",
   "execution_count": null,
   "metadata": {},
   "outputs": [],
   "source": [
    "def xs_total(rng, p):\n",
    "    \"\"\"\n",
    "    Integrate the e+ e- -> mu+ mu- cross-section, averaged over initial\n",
    "    helicities, and summed over final helicities, provided a given\n",
    "    momentum for the e+ and e-. Units are in millibarn.\n",
    "\n",
    "    rng: random number generator.\n",
    "    p:   e- momentum along the z axis.\n",
    "    \"\"\"\n",
    "    from math import pi\n",
    "\n",
    "    # Create the momenta.\n",
    "    p1 = FourVector(-1.0, 0.0, 0, p)\n",
    "    p2 = FourVector(-1.0, 0.0, 0, -p)\n",
    "    p3 = FourVector(0.0, 0.0, 0.0, 0.0)\n",
    "    p4 = FourVector(0.0, 0.0, 0.0, 0.0)\n",
    "\n",
    "    # Create the particles.\n",
    "    pp1 = Particle(pdb[\"e-\"], p1, 1)\n",
    "    pp2 = Particle(pdb[\"e+\"], p2, 1)\n",
    "    pp3 = Particle(pdb[\"mu-\"], p3, 1)\n",
    "    pp4 = Particle(pdb[\"mu+\"], p4, 1)\n",
    "\n",
    "    # Create the process and integrator.\n",
    "    a = Annihilate(pp1, pp2, pp3, pp4)\n",
    "    i = Integrator(rng, a.xs, 0.0, 2 * pi, 0, pi)\n",
    "\n",
    "    # Loop over the helicities and sum.\n",
    "    total = 0\n",
    "    for h3 in [-1, 1]:\n",
    "        pp3.h = h3\n",
    "        for h4 in [-1, 1]:\n",
    "            pp4.h = h4\n",
    "            xs = []\n",
    "            for h1 in [-1, 1]:\n",
    "                pp1.h = h1\n",
    "                for h2 in [-1, 1]:\n",
    "                    pp2.h = h2\n",
    "                    # Convert from m^2 to mb.\n",
    "                    xs += [i.mc(1000) / 1e-31]\n",
    "            total += sum(xs) / len(xs)\n",
    "    return total"
   ]
  },
  {
   "cell_type": "markdown",
   "metadata": {},
   "source": [
    "We also need to configure Pythia to match the process we are calculating, as well as the constants that we are using."
   ]
  },
  {
   "cell_type": "code",
   "execution_count": null,
   "metadata": {},
   "outputs": [],
   "source": [
    "def xs_pythia(p):\n",
    "    \"\"\"\n",
    "    Calculate the e+ e- -> mu+ mu- cross-section from Pythia in mb.\n",
    "\n",
    "    p: e- momentum along the z axis.\n",
    "    \"\"\"\n",
    "    # Create a Pythia object.\n",
    "    py = pythia8.Pythia(\"\", False)\n",
    "\n",
    "    # Set printing to a minimum.\n",
    "    py.readString(\"Print:quiet = on\")\n",
    "    # Set the beam types.\n",
    "    py.readString(\"Beams:idA = 11\")\n",
    "    py.readString(\"Beams:idB = -11\")\n",
    "    # Set the beam specification by momentum.\n",
    "    py.readString(\"Beams:frameType = 3\")\n",
    "    py.readString(\"Beams:pzA = %r\" % p)\n",
    "    py.readString(\"Beams:pzB = -%r\" % p)\n",
    "    # Turn off any PDF for the lepton.\n",
    "    py.readString(\"PDF:lepton = off\")\n",
    "    # Turn off everything after the hard process.\n",
    "    py.readString(\"PartonLevel:all = off\")\n",
    "    # Don't run alpha.\n",
    "    py.readString(\"SigmaProcess:alphaEMorder = 0\")\n",
    "    # Set alpha to what we are using. We have to force it.\n",
    "    py.settings.parm(\"StandardModel:alphaEM0\", 1.0 / 137.0, True)\n",
    "    # Turn on our process.\n",
    "    py.readString(\"WeakSingleBoson:ffbar2ffbar(s:gm) = on\")\n",
    "\n",
    "    # Initialize Pythia and generate.\n",
    "    py.init()\n",
    "    acc = 0\n",
    "    for i in range(0, 10000):\n",
    "        py.next()\n",
    "        # Check we have a muon.\n",
    "        if py.process[5].idAbs() == 13:\n",
    "            acc += 1\n",
    "    # Return the cross-section.\n",
    "    return acc / py.infoPython().nAccepted() * py.infoPython().sigmaGen()"
   ]
  },
  {
   "cell_type": "markdown",
   "metadata": {
    "id": "Exercise:_compare_with_Pythia"
   },
   "source": [
    "### Exercise: compare with Pythia"
   ]
  },
  {
   "cell_type": "markdown",
   "metadata": {},
   "source": [
    "For $e^-$  and $e^+$ momementa of $5$, $10$, $50$, $100$, and $1000$ GeV compare our cross-section to that computed by Pythia."
   ]
  },
  {
   "cell_type": "code",
   "execution_count": null,
   "metadata": {},
   "outputs": [],
   "source": [
    "for p in [5.0, 10.0, 50.0, 100.0, 1000.0]:\n",
    "    print(f\"xs_total  ({int(p):6d} GeV) = {xs_total(rng, p):.2e} mb\")\n",
    "    print(f\"xs_pythia ({int(p):6d} GeV) = {xs_total(rng, p):.2e} mb\")"
   ]
  }
 ],
 "metadata": {
  "colab": {
   "collapsed_sections": [
    "Requirements",
    "Introduction",
    "Dirac_Matrices",
    "Exercise:_implement_the_Dirac_matrices",
    "Exercise:_use_the_Dirac_matrices",
    "Dirac_Spinors",
    "Exercise:_particle_data",
    "Exercise:_implement_a_particle_with_Dirac_spinors",
    "Cross-Section",
    "Exercise:_integrate_a_circle",
    "Exercise:_calculating_the_differential_cross-section",
    "Exercise:_helicity_cross-section",
    "Comparisons_with_Pythia",
    "Exercise:_compare_with_Pythia"
   ],
   "provenance": []
  },
  "kernelspec": {
   "display_name": "Python 3 (ipykernel)",
   "language": "python",
   "name": "python3"
  },
  "language_info": {
   "codemirror_mode": {
    "name": "ipython",
    "version": 3
   }
  }
 },
 "nbformat": 4,
 "nbformat_minor": 0
}