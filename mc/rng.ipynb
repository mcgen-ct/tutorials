{
 "nbformat": 4,
 "cells": [
  {
   "cell_type": "markdown",
   "source": [
    "# Random Number Generator Worksheet\n",
    "\n",
    "This worksheet is largely based on the book by Gentle, Numerical Recipes (3rd Edition), and primary papers."
   ],
   "metadata": {
    "id": "Random_Number_Generator_Worksheet"
   }
  },
  {
   "cell_type": "markdown",
   "source": [
    "## Introduction\n",
    "\n",
    "This tutorial will give an introduction to Random Number Generators (or RNGs, for short).\n",
    "\n",
    "RNG algorithms are really pseudo-random.  This means they are deterministic.   Randomness (Jaynes) is a statement about knowledge, not about causes.   pRNGs have causes, but you might not know them, or you might use them in a way so that they appear to be random, or random ''enough.\"\n",
    "\n",
    "What are the basic properties of RNs?\n",
    "On any interval, there is an equal probability to obtain any value.\n",
    "For convience, we will take this interval to be $(0,1)$.   Note, we will generally exclude $0$ from the interval when considering RNs on a computer, since many algorithms will fail if $0$ is ever encountered.\n",
    "\n",
    "At the very least, we expect our computer RNs to have the properties of abstract ones.\n",
    "\n",
    "Mean: $$\\int_0^1 dx x = \\frac{1}{2}$$\n",
    "\n",
    "Variance:  $$\\langle x^2 \\rangle - \\langle x \\rangle^2 = \\frac{1}{3}-\\frac{1}{4} = \\frac{1}{12}$$"
   ],
   "metadata": {
    "id": "Introduction"
   }
  },
  {
   "cell_type": "markdown",
   "source": [
    "In practice, computers represent only a finite range of numbers.\n",
    "This has implications for RNGs.    Any algorithm that is deterministic and shuffles through the numbers is bound to repeat itself.   Further, if our algorithm uses one number as the seed for the next, this repetition will mean that the sequence of pRNs repeats itself.   This hardly looks random.   Much of the art in developing good RNGs is knowing how to characterize or calculate the length of these cycles.   If the cycle is long enough, much longer than any sequence of RNs we ever use in practice, then there is hope that this sequence will have the desired properties of random numbers.  Identifying an algorithm with a long cycle is a priority, and possibly led to the focus on modular arithmetic, to be discussed shortly."
   ],
   "metadata": {}
  },
  {
   "cell_type": "markdown",
   "source": [
    "## Middle square method\n",
    "\n",
    "The need for such algorithms only came about with the development of practical computers and Monte Carlo (MC) techniques.   Historically, we are placing ourselves in the 1940-1950s.\n",
    "Von Neumann (who else?) used a method called the [middle square](https://en.wikipedia.org/wiki/Middle-square_method).   It can give us some insight to the problem we are facing.\n",
    "\n",
    "The middle square algorithm is short and strange:\n",
    "1. input a number of length $n$\n",
    "2. square the number and zero-pad if not of length $2n$\n",
    "3. output the \"middle\" number of length $n$\n",
    "4. use this number as the random variate and the input for step 1\n",
    "\n",
    "For example:  $14^2 = 196 \\to 0196 \\to 19; 19^2 = 0361 \\to 36; 36^2 = 1296 \\to 29; 29^2 = 0841 \\to 84$, etc.\n",
    "\n",
    "Von Neumann used larger $n$ than this, but you get the point."
   ],
   "metadata": {
    "id": "Middle_square_method"
   }
  },
  {
   "cell_type": "markdown",
   "source": [
    "For $n$=2, try all seeds (inputs) and identify the longest sequence (before a repeat).\n",
    "For his longest sequence, calculate the mean and variance.   Then, identify the worst seeds (0 period).\n",
    ""
   ],
   "metadata": {}
  },
  {
   "cell_type": "code",
   "source": [
    "import numpy as np"
   ],
   "metadata": {}
  },
  {
   "cell_type": "code",
   "source": [
    "print(\"mean = \", np.mean(r))"
   ],
   "metadata": {}
  },
  {
   "cell_type": "code",
   "source": [
    "seed_number = int(input(\"Please enter a four-digit number:\\n[####] \"))\n",
    "number = seed_number\n",
    "already_seen = set()\n",
    "counter = 0\n",
    "seq = []\n",
    "while number not in already_seen:\n",
    "    counter += 1\n",
    "    already_seen.add(number)\n",
    "    number = int(str(number * number).zfill(8)[2:6])  # zfill adds padding of zeroes\n",
    "    print(f\"#{counter}: {number}\")\n",
    "    seq.append(number)\n",
    "\n",
    "print(\n",
    "    f\"We began with {seed_number} and\"\n",
    "    f\" have repeated ourselves after {counter} steps\"\n",
    "    f\" with {number}\"\n",
    ")\n",
    "r = np.array(seq) / 9999.0\n",
    "print(np.mean(r))\n",
    "print(np.var(r))\n",
    "###STOP_SOLUTION"
   ],
   "metadata": {}
  },
  {
   "cell_type": "code",
   "source": [
    "import numpy as np"
   ],
   "metadata": {}
  },
  {
   "cell_type": "code",
   "source": [
    "# Simple integer generator based on modular arithmetic\n",
    "def next_one(item):\n",
    "    return (3 * item) % 31"
   ],
   "metadata": {}
  },
  {
   "cell_type": "markdown",
   "source": [
    "Lets investigate some other properties of this RNG.\n",
    "The pairs $(x_i,x_{i-1})$ lie on a plane.   Plot their pattern."
   ],
   "metadata": {}
  },
  {
   "cell_type": "markdown",
   "source": [
    "A better choice of $a$ and $m$ can give our RNG better properties.\n",
    "Write a function for a new RNG with $a=65539$ and $m=2^{31}$.\n",
    "BEGIN_SOLUTION"
   ],
   "metadata": {}
  },
  {
   "cell_type": "markdown",
   "source": [
    "Generate a sequence of length 20002, and normalize to the range (0,1].\n",
    "Use seed =``` 2**8-1```\n",
    "Make a sequence of points $(x_{i-1},x_{i+1})$ that satisfy the condition $0.50 < x_i < 0.51$.\n",
    "Using ```matplotlib```, make a 2-D scatterplot.\n",
    "BEGIN_SOLUTION"
   ],
   "metadata": {}
  },
  {
   "cell_type": "markdown",
   "source": [
    "END_SOLUTION Note the unexpected linear relations.\n",
    "\n",
    "Make a 3-D plot (x,y,z) of the triplets $(x_{i-1},x_{i},x_{i+1})$.\n",
    "Restrict yourself to 1000 triplets.\n",
    "Can you see any patterns?"
   ],
   "metadata": {}
  },
  {
   "cell_type": "markdown",
   "source": [
    "The above example is not just pedagogical.  In fact, this RNG was/is called `RANDU`.\n",
    "The authors of Numerical Recipes (3rd ed), share this anecdote:\n",
    "> Even worse, many early generators happened to make particularly bad choices for m and a. One infamous such routine, RANDU, with a = 65539 and m = 2^31, was widespread on IBM mainframe computers for many years, and widely copied onto other systems. One of us recalls as a graduate student producing a \u201crandom\u201d plot with only 11 planes and being told by his computer center\u2019s programming consultant that he had misused the random number generator: \u201cWe guarantee that each number is random individually, but we don\u2019t guarantee that more than one of them is random.\u201d That set back our graduate education by at least a year!"
   ],
   "metadata": {}
  },
  {
   "cell_type": "markdown",
   "source": [
    "## XORshift RNGs\n",
    "\n",
    "Modern RNGs still combine two algorithms to remove undesired correlations.\n",
    "However, they use an independent algorithm for the first sequence, so as not to unwittingly combine two correlations that arise from the same `type` of algorithm.\n",
    "\n",
    "One such popular algorithm is called `XORshift`.  Its properties are understood by studying the multiplication of 3 special kinds of 32- or 64-dimensional binary matrices, but it can be programmed easily using bit shift and XOR operations.  The resulting algorithm does not look anything like matrix multiplication, but it really is.  This is because a bit shift can be represented on an n-bit vector by a matrix with only ones on a sub-diagonal.   Thus, to right-shift a bit sequence $\\beta = (b_1,b_2,\\cdots,b_n) \\to \\beta^{'} = (0,b_1,b_2,\\cdots,b_{n-1})$, you would right multiply by an $n\\times n$ matrix with only $1$s above the diagonal:\n",
    "$$\n",
    "\\begin{pmatrix}\n",
    "0 & 1 & 0 & \\cdots &  0 \\\\\n",
    "0 & 0 & 1 & \\cdots &  0 \\\\\n",
    "0 & 0 & 0 & 1      &  0 \\\\\n",
    "\\vdots & \\vdots & \\vdots & \\ddots &  1 \\\\\n",
    "0 & 0 & 0 & 0      &                 0  \\\\\n",
    "\\end{pmatrix}\n",
    "$$\n",
    "\n",
    "Similarly, a left-shift matrix has only $1$s on a subdiagonal `below` the diagonal.\n",
    "Finally, since these are binary matrices, all operations use  integer arithmetic modulo 2.\n",
    "\n",
    "The claim is that the series of operations $\\beta T, \\beta T^2 , \\cdots \\beta T^{2^n-1}$, every possible $\\beta$ is produced.\n",
    "This means that the cycle has length $2^n-1$.\n",
    "\n",
    "For the current implementations, $T = (1_n+L^a)(1_n+R^b)(1_n+L^c)$, an $n\\times n$ binary matrix with $(a,b,c)$ bit-shifts left-right-left.\n",
    "Only certain triplets $(a,b,c)$ have the desired property.\n",
    "\n",
    "A minimal test that $T$ has the desired properties is to square $T$ $n$ times and check if it is equal to $T$.\n",
    "\n",
    "Perform this test for the tuples $(1,3,10)$, $(5,17,13)$, and $(2,5,14)$ using 32-bit precision.\n",
    "Which of these are suitable triplets?"
   ],
   "metadata": {
    "id": "XORshift_RNGs"
   }
  },
  {
   "cell_type": "code",
   "source": [
    "def make_matrix(a, b, c):\n",
    "    from scipy.sparse import diags\n",
    "\n",
    "    E = sp.sparse.eye(32, dtype=np.int32)\n",
    "    T1 = diags([1], [a], shape=(32, 32), dtype=np.int32) + E\n",
    "    T2 = diags([1], [-b], shape=(32, 32), dtype=np.int32) + E\n",
    "    T3 = diags([1], [c], shape=(32, 32), dtype=np.int32) + E\n",
    "    #\n",
    "    return T1 @ T2 @ T3"
   ],
   "metadata": {}
  },
  {
   "cell_type": "markdown",
   "source": [
    "Use (a,b,c) = (5,17,13)\n",
    "\n",
    "Choose a number < 10**32-1 and represent it an np.array of length 32, i.e. `3 = [0,0,....0,1,1]`.\n",
    "\n",
    "Right multiplity (mod 2) by T and convert the result back to an integer.\n",
    "\n",
    "Now, starting with the integer i, perform the operations:\n",
    "i = i ^ i>>a i = i ^ i<<b i = i ^ i<<c\n",
    "\n",
    "Show the results are equivalent.\n",
    "Hint: make sure your integer doesn't become int64!"
   ],
   "metadata": {}
  },
  {
   "cell_type": "code",
   "source": [
    "numb = np.array(2**30 - 3, dtype=np.int32)"
   ],
   "metadata": {}
  },
  {
   "cell_type": "code",
   "source": [
    "print(c), bin(c)\n",
    "print(func(c, 32))"
   ],
   "metadata": {}
  },
  {
   "cell_type": "code",
   "source": [
    "b = func(numb, 32)"
   ],
   "metadata": {}
  },
  {
   "cell_type": "code",
   "source": [
    "print(f)"
   ],
   "metadata": {}
  },
  {
   "cell_type": "code",
   "source": [
    "# Need help or must use c-functions\n",
    "Ran:\n",
    "    def __init__(self, seed):\n",
    "        self.v = np.array(4101842887655102017, dtype=np.ulonglong)\n",
    "        self.u = np.array(np.ulonglong(seed) ^ self.v, dtype=np.ulonglong)\n",
    "        self.w = np.array(1, dtype=np.ulonglong)\n",
    "        self.int64()\n",
    "        self.v = self.u\n",
    "        self.int64()\n",
    "        self.w = self.v\n",
    "        self.int64()\n",
    "\n",
    "    def int64(self):\n",
    "        self.u = self.u * 2862933555777941757 + np.ulonglong(7046029254386353087)\n",
    "        self.v ^= self.v >> 17\n",
    "        self.v ^= self.v << np.uint64(31)\n",
    "        self.v ^= self.v >> np.uint64(8)\n",
    "        self.w = np.uint32(4294957665) * (np.uint32(self.w) & 0xFFFFFFFF) + (\n",
    "            np.uint32(self.w) >> 32\n",
    "        )\n",
    "        x = np.uint64(self.u) ^ np.uint64(np.uint64(self.u) << np.uint64(21))\n",
    "        x ^= x >> np.uint64(35)\n",
    "        x ^= x << np.uint64(4)\n",
    "        state = np.uint64(x + self.v) ^ np.uint64(self.w)\n",
    "        return state\n",
    "\n",
    "    def doub(self):\n",
    "        return 5.42101086242752217e-20 * self.int64()\n",
    "\n",
    "    def int32(self):\n",
    "        return np.uint32(self.int64())"
   ],
   "metadata": {}
  },
  {
   "cell_type": "markdown",
   "source": [
    "## Tests of Random Number Generators\n",
    "\n",
    "Diehard, NIST references.\n",
    "Craps test?"
   ],
   "metadata": {
    "id": "Tests_of_Random_Number_Generators"
   }
  }
 ],
 "nbformat_minor": 5,
 "metadata": {
  "colab": {
   "collapsed_sections": [
    "Random_Number_Generator_Worksheet",
    "Introduction",
    "Middle_square_method",
    "RNGs_based_on_modular_arithmetic",
    "Combined_Generators",
    "XORshift_RNGs",
    "Tests_of_Random_Number_Generators"
   ],
   "provenance": []
  },
  "language_info": {
   "name": "python",
   "pygments_lexer": "ipython3",
   "version": "3.10.17",
   "file_extension": ".py",
   "nbconvert_exporter": "python",
   "mimetype": "text/x-python",
   "codemirror_mode": {
    "name": "ipython",
    "version": 3
   }
  },
  "kernelspec": {
   "name": "python3",
   "display_name": "Python 3 (ipykernel)",
   "language": "python"
  }
 }
}