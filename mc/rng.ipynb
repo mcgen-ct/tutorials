{
 "cells": [
  {
   "cell_type": "markdown",
   "id": "Random_Number_Generators",
   "metadata": {
    "id": "Random_Number_Generators"
   },
   "source": [
    "# Random Number Generators"
   ]
  },
  {
   "cell_type": "markdown",
   "id": "qd-By19EJjgE",
   "metadata": {},
   "source": [
    "For any Monte Carlo (MC) computational technique, random numbers (or pseudo-random numbers) are critical, not only in the sampling characterstics of the generator but also the speed of the sampling. For example, simulating a Large Hadron Collider (LHC) collission can require upwards of $2.5 \\times 10^6$ random number calls.\n",
    "\n",
    "This worksheet is largely based on chapter 7 of [Numerical Recipes](https://numerical.recipes/book.html), and associated primary papers. The following is a list of references for further reading.\n",
    "\n",
    "*  Hammersley, J.M. and Handscomb, D.C. 1964, Monte Carlo Methods (London: Methuen)\n",
    "* Kalos, M.H. and Whitlock, P.A. 1986, Monte Carlo Methods (New York: Wiley)\n",
    "* Bratley, P., Fox, B.L., and Schrage, E.L. 1983, A Guide to Simulation, 2nd ed. (New York: Springer)\n",
    "* Lepage, G.P. 1978, A New Algorithm for Adaptive Multidimensional Integration, Journal of Computational Physics, vol. 27, pp. 192-203\n",
    "* Lepage, G.P. 1980, VEGAS: An Adaptive Multidimensional Integration Program, Publication CLNS-80/447, Cornell University\n",
    "* Numerical Recipes Software 2007, [Complete VEGAS Code Listing](http://numerical.recipes/webnotes?9), Numerical Recipes Webnote No. 9\n",
    "* Press, W.H., and Farrar, G.R. 1990, Recursive Stratified Sampling for Multidimensional Monte Carlo Integration, Computers in Physics, vol. 4, pp. 190-195\n",
    "* Numerical Recipes Software 2007, [Complete Miser Code Listing](http://numerical.recipes/webnotes?10), Numerical Recipes Webnote No. 10"
   ]
  },
  {
   "cell_type": "markdown",
   "id": "R2eorN_RO4Iw",
   "metadata": {
    "id": "Requirements"
   },
   "source": [
    "## Requirements"
   ]
  },
  {
   "cell_type": "markdown",
   "id": "6wOVEnrsO8MJ",
   "metadata": {},
   "source": [
    "This notebook requires a few external dependencies which are imported here. First, it is useful to have interactive plotting via `matplotlib`. To enable this, we need to install the `ipympl` module and restart the kernel."
   ]
  },
  {
   "cell_type": "code",
   "id": "FnCAfZTIO6pL",
   "metadata": {},
   "source": [
    "# Install `ipympl`.\n",
    "#!pip install -q ipympl\n",
    "# get_ipython().kernel.do_shutdown(restart=True)"
   ]
  },
  {
   "cell_type": "markdown",
   "id": "VXI7OZ02Pw3k",
   "metadata": {},
   "source": [
    "Next, we configure `matplotlib` and allow widgets in Colab."
   ]
  },
  {
   "cell_type": "code",
   "id": "oTNyEjEpPzcJ",
   "metadata": {},
   "source": [
    "# Allow for interactive plots.\n",
    "%matplotlib widget\n",
    "from matplotlib import pyplot as plt\n",
    "\n",
    "# Allow for widgets in Colab.\n",
    "try:\n",
    "    from google.colab import output\n",
    "\n",
    "    output.enable_custom_widget_manager()\n",
    "except:\n",
    "    pass"
   ]
  },
  {
   "cell_type": "markdown",
   "id": "Ib7sGa5eQCZd",
   "metadata": {},
   "source": [
    "Finally, we import both `numpy` and `scipy` for matrix operations which are used in the [XORshift RNGs](#scrollTo=XORshift_RNGs) section. We also need `sys` to determine the size of types when performing bit shifts."
   ]
  },
  {
   "cell_type": "code",
   "id": "w05VD3YaQPum",
   "metadata": {},
   "source": [
    "import numpy as np\n",
    "import scipy as sp\n",
    "import sys, math, inspect"
   ]
  },
  {
   "cell_type": "markdown",
   "id": "Introduction",
   "metadata": {
    "id": "Introduction"
   },
   "source": [
    "## Introduction"
   ]
  },
  {
   "cell_type": "markdown",
   "id": "DReEcjhrJjgV",
   "metadata": {},
   "source": [
    "This tutorial will give an introduction to Random Number Generators (or RNGs, for short). RNG algorithms are really pseudo-random (pRNG). This means they are deterministic. Randomness (Jaynes, [Probability Theory: The Logic of Science](http://www.med.mcgill.ca/epidemiology/hanley/bios601/GaussianModel/JaynesProbabilityTheory.pdf)) is a statement about knowledge, not about causes. pRNGs have causes, but you might not know them, or you might use them in a way so that they appear to be random, or random \"enough\".\n",
    "\n",
    "What are the basic properties of RNs? On any interval, there is an equal probability to obtain any value. For convenience, we will take this interval to be $(0,1)$. Note, we will generally exclude $0$ from the interval when considering RNs on a computer, since many algorithms will fail if $0$ is ever encountered.\n",
    "\n",
    "At the very least, we expect our computer RNs to have the properties of abstract ones.\n",
    "\n",
    "Mean:\n",
    "\n",
    "$$\\langle x \\rangle = \\int_0^1 \\text{d}x\\, x = \\frac{1}{2}$$\n",
    "\n",
    "Variance:\n",
    "\n",
    "$$\\langle x^2 \\rangle - \\langle x \\rangle^2 = \\frac{1}{3}-\\frac{1}{4} = \\frac{1}{12}$$\n",
    "\n",
    "Since it is useful to check the mean and variance, let us write simple functions which calculate these values given an iterable object like a list or array."
   ]
  },
  {
   "cell_type": "code",
   "id": "h_yjs9eBJjgV",
   "metadata": {},
   "source": [
    "# Note, these functions are available in `numpy` as `numpy.mean` and\n",
    "# `numpy.var`.\n",
    "def mean(xs):\n",
    "    \"\"\"\n",
    "    Return the mean for a list of numbers given by `xs`.\n",
    "\n",
    "    xs: list of numbers to find the mean for.\n",
    "    \"\"\"\n",
    "    return sum(vals) / float(len(vals))\n",
    "\n",
    "\n",
    "def variance(vals):\n",
    "    \"\"\"\n",
    "    Return the variance for a list of numbers given by `xs`.\n",
    "\n",
    "    xs: list of numbers to find the variance for.\n",
    "    \"\"\"\n",
    "    return mean([val**2 for val in vals]) - mean(vals) ** 2"
   ]
  },
  {
   "cell_type": "markdown",
   "id": "obT96yzuJjgV",
   "metadata": {},
   "source": [
    "In practice, computers represent only a finite range of numbers.\n",
    "This has implications for RNGs. Any algorithm that is deterministic and shuffles through the numbers is bound to repeat itself. Further, if our algorithm uses one number as the seed for the next, this repetition will mean that the sequence of pRNs repeats itself. This hardly looks random. Much of the art in developing good RNGs is knowing how to characterize or calculate the length of these cycles. If the cycle is long enough, much longer than any sequence of RNs we ever use in practice, then there is hope that this sequence will have the desired properties of random numbers. Identifying an algorithm with a long cycle is a priority, and possibly led to the focus on modular arithmetic, to be discussed shortly."
   ]
  },
  {
   "cell_type": "markdown",
   "id": "Middle_square_method",
   "metadata": {
    "id": "Middle_square_method"
   },
   "source": [
    "## Middle square method"
   ]
  },
  {
   "cell_type": "markdown",
   "id": "fH6AoM55JjgV",
   "metadata": {},
   "source": [
    "The need for such algorithms only came about with the development of practical computers and Monte Carlo (MC) techniques. Historically, we are placing ourselves in the 1940-1950s.\n",
    "Von Neumann (who else?) used a method called the [middle square](https://en.wikipedia.org/wiki/Middle-square_method). It can give us some insight to the problem we are facing.\n",
    "\n",
    "The middle square algorithm is short and strange:\n",
    "\n",
    "1. input a number of length $n$\n",
    "2. square the number and zero-pad if not of length $2n$\n",
    "3. output the \"middle\" number of length $n$\n",
    "4. use this number as the random variate and the input for step 1\n",
    "\n",
    "For example:\n",
    "\n",
    "$$14^2 = 196 \\to 0196 \\to 19; 19^2 = 0361 \\to 36; 36^2 = 1296 \\to 29; 29^2 = 0841 \\to 84, \\text{ etc.}$$\n",
    "\n",
    "Von Neumann used larger $n$ than this, but you get the point."
   ]
  },
  {
   "cell_type": "markdown",
   "id": "yy-7kBAZJjgV",
   "metadata": {},
   "source": [
    "Before we practically explore the middle square method, let us first consider some technical realities behind RNGs. Perhaps the most critical aspect is that all RNGs require state; for the next RN to be generated, the RNG must have saved information stored on how the previous RN was generated. In the context of Python, this means that we need to use a class to define an RNG."
   ]
  },
  {
   "cell_type": "code",
   "id": "I3788t_RJjgV",
   "metadata": {},
   "source": [
    "# Here, we define a simple base class which can hold the state for an RNG.\n",
    "class RNG:\n",
    "    \"\"\"\n",
    "    This is a simple base class for random number generation.\n",
    "    \"\"\"\n",
    "\n",
    "    def __init__(self, seed):\n",
    "        \"\"\"\n",
    "        Constructor for this class, e.g. `RNG(seed)`.\n",
    "\n",
    "        seed: seed used to initialize the generator.\n",
    "        \"\"\"\n",
    "        self.seed = seed\n",
    "        # In derived classes, further state can be initialized here.\n",
    "\n",
    "    def __call__(self):\n",
    "        \"\"\"\n",
    "        Returns a uniform RN between 0 and 1. This defines the `()`\n",
    "        for this class. For example:\n",
    "        ```\n",
    "        rng = RNG(seed)\n",
    "        rng()\n",
    "        ```\n",
    "        \"\"\"\n",
    "        # In derived classes, the actual algorithm should be implemented here.\n",
    "        return 0.5"
   ]
  },
  {
   "cell_type": "markdown",
   "id": "fp2-RYbVJjgV",
   "metadata": {},
   "source": [
    "We are also interested in the periodicity for the RNG, so we can define a function, which given an RNG, generates RNs until the sequence repeats."
   ]
  },
  {
   "cell_type": "code",
   "id": "-jBmSUTwJjgV",
   "metadata": {},
   "source": [
    "# Since it is useful to determine the period of an RNG, let us define a method\n",
    "# that does just this. Since we are storing the RNs we need to be careful not\n",
    "# to store a very long list.\n",
    "def rng_sequence(rng, n=int(1e6)):\n",
    "    \"\"\"\n",
    "    Given an RNG, return its sequence after its first repition or until\n",
    "    `n` RNs have been generated.\n",
    "\n",
    "    n: maximum number of RNs to generate.\n",
    "    \"\"\"\n",
    "    # Start with no RN and create the RN sequence.\n",
    "    rn, rns = None, []\n",
    "\n",
    "    # Loop while the next RN is not in the sequence.\n",
    "    while rn not in rns:\n",
    "        # Append the RN to the sequence.\n",
    "        if rn != None:\n",
    "            rns.append(rn)\n",
    "        # Generate the next RN.\n",
    "        rn = rng()\n",
    "        # Return if `n` is reached.\n",
    "        if len(rns) >= n:\n",
    "            return rns\n",
    "\n",
    "    # Return the sequence.\n",
    "    return rns"
   ]
  },
  {
   "cell_type": "markdown",
   "id": "Exercise:_implement_the_middle_square_method",
   "metadata": {
    "id": "Exercise:_implement_the_middle_square_method"
   },
   "source": [
    "### Exercise: implement the middle square method"
   ]
  },
  {
   "cell_type": "markdown",
   "id": "_XBX2VIwJjgV",
   "metadata": {},
   "source": [
    "For $n$=2, try all seeds (inputs) and identify the longest sequence (before a repeat). For this longest sequence, calculate the mean and variance. Then, identify the worst seeds (0 period)."
   ]
  },
  {
   "cell_type": "code",
   "id": "eW3EZcGFJjgV",
   "metadata": {
    "colab": {
     "base_uri": "https://localhost:8080/"
    },
    "outputId": "e65ba404-fc3d-4c24-aa5b-70244a333554"
   },
   "source": [
    "# All RNGs require state of some sort, i.e. they need to save information about\n",
    "# the previous random number call. This means that in Python, we should write\n",
    "# our RNGs as classes.\n",
    "\n",
    "\n",
    "# Here, we define the middle square generator as a derived class of `RNG`.\n",
    "class RNGMiddleSquare(RNG):\n",
    "    # For this example `n` would be 2.\n",
    "    def __init__(self, seed, n):\n",
    "        # This initializes the base class.\n",
    "        super().__init__(seed)\n",
    "        # Additional state initialized here.\n",
    "        self.n = n\n",
    "\n",
    "    def __call__(self):\n",
    "        # Return the actual number.\n",
    "        return 0\n",
    "\n",
    "\n",
    "# Get the seed and create the RNG.\n",
    "seed = int(input(\"Please enter a two-digit number:\\n[##] \"))\n",
    "rng = RNGMiddleSquare(seed, 2)\n",
    "\n",
    "# Determine the period."
   ]
  },
  {
   "cell_type": "markdown",
   "id": "RNGs_based_on_modular_arithmetic",
   "metadata": {
    "id": "RNGs_based_on_modular_arithmetic"
   },
   "source": [
    "## RNGs based on modular arithmetic"
   ]
  },
  {
   "cell_type": "markdown",
   "id": "uGXAmQN7JjgV",
   "metadata": {},
   "source": [
    "The middle square can have short periods (bad) and are not even very random (really bad).\n",
    "\n",
    "These types of RNGs were quickly overshadowed by those based on modular arithmetic. Two numbers are of the same modular class if they differ by only multiples of an integer $m$. Thus,\n",
    "\n",
    "$$1 \\equiv 4\\pmod{3} \\equiv 7\\pmod{3} \\equiv 82\\pmod{3}.$$\n",
    "\n",
    "In Python, the mod operator is given by the `%` symbol. Modular arithmetic has some nice properties that allow us to calculate or estimate periods, and it can be done quickly on a computer (a feature that could be relevant when sampling millions of RNs). However, the equivalences can also lead to some unexpected consequences.\n",
    "\n",
    "First, we will explore linear congruential generators. These have the form,\n",
    "\n",
    "$$x_i = a x_{i-1} + c \\mod m, 0 < x_i < m \\in \\mathbb{Z},$$\n",
    "\n",
    "where $a$ is the *multiplier*, a positive integer, $m$ is the *modulus*, also an integer, and $c$ is the *increment*, a non-negative integer. As with all such algorithms, you can convert this into a value between $0$ and $1$ by dividing by the largest element $m$. In general, $a$ should be relatively prime to $m$. When $c \\neq 0$ this type of RNG is called a linear congruential genenerator (LCG) and when $c = 0$ this RNG is called a multiplicative LCG (MLCG). In the examples below, we will focus on the special case of the MLCG."
   ]
  },
  {
   "cell_type": "code",
   "id": "5-AWKEzeJjgV",
   "metadata": {},
   "source": [
    "# We can now define a linear congruential generator.\n",
    "class RNGLCG(RNG):\n",
    "    # For our state, we only need the previously generated integer.\n",
    "    # We give a default value of `c` so this is an MLCG.\n",
    "    def __init__(self, seed, a=65593, m=2**31, c=0):\n",
    "        super().__init__(seed)\n",
    "        self.state = seed\n",
    "        self.a = a\n",
    "        self.m = m\n",
    "        self.c = c\n",
    "\n",
    "    # Here, we define the actual RNG.\n",
    "    def __call__(self):\n",
    "        self.state = (self.a * self.state + self.c) % self.m\n",
    "        return self.state / (self.m - 1)"
   ]
  },
  {
   "cell_type": "markdown",
   "id": "xg6OBEFDJjgV",
   "metadata": {},
   "source": [
    "Now, let us test this RNG by first checking its period, mean, and variance."
   ]
  },
  {
   "cell_type": "code",
   "id": "ol8fgxduJjgV",
   "metadata": {
    "colab": {
     "base_uri": "https://localhost:8080/"
    },
    "outputId": "ea1481f0-0ab7-4617-be19-1287de7de020"
   },
   "source": [
    "# Create the RNG.\n",
    "rng = RNGLCG(9, 3, 31)\n",
    "\n",
    "# Find the period.\n",
    "rns = rng_sequence(rng)\n",
    "\n",
    "# Print the period, mean, and variance.\n",
    "print(f\"period = {len(rns)}\")\n",
    "print(f\"mean = {mean(rns)}\")\n",
    "print(f\"variance = {variance(rns)}\")"
   ]
  },
  {
   "cell_type": "markdown",
   "id": "Exercise:_patterns_in_multiplicative_congruential_generator",
   "metadata": {
    "id": "Exercise:_patterns_in_multiplicative_congruential_generator"
   },
   "source": [
    "### Exercise: patterns in multiplicative congruential generator"
   ]
  },
  {
   "cell_type": "markdown",
   "id": "5eora3qrJjgV",
   "metadata": {},
   "source": [
    "Lets investigate some other properties of this RNG.\n",
    "The pairs $(x_i,x_{i-1})$ lie on a plane. Plot their pattern."
   ]
  },
  {
   "cell_type": "code",
   "id": "tJM6n3ZfJjgV",
   "metadata": {
    "colab": {
     "base_uri": "https://localhost:8080/",
     "height": 586,
     "referenced_widgets": [
      "71d4f2f67b9a45e89a4c2789d97c3911",
      "f5a6c6026bd941129d15ef79bd29bbff",
      "adce0561317d4a6da285f58d71707e49",
      "f9fbb8a5f1ca48e8b4e637415782978b"
     ]
    },
    "outputId": "b8e861a0-3154-4633-99c2-e7981d132506"
   },
   "source": [
    "# We can use `matplotlib` to create a figure and axis.\n",
    "fig, ax = plt.subplots()\n",
    "\n",
    "# Use the `scatter` method of `ax` to plot the RNs.\n",
    "xs = [0]\n",
    "ys = [0]\n",
    "ax.scatter(xs, ys)"
   ]
  },
  {
   "cell_type": "markdown",
   "id": "Exercise:_choosing_better_parameters",
   "metadata": {
    "id": "Exercise:_choosing_better_parameters"
   },
   "source": [
    "### Exercise: choosing better parameters"
   ]
  },
  {
   "cell_type": "markdown",
   "id": "ncyY01beJjgl",
   "metadata": {},
   "source": [
    "A better choice of $a$ and $m$ can give our RNG better properties.\n",
    "Create a new RNG with $a = 65539$ and $m = 2^{31}$. Generate a sequence of 1000 RNs using seed = $2^8 - 1$. Make a sequence of points $(x_i, x_{i-1})$ and plot them. Do any patterns emerge?"
   ]
  },
  {
   "cell_type": "code",
   "id": "w6NhykEzJjgl",
   "metadata": {},
   "source": [
    "# You already have the RNGLCG class, so use this, and then plot."
   ]
  },
  {
   "cell_type": "markdown",
   "id": "wgkfkGILJjgl",
   "metadata": {},
   "source": [
    "Now, given a little more advanced knowledge, let us see if we can find a pattern. Using the same RNG and seed, generate 20002 RNs and make a sequence of points $(x_{i-1}, x_i, x_{i+1})$. Filter these points for $0.50 < x_i < 0.51$. Make a 2-D scatter plot of $(x_{i-1},x_{i+1})$ for these filtered points. Do any patterns emerge?"
   ]
  },
  {
   "cell_type": "markdown",
   "id": "qTQV6QZmJjgl",
   "metadata": {},
   "source": [
    "So far, we have only been looking in two dimensions, what about in three? Generate 1000 RNs using the same RNG and seed. Then make a 3-D scatter plot with the points $(x_{i-1},x_i,x_{i+1})$."
   ]
  },
  {
   "cell_type": "code",
   "id": "CuKuBC3oJjgl",
   "metadata": {
    "colab": {
     "base_uri": "https://localhost:8080/",
     "height": 586,
     "referenced_widgets": [
      "a13ccc806bba4a4abdd0c7e3c16906fc",
      "dd77f699721e4c1d97f27f13482a2bc9",
      "f50989d3da6b4381a4b904d135a6c802",
      "22ff4b331328428bba42693a568f9c27"
     ]
    },
    "outputId": "aed13370-9009-4114-8846-44305c1d50bb"
   },
   "source": [
    "# The following will create a 3-D scatter plot.\n",
    "\n",
    "# Set your points.\n",
    "xs = [0]\n",
    "ys = [0]\n",
    "zs = [0]\n",
    "\n",
    "# Create the figure and allow to be 3-D.\n",
    "fig = plt.figure()\n",
    "ax = fig.add_subplot(projection=\"3d\")\n",
    "\n",
    "# Create the scatter plot.\n",
    "ax.scatter3D(xs, ys, zs)"
   ]
  },
  {
   "cell_type": "markdown",
   "id": "cSS4z5hFJjgl",
   "metadata": {},
   "source": [
    "This example is not just pedagogical. In fact, this RNG is called `RANDU`. The authors of Numerical Recipes (3rd ed), share this anecdote:\n",
    "\n",
    "> Even worse, many early generators happened to make particularly bad choices for m and a. One infamous such routine, `RANDU`, with a = 65539 and m = $2^{31}$, was widespread on IBM mainframe computers for many years, and widely copied onto other systems. One of us recalls as a graduate student producing a \"random\" plot with only 11 planes and being told by his computer center's programming consultant that he had misused the random number generator: \"We guarantee that each number is random individually, but we don't guarantee that more than one of them is random.\" That set back our graduate education by at least a year!"
   ]
  },
  {
   "cell_type": "markdown",
   "id": "XORshift_RNGs",
   "metadata": {
    "id": "XORshift_RNGs"
   },
   "source": [
    "## XORshift RNGs"
   ]
  },
  {
   "cell_type": "markdown",
   "id": "LwXKBuJ4Jjgl",
   "metadata": {},
   "source": [
    "Modern RNGs still combine two algorithms to remove undesired correlations.\n",
    "However, they use an independent algorithm for the first sequence, so as not to unwittingly combine two correlations that arise from the same class of algorithm.\n",
    "\n",
    "One such popular algorithm is called `XORshift`. Its properties are understood by studying the multiplication of 3 special kinds of binary matrices: the identity matrix $I$, a right-shift matrix $R$, and a left-shift matrix $L$. However, this is type of RNG is typically programmed more efficiently using bit-shift and exclusive OR (XOR) operations (true if exactly one of two inputs is true, false otherwise).\n",
    "\n",
    "The resulting algorithm does not look anything like matrix multiplication, but it really is. This is because a bit shift can be represented on an $n$-bit vector (typically 32-bit or 64-bit) by a matrix with only ones on a sub-diagonal. Thus, to right-shift a bit sequence $\\beta = (b_1,b_2,\\cdots,b_n) \\to \\beta^\\prime = (0,b_1,b_2,\\cdots,b_{n-1})$, you would multiply $\\beta$ by an $n\\times n$ matrix $R$,\n",
    "\n",
    "$$\n",
    "\\beta^\\prime = \\beta R\n",
    "$$\n",
    "\n",
    "with only $1$s above the diagonal.\n",
    "\n",
    "$$\n",
    "R \\equiv\n",
    "\\begin{pmatrix}\n",
    "0 & 1 & 0 & \\cdots & 0 \\\\\n",
    "0 & 0 & 1 & \\cdots & 0 \\\\\n",
    "0 & 0 & 0 & 1 & 0 \\\\\n",
    "\\vdots & \\vdots & \\vdots & \\ddots & 1 \\\\\n",
    "0 & 0 & 0 & 0 & 0 \\\\\n",
    "\\end{pmatrix}\n",
    "$$\n",
    "\n",
    "Similarly, a left-shift matrix has only $1$s on a subdiagonal below the diagonal.\n",
    "\n",
    "$$\n",
    "L =\n",
    "\\begin{pmatrix}\n",
    "0 & 0 & 0 & \\cdots & 0 \\\\\n",
    "1 & 0 & 0 & \\cdots & 0 \\\\\n",
    "0 & 1 & 0 & 0 & 0 \\\\\n",
    "\\vdots & \\vdots & \\vdots & \\ddots & 0 \\\\\n",
    "0 & 0 & 0 & 1 & 0 \\\\\n",
    "\\end{pmatrix}\n",
    "$$\n",
    "\n",
    "Finally, since these are binary matrices, all operations use integer arithmetic modulo 2, *i.e.* all arithmetic operations are defined as normal, but with the result taken as $\\pmod 2$.\n",
    "\n",
    "It is important to note here that the right-shift defined above is a *logical* right shift and not an *arithmetic* right shift. In a logical right shift, the left-most bit is set to zero, while for an arithmetic right-shift the left-most bit does not change. This is important for signed numbers, where the left-most bit gives the sign of the number. In most programming languages, the right-shift operator is defined as the arithmetic right shift and not the logical right shift.\n",
    "\n",
    "The claim is that the series of operations $\\beta T, \\beta T^2 , \\cdots \\beta T^{2^n-1}$, every possible $\\beta$ is produced. This means that the cycle has length $2^n-1$. For most current implementations, this transformation matrix can be defined as\n",
    "\n",
    "$$\n",
    "T = (1 + L^a)(1 + R^b)(1 + L^c)\n",
    "$$\n",
    "\n",
    "which is an $n\\times n$ binary matrix with $(a,b,c)$ bit-shifts left-right-left. Here, $1$ is an $n\\times n$ identity matrix. This identity matrix, in combination with the modulo 2 arithmetic, corresponds to an XOR operator. Only certain triplets of $(a,b,c)$ fulfill the ideal cycle length of $2^n - 1$. A minimal test that $T$ has the desired properties is to check that\n",
    "\n",
    "$$\n",
    "T^{2^n} = T\n",
    "$$\n",
    "\n",
    "holds."
   ]
  },
  {
   "cell_type": "markdown",
   "id": "oZnDYvPqZjNQ",
   "metadata": {
    "id": "Exercise:_implement_bit_shifting"
   },
   "source": [
    "### Exercise: implement bit shifting"
   ]
  },
  {
   "cell_type": "markdown",
   "id": "9e8pn1f7Z3_P",
   "metadata": {},
   "source": [
    "Before we implement a full `XORshift` RNG, we need to build the necessary matrices to define the transformation $T$. Using the `sparse` sub-module from `scipy`, define functions that return $R$ and $L$ matrices. We use the `sparse` module to make the calculation more efficient than just full matrix multiplication."
   ]
  },
  {
   "cell_type": "code",
   "id": "IKXmi63xbtr8",
   "metadata": {
    "colab": {
     "base_uri": "https://localhost:8080/",
     "height": 193
    },
    "outputId": "e22f7e4a-a0e1-45b9-e9d8-c50c35ecd446"
   },
   "source": [
    "# The following creates a sparse identity matrix with n = 4.\n",
    "im = sp.sparse.eye(4, dtype=np.int32)\n",
    "# Here, the first argument is `n`, and the second argument is the\n",
    "# data type of the matrix. All available `numpy` datatypes can be listed\n",
    "# with the following.\n",
    "print(np.sctypeDict)\n",
    "# Depending on how we perform our modulo arithmetic, we could choose a\n",
    "# more efficient data type for the matrix.\n",
    "\n",
    "# It is possible to print a sparse matrix as an array to check its form.\n",
    "print(im.toarray())\n",
    "\n",
    "# We can also create off-diagonal matrices.\n",
    "om = sp.sparse.diags([1], [1], shape=(4, 4), dtype=np.int32)\n",
    "# The first and second arguments should be lists of the same length.\n",
    "# The first argument is the value to insert along a diagonal of the matrix.\n",
    "# The second argument is the offset for the diagonal.\n",
    "# The `shape` argument gives the matrix dimensions.\n",
    "# This example places 1s one above the main diagonal.\n",
    "print(om.toarray())\n",
    "\n",
    "\n",
    "# We then define the following two methods.\n",
    "def build_rshift(n, dtype=np.int32):\n",
    "    # Actually define the matrix here.\n",
    "    return 0.0\n",
    "\n",
    "\n",
    "def build_lshift(n, dtype=np.int32):\n",
    "    # Actually define the matrix here.\n",
    "    return 0.0\n",
    "\n",
    "\n",
    "# For completeness define the identity matrix as well.\n",
    "def build_i(n, dtype=np.int32):\n",
    "    # Actually define the matrix here.\n",
    "    return 0.0"
   ]
  },
  {
   "cell_type": "markdown",
   "id": "DNPDWkLPpHPE",
   "metadata": {},
   "source": [
    "In Python, the right-shift operator is given by `>>` followed the number of positions, and the left-shift operator is given by `<<`, also followed by the number of positions. Check that your shift matrices are correctly built using these built in operators, remembering that the right-shift operator is an arithmetic shift.\n",
    "\n",
    "As a brief, but relevant aside, the Python `int` type does not have a fixed size and instead uses \"arbitrary precision arithmetic\" (also known as `bignum`). This means that you should use the fixed size-types from `numpy` instead. Note, real number types like `float` in Python are fixed size. Why is `float` fixed size but `int` variable size?"
   ]
  },
  {
   "cell_type": "code",
   "id": "9T89kAuHk3qF",
   "metadata": {},
   "source": [
    "# Be careful with what data type you check the operation on.\n",
    "# Because we are working with logical shift operators,\n",
    "# rather than arithmetic, this means you should work with\n",
    "# unsigned types. The following creates an unsigned 8-bit\n",
    "# integer.\n",
    "val = np.uint8(120)\n",
    "\n",
    "# You will need to be able to convert this value to binary.\n",
    "# The following creates a string, where the characters\n",
    "# are the binary representation of the decimal value,\n",
    "# prefixed by \"0b\".\n",
    "chars = bin(val)\n",
    "\n",
    "\n",
    "# You can loop over this string to produce a vector of bits.\n",
    "# It might be useful to write this out as a little function.\n",
    "# Here, `dec` is the decimal value and `dtype` is the data type\n",
    "# to encode the bits in the vector.\n",
    "def dec_to_bits(dec, dtype=int):\n",
    "    # The following determines the number of bytes used by `dec`.\n",
    "    # Remember this in bytes and not bits!\n",
    "    n = np.dtype(dec).itemsize\n",
    "    # Define the conversion here.\n",
    "    return []\n",
    "\n",
    "\n",
    "# Now, shift the vector of bits.\n",
    "\n",
    "\n",
    "# Once you have a shifted vector of bits, it is useful to be able to convert\n",
    "# back into a decimal value. Here, `dtype` is the return type for the\n",
    "# decimal value.\n",
    "def bits_to_dec(bits, dtype=int):\n",
    "    # First, create a binary string. Then, most numerical types in Python can\n",
    "    # convert from strings for non-decimal values. The `2` indicates this is\n",
    "    # a binary string.\n",
    "    return dtype(\"01010\", 2)"
   ]
  },
  {
   "cell_type": "markdown",
   "id": "eor9lsUllebS",
   "metadata": {},
   "source": [
    "We can also consider the general form of $L^a$ and $R^b$. Is there a more efficient way to write $L^a$ then just `L**a`?"
   ]
  },
  {
   "cell_type": "code",
   "id": "Q9zGX_h-izzr",
   "metadata": {},
   "source": [
    "# First, use matrix multiplication to see what L^a is for a from 1 to n.\n",
    "# Next, see if there is a simpler way to construct these matrices.\n",
    "# Finally, write new `build_rshift` and `build_shift` methods which allow the\n",
    "# power to be specified."
   ]
  },
  {
   "cell_type": "markdown",
   "id": "-Bq0yB0yWtgI",
   "metadata": {
    "id": "Exercise:_determine_suitable_triplets"
   },
   "source": [
    "### Exercise: determine suitable triplets"
   ]
  },
  {
   "cell_type": "markdown",
   "id": "wcA-YpaUW8Gh",
   "metadata": {},
   "source": [
    "Construct $T$ for the triplets $(1,3,10)$, $(5,17,13)$, and $(2,5,14)$ using 32-bit precision. Which of these are suitable triplets, using the test $T^{2^n} = T$?"
   ]
  },
  {
   "cell_type": "code",
   "id": "kV-KuMzmotTR",
   "metadata": {
    "colab": {
     "base_uri": "https://localhost:8080/",
     "height": 139
    },
    "outputId": "3f4262f1-7861-44b7-97cc-bd133a188985"
   },
   "source": [
    "# Define a method that constructs T.\n",
    "# If the additional argument `reverse` is `True`, then perform a\n",
    "# right-left-shift rather than left-right-left shift.\n",
    "def build_tshift(n, a, b, c, reverse=False, dtype=np.int32):\n",
    "    # Use the `build_rshift`, `build_lshift`, and `build_i` methods.\n",
    "    return 0.0\n",
    "\n",
    "\n",
    "# Test T^(2^n) = T. Remember the right-hand side should be modulo 2.\n",
    "# With `scipy` it is possible to piecewise apply modulo 2 to a matrix\n",
    "# but for a sparse matrix, it must be first promoted to a full matrix using\n",
    "# `todense` as shown below.\n",
    "s = 2 * sp.sparse.eye(4)\n",
    "d = s.todense()\n",
    "m = d % 2\n",
    "print(f\"m =\\n{m}\")\n",
    "\n",
    "# Finally, the `numpy.count_nonzero` can be used to find the number of non-zero\n",
    "# elements in an array (or matrix).\n",
    "print(f\"non-zero `d` elements = {np.count_nonzero(d)}\")\n",
    "print(f\"non-zero `m` elements = {np.count_nonzero(m)}\")"
   ]
  },
  {
   "cell_type": "markdown",
   "id": "ENukFOl-0Adc",
   "metadata": {
    "id": "Exercise:_implement_XORshift_with_matrices"
   },
   "source": [
    "### Exercise: implement XORshift with matrices"
   ]
  },
  {
   "cell_type": "markdown",
   "id": "jBEJKvar0SeF",
   "metadata": {},
   "source": [
    "Now that we have all the components, define an XORshift RNG. From the exercise above, choose valid default values for $a$, $b$, and $c$."
   ]
  },
  {
   "cell_type": "code",
   "id": "8Tx0Df3n0bT-",
   "metadata": {},
   "source": [
    "# We can now define an XORshift generator using matrices.\n",
    "class RNGXORShiftMatrix(RNG):\n",
    "    # The `dtype` determines how many bits we use, and we should choose\n",
    "    # a valid default for `a`, `b`, and `c`. If `reverse` is `True`,\n",
    "    # reverse the direction of the shift operators. We need this later for a\n",
    "    # combined RNG.\n",
    "    def __init__(self, seed, a=1, b=1, c=1, reverse=False, dtype=np.uint32):\n",
    "        super().__init__(seed)\n",
    "        # Store the state and any other info that is needed.\n",
    "        # Building the transformation matrix only once here would make sense.\n",
    "\n",
    "    # Here, we define the actual RNG.\n",
    "    def __call__(self):\n",
    "        # Apply the necessary transformations here.\n",
    "        return 0.5"
   ]
  },
  {
   "cell_type": "markdown",
   "id": "OWL072QbyaXu",
   "metadata": {
    "id": "Exercise:_implement_XORshift_with_operators"
   },
   "source": [
    "### Exercise: implement XORshift with operators"
   ]
  },
  {
   "cell_type": "markdown",
   "id": "2TBF9pyHUeKk",
   "metadata": {},
   "source": [
    "It turns out, not suprisingly, that the `XORshift` RNG we implemented with matrices is not particularly efficient. How many operations per RNG call are required for the matrix implementation? Assume the matrices are dense and ignore the operations necessary to convert to from a vector of bits to a real number."
   ]
  },
  {
   "cell_type": "markdown",
   "id": "JEtA02fsYVqv",
   "metadata": {},
   "source": [
    "So, let us now implement a more efficient version of this generator where we use the built in Pythonic operators for XOR and bit shifting."
   ]
  },
  {
   "cell_type": "code",
   "id": "MXibD9y4Y6xh",
   "metadata": {
    "colab": {
     "base_uri": "https://localhost:8080/",
     "height": 104
    },
    "outputId": "d672dd8f-7393-4942-c9e5-9f78710d6042"
   },
   "source": [
    "# The following demonstrate the in-place XOR operator, `^=`.\n",
    "a = np.uint8(13)\n",
    "print(f\"a   = {dec_to_bits(a)}\")\n",
    "b = np.uint8(5)\n",
    "print(f\"b   = {dec_to_bits(b)}\")\n",
    "a ^= b\n",
    "print(f\"a^b = {dec_to_bits(a)}\")\n",
    "\n",
    "# We already compared the bit-shifting operator, but we can illustrate it\n",
    "# again here.\n",
    "a = np.uint8(13)\n",
    "print(f\"a      = {dec_to_bits(a)}\")\n",
    "a = a << 1\n",
    "print(f\"a << 1 = {dec_to_bits(a)}\")\n",
    "\n",
    "\n",
    "# Here is a template for defining the generator.\n",
    "class RNGXORShiftOperator(RNG):\n",
    "    # Use the same default `a`, `b`, and `c` as RNGXORShiftMatrix.\n",
    "    # Use the same default `dtype` as RNGXORShiftMatrix.\n",
    "    def __init__(self, seed, a=1, b=1, c=1, reverse=False, dtype=np.uint32):\n",
    "        super().__init__(seed)\n",
    "        # Store the state.\n",
    "        # Store the bit size.\n",
    "        # Store the `a`, `b`, and `c` configuration.\n",
    "\n",
    "    # Define the actual RNG call.\n",
    "    def __call__(self):\n",
    "        # Bit-shift `state` left by `a`, then take XOR with non-shifted state.\n",
    "        # Bit-shift `state` right by `b`, then take XOR with non-shifted state.\n",
    "        # Bit-shift `state` left by `c`, then take XOR with non-shifted state.\n",
    "        # Normalize and return.\n",
    "        return 0.5"
   ]
  },
  {
   "cell_type": "markdown",
   "id": "k8R4cliLbqA2",
   "metadata": {},
   "source": [
    "Compare this `XORshift` RNG with the one you wrote using matrices. Do the two match? Should they?"
   ]
  },
  {
   "cell_type": "code",
   "id": "5uQtuWvWcMUd",
   "metadata": {},
   "source": [
    "# Define the two RNGs. Make sure to use the same `seed` and `a`, `b`, and `c`.\n",
    "# Loop over the first 5 RNs generated."
   ]
  },
  {
   "cell_type": "markdown",
   "id": "PRPCbCBXu6G0",
   "metadata": {
    "id": "Combined_RNGs"
   },
   "source": [
    "## Combined RNGs"
   ]
  },
  {
   "cell_type": "markdown",
   "id": "HhWFNy0EJjgl",
   "metadata": {},
   "source": [
    "We have explored three different RNG methods: [Middle Square Method](scrollTo=Middle_square_method), [LCGs](scrollTo=#RNGs_based_on_modular_arithmetic), and [`XORshift`](XORshift_RNGs). While only the final RNG method is currently considered to be sufficient, another possibility is to combine RNGs together to produce a better RNG. In Numerical Recipes (3rd ed), a number of guidelines are given for what constitutes a bad RNG, which is then followed by this \"received wisdom of the present\".\n",
    "\n",
    "> An acceptable random generator must combine at least two (ideally, unrelated) methods. The methods combined should evolve independently and share no state. The combination should be by simple operations that do not produce results less random than their operands.\n",
    "\n",
    "In Numerical Recipes, an RNG is recommended that combines four different RNGs. The first RNG is a an `XORshift`, the second is an LCG, the third is another `XORshift`, and the fourth is a Multiply with Carry (MWC). These RNGs are combined as follows.\n",
    "\n",
    "$$\n",
    "(\\text{XOR}_1(\\text{LCG}_2) + \\text{XOR}_3) \\wedge \\text{MWC}_4\n",
    "$$\n",
    "\n",
    "The notation here of $\\text{XOR}_1(\\text{LCG}_2)$ is called a succesor relation, where the state of $\\text{LCG}_2$ is still iterated as normal, but is taken as the state of $\\text{XOR}_1$."
   ]
  },
  {
   "cell_type": "markdown",
   "id": "uZ9EpKAd8v5A",
   "metadata": {
    "id": "Exercise:_implement_an_MWC_RNG"
   },
   "source": [
    "### Exercise: implement an MWC RNG"
   ]
  },
  {
   "cell_type": "markdown",
   "id": "FLVZUlCF83Dn",
   "metadata": {},
   "source": [
    "The idea behind an MCW is similar to an LCG with $m = ab - 1$, but is implemented using a bit-shift with an AND operation. The algorithm is as follows, considering an $n$-bit state.\n",
    "1. Right-shift $x_i$ by $n/2$.\n",
    "2. Take the AND operation between $x_i$ and $2^{n/2} -1$.\n",
    "2. Multiply the result of (2) by $a$ and add to the result of (1).\n",
    "Implement an MCW for $n = 64$ and $a = 4294957665$."
   ]
  },
  {
   "cell_type": "code",
   "id": "MruZ6C9s_pga",
   "metadata": {},
   "source": [
    "# Class to perform MWC.\n",
    "class RNGMWC(RNG):\n",
    "    def __init__(self, seed, a=4294957665, dtype=np.uint64):\n",
    "        super().__init__(seed)\n",
    "        # Store the state.\n",
    "        # Store the bit size.\n",
    "        # Store the `a` configuration.\n",
    "\n",
    "    # Define the actual RNG call.\n",
    "    def __call__(self):\n",
    "        # Bit-shift `state` right by `n/2`.\n",
    "        # Take bit-wise AND with 2^(`n`/2) - 1, multiply by `a`.\n",
    "        # Here, you will need to create a dtype of 2^(`n`/2) otherwise Python\n",
    "        # will complain about adding an `int` to dtype.\n",
    "        # Add the results.\n",
    "        # Normalize and return.\n",
    "        pass"
   ]
  },
  {
   "cell_type": "markdown",
   "id": "J_fs_3xFBh85",
   "metadata": {
    "id": "Exercise:_combine_RNGs"
   },
   "source": [
    "### Exercise: combine RNGs"
   ]
  },
  {
   "cell_type": "markdown",
   "id": "i5eYHtWRBmpK",
   "metadata": {},
   "source": [
    "We now have all the ingredients needed to create the recommended RNG combination from Numerical recipes. However, we need to know the parameters used for each RNG.\n",
    "\n",
    "* $\\text{XOR}_1$: $a = 21$, $b = 35$, $c = 4$, and left-right-left shifts\n",
    "* $\\text{LCG}_2$: $a = 2862933555777941757$, $c = 7046029254386353087$, and $m = 2^n$\n",
    "* $\\text{XOR}_3$: $a = 17$, $b = 31$, $c = 8$, and right-left-right shifts\n",
    "* $\\text{MWC}_4$: $a = 4294957665$\n",
    "\n",
    "For all the generators we have $n = 64$. There is also some additional initialization that is required that is described in the comments for the exercise code.\n",
    "\n",
    "To check your solution, the first $5$ random numbers should be the following.\n",
    "```\n",
    "0.40573455184711105\n",
    "0.4626566077784852\n",
    "0.06435855239385686\n",
    "0.5209198360653725\n",
    "0.034725647607092826\n",
    "```"
   ]
  },
  {
   "cell_type": "code",
   "id": "unxAxuz7Bx5P",
   "metadata": {},
   "source": [
    "# Class to create a combined RNG.\n",
    "class RNGCombine(RNG):\n",
    "    def __init__(\n",
    "        self,\n",
    "        seed,\n",
    "        seed3=4101842887655102017,\n",
    "        seed4=1,\n",
    "        a1=21,\n",
    "        b1=35,\n",
    "        c1=4,\n",
    "        a2=2862933555777941757,\n",
    "        c2=7046029254386353087,\n",
    "        m2=2**64,\n",
    "        a3=17,\n",
    "        b3=31,\n",
    "        c3=8,\n",
    "        a4=4294957665,\n",
    "        dtype=np.uint64,\n",
    "    ):\n",
    "        super().__init__(seed)\n",
    "        # Determine the seeds for the RNGs. Any value for `seed1` is fine,\n",
    "        # since this seed is never used in RNG1.\n",
    "        # The seed for RNG2 is the XOR of `seed1` and `seed3`.\n",
    "        # We already have `seed3` and `seed4`.\n",
    "\n",
    "        # Store the bit size and data type.\n",
    "\n",
    "        # Create the 4 RNGs.\n",
    "\n",
    "        # Perform some additional initialization.\n",
    "        # Call the RNG with the current states.\n",
    "        # Update the state of RNG3 to that of RNG2.\n",
    "        # Call the RNG with the current states.\n",
    "        # Update the state of RNG4 to that of RNG3.\n",
    "        # Call the RNG with the current states.\n",
    "\n",
    "    # Define the actual RNG call.\n",
    "    def __call__(self):\n",
    "        # Independently call RNG2, RNG3, and RNG4.\n",
    "        # Set the RNG1 state to the RNG2 state. Make sure this is the correct\n",
    "        # data type.\n",
    "        # Call RNG1.\n",
    "        # Combine the states.\n",
    "        # This step can cause an overflow error, but it is safe to ignore\n",
    "        # since the overflow treatment is what we want.\n",
    "        # Normalize and return.\n",
    "        return 0.5"
   ]
  },
  {
   "cell_type": "markdown",
   "id": "Tests_of_Random_Number_Generators",
   "metadata": {
    "id": "Tests_of_Random_Number_Generators"
   },
   "source": [
    "## Tests of Random Number Generators"
   ]
  },
  {
   "cell_type": "markdown",
   "id": "sax8QmAzJjgl",
   "metadata": {},
   "source": [
    "At the begining of this notebook, we defined a good RNG based on its mean and variance matching an expected uniform distribution. However, as we saw with various RNGs, the period of a generator can be small, so it begins repeating, or patterns can even arise within a single period. However, as we saw for LCGs that even if we [chose better parameters](#scrollTo=Exercise:_choosing_better_parameters) these patterns could continue to emerge. So, how do we catch these patterns, and what defines a good RNG?\n",
    "\n",
    "There is not a simple answer to this question, but instead there are standard series of tests that can be applied to RNGs that attempt to quantify how good an RNG is. Perhaps the best known is the `diehard` test suite developed by George Marsaglia which was extended by Robert Brown into the [`dieharder`](https://webhome.phy.duke.edu/~rgb/General/dieharder.php) test suite, and by Pierre L'Ecuyer and Richard Simard into the [`TestU01`](https://github.com/umontreal-simul/TestU01-2009/) test suite. We will explore a few tests from the original `diehard` suite of tests."
   ]
  },
  {
   "cell_type": "markdown",
   "id": "jiOsb7a4WRaN",
   "metadata": {
    "id": "Exercise:_timing"
   },
   "source": [
    "### Exercise: timing"
   ]
  },
  {
   "cell_type": "markdown",
   "id": "__d3iWbAWVf7",
   "metadata": {},
   "source": [
    "Timing does not assess the quality of an RNG, but is necessary from a practical point of view to determine whether an RNG is usable. Evaluate the timing per RNG call for all the RNGs implemented in this notebook."
   ]
  },
  {
   "cell_type": "code",
   "id": "rYzaGG1JWuv2",
   "metadata": {},
   "source": [
    "# Define a list of RNG classes.\n",
    "rng_classes = [RNGCombine]\n",
    "\n",
    "# Create a list of RNGs.\n",
    "rngs = [rng_class(13) for rng_class in rng_classes]\n",
    "# Time each class.\n",
    "\n",
    "# The following times everything between start and top.\n",
    "# You will probably want to make a number of RNG calls to\n",
    "# get an average timing.\n",
    "import time\n",
    "\n",
    "start = time.time()\n",
    "for rng in rngs:\n",
    "    rng()\n",
    "stop = time.time()\n",
    "diff = stop - start"
   ]
  },
  {
   "cell_type": "markdown",
   "id": "qOzKfTWMd2H7",
   "metadata": {
    "id": "Exercise:_Kolmogorov\u2013Smirnov_test"
   },
   "source": [
    "### Exercise: Kolmogorov\u2013Smirnov test"
   ]
  },
  {
   "cell_type": "markdown",
   "id": "gpbUnESyf3CW",
   "metadata": {},
   "source": [
    "The general idea behind the `diehard` tests is to generate a distribution produced from an algorithm using the RNG and compare this to the asymptotic limit of the distribution for the algorithm. To do this, we need to be able to quantify how well a discrete generated distribution agrees with a continuous distribution. The Kolmogorov-Smirnov (KS) test does this by finding the maximum distance between the cumulative distribution functions of the two distributions. Try to implement this below."
   ]
  },
  {
   "cell_type": "markdown",
   "id": "pHiAZiOfituP",
   "metadata": {},
   "source": [
    "Now, let us test a uniform distribution with the KS test."
   ]
  },
  {
   "cell_type": "markdown",
   "id": "bNBkG0Ntk6_U",
   "metadata": {},
   "source": [
    "However, this number is not so useful unless we know the expected distribution for KS distances. The asymptotic CDF for the distance $d$ as $n \\to \\infty$ for the generated distribution is given by the following.\n",
    "\n",
    "$$\n",
    "\\text{CDF}(d) = \\frac{\\sqrt{2\\pi}}{\\sqrt{n}d} \\sum_{k = 1}^\\infty e^{-(2k-1)^2\\pi^2/(8nd^2)}\n",
    "$$\n",
    "\n",
    "Implement a function which calculates the p-value for the KS test."
   ]
  },
  {
   "cell_type": "code",
   "id": "hiYUAwwq_a95",
   "metadata": {},
   "source": [
    "# Define the function here, where `kmax` defines the upper limit of the sum.\n",
    "def ks_pvalue(d, n, kmax=100):\n",
    "    return 0.0"
   ]
  },
  {
   "cell_type": "markdown",
   "id": "hO70IbhBAwHv",
   "metadata": {},
   "source": [
    "We can test our implementation against the `scipy` implementation."
   ]
  },
  {
   "cell_type": "code",
   "id": "AWcuWC0Gm7F6",
   "metadata": {
    "colab": {
     "base_uri": "https://localhost:8080/"
    },
    "outputId": "204181a8-1ba3-4b24-b25e-a8f90d82ca31"
   },
   "source": [
    "p = ks_pvalue(d, len(xs))\n",
    "s = sp.stats.kstest(xs, cdf_uniform)\n",
    "print(f\"local distance: {d}\")\n",
    "print(f\"scipy distance: {s.statistic}\")\n",
    "print(f\"local distance: {p}\")\n",
    "print(f\"scipy distance: {s.pvalue}\")"
   ]
  },
  {
   "cell_type": "markdown",
   "id": "JWrnhN49Ulwt",
   "metadata": {
    "id": "Exercise:_minimum_distance_test"
   },
   "source": [
    "### Exercise: minimum distance test"
   ]
  },
  {
   "cell_type": "markdown",
   "id": "8WfRuRrsUsQm",
   "metadata": {},
   "source": [
    "There are quite a few tests in the `diehard` including tests such as the birthdays, craps, car parking, and monkeys. We will focus on a test with a slightly more boring name, the minimum distance test. In this test, $n$ random points $(x_i, y_i)$ are generated where both $x_i$ and $y_i$ are uniformly distributed between $0$ and $10^4$. The minimum distance between all point combinations, $d_\\min^2$, is then returned. Implement this test below."
   ]
  },
  {
   "cell_type": "code",
   "id": "acfTifWXnldI",
   "metadata": {},
   "source": [
    "# Define the method.\n",
    "def diehard_minimum_distance(rng, n):\n",
    "    # Create the points.\n",
    "    # Make sure they are sampled between 0 and 1e4.\n",
    "    # Calculate the distance.\n",
    "    # Return the minimum distance.\n",
    "    return 1e8"
   ]
  },
  {
   "cell_type": "markdown",
   "id": "_5brkg-KWRXk",
   "metadata": {},
   "source": [
    "This value itself, or an ensemble of these values, is not useful unless we know the corresponding distribution. Create a distribution from $100$ $d_\\min^2$ using $n = 8000$ and the `RNGCombine` RNG. **This will take some time.**"
   ]
  },
  {
   "cell_type": "code",
   "id": "-Q2uUzdLoGqL",
   "metadata": {},
   "source": [
    "# Create the RNG.\n",
    "# Run the test 100 times with 8000 points each."
   ]
  },
  {
   "cell_type": "markdown",
   "id": "_rjQnq1wXwXo",
   "metadata": {},
   "source": [
    "Plot the histogram for these $d_\\min^2$. What kind of distribution does this look like?"
   ]
  },
  {
   "cell_type": "code",
   "id": "MQHJgL04oVnv",
   "metadata": {},
   "source": [
    "# Create the figure.\n",
    "# Use the `ax.hist` to create a histogram."
   ]
  },
  {
   "cell_type": "markdown",
   "id": "fytH3OmEZEG2",
   "metadata": {},
   "source": [
    "It turns out the distribution is an exponential.\n",
    "\n",
    "$$\n",
    "\\text{PDF}(x) = \\mu e^{-\\mu x}\n",
    "$$\n",
    "\n",
    "The CDF is then given by the following.\n",
    "\n",
    "$$\n",
    "\\text{CDF}(x) = 1 - e^{-\\mu x}\n",
    "$$\n",
    "\n",
    "For this particular test, $\\mu = 1/0.995$. Implement the expected CDF for this test and calculate the KS p-value."
   ]
  },
  {
   "cell_type": "code",
   "id": "36TC12WxoeHP",
   "metadata": {},
   "source": [
    "# First, we define the CDF.\n",
    "def cdf_exp(x, mu=1 / 0.995):\n",
    "    return 0.0\n",
    "\n",
    "\n",
    "# Now we perform the test."
   ]
  },
  {
   "cell_type": "markdown",
   "id": "VJ5oBxGvaygX",
   "metadata": {},
   "source": [
    "We start to get worried if the p-value is close to $0$ or $1$. Normally, something less than $0.05$ would be considered problematic. However, there are a sufficient number of `diehard` tests that failures at the $0.05$ level can still occur for an RNG that is ideal. However, when p-values are less than $1\\times10^{-5}$ this is typically indicative of an RNG that has some serious shortcomings."
   ]
  }
 ],
 "metadata": {
  "colab": {
   "collapsed_sections": [
    "Requirements",
    "Introduction",
    "Middle_square_method",
    "Exercise:_implement_the_middle_square_method",
    "RNGs_based_on_modular_arithmetic",
    "Exercise:_patterns_in_multiplicative_congruential_generator",
    "Exercise:_choosing_better_parameters",
    "XORshift_RNGs",
    "Exercise:_implement_bit_shifting",
    "Exercise:_determine_suitable_triplets",
    "Exercise:_implement_XORshift_with_matrices",
    "Exercise:_implement_XORshift_with_operators",
    "Combined_RNGs",
    "Exercise:_implement_an_MWC_RNG",
    "Exercise:_combine_RNGs",
    "Tests_of_Random_Number_Generators",
    "Exercise:_timing",
    "Exercise:_Kolmogorov\u2013Smirnov_test",
    "Exercise:_minimum_distance_test"
   ],
   "provenance": []
  },
  "kernelspec": {
   "display_name": "Python 3 (ipykernel)",
   "language": "python",
   "name": "python3"
  },
  "language_info": {
   "codemirror_mode": {
    "name": "ipython",
    "version": 3
   },
   "file_extension": ".py",
   "mimetype": "text/x-python",
   "name": "python",
   "nbconvert_exporter": "python",
   "pygments_lexer": "ipython3",
   "version": "3.10.17"
  },
  "widgets": {
   "application/vnd.jupyter.widget-state+json": {
    "05e2c19bd65045c4813877c334206cd1": {
     "model_module": "@jupyter-widgets/base",
     "model_module_version": "1.2.0",
     "model_name": "LayoutModel",
     "state": {
      "_model_module": "@jupyter-widgets/base",
      "_model_module_version": "1.2.0",
      "_model_name": "LayoutModel",
      "_view_count": null,
      "_view_module": "@jupyter-widgets/base",
      "_view_module_version": "1.2.0",
      "_view_name": "LayoutView",
      "align_content": null,
      "align_items": null,
      "align_self": null,
      "border": null,
      "bottom": null,
      "display": null,
      "flex": null,
      "flex_flow": null,
      "grid_area": null,
      "grid_auto_columns": null,
      "grid_auto_flow": null,
      "grid_auto_rows": null,
      "grid_column": null,
      "grid_gap": null,
      "grid_row": null,
      "grid_template_areas": null,
      "grid_template_columns": null,
      "grid_template_rows": null,
      "height": null,
      "justify_content": null,
      "justify_items": null,
      "left": null,
      "margin": null,
      "max_height": null,
      "max_width": null,
      "min_height": null,
      "min_width": null,
      "object_fit": null,
      "object_position": null,
      "order": null,
      "overflow": null,
      "overflow_x": null,
      "overflow_y": null,
      "padding": null,
      "right": null,
      "top": null,
      "visibility": null,
      "width": null
     }
    },
    "0ab342024ab14b208768691d20e21ce0": {
     "model_module": "jupyter-matplotlib",
     "model_module_version": "^0.11",
     "model_name": "ToolbarModel",
     "state": {
      "_current_action": "",
      "_dom_classes": [],
      "_model_module": "jupyter-matplotlib",
      "_model_module_version": "^0.11",
      "_model_name": "ToolbarModel",
      "_view_count": null,
      "_view_module": "jupyter-matplotlib",
      "_view_module_version": "^0.11",
      "_view_name": "ToolbarView",
      "button_style": "",
      "collapsed": true,
      "layout": "IPY_MODEL_3576ef6e6c2244a8b6fe56e8e883864d",
      "orientation": "vertical",
      "toolitems": [
       [
        "Home",
        "Reset original view",
        "home",
        "home"
       ],
       [
        "Back",
        "Back to previous view",
        "arrow-left",
        "back"
       ],
       [
        "Forward",
        "Forward to next view",
        "arrow-right",
        "forward"
       ],
       [
        "Pan",
        "Left button pans, Right button zooms\nx/y fixes axis, CTRL fixes aspect",
        "arrows",
        "pan"
       ],
       [
        "Zoom",
        "Zoom to rectangle\nx/y fixes axis",
        "square-o",
        "zoom"
       ],
       [
        "Download",
        "Download plot",
        "floppy-o",
        "save_figure"
       ]
      ]
     }
    },
    "0bdc5db4cb244c0b8e4eda5d351d0b65": {
     "model_module": "@jupyter-widgets/base",
     "model_module_version": "1.2.0",
     "model_name": "LayoutModel",
     "state": {
      "_model_module": "@jupyter-widgets/base",
      "_model_module_version": "1.2.0",
      "_model_name": "LayoutModel",
      "_view_count": null,
      "_view_module": "@jupyter-widgets/base",
      "_view_module_version": "1.2.0",
      "_view_name": "LayoutView",
      "align_content": null,
      "align_items": null,
      "align_self": null,
      "border": null,
      "bottom": null,
      "display": null,
      "flex": null,
      "flex_flow": null,
      "grid_area": null,
      "grid_auto_columns": null,
      "grid_auto_flow": null,
      "grid_auto_rows": null,
      "grid_column": null,
      "grid_gap": null,
      "grid_row": null,
      "grid_template_areas": null,
      "grid_template_columns": null,
      "grid_template_rows": null,
      "height": null,
      "justify_content": null,
      "justify_items": null,
      "left": null,
      "margin": null,
      "max_height": null,
      "max_width": null,
      "min_height": null,
      "min_width": null,
      "object_fit": null,
      "object_position": null,
      "order": null,
      "overflow": null,
      "overflow_x": null,
      "overflow_y": null,
      "padding": null,
      "right": null,
      "top": null,
      "visibility": null,
      "width": null
     }
    },
    "11074db654194108a0ac7f4e9b3d7bf3": {
     "model_module": "jupyter-matplotlib",
     "model_module_version": "^0.11",
     "model_name": "MPLCanvasModel",
     "state": {
      "_cursor": "default",
      "_data_url": "data:image/png;base64,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",
      "_dom_classes": [],
      "_figure_label": "Figure 26",
      "_image_mode": "full",
      "_message": "",
      "_model_module": "jupyter-matplotlib",
      "_model_module_version": "^0.11",
      "_model_name": "MPLCanvasModel",
      "_rubberband_height": 0,
      "_rubberband_width": 0,
      "_rubberband_x": 0,
      "_rubberband_y": 0,
      "_size": [
       640,
       480
      ],
      "_view_count": null,
      "_view_module": "jupyter-matplotlib",
      "_view_module_version": "^0.11",
      "_view_name": "MPLCanvasView",
      "capture_scroll": false,
      "footer_visible": true,
      "header_visible": true,
      "layout": "IPY_MODEL_36d980e7c2e34a709f01081630f42b10",
      "pan_zoom_throttle": 33,
      "resizable": true,
      "toolbar": "IPY_MODEL_959ec40c6819426bb94f6dc26427da4f",
      "toolbar_position": "left",
      "toolbar_visible": "fade-in-fade-out"
     }
    },
    "168d8ebe52bd423f97ba31721aba376c": {
     "model_module": "@jupyter-widgets/base",
     "model_module_version": "1.2.0",
     "model_name": "LayoutModel",
     "state": {
      "_model_module": "@jupyter-widgets/base",
      "_model_module_version": "1.2.0",
      "_model_name": "LayoutModel",
      "_view_count": null,
      "_view_module": "@jupyter-widgets/base",
      "_view_module_version": "1.2.0",
      "_view_name": "LayoutView",
      "align_content": null,
      "align_items": null,
      "align_self": null,
      "border": null,
      "bottom": null,
      "display": null,
      "flex": null,
      "flex_flow": null,
      "grid_area": null,
      "grid_auto_columns": null,
      "grid_auto_flow": null,
      "grid_auto_rows": null,
      "grid_column": null,
      "grid_gap": null,
      "grid_row": null,
      "grid_template_areas": null,
      "grid_template_columns": null,
      "grid_template_rows": null,
      "height": null,
      "justify_content": null,
      "justify_items": null,
      "left": null,
      "margin": null,
      "max_height": null,
      "max_width": null,
      "min_height": null,
      "min_width": null,
      "object_fit": null,
      "object_position": null,
      "order": null,
      "overflow": null,
      "overflow_x": null,
      "overflow_y": null,
      "padding": null,
      "right": null,
      "top": null,
      "visibility": null,
      "width": null
     }
    },
    "22ff4b331328428bba42693a568f9c27": {
     "model_module": "@jupyter-widgets/base",
     "model_module_version": "1.2.0",
     "model_name": "LayoutModel",
     "state": {
      "_model_module": "@jupyter-widgets/base",
      "_model_module_version": "1.2.0",
      "_model_name": "LayoutModel",
      "_view_count": null,
      "_view_module": "@jupyter-widgets/base",
      "_view_module_version": "1.2.0",
      "_view_name": "LayoutView",
      "align_content": null,
      "align_items": null,
      "align_self": null,
      "border": null,
      "bottom": null,
      "display": null,
      "flex": null,
      "flex_flow": null,
      "grid_area": null,
      "grid_auto_columns": null,
      "grid_auto_flow": null,
      "grid_auto_rows": null,
      "grid_column": null,
      "grid_gap": null,
      "grid_row": null,
      "grid_template_areas": null,
      "grid_template_columns": null,
      "grid_template_rows": null,
      "height": null,
      "justify_content": null,
      "justify_items": null,
      "left": null,
      "margin": null,
      "max_height": null,
      "max_width": null,
      "min_height": null,
      "min_width": null,
      "object_fit": null,
      "object_position": null,
      "order": null,
      "overflow": null,
      "overflow_x": null,
      "overflow_y": null,
      "padding": null,
      "right": null,
      "top": null,
      "visibility": null,
      "width": null
     }
    },
    "3576ef6e6c2244a8b6fe56e8e883864d": {
     "model_module": "@jupyter-widgets/base",
     "model_module_version": "1.2.0",
     "model_name": "LayoutModel",
     "state": {
      "_model_module": "@jupyter-widgets/base",
      "_model_module_version": "1.2.0",
      "_model_name": "LayoutModel",
      "_view_count": null,
      "_view_module": "@jupyter-widgets/base",
      "_view_module_version": "1.2.0",
      "_view_name": "LayoutView",
      "align_content": null,
      "align_items": null,
      "align_self": null,
      "border": null,
      "bottom": null,
      "display": null,
      "flex": null,
      "flex_flow": null,
      "grid_area": null,
      "grid_auto_columns": null,
      "grid_auto_flow": null,
      "grid_auto_rows": null,
      "grid_column": null,
      "grid_gap": null,
      "grid_row": null,
      "grid_template_areas": null,
      "grid_template_columns": null,
      "grid_template_rows": null,
      "height": null,
      "justify_content": null,
      "justify_items": null,
      "left": null,
      "margin": null,
      "max_height": null,
      "max_width": null,
      "min_height": null,
      "min_width": null,
      "object_fit": null,
      "object_position": null,
      "order": null,
      "overflow": null,
      "overflow_x": null,
      "overflow_y": null,
      "padding": null,
      "right": null,
      "top": null,
      "visibility": null,
      "width": null
     }
    },
    "36d980e7c2e34a709f01081630f42b10": {
     "model_module": "@jupyter-widgets/base",
     "model_module_version": "1.2.0",
     "model_name": "LayoutModel",
     "state": {
      "_model_module": "@jupyter-widgets/base",
      "_model_module_version": "1.2.0",
      "_model_name": "LayoutModel",
      "_view_count": null,
      "_view_module": "@jupyter-widgets/base",
      "_view_module_version": "1.2.0",
      "_view_name": "LayoutView",
      "align_content": null,
      "align_items": null,
      "align_self": null,
      "border": null,
      "bottom": null,
      "display": null,
      "flex": null,
      "flex_flow": null,
      "grid_area": null,
      "grid_auto_columns": null,
      "grid_auto_flow": null,
      "grid_auto_rows": null,
      "grid_column": null,
      "grid_gap": null,
      "grid_row": null,
      "grid_template_areas": null,
      "grid_template_columns": null,
      "grid_template_rows": null,
      "height": null,
      "justify_content": null,
      "justify_items": null,
      "left": null,
      "margin": null,
      "max_height": null,
      "max_width": null,
      "min_height": null,
      "min_width": null,
      "object_fit": null,
      "object_position": null,
      "order": null,
      "overflow": null,
      "overflow_x": null,
      "overflow_y": null,
      "padding": null,
      "right": null,
      "top": null,
      "visibility": null,
      "width": null
     }
    },
    "48341f83275b43b3a5650da078674dc3": {
     "model_module": "jupyter-matplotlib",
     "model_module_version": "^0.11",
     "model_name": "ToolbarModel",
     "state": {
      "_current_action": "",
      "_dom_classes": [],
      "_model_module": "jupyter-matplotlib",
      "_model_module_version": "^0.11",
      "_model_name": "ToolbarModel",
      "_view_count": null,
      "_view_module": "jupyter-matplotlib",
      "_view_module_version": "^0.11",
      "_view_name": "ToolbarView",
      "button_style": "",
      "collapsed": true,
      "layout": "IPY_MODEL_db742d370cf3494ea53ec24a02c3c975",
      "orientation": "vertical",
      "toolitems": [
       [
        "Home",
        "Reset original view",
        "home",
        "home"
       ],
       [
        "Back",
        "Back to previous view",
        "arrow-left",
        "back"
       ],
       [
        "Forward",
        "Forward to next view",
        "arrow-right",
        "forward"
       ],
       [
        "Pan",
        "Left button pans, Right button zooms\nx/y fixes axis, CTRL fixes aspect",
        "arrows",
        "pan"
       ],
       [
        "Zoom",
        "Zoom to rectangle\nx/y fixes axis",
        "square-o",
        "zoom"
       ],
       [
        "Download",
        "Download plot",
        "floppy-o",
        "save_figure"
       ]
      ]
     }
    },
    "505e1011d9314314a1fcd6a31b3f56c0": {
     "model_module": "@jupyter-widgets/base",
     "model_module_version": "1.2.0",
     "model_name": "LayoutModel",
     "state": {
      "_model_module": "@jupyter-widgets/base",
      "_model_module_version": "1.2.0",
      "_model_name": "LayoutModel",
      "_view_count": null,
      "_view_module": "@jupyter-widgets/base",
      "_view_module_version": "1.2.0",
      "_view_name": "LayoutView",
      "align_content": null,
      "align_items": null,
      "align_self": null,
      "border": null,
      "bottom": null,
      "display": null,
      "flex": null,
      "flex_flow": null,
      "grid_area": null,
      "grid_auto_columns": null,
      "grid_auto_flow": null,
      "grid_auto_rows": null,
      "grid_column": null,
      "grid_gap": null,
      "grid_row": null,
      "grid_template_areas": null,
      "grid_template_columns": null,
      "grid_template_rows": null,
      "height": null,
      "justify_content": null,
      "justify_items": null,
      "left": null,
      "margin": null,
      "max_height": null,
      "max_width": null,
      "min_height": null,
      "min_width": null,
      "object_fit": null,
      "object_position": null,
      "order": null,
      "overflow": null,
      "overflow_x": null,
      "overflow_y": null,
      "padding": null,
      "right": null,
      "top": null,
      "visibility": null,
      "width": null
     }
    },
    "59972c7bc32940e7a483a5ead0d29bf7": {
     "model_module": "jupyter-matplotlib",
     "model_module_version": "^0.11",
     "model_name": "MPLCanvasModel",
     "state": {
      "_cursor": "default",
      "_data_url": "data:image/png;base64,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",
      "_dom_classes": [],
      "_figure_label": "Figure 27",
      "_image_mode": "full",
      "_message": "",
      "_model_module": "jupyter-matplotlib",
      "_model_module_version": "^0.11",
      "_model_name": "MPLCanvasModel",
      "_rubberband_height": 0,
      "_rubberband_width": 0,
      "_rubberband_x": 0,
      "_rubberband_y": 0,
      "_size": [
       640,
       480
      ],
      "_view_count": null,
      "_view_module": "jupyter-matplotlib",
      "_view_module_version": "^0.11",
      "_view_name": "MPLCanvasView",
      "capture_scroll": false,
      "footer_visible": true,
      "header_visible": true,
      "layout": "IPY_MODEL_75c18f7cb2c549fab5626800346f6c39",
      "pan_zoom_throttle": 33,
      "resizable": true,
      "toolbar": "IPY_MODEL_c8848c890dcb43fd8b64096632cfe9cf",
      "toolbar_position": "left",
      "toolbar_visible": "fade-in-fade-out"
     }
    },
    "5fa164457feb477eaecd67e9b3b1bcae": {
     "model_module": "@jupyter-widgets/base",
     "model_module_version": "1.2.0",
     "model_name": "LayoutModel",
     "state": {
      "_model_module": "@jupyter-widgets/base",
      "_model_module_version": "1.2.0",
      "_model_name": "LayoutModel",
      "_view_count": null,
      "_view_module": "@jupyter-widgets/base",
      "_view_module_version": "1.2.0",
      "_view_name": "LayoutView",
      "align_content": null,
      "align_items": null,
      "align_self": null,
      "border": null,
      "bottom": null,
      "display": null,
      "flex": null,
      "flex_flow": null,
      "grid_area": null,
      "grid_auto_columns": null,
      "grid_auto_flow": null,
      "grid_auto_rows": null,
      "grid_column": null,
      "grid_gap": null,
      "grid_row": null,
      "grid_template_areas": null,
      "grid_template_columns": null,
      "grid_template_rows": null,
      "height": null,
      "justify_content": null,
      "justify_items": null,
      "left": null,
      "margin": null,
      "max_height": null,
      "max_width": null,
      "min_height": null,
      "min_width": null,
      "object_fit": null,
      "object_position": null,
      "order": null,
      "overflow": null,
      "overflow_x": null,
      "overflow_y": null,
      "padding": null,
      "right": null,
      "top": null,
      "visibility": null,
      "width": null
     }
    },
    "71d4f2f67b9a45e89a4c2789d97c3911": {
     "model_module": "jupyter-matplotlib",
     "model_module_version": "^0.11",
     "model_name": "MPLCanvasModel",
     "state": {
      "_cursor": "default",
      "_data_url": "data:image/png;base64,iVBORw0KGgoAAAANSUhEUgAAAoAAAAHgCAYAAAA10dzkAAAAOnRFWHRTb2Z0d2FyZQBNYXRwbG90bGliIHZlcnNpb24zLjEwLjAsIGh0dHBzOi8vbWF0cGxvdGxpYi5vcmcvlHJYcgAAAAlwSFlzAAAPYQAAD2EBqD+naQAAItBJREFUeJzt3X10lvV9+PFPQiCxapLxlNto8GFzBZXJCiXG03PcSn6NrfspKx5tjooyjkzr0wpzgFJYu+0wa50P9YHTnnmcUybDda61jh4HrrUlggRrQR6O26xPmCDSJIgSIrl+f/TH3aUGijbJnfh9vc65DifX/b1yf7/Xidxvr9zXTVGWZVkAAJCM4kJPAACAgSUAAQASIwABABIjAAEAEiMAAQASIwABABIjAAEAEiMAAQASIwABABIjAAEAEiMAAQASIwABABIjAAEAEiMAAQASIwABABIjAAEAEiMAAQASIwABABIjAAEAEiMAAQASIwABABIjAAEAEiMAAQASIwABABIjAAEAEiMAAQASIwABABIjAAEAEiMAAQASIwABABIjAAEAEiMAAQASIwABABIjAAEAEiMAAQASIwABABIjAAEAEiMAAQASIwABABIjAAEAEiMAAQASIwABABIjAAEAEiMAAQASIwABABIjAAEAEiMAAQASIwABABIjAAEAEiMAAQASIwABABIjAAEAEiMAAQASIwABABIjAAEAEiMAAQASU1LoCQxl3d3dsWPHjjj22GOjqKio0NMBAI5AlmWxZ8+eqK6ujuLiNK+FCcDfwI4dO6KmpqbQ0wAAPoRXX301TjjhhEJPoyAE4G/g2GOPjYhf/ACVl5cXeDYAwJHo6OiImpqa/Ot4igTgb+Dgr33Ly8sFIAAMMSm/fSvNX3wDACRMAAIAJEYAAgAkRgACACRGAAIAJEYAAgAkRgACACRGAAIAJEYAAgAkRgACACRGAAIAJEYAAgAkRgACACRGAAIAJEYAAgAkRgACACRGAAIAJEYAAgAkRgACACRGAAIAJEYAAgAkRgACACRGAAIAJEYAAgAkRgACACRGAAIAJEYAAgAkRgACACRGAAIAJEYAAgAkRgACACRGAAIAJEYAAgAkRgACACRGAAIAJEYAAgAkRgACACRGAAIAJEYAAgAkRgACACRGAAIAJEYAAgAkRgACACRmSAXgPffcEyeddFKUlZVFbW1trF+//rDjV65cGePHj4+ysrKYOHFiPPHEE4cce9VVV0VRUVHccccdfTxrAIDBZcgE4IoVK2Lu3LmxZMmS2LhxY5x55pnR0NAQO3fu7HX82rVro7GxMWbPnh3PPfdcTJ8+PaZPnx6bN29+39h//dd/jWeeeSaqq6v7exkAAAU3ZALw7/7u7+LKK6+MWbNmxWmnnRbLli2Lj33sY3H//ff3Ov7OO++Mc889N2688caYMGFC/NVf/VV84hOfiLvvvrvHuNdffz2uu+66ePjhh2P48OEDsRQAgIIaEgG4f//+aG5ujvr6+vy+4uLiqK+vj6ampl6PaWpq6jE+IqKhoaHH+O7u7rjsssvixhtvjNNPP/3XzqOzszM6Ojp6bAAAQ82QCMBdu3bFgQMHoqqqqsf+qqqqaGlp6fWYlpaWXzv+lltuiZKSkrj++uuPaB5Lly6NioqK/FZTU/MBVwIAUHhDIgD7Q3Nzc9x5553xwAMPRFFR0REds3Dhwmhvb89vr776aj/PEgCg7w2JABw9enQMGzYsWltbe+xvbW2NXC7X6zG5XO6w459++unYuXNnjBs3LkpKSqKkpCRefvnlmDdvXpx00km9fs/S0tIoLy/vsQEADDVDIgBHjBgRkydPjtWrV+f3dXd3x+rVq6Ourq7XY+rq6nqMj4h48skn8+Mvu+yy+OlPfxo/+clP8lt1dXXceOON8f3vf7//FgMAUGAlhZ7AkZo7d25cfvnlMWXKlJg6dWrccccdsXfv3pg1a1ZERMycOTOOP/74WLp0aURE3HDDDXHOOefEbbfdFuedd1488sgjsWHDhvjmN78ZERGjRo2KUaNG9XiO4cOHRy6Xi49//OMDuzgAgAE0ZALw4osvjjfffDMWL14cLS0tMWnSpFi1alX+Ro9XXnkliot/eUHz7LPPjuXLl8eiRYvipptuilNPPTUee+yxOOOMMwq1BACAQaEoy7Ks0JMYqjo6OqKioiLa29u9HxAAhgiv30PkPYAAAPQdAQgAkBgBCACQGAEIAJAYAQgAkBgBCACQGAEIAJAYAQgAkBgBCACQGAEIAJAYAQgAkBgBCACQGAEIAJAYAQgAkBgBCACQGAEIAJAYAQgAkBgBCACQGAEIAJAYAQgAkBgBCACQGAEIAJAYAQgAkBgBCACQGAEIAJAYAQgAkBgBCACQGAEIAJAYAQgAkBgBCACQGAEIAJAYAQgAkBgBCACQGAEIAJAYAQgAkBgBCACQGAEIAJAYAQgAkBgBCACQGAEIAJAYAQgAkBgBCACQGAEIAJAYAQgAkBgBCACQGAEIAJAYAQgAkBgBCACQGAEIAJAYAQgAkBgBCACQGAEIAJAYAQgAkBgBCACQGAEIAJAYAQgAkJghFYD33HNPnHTSSVFWVha1tbWxfv36w45fuXJljB8/PsrKymLixInxxBNP5B/r6uqK+fPnx8SJE+Poo4+O6urqmDlzZuzYsaO/lwEAUFBDJgBXrFgRc+fOjSVLlsTGjRvjzDPPjIaGhti5c2ev49euXRuNjY0xe/bseO6552L69Okxffr02Lx5c0REvPPOO7Fx48b48pe/HBs3boxvf/vbsX379jj//PMHclkAAAOuKMuyrNCTOBK1tbXxyU9+Mu6+++6IiOju7o6ampq47rrrYsGCBe8bf/HFF8fevXvj8ccfz+8766yzYtKkSbFs2bJen+PZZ5+NqVOnxssvvxzjxo37tXPq6OiIioqKaG9vj/Ly8g+5MgBgIHn9HiJXAPfv3x/Nzc1RX1+f31dcXBz19fXR1NTU6zFNTU09xkdENDQ0HHJ8RER7e3sUFRVFZWVlr493dnZGR0dHjw0AYKgZEgG4a9euOHDgQFRVVfXYX1VVFS0tLb0e09LS8oHG79u3L+bPnx+NjY2H/L+BpUuXRkVFRX6rqan5EKsBACisIRGA/a2rqysuuuiiyLIs7rvvvkOOW7hwYbS3t+e3V199dQBnCQDQN0oKPYEjMXr06Bg2bFi0trb22N/a2hq5XK7XY3K53BGNPxh/L7/8cqxZs+aw7wUoLS2N0tLSD7kKAIDBYUhcARwxYkRMnjw5Vq9end/X3d0dq1evjrq6ul6Pqaur6zE+IuLJJ5/sMf5g/L344ovxH//xHzFq1Kj+WQAAwCAyJK4ARkTMnTs3Lr/88pgyZUpMnTo17rjjjti7d2/MmjUrIiJmzpwZxx9/fCxdujQiIm644YY455xz4rbbbovzzjsvHnnkkdiwYUN885vfjIhfxN+FF14YGzdujMcffzwOHDiQf3/gyJEjY8SIEYVZKABAPxsyAXjxxRfHm2++GYsXL46WlpaYNGlSrFq1Kn+jxyuvvBLFxb+8oHn22WfH8uXLY9GiRXHTTTfFqaeeGo899licccYZERHx+uuvx3e+852IiJg0aVKP53rqqafiD/7gDwZkXQAAA23IfA7gYORzhABg6PH6PUTeAwgAQN8RgAAAiRGAAACJEYAAAIkRgAAAiRGAAACJEYAAAIkRgAAAiRGAAACJEYAAAIkRgAAAiRGAAACJEYAAAIkRgAAAiRGAAACJEYAAAIkRgAAAiRGAAACJEYAAAIkRgAAAiRGAAACJEYAAAIkRgAAAiRGAAACJEYAAAIkRgAAAiRGAAACJEYAAAIkRgAAAiRGAAACJEYAAAIkRgAAAiRGAAACJEYAAAIkRgAAAiRGAAACJEYAAAIkRgAAAiRGAAACJEYAAAIkRgAAAiRGAAACJEYAAAIkRgAAAiRGAAACJEYAAAIkRgAAAiRGAAACJEYAAAIkRgAAAiRGAAACJEYAAAIkRgAAAiRGAAACJEYAAAIkpKfQEAAabA91ZrH9pd+zcsy/GHlsWU08eGcOKiwo9LYA+M6SuAN5zzz1x0kknRVlZWdTW1sb69esPO37lypUxfvz4KCsri4kTJ8YTTzzR4/Esy2Lx4sVx3HHHxVFHHRX19fXx4osv9ucSgEFu1eY34lO3rInGbz0TNzzyk2j81jPxqVvWxKrNbxR6agB9ZsgE4IoVK2Lu3LmxZMmS2LhxY5x55pnR0NAQO3fu7HX82rVro7GxMWbPnh3PPfdcTJ8+PaZPnx6bN2/Oj/na174Wd911VyxbtizWrVsXRx99dDQ0NMS+ffsGalnAILJq8xtx9UMb4432nn8HtLTvi6sf2igCgY+MoizLskJP4kjU1tbGJz/5ybj77rsjIqK7uztqamriuuuuiwULFrxv/MUXXxx79+6Nxx9/PL/vrLPOikmTJsWyZcsiy7Korq6OefPmxZ//+Z9HRER7e3tUVVXFAw88EF/4whd+7Zw6OjqioqIi2tvbo7y8vI9WChTCge4sPnXLmvfF30FFEZGrKIsfzf+0XwfDEOf1e4hcAdy/f380NzdHfX19fl9xcXHU19dHU1NTr8c0NTX1GB8R0dDQkB//0ksvRUtLS48xFRUVUVtbe8jv2dnZGR0dHT024KNh/Uu7Dxl/ERFZRLzRvi/Wv7R74CYF0E+GRADu2rUrDhw4EFVVVT32V1VVRUtLS6/HtLS0HHb8wT8/yPdcunRpVFRU5LeampoPtR5g8Nm558je+nGk4wAGsyERgIPFwoULo729Pb+9+uqrhZ4S0EfGHlvWp+MABrMhEYCjR4+OYcOGRWtra4/9ra2tkcvlej0ml8sddvzBPz/I9ywtLY3y8vIeG/DRMPXkkXFcRVkc6t19RRFxXMUvPhIGYKgbEgE4YsSImDx5cqxevTq/r7u7O1avXh11dXW9HlNXV9djfETEk08+mR9/8sknRy6X6zGmo6Mj1q1bd8jvCXx0DSsuiiX/97SIiPdF4MGvl/zf09wAAnwkDIkAjIiYO3dufOtb34p/+Id/iK1bt8bVV18de/fujVmzZkVExMyZM2PhwoX58TfccEOsWrUqbrvttti2bVv85V/+ZWzYsCGuvfbaiIgoKiqKP/uzP4u//uu/ju985zuxadOmmDlzZlRXV8f06dMLsUSgwM4947i479JPRK6i5695cxVlcd+ln4hzzziuQDMD6FtD5l8Cufjii+PNN9+MxYsXR0tLS0yaNClWrVqVv4njlVdeieLiX/bs2WefHcuXL49FixbFTTfdFKeeemo89thjccYZZ+TH/MVf/EXs3bs35syZE21tbfGpT30qVq1aFWVl3uMDqTr3jOPi/5yW8y+BAB9pQ+ZzAAcjnyMEAEOP1+8h9CtgAAD6hgAEAEiMAAQASIwABABIjAAEAEiMAAQASIwABABIjAAEAEiMAAQASIwABABIjAAEAEiMAAQASIwABABIjAAEAEiMAAQASIwABABIjAAEAEiMAAQASIwABABIjAAEAEiMAAQASIwABABIjAAEAEiMAAQASIwABABIjAAEAEiMAAQASIwABABIjAAEAEiMAAQASIwABABIjAAEAEiMAAQASIwABABIjAAEAEiMAAQASIwABABIjAAEAEiMAAQASIwABABIjAAEAEiMAAQASIwABABIjAAEAEiMAAQASIwABABIjAAEAEiMAAQASIwABABIjAAEAEiMAAQASIwABABIjAAEAEiMAAQASIwABABIjAAEAEjMoA/A3bt3xyWXXBLl5eVRWVkZs2fPjrfffvuwx+zbty+uueaaGDVqVBxzzDExY8aMaG1tzT/+/PPPR2NjY9TU1MRRRx0VEyZMiDvvvLO/lwIAMCgM+gC85JJL4oUXXognn3wyHn/88fjhD38Yc+bMOewxX/rSl+K73/1urFy5Mn7wgx/Ejh074vOf/3z+8ebm5hg7dmw89NBD8cILL8TNN98cCxcujLvvvru/lwMAUHBFWZZlhZ7EoWzdujVOO+20ePbZZ2PKlCkREbFq1ar43Oc+F6+99lpUV1e/75j29vYYM2ZMLF++PC688MKIiNi2bVtMmDAhmpqa4qyzzur1ua655prYunVrrFmz5ojn19HRERUVFdHe3h7l5eUfYoUAwEDz+j3IrwA2NTVFZWVlPv4iIurr66O4uDjWrVvX6zHNzc3R1dUV9fX1+X3jx4+PcePGRVNT0yGfq729PUaOHNl3kwcAGKRKCj2Bw2lpaYmxY8f22FdSUhIjR46MlpaWQx4zYsSIqKys7LG/qqrqkMesXbs2VqxYEd/73vcOO5/Ozs7o7OzMf93R0XEEqwAAGFwKcgVwwYIFUVRUdNht27ZtAzKXzZs3xwUXXBBLliyJz3zmM4cdu3Tp0qioqMhvNTU1AzJHAIC+VJArgPPmzYsrrrjisGNOOeWUyOVysXPnzh7733vvvdi9e3fkcrlej8vlcrF///5oa2vrcRWwtbX1fcds2bIlpk2bFnPmzIlFixb92nkvXLgw5s6dm/+6o6NDBAIAQ05BAnDMmDExZsyYXzuurq4u2traorm5OSZPnhwREWvWrInu7u6ora3t9ZjJkyfH8OHDY/Xq1TFjxoyIiNi+fXu88sorUVdXlx/3wgsvxKc//em4/PLL42/+5m+OaN6lpaVRWlp6RGMBAAarQX0XcETEZz/72WhtbY1ly5ZFV1dXzJo1K6ZMmRLLly+PiIjXX389pk2bFg8++GBMnTo1IiKuvvrqeOKJJ+KBBx6I8vLyuO666yLiF+/1i/jFr30//elPR0NDQ9x666355xo2bNgRhelB7iICgKHH6/cgvwkkIuLhhx+Oa6+9NqZNmxbFxcUxY8aMuOuuu/KPd3V1xfbt2+Odd97J77v99tvzYzs7O6OhoSHuvffe/OOPPvpovPnmm/HQQw/FQw89lN9/4oknxs9+9rMBWRcAQKEM+iuAg5n/gwCAocfr9yD/HEAAAPqeAAQASIwABABIjAAEAEiMAAQASIwABABIjAAEAEiMAAQASIwABABIjAAEAEiMAAQASIwABABIjAAEAEiMAAQASIwABABIjAAEAEiMAAQASIwABABIjAAEAEiMAAQASIwABABIjAAEAEiMAAQASIwABABIjAAEAEiMAAQASIwABABIjAAEAEiMAAQASIwABABIjAAEAEiMAAQASIwABABIjAAEAEiMAAQASIwABABIjAAEAEiMAAQASIwABABIjAAEAEiMAAQASIwABABIjAAEAEiMAAQASIwABABIjAAEAEiMAAQASIwABABIjAAEAEiMAAQASIwABABIjAAEAEiMAAQASIwABABIjAAEAEiMAAQASMygD8Ddu3fHJZdcEuXl5VFZWRmzZ8+Ot99++7DH7Nu3L6655poYNWpUHHPMMTFjxoxobW3tdexbb70VJ5xwQhQVFUVbW1s/rAAAYHAZ9AF4ySWXxAsvvBBPPvlkPP744/HDH/4w5syZc9hjvvSlL8V3v/vdWLlyZfzgBz+IHTt2xOc///lex86ePTt+7/d+rz+mDgAwKBVlWZYVehKHsnXr1jjttNPi2WefjSlTpkRExKpVq+Jzn/tcvPbaa1FdXf2+Y9rb22PMmDGxfPnyuPDCCyMiYtu2bTFhwoRoamqKs846Kz/2vvvuixUrVsTixYtj2rRp8fOf/zwqKyuPeH4dHR1RUVER7e3tUV5e/pstFgAYEF6/B/kVwKampqisrMzHX0REfX19FBcXx7p163o9prm5Obq6uqK+vj6/b/z48TFu3LhoamrK79uyZUt89atfjQcffDCKiwf1aQAA6FMlhZ7A4bS0tMTYsWN77CspKYmRI0dGS0vLIY8ZMWLE+67kVVVV5Y/p7OyMxsbGuPXWW2PcuHHxP//zP0c0n87Ozujs7Mx/3dHR8QFWAwAwOBTk0teCBQuiqKjosNu2bdv67fkXLlwYEyZMiEsvvfQDHbd06dKoqKjIbzU1Nf00QwCA/lOQK4Dz5s2LK6644rBjTjnllMjlcrFz584e+997773YvXt35HK5Xo/L5XKxf//+aGtr63EVsLW1NX/MmjVrYtOmTfHoo49GRMTBt0GOHj06br755vjKV77S6/deuHBhzJ07N/91R0eHCAQAhpyCBOCYMWNizJgxv3ZcXV1dtLW1RXNzc0yePDkifhFv3d3dUVtb2+sxkydPjuHDh8fq1atjxowZERGxffv2eOWVV6Kuri4iIv7lX/4l3n333fwxzz77bPzJn/xJPP300/Hbv/3bh5xPaWlplJaWHvE6AQAGo0H9HsAJEybEueeeG1deeWUsW7Ysurq64tprr40vfOEL+TuAX3/99Zg2bVo8+OCDMXXq1KioqIjZs2fH3LlzY+TIkVFeXh7XXXdd1NXV5e8A/tXI27VrV/75PshdwAAAQ9GgDsCIiIcffjiuvfbamDZtWhQXF8eMGTPirrvuyj/e1dUV27dvj3feeSe/7/bbb8+P7ezsjIaGhrj33nsLMX0AgEFnUH8O4GDnc4QAYOjx+j3IPwcQAIC+JwABABIjAAEAEiMAAQASIwABABIjAAEAEiMAAQASIwABABIjAAEAEiMAAQASIwABABIjAAEAEiMAAQASIwABABIjAAEAEiMAAQASIwABABIjAAEAEiMAAQASIwABABIjAAEAEiMAAQASIwABABIjAAEAEiMAAQASIwABABIjAAEAEiMAAQASIwABABIjAAEAEiMAAQASIwABABIjAAEAEiMAAQASIwABABIjAAEAEiMAAQASIwABABIjAAEAEiMAAQASIwABABIjAAEAEiMAAQASU1LoCQxlWZZFRERHR0eBZwIAHKmDr9sHX8dTJAB/A3v27ImIiJqamgLPBAD4oPbs2RMVFRWFnkZBFGUp5+9vqLu7O3bs2BHHHntsFBUVFXo6BdfR0RE1NTXx6quvRnl5eaGn85HlPA8M53lgOM8Dw3nuKcuy2LNnT1RXV0dxcZrvhnMF8DdQXFwcJ5xwQqGnMeiUl5f7C2YAOM8Dw3keGM7zwHCefynVK38HpZm9AAAJE4AAAIkRgPSZ0tLSWLJkSZSWlhZ6Kh9pzvPAcJ4HhvM8MJxnfpWbQAAAEuMKIABAYgQgAEBiBCAAQGIEIABAYgQgR2z37t1xySWXRHl5eVRWVsbs2bPj7bffPuwx+/bti2uuuSZGjRoVxxxzTMyYMSNaW1t7HfvWW2/FCSecEEVFRdHW1tYPKxga+uM8P//889HY2Bg1NTVx1FFHxYQJE+LOO+/s76UMOvfcc0+cdNJJUVZWFrW1tbF+/frDjl+5cmWMHz8+ysrKYuLEifHEE0/0eDzLsli8eHEcd9xxcdRRR0V9fX28+OKL/bmEIaEvz3NXV1fMnz8/Jk6cGEcffXRUV1fHzJkzY8eOHf29jEGvr3+e/7errroqioqK4o477ujjWTNoZHCEzj333OzMM8/Mnnnmmezpp5/Ofud3fidrbGw87DFXXXVVVlNTk61evTrbsGFDdtZZZ2Vnn312r2MvuOCC7LOf/WwWEdnPf/7zfljB0NAf5/nv//7vs+uvvz77z//8z+y///u/s3/8x3/MjjrqqOwb3/hGfy9n0HjkkUeyESNGZPfff3/2wgsvZFdeeWVWWVmZtba29jr+xz/+cTZs2LDsa1/7WrZly5Zs0aJF2fDhw7NNmzblx/zt3/5tVlFRkT322GPZ888/n51//vnZySefnL377rsDtaxBp6/Pc1tbW1ZfX5+tWLEi27ZtW9bU1JRNnTo1mzx58kAua9Dpj5/ng7797W9nZ555ZlZdXZ3dfvvt/bwSCkUAckS2bNmSRUT27LPP5vf9+7//e1ZUVJS9/vrrvR7T1taWDR8+PFu5cmV+39atW7OIyJqamnqMvffee7NzzjknW716ddIB2N/n+X/74he/mP3hH/5h301+kJs6dWp2zTXX5L8+cOBAVl1dnS1durTX8RdddFF23nnn9dhXW1ub/emf/mmWZVnW3d2d5XK57NZbb80/3tbWlpWWlmb/9E//1A8rGBr6+jz3Zv369VlEZC+//HLfTHoI6q/z/Nprr2XHH398tnnz5uzEE08UgB9hfgXMEWlqaorKysqYMmVKfl99fX0UFxfHunXrej2mubk5urq6or6+Pr9v/PjxMW7cuGhqasrv27JlS3z1q1+NBx98MNl/lPug/jzPv6q9vT1GjhzZd5MfxPbv3x/Nzc09zlFxcXHU19cf8hw1NTX1GB8R0dDQkB//0ksvRUtLS48xFRUVUVtbe9jz/lHWH+e5N+3t7VFUVBSVlZV9Mu+hpr/Oc3d3d1x22WVx4403xumnn94/k2fQSPvVliPW0tISY8eO7bGvpKQkRo4cGS0tLYc8ZsSIEe/7S7qqqip/TGdnZzQ2Nsatt94a48aN65e5DyX9dZ5/1dq1a2PFihUxZ86cPpn3YLdr1644cOBAVFVV9dh/uHPU0tJy2PEH//wg3/Ojrj/O86/at29fzJ8/PxobG6O8vLxvJj7E9Nd5vuWWW6KkpCSuv/76vp80g44ATNyCBQuiqKjosNu2bdv67fkXLlwYEyZMiEsvvbTfnmMwKPR5/t82b94cF1xwQSxZsiQ+85nPDMhzQl/o6uqKiy66KLIsi/vuu6/Q0/lIaW5ujjvvvDMeeOCBKCoqKvR0GAAlhZ4AhTVv3ry44oorDjvmlFNOiVwuFzt37uyx/7333ovdu3dHLpfr9bhcLhf79++Ptra2HlenWltb88esWbMmNm3aFI8++mhE/OKuyoiI0aNHx8033xxf+cpXPuTKBpdCn+eDtmzZEtOmTYs5c+bEokWLPtRahqLRo0fHsGHD3ncHem/n6KBcLnfY8Qf/bG1tjeOOO67HmEmTJvXh7IeO/jjPBx2Mv5dffjnWrFmT7NW/iP45z08//XTs3Lmzx29iDhw4EPPmzYs77rgjfvazn/XtIii8Qr8JkaHh4M0JGzZsyO/7/ve/f0Q3Jzz66KP5fdu2betxc8J//dd/ZZs2bcpv999/fxYR2dq1aw95N9tHWX+d5yzLss2bN2djx47Nbrzxxv5bwCA2derU7Nprr81/feDAgez4448/7Jvm/+iP/qjHvrq6uvfdBPL1r389/3h7e7ubQPr4PGdZlu3fvz+bPn16dvrpp2c7d+7sn4kPMX19nnft2tXj7+JNmzZl1dXV2fz587Nt27b130IoGAHIETv33HOz3//938/WrVuX/ehHP8pOPfXUHh9P8tprr2Uf//jHs3Xr1uX3XXXVVdm4ceOyNWvWZBs2bMjq6uqyurq6Qz7HU089lfRdwFnWP+d506ZN2ZgxY7JLL700e+ONN/JbSi+mjzzySFZaWpo98MAD2ZYtW7I5c+ZklZWVWUtLS5ZlWXbZZZdlCxYsyI//8Y9/nJWUlGRf//rXs61bt2ZLlizp9WNgKisrs3/7t3/LfvrTn2YXXHCBj4Hp4/O8f//+7Pzzz89OOOGE7Cc/+UmPn9/Ozs6CrHEw6I+f51/lLuCPNgHIEXvrrbeyxsbG7JhjjsnKy8uzWbNmZXv27Mk//tJLL2URkT311FP5fe+++272xS9+Mfut3/qt7GMf+1j2x3/8x9kbb7xxyOcQgP1znpcsWZJFxPu2E088cQBXVnjf+MY3snHjxmUjRozIpk6dmj3zzDP5x84555zs8ssv7zH+n//5n7Pf/d3fzUaMGJGdfvrp2fe+970ej3d3d2df/vKXs6qqqqy0tDSbNm1atn379oFYyqDWl+f54M97b9v//m8gRX398/yrBOBHW1GW/f83XQEAkAR3AQMAJEYAAgAkRgACACRGAAIAJEYAAgAkRgACACRGAAIAJEYAAgAkRgACACRGAAIAJEYAAgAkRgACACRGAAIAJEYAAgAkRgACACRGAAIAJEYAAgAkRgACACRGAAIAJEYAAgAkRgACACRGAAIAJEYAAgAkRgACACRGAAIAJEYAAgAkRgACACRGAAIAJEYAAgAkRgACACRGAAIAJOb/AZYtXH17NHxsAAAAAElFTkSuQmCC",
      "_dom_classes": [],
      "_figure_label": "Figure 25",
      "_image_mode": "full",
      "_message": "",
      "_model_module": "jupyter-matplotlib",
      "_model_module_version": "^0.11",
      "_model_name": "MPLCanvasModel",
      "_rubberband_height": 0,
      "_rubberband_width": 0,
      "_rubberband_x": 0,
      "_rubberband_y": 0,
      "_size": [
       640,
       480
      ],
      "_view_count": null,
      "_view_module": "jupyter-matplotlib",
      "_view_module_version": "^0.11",
      "_view_name": "MPLCanvasView",
      "capture_scroll": false,
      "footer_visible": true,
      "header_visible": true,
      "layout": "IPY_MODEL_f5a6c6026bd941129d15ef79bd29bbff",
      "pan_zoom_throttle": 33,
      "resizable": true,
      "toolbar": "IPY_MODEL_adce0561317d4a6da285f58d71707e49",
      "toolbar_position": "left",
      "toolbar_visible": "fade-in-fade-out"
     }
    },
    "75c18f7cb2c549fab5626800346f6c39": {
     "model_module": "@jupyter-widgets/base",
     "model_module_version": "1.2.0",
     "model_name": "LayoutModel",
     "state": {
      "_model_module": "@jupyter-widgets/base",
      "_model_module_version": "1.2.0",
      "_model_name": "LayoutModel",
      "_view_count": null,
      "_view_module": "@jupyter-widgets/base",
      "_view_module_version": "1.2.0",
      "_view_name": "LayoutView",
      "align_content": null,
      "align_items": null,
      "align_self": null,
      "border": null,
      "bottom": null,
      "display": null,
      "flex": null,
      "flex_flow": null,
      "grid_area": null,
      "grid_auto_columns": null,
      "grid_auto_flow": null,
      "grid_auto_rows": null,
      "grid_column": null,
      "grid_gap": null,
      "grid_row": null,
      "grid_template_areas": null,
      "grid_template_columns": null,
      "grid_template_rows": null,
      "height": null,
      "justify_content": null,
      "justify_items": null,
      "left": null,
      "margin": null,
      "max_height": null,
      "max_width": null,
      "min_height": null,
      "min_width": null,
      "object_fit": null,
      "object_position": null,
      "order": null,
      "overflow": null,
      "overflow_x": null,
      "overflow_y": null,
      "padding": null,
      "right": null,
      "top": null,
      "visibility": null,
      "width": null
     }
    },
    "7e55167274524ac983e7c13b9e67c184": {
     "model_module": "jupyter-matplotlib",
     "model_module_version": "^0.11",
     "model_name": "MPLCanvasModel",
     "state": {
      "_cursor": "default",
      "_data_url": "data:image/png;base64,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",
      "_dom_classes": [],
      "_figure_label": "Figure 30",
      "_image_mode": "diff",
      "_message": "",
      "_model_module": "jupyter-matplotlib",
      "_model_module_version": "^0.11",
      "_model_name": "MPLCanvasModel",
      "_rubberband_height": 0,
      "_rubberband_width": 0,
      "_rubberband_x": 0,
      "_rubberband_y": 0,
      "_size": [
       640,
       480
      ],
      "_view_count": null,
      "_view_module": "jupyter-matplotlib",
      "_view_module_version": "^0.11",
      "_view_name": "MPLCanvasView",
      "capture_scroll": false,
      "footer_visible": true,
      "header_visible": true,
      "layout": "IPY_MODEL_505e1011d9314314a1fcd6a31b3f56c0",
      "pan_zoom_throttle": 33,
      "resizable": true,
      "toolbar": "IPY_MODEL_48341f83275b43b3a5650da078674dc3",
      "toolbar_position": "left",
      "toolbar_visible": "fade-in-fade-out"
     }
    },
    "8ca4bce6db2443be8d4490c56aa92bdb": {
     "model_module": "@jupyter-widgets/base",
     "model_module_version": "1.2.0",
     "model_name": "LayoutModel",
     "state": {
      "_model_module": "@jupyter-widgets/base",
      "_model_module_version": "1.2.0",
      "_model_name": "LayoutModel",
      "_view_count": null,
      "_view_module": "@jupyter-widgets/base",
      "_view_module_version": "1.2.0",
      "_view_name": "LayoutView",
      "align_content": null,
      "align_items": null,
      "align_self": null,
      "border": null,
      "bottom": null,
      "display": null,
      "flex": null,
      "flex_flow": null,
      "grid_area": null,
      "grid_auto_columns": null,
      "grid_auto_flow": null,
      "grid_auto_rows": null,
      "grid_column": null,
      "grid_gap": null,
      "grid_row": null,
      "grid_template_areas": null,
      "grid_template_columns": null,
      "grid_template_rows": null,
      "height": null,
      "justify_content": null,
      "justify_items": null,
      "left": null,
      "margin": null,
      "max_height": null,
      "max_width": null,
      "min_height": null,
      "min_width": null,
      "object_fit": null,
      "object_position": null,
      "order": null,
      "overflow": null,
      "overflow_x": null,
      "overflow_y": null,
      "padding": null,
      "right": null,
      "top": null,
      "visibility": null,
      "width": null
     }
    },
    "959ec40c6819426bb94f6dc26427da4f": {
     "model_module": "jupyter-matplotlib",
     "model_module_version": "^0.11",
     "model_name": "ToolbarModel",
     "state": {
      "_current_action": "",
      "_dom_classes": [],
      "_model_module": "jupyter-matplotlib",
      "_model_module_version": "^0.11",
      "_model_name": "ToolbarModel",
      "_view_count": null,
      "_view_module": "jupyter-matplotlib",
      "_view_module_version": "^0.11",
      "_view_name": "ToolbarView",
      "button_style": "",
      "collapsed": true,
      "layout": "IPY_MODEL_5fa164457feb477eaecd67e9b3b1bcae",
      "orientation": "vertical",
      "toolitems": [
       [
        "Home",
        "Reset original view",
        "home",
        "home"
       ],
       [
        "Back",
        "Back to previous view",
        "arrow-left",
        "back"
       ],
       [
        "Forward",
        "Forward to next view",
        "arrow-right",
        "forward"
       ],
       [
        "Pan",
        "Left button pans, Right button zooms\nx/y fixes axis, CTRL fixes aspect",
        "arrows",
        "pan"
       ],
       [
        "Zoom",
        "Zoom to rectangle\nx/y fixes axis",
        "square-o",
        "zoom"
       ],
       [
        "Download",
        "Download plot",
        "floppy-o",
        "save_figure"
       ]
      ]
     }
    },
    "a13ccc806bba4a4abdd0c7e3c16906fc": {
     "model_module": "jupyter-matplotlib",
     "model_module_version": "^0.11",
     "model_name": "MPLCanvasModel",
     "state": {
      "_cursor": "default",
      "_data_url": "data:image/png;base64,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",
      "_dom_classes": [],
      "_figure_label": "Figure 29",
      "_image_mode": "full",
      "_message": "",
      "_model_module": "jupyter-matplotlib",
      "_model_module_version": "^0.11",
      "_model_name": "MPLCanvasModel",
      "_rubberband_height": 0,
      "_rubberband_width": 0,
      "_rubberband_x": 0,
      "_rubberband_y": 0,
      "_size": [
       640,
       480
      ],
      "_view_count": null,
      "_view_module": "jupyter-matplotlib",
      "_view_module_version": "^0.11",
      "_view_name": "MPLCanvasView",
      "capture_scroll": false,
      "footer_visible": true,
      "header_visible": true,
      "layout": "IPY_MODEL_dd77f699721e4c1d97f27f13482a2bc9",
      "pan_zoom_throttle": 33,
      "resizable": true,
      "toolbar": "IPY_MODEL_f50989d3da6b4381a4b904d135a6c802",
      "toolbar_position": "left",
      "toolbar_visible": "fade-in-fade-out"
     }
    },
    "adce0561317d4a6da285f58d71707e49": {
     "model_module": "jupyter-matplotlib",
     "model_module_version": "^0.11",
     "model_name": "ToolbarModel",
     "state": {
      "_current_action": "",
      "_dom_classes": [],
      "_model_module": "jupyter-matplotlib",
      "_model_module_version": "^0.11",
      "_model_name": "ToolbarModel",
      "_view_count": null,
      "_view_module": "jupyter-matplotlib",
      "_view_module_version": "^0.11",
      "_view_name": "ToolbarView",
      "button_style": "",
      "collapsed": true,
      "layout": "IPY_MODEL_f9fbb8a5f1ca48e8b4e637415782978b",
      "orientation": "vertical",
      "toolitems": [
       [
        "Home",
        "Reset original view",
        "home",
        "home"
       ],
       [
        "Back",
        "Back to previous view",
        "arrow-left",
        "back"
       ],
       [
        "Forward",
        "Forward to next view",
        "arrow-right",
        "forward"
       ],
       [
        "Pan",
        "Left button pans, Right button zooms\nx/y fixes axis, CTRL fixes aspect",
        "arrows",
        "pan"
       ],
       [
        "Zoom",
        "Zoom to rectangle\nx/y fixes axis",
        "square-o",
        "zoom"
       ],
       [
        "Download",
        "Download plot",
        "floppy-o",
        "save_figure"
       ]
      ]
     }
    },
    "ae4208987f0043428e2f87a21af561b8": {
     "model_module": "jupyter-matplotlib",
     "model_module_version": "^0.11",
     "model_name": "ToolbarModel",
     "state": {
      "_current_action": "",
      "_dom_classes": [],
      "_model_module": "jupyter-matplotlib",
      "_model_module_version": "^0.11",
      "_model_name": "ToolbarModel",
      "_view_count": null,
      "_view_module": "jupyter-matplotlib",
      "_view_module_version": "^0.11",
      "_view_name": "ToolbarView",
      "button_style": "",
      "collapsed": true,
      "layout": "IPY_MODEL_168d8ebe52bd423f97ba31721aba376c",
      "orientation": "vertical",
      "toolitems": [
       [
        "Home",
        "Reset original view",
        "home",
        "home"
       ],
       [
        "Back",
        "Back to previous view",
        "arrow-left",
        "back"
       ],
       [
        "Forward",
        "Forward to next view",
        "arrow-right",
        "forward"
       ],
       [
        "Pan",
        "Left button pans, Right button zooms\nx/y fixes axis, CTRL fixes aspect",
        "arrows",
        "pan"
       ],
       [
        "Zoom",
        "Zoom to rectangle\nx/y fixes axis",
        "square-o",
        "zoom"
       ],
       [
        "Download",
        "Download plot",
        "floppy-o",
        "save_figure"
       ]
      ]
     }
    },
    "c8848c890dcb43fd8b64096632cfe9cf": {
     "model_module": "jupyter-matplotlib",
     "model_module_version": "^0.11",
     "model_name": "ToolbarModel",
     "state": {
      "_current_action": "",
      "_dom_classes": [],
      "_model_module": "jupyter-matplotlib",
      "_model_module_version": "^0.11",
      "_model_name": "ToolbarModel",
      "_view_count": null,
      "_view_module": "jupyter-matplotlib",
      "_view_module_version": "^0.11",
      "_view_name": "ToolbarView",
      "button_style": "",
      "collapsed": true,
      "layout": "IPY_MODEL_8ca4bce6db2443be8d4490c56aa92bdb",
      "orientation": "vertical",
      "toolitems": [
       [
        "Home",
        "Reset original view",
        "home",
        "home"
       ],
       [
        "Back",
        "Back to previous view",
        "arrow-left",
        "back"
       ],
       [
        "Forward",
        "Forward to next view",
        "arrow-right",
        "forward"
       ],
       [
        "Pan",
        "Left button pans, Right button zooms\nx/y fixes axis, CTRL fixes aspect",
        "arrows",
        "pan"
       ],
       [
        "Zoom",
        "Zoom to rectangle\nx/y fixes axis",
        "square-o",
        "zoom"
       ],
       [
        "Download",
        "Download plot",
        "floppy-o",
        "save_figure"
       ]
      ]
     }
    },
    "d5077ef2fa0149538c34e0c107e19fe3": {
     "model_module": "jupyter-matplotlib",
     "model_module_version": "^0.11",
     "model_name": "MPLCanvasModel",
     "state": {
      "_cursor": "pointer",
      "_data_url": "data:image/png;base64,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",
      "_dom_classes": [],
      "_figure_label": "Figure 44",
      "_image_mode": "full",
      "_message": "",
      "_model_module": "jupyter-matplotlib",
      "_model_module_version": "^0.11",
      "_model_name": "MPLCanvasModel",
      "_rubberband_height": 0,
      "_rubberband_width": 0,
      "_rubberband_x": 0,
      "_rubberband_y": 0,
      "_size": [
       640,
       480
      ],
      "_view_count": null,
      "_view_module": "jupyter-matplotlib",
      "_view_module_version": "^0.11",
      "_view_name": "MPLCanvasView",
      "capture_scroll": false,
      "footer_visible": true,
      "header_visible": true,
      "layout": "IPY_MODEL_05e2c19bd65045c4813877c334206cd1",
      "pan_zoom_throttle": 33,
      "resizable": true,
      "toolbar": "IPY_MODEL_0ab342024ab14b208768691d20e21ce0",
      "toolbar_position": "left",
      "toolbar_visible": "fade-in-fade-out"
     }
    },
    "d599b41089d7432abaa806412774227a": {
     "model_module": "jupyter-matplotlib",
     "model_module_version": "^0.11",
     "model_name": "MPLCanvasModel",
     "state": {
      "_cursor": "default",
      "_data_url": "data:image/png;base64,iVBORw0KGgoAAAANSUhEUgAAAoAAAAHgCAYAAAA10dzkAAAAOnRFWHRTb2Z0d2FyZQBNYXRwbG90bGliIHZlcnNpb24zLjEwLjAsIGh0dHBzOi8vbWF0cGxvdGxpYi5vcmcvlHJYcgAAAAlwSFlzAAAPYQAAD2EBqD+naQAAUyBJREFUeJzt3X90VOW5N/zvTMwPQklCzDETKC0/xGoMQsUHiKC2nFBYuBDqc95SbNXDsVQQ3kPJe1qgimCpAj0UdRUsxyjq+6Bg2xeVHlixEuTxgMlDS0glgiIhiEczsSSQwQSTMLPfP9Id8mN+7Elm9tz3tb+ftfjDZKfdM/vXte/ruq/bZRiGASIiIiJyDHeid4CIiIiI7MUAkIiIiMhhGAASEREROQwDQCIiIiKHYQBIRERE5DAMAImIiIgchgEgERERkcMwACQiIiJyGAaARERERA7DAJCIiIjIYRgAEhERETkMA0AiIiIih2EASEREROQwDACJiIiIHIYBIBEREZHDMAAkIiIichgGgEREREQOwwCQiIiIyGEYABIRERE5DANAIiIiIodhAEhERETkMAwAiYiIiByGASARERGRwzAAJCIiInIYBoBEREREDsMAkIiIiMhhGAASEREROQwDQCIiIiKHYQBIRERE5DAMAImIiIgchgEgERERkcMwACQiIiJyGAaARERERA7DAJCIiIjIYRgAEhERETkMA0AiIiIih2EASEREROQwDACJiIiIHIYBIBEREZHDMAAkIiIichgGgEREREQOwwCQiIiIyGEYABIRERE5DANAIiIiIodhAEhERETkMAwAiYiIiByGASARERGRwzAAJCIiInIYBoBEREREDsMAkIiIiMhhGAASEREROQwDQCIiIiKHYQBIRERE5DAMAImIiIgchgEgERERkcMwACQiIiJymKsSvQM6CwQC+OyzzzBo0CC4XK5E7w4RERFZYBgGLl68iCFDhsDtduZYGAPAfvjss88wbNiwRO8GERER9cEnn3yCr371q4nejYRgANgPgwYNAtBxAmVkZCR4b4iIiMgKn8+HYcOGdT7HnYgBYD+Yad+MjAwGgERERJpxcvmWMxPfRERERA7GAJCIiIjIYRgAEhERETkMA0AiIiIih2EASEREROQwDACJiIiIHIYBIBEREZHDMAAkIiIichgxAeA777yDWbNmYciQIXC5XHj99dcj/s2BAwdw8803IzU1Fddeey1efPHFuO8nUSL4AwbKaxrwRtWnKK9pgD9gJHqXiIgogcSsBNLc3IyxY8fiX/7lX3D33XdH3L62thZ33nknFi5ciJdffhllZWX40Y9+hLy8PEyfPt2GPZbJHzBwuLYRn1/8EtcMSsOEEdlIcju307oKSqvr8Ngfj6Ou6cvOn+VlpmH1rHzMKMhL4J4REVGiuAzDEDcU4HK58Nprr2HOnDkht1m+fDn27NmD6urqzp99//vfx4ULF1BaWmrp/8fn8yEzMxNNTU1cCg4MNFRUWl2HRdsr0fMiN0Py3/7wZh4bohD4QisXn9+CRgCjVV5ejqKiom4/mz59On7yk5+E/JvW1la0trZ2/rfP54vX7mknVKDhbfoSi7ZXMtBIAH/AwGN/PN7rmACAgY4g8LE/Hse0fA8fakQ98IWWpBNTAxgtr9eL3Nzcbj/Lzc2Fz+fDpUuXgv7NunXrkJmZ2flv2LBhduyq8iIFGkBHoMG6M3sdrm3s9vDqyQBQ1/QlDtc22rdTJJqUWlPzhbbn9WO+0JZW1yVoz4hix7EjgH2xcuVKFBcXd/63z+djEIjoAo3CUVfbt2MO9/nF0MekL9sRhSNlxIwj5+QUjh0B9Hg8qK+v7/az+vp6ZGRkYMCAAUH/JjU1FRkZGd3+EQMNVV0zKC2m2xGFImnEjCPn5BSODQALCwtRVlbW7WdvvfUWCgsLE7RH+rIaQJw51xznPaGuJozIRlZ6cthtBqcnY8KIbJv2iCSSVgLCF1pyCjEB4BdffIGqqipUVVUB6GjzUlVVhbNnzwLoSN/ed999ndsvXLgQp0+fxs9+9jN88MEHeOaZZ/C73/0Oy5YtS8Tua23CiGzkZaYhUjLkyX0faTUSIEHb5UC/fk8UibQRM8kj51JqNCk2xNQA/uUvf8G3v/3tzv82a/Xuv/9+vPjii6irq+sMBgFgxIgR2LNnD5YtW4ann34aX/3qV/Hcc8+xB2AfJLldWD0rH4u2V4bdjrUz9qo43YCWNn/YbZrb/Kg43YDJ1+bYtFckjbQRM/OF1tv0ZdBRTRcAT2aadiPnUmo0KXbEBIDf+ta3EK6lYbBVPr71rW/h6NGjcdwr55hRkIefFF2HJ/edDLkNJ4PYq7ymwfJ2DACpr6SNmHV9oXUB3YJA87V19ax8rV5i2aaLghGTAqbEG56Tbmk7XUYC9Gc1vcM0EPVdpBIQFzpGmnQaMZtRkIff/vBmeDK7B62ezDTtgiVpNZoUO2JGACnxpI0E6K5wZA42v11jaTsdcZUGNYQbMcPf/3vVnTdod2xmFORhWr5H+3OMbbooFAaAFDPmSEC4m41uIwE6mzTqamSlJ+NCS3vIbbLSkzFJw5s+65nUYo6Y9TwmprV7TsDtdml3bJLcLu2DImk1mhQ7TAFTzCS5XbhrbPgb/F1j87R7g9ZVktuF9XePCbvN+rvHaHc8JPWck2RGQR5W3Zkf9Hc8NonDzAyFwgCQYsYfMLD7r+Fv8Lv/WsdaExvNKMjD1h/eDE9GarefezJSsVWzWiaA9Uwq8wcMrN1zPOjvdD42urdOkVijSbHBFDDFTKRaE0DfWhOd682k1DIBrGdSmcRjI6HUQOKsZooNBoAUM1JrTfa+9xkeeaMajc1Xaul0fAjo8tANR+o5JoG0Y1NaXYeFQXqb6tg6JVSNpkez+xjFFgNAihmJtSbr9h7Hf7xT2+vndRo+BCSQeI5JIenY+AMGVuw6FvR3BvRsai8pE0CxwRpAihlptSZ736sLGvyZDOhZ06QzaeeYSfc6M0DWsdm8/1TY2fO6LW9nMjMBs8cNReGoqxn8ORwDQIoZs9YEQK+HgG61Jv6AgUfeqI64nY4PAZ1JOsdMpdV1mLJhP+aVVGDpzirMK6nAlA37tZsxK+XY+AMGXjgU+sWvK13S2YCMlwyKLQaACtL5QpXSQf9wbSMam9ssbettuhTnvaGupJxjgLyWNqGOTWZ6Mn5SdB2m5XsStGfWHa5txIVLoUf/utIhnQ3Iecmg2GINoGIkzDqTUGsSzZu91UCRYkfCORappY2OdWbAlWOzef9HeOHQGVy41I4LLe14ct9J7PzzWeXvZVav/awByVqks7kOMIXCEUCFSBoN0L3WJJo3++yvpEbeiGJO93MsmrYpunnruBdP7fuo10iaDvcyq9f+/MnDlT/n2DeTwmEAqAheqGqZMCIb2QOTLW3rydAjDURqkdY2xaT7vSzSZBYAGJyejCVTR9u2T30l+SWD+o8BoCJ4oaolye3CL2cXRNxOl1mNpB5JbVO60v1eFm4yi/mzdZosoSj1JYNigwGgInihqmfmTUPw4O0jwm6jw6xGUpOktildSbiXhZrMkqfZRCOpLxkUG5wEogheqGr65tcGA7DWEoIoGlKX6JJyL5Mw0ch8yfA2fRk0Je9Cx+x53V4yKDY4AqgI80KN5Hxzqw17Q8CVWqZQzFmaqtYykfoktbQxSRrZ1H2ikZTejBQfLsMw+PTqI5/Ph8zMTDQ1NSEjI6Pf/3t736vDQ6/0Xnuyq7zMNBxcPpUXrA3Kaxowr6Qi4nY7FkzScp1df8DQenRDEmnHwuxoAAQf2dQ1uNWVhPZisRbr57eOmAJWyOCBKRG3MYundQw4dCOhlikUPhDUYo40SWGObPY8x7IHpmDt7AKeYzaTkM6m2GMAqBDJAYeOpNQy9cTGsGSHGQV5CPx9ScXG5o5+gA3NbVi75zjcbvAcs5m0lwzqP9YAKkRqwKErSbVMJt17tJE+SqvrsPiVo53Bn0mHZtBETsAAUCESAw6dSSyg1r1HG+mBLxpE6mMAqBCJAYfupM3SZJkB2YEvGkTqYw2gYkIVT3tYoJ8wkgqoJZYZSJtBK4HUFw2eayQJA0AFSQo4pJBSQC2tMSxnM6tJ4ouGlHONQSyZ2AewH9hHiHQkpUdbqNnMun0OifwBA1M27A+ZBjZfNHTpaSrlXJMSxMYCn9+sASRyHAl1jZxkoLYktwt3jQ1/HulSzyzlXDOD2J5BOWdlOxdTwIrjcD3Fg+5lBtFMMpCQutdNaXUdnn0n9BraP759hBYvGoCMcy1SEGsuazkt36PNPYD6jwGgwjhcT/Gkc12j1EkGEoQLNoCOYGP3X+vwsxk3aBFsSDjXJASxFHtMASuKw/VEoUmcZCCFtBYwEs41CUEsxR4DQAVJqTkhffgDBsprGvBG1acor2lQ/txi03R1SQs2JJxrEoJYij0GgAqS9gZNaiutrsOUDfsxr6QCS3dWYV5JBaZs2K/0KDObpqtLWrAh4VyTEMRS7DEAVJC0N2hSl86lBhJmM0sUKdgAALcLON/cZts+9Zfu55qEIJZij30A+yFefYTKaxowr6Qi4nY7FkxiwS71mZRebZwpr55QffO6ckGf/nkm3c81Tiy8gn0AOQtYSdJWayA1SZkZqPNsZqlmFORhyz3fxJIdRxGunFS31iNJbhcmjMjuDAIP1zZqFQTq3v6JYosBoILM4fpF2yvhQvDVGjhcT/3FUgOKp8EDU8MGf7q8YHQlYQSNL0xkYg2gonSvOSH1SSvWl0a3mdk9SXvB0LleligYjgAqrOtwvbfpEhqb25D9lVRkDkiBP2BwBJD6haUG6pIw0mT1xeHMuZY470n/cSUNkogjgIpLcrvQdKkNv3rzQ6zdcwLLXtWjTQepjzMD1SRlpMnKbGAAeGrfSeU/E1tzkUQMABUn5WFAamKpgVokNYE3XzCs7Knqn0laOpsIYApYaUw7kB04M1AdUmZmm2YU5GFZ0Wg8ue+jkNvo8JlYL0sScQRQYUw7kB10720micSRpuE5Ay1tp/Jn4koaJBFHABUm8WFAapEw2UASiSNNEj4TW3ORRBwBVJiEGyepi/Wl6pE40iTlM7FelqThCKDC2KaD4sXKZIOHX6vG1OtzkXIV3xPtInGkSdJnYr0sScI7u8LYpoPiJVJ9KQA0NLdh0rp9HAm0mcSRJkmfyVxJY/a4oSgcdTXvv6Qtl2EY6s69V5xdi0mzToti7Y2qT7F0Z5WlbV2Adg9pCSROzpH4mUhPdj2/VcYUsAaYdqBYi7ZulO2G7CdxzVaJn4lIVwwANcEbJ8VSpPrSrnTo00ZERNFhDSBRDPgDBsprGvBG1acor2lQelUDoHt9qVVsN0R0hW7XPFFPHAEk6iddazTNwvyfv1aNxua2iNuz3RBRB12veaKuOAJI1A+699KbUZCHipX/iOyBySG30aVPG5EddL/miUwMAIn6yEovPdUXuQeAlKvceOK7Y+AC2w1R/PgDBg59dA4b3/wAG9/8EIdOnVP+2uhJyjVPBDAFTAkioR1ENGs1qz55wkwH90xreZjWohgora7Dil3HcKGlvfNnm98+haz0ZKy/e4w255eka56IASDZTkr9jLS1mtluiOKhtLoOC7dXBv3dhZZ2LNxeia2a9JmUds2Ts4lKAW/ZsgXDhw9HWloaJk6ciMOHD4fd/qmnnsI3vvENDBgwAMOGDcOyZcvw5Ze8cONJUv2MxLWaucoBxZI/YGDN7vcjbqdL2lTiNU/OJSYAfPXVV1FcXIzVq1ejsrISY8eOxfTp0/H5558H3f6VV17BihUrsHr1apw4cQLPP/88Xn31Vfz85z+3ec+dQ1r9jJRF7oni5XBtI7y+1ojbmWlT1fGaJ0nEBICbNm3CggULMH/+fOTn52Pr1q1IT0/Htm3bgm7/7rvvYvLkybjnnnswfPhwfOc738G8efMijhpS30VTP6MDrtVMFF40qVAd0qa85kkSEQFgW1sbjhw5gqKios6fud1uFBUVoby8POjf3HrrrThy5EhnwHf69Gns3bsXM2fOtGWfnUhi/YykRe6JYi2aVKguaVNe8ySFiEkg586dg9/vR25ubref5+bm4oMPPgj6N/fccw/OnTuHKVOmwDAMXL58GQsXLgybAm5tbUVr65V0hs/ni80HcAip9TOcPEEU3IQR2fBkpEZMA+uWNpV6zUvozkDWiQgA++LAgQN44okn8Mwzz2DixIk4deoUli5dirVr12LVqlVB/2bdunV47LHHbN5TOSKtP+tCx1u0Tg8CE9dqJuotye3CmrtuDDkL2KRj2lTaNS+lOwNZJyIFnJOTg6SkJNTX13f7eX19PTweT9C/WbVqFe6991786Ec/wpgxY/Dd734XTzzxBNatW4dAIBD0b1auXImmpqbOf5988knMP4tkrJ/RC9c6pViYUZCHrT+8GVnpvVebGZyerE0LGMkkdWcg60SMAKakpGD8+PEoKyvDnDlzAACBQABlZWVYsmRJ0L9paWmB2909/k1KSgIAGEbwB11qaipSU1Njt+MOxIbDajNTQG8d9+L1qs+6rRHM0YDE0jk9Z6ZMK2oaUH76HICO0bNJI9lqKNEidWdwoaM7w7R8D4+VMCICQAAoLi7G/fffj1tuuQUTJkzAU089hebmZsyfPx8AcN9992Ho0KFYt24dAGDWrFnYtGkTvvnNb3amgFetWoVZs2Z1BoIUH1LrZ3QXLAXUlTkawEJ3+0lIzyW5XZg8OgeTR+ckeleoC65u4lxiAsC5c+fib3/7Gx599FF4vV6MGzcOpaWlnRNDzp49223E75FHHoHL5cIjjzyCTz/9FP/wD/+AWbNm4fHHH0/UR3CUrvUzOo9sSGGmgMIleTkakBihjg0DcooFid0ZyBqXESrfSRH5fD5kZmaiqakJGRkZtv//SwicJIxs6M4fMDBlw/6wowA97VgwiaMBNoh0bMyJUweXT9Xq2pdw75KivKYB80oqIm4n7ZpP9PNbBWJGAJ1GQuDEkQ01REoBBcPRAHtITM9JuHdJIrk7A4UnYhaw00iYsSVtWTid9SWY061Xo66kpeck3LukYXcG52IAqJmOxdX1D5ykLQuns2iDOd2a9upMUvN0vvSpi6ubOBNTwJrZvP8jeH36p4SkjWzoLFIKqKe7xuZxNMAmktJzEtPZkrA7g/NwBFAjpdV1eHLfR5a2VT1wkjSyobtwKaBgnn2nlqk6m0hKz/GlT31md4bZ44aicBR7NErHAFAT/oCBFbuOWd5e9cDJHNkIdXtxgalGO4VKAYXCVJ19pKTn+NJHpBamgDVRcboBF1raLW2rQ+Bkjmws2l4JF9AtvaXbyIYUZgroxUO1WLvnRMjtmKqzn4T0nJVSg6z0ZOXvXURScARQE+U1DZa3XXWnHoGTlJENSZLcLuQMsrbcIVN19tI9PWe+9IUbN77Q0o63jntt2yciJ+MIoCai6dc9eGBKHPcktiSMbEjDVB3Fy7R8D7LSk0NmM7jSjFrYsFs2BoCayEpPtrytbiMzXZeFo8STNPOU1HK4tjFsKQvLC9TBht3yMQWsiZwoRls4MkP9IWnmKamFM4H1wIbdzsAAUBOeDGtB3dUDUzgyQ/0msT7THzBQXtOAN6o+RXlNA2cxJwDLC9THht3OwRSwJsy0XKQ1W9fOLuDIDMWEpPpMprPU4ITyAt3r5tiw2zkYAGqia9uUUO9dD94+AjNv4sOMYkdCfaaZzup53ZjpLF1HNHUkvf2ThBcNq7OwmabXH1PAGjHTcnk90nLZA5PxzD3fxMqZ+QnaMyI1MZ2lnnDlBT8pug6tlwNapugl1M35AwZer/rM0rZM0+uPI4CakZSWI4o3prPU1PM+duZcM3YcPosn953s3EankbNILxq6tLc5XNuIxua2iNtlD2TDbgkYAGpIQlrOCXSvBZJA4qxT87zy+r5E4xetyB6YAk/mAO3OL/M+Vlpdh6f2faR1il7Ki4bV6+C744Zqda5RcAwAieJAQi2QBNJmnQY7r0w6nl9SRs6kvGhYvQ6K8j1x3hOyA2sAiWJMQi2QFOas01Chgwt6rJ0NhD6vTHUanl/RjJypTMqLhqTrhSJjAEgUQ5x0oBYpTa3DnVddGdDr/JIyciYlcJJyvZA1DACJYkjKiIZJQvNkCU2tI51XXel0fkkZOZMUOEm4Xsga1gASxZCUEQ1AVh2j7rPnoz1fdDi/AOC8hRmnOoycAVcCp57XjEfDa0b364WsYQBIStF95qyUEQ2JzZN1nj0f7fmi+vkFdFzra/ccj7jdqjtv0OYeIClw0vl6IWsYAJIyJIw4SVjqSsrMTEkinVdd6TJiZjWtPXhgqg17EzsMnEgXrAEkJUiZOSuhFkhaHaMEXc+rcFxQ//wySSqXINIRA0BKOGkzZ3UvouaDWU2hloI05WlyfpmklEsQ6YopYEo4KV30u9K5FogPZnV1Pa90XwlEQrkEkc4YAFLCccRJLXwwq01KjZmZ1l60vRIuoNu5pku5BJHOGABSwkkccdJ5QgsfzGQXSa1TiHTjMgxDj8IqBfl8PmRmZqKpqQkZGRmJ3h1t+QMGpmzYH3HE6eDyqVoEHaFaqJh7rkudls5BbDi6txqSqO1yAP+r/Aw+bmzB17PTcW/hcKRcxRJ1ih8+vxkA9gtPoNgxgyYAQYPAZ+65GTNvUj/oMIPZUDWNugWz0oIlqUGtznhM1CbtHmDi85sBYL/wBIqtYA8Cky4PhPKaBswrqYi43Y4Fk0TUcelEysisJDwmapMcnPP5zTYwoui+buuMgjysuvOGoL/TpR8gJ7SoSVqrIQl4TNQmpTcrhcZJIEJIeFPrWBrqRNDf6bIChcQJLRJIbDWkOx4TdXE1IGfgCKAAUt7UJKxAYbZQCXVLdEGfpbok4ciseqx+1/uOe+O8J9SThHsxRcYAUHOS0igSHtISloKTiCOz6rH6Xb9W9akW9y9JJNyLKTIGgJqT9KYm5SGt+1JwoehcY8qRWfVMGJGN7IEpEbdrbG7X4v4liZR7MYXHGkDNSXpTG//1wXC7gHBxhdvVsZ3qdF4KLhjda0zZ3Fo9SW4X5owbgm2HzkTcVof7lyRcDcgZOAKoOUlvakc+Ph82+AM6gsMjH5+3Z4f6yVyya/a4oSgcdbW2wYWUGlOpI7M6m5bvsbSdDvcvSVjK4gwcAdScpDc1SaOZUkibDdhzZDbnK6mAAZxrbkV5TYPWo7Q6Mu9fkRqn63D/kobL9MnHAFBzklJbkkYzpZDYqsMcmS2trsO//f6v2qa1Jeh6/wL0vn9JJK2UhbpjClgAKamt881tEbdhob69pI7KSklrSyDl/iWVlFIW6o0jgELo/qbW0QT6eMTtVt15gzafSQKJo7LS0toS6H7/ItIRA0BBzDc1HUVKNZoGD0y1YW/IJKnG1CQxrS2BzvcvIh0xBUxKkJpq1J3E2YA814iIGACSIqymEM9dbNWqAbEE0mq0JKa1iYiixRQwKSFSqtG0ds8JPHewljM1bSapRktiWpuIKFocASQlhEs19sSZmokhZTagxLQ2EVG0GACSMkKlGnsyR20e++NxpoOpT6SltYmIouUyDINP0D7y+XzIzMxEU1MTMjIyEr07YvgDBl48VIu1e05E3HbHgkmcOUh95g8YItLaRBQdPr9ZA0gKSnK7kDPIWrsXztSk/mDrESJyKqaASUmcqUlERBQ/HAEkJXGmJpFzMTVPFH8MAElJXReJd4GLxBM5RWl1HR774/Fuq7XkZaax9RNRjDEFTMriTE0iZymtrsOi7ZW9lupj6yei2OMIIClNUgNiUhdTjonnDxh47I/Hg5Z8GOgY+X/sj8cxLd/DY0MUAwwASXmcqakeSQETU45qOFzb2GvkrysDQF3Tlzhc28j7AVEMiEoBb9myBcOHD0daWhomTpyIw4cPh93+woULWLx4MfLy8pCamorrrrsOe/futWlvifRUWl2Hyev3Y15JBZburMK8kgpMXr9fy/QcU47qsNrSia2fiGJDTAD46quvori4GKtXr0ZlZSXGjh2L6dOn4/PPPw+6fVtbG6ZNm4YzZ87gD3/4Az788EOUlJRg6NChNu85kT5Kq+uwcHslvL4eAZPvSyzULGCKlHIEuNqMnay2dMr5irUeoUQUnpgAcNOmTViwYAHmz5+P/Px8bN26Fenp6di2bVvQ7bdt24bGxka8/vrrmDx5MoYPH4477rgDY8eOtXnPifTgDxhYsetY2G1W7jqmTcAUTcqR4s9s/RSpkOD/+V2VVi8aEvkDBsprGvBG1acor2nQ5pqn7kQEgG1tbThy5AiKioo6f+Z2u1FUVITy8vKgf7N7924UFhZi8eLFyM3NRUFBAZ544gn4/f6Q/z+tra3w+Xzd/hE5RcXpBlxoaQ+7zfmWdlScbrBpj/qHKUe1mK2fAIQNAut9rUzPJ9De9+rwPx7f160EZMoGPUtAnE5EAHju3Dn4/X7k5uZ2+3lubi68Xm/Qvzl9+jT+8Ic/wO/3Y+/evVi1ahV+/etf45e//GXI/59169YhMzOz89+wYcNi+jmIVFZeYy2w217xcZz3JDasphzPnGuO856QyWz9lJsR+tgwPZ846/Yex0OvVKKxua3bz+tYM6slEQFgXwQCAVxzzTV49tlnMX78eMydOxcPP/wwtm7dGvJvVq5ciaamps5/n3zyiY17TJRo1h62//XR37R4ME8YkQ1PmEDDtOPwWS0+jxQzCvLw6/8rfCkO0/P22/veZ/iPd2pD/t4Ag3LdiAgAc3JykJSUhPr6+m4/r6+vh8fjCfo3eXl5uO6665CUlNT5sxtuuAFerxdtbW1B/yY1NRUZGRnd/hE5ReHIHEvbfdHq1+LBnOR2Yd6Er0Xczutr1eLz9KRznda55lZL2zE9bw9/wMAjb1RH3I5BuV5E9AFMSUnB+PHjUVZWhjlz5gDoGOErKyvDkiVLgv7N5MmT8corryAQCMDt7oiDT548iby8PKSkpNi160TamDTqaqSnJKGlLXSdrEmXB3PTpeAvez3p8nlMuvc2tJqet7od9c/h2kY0Noev/zXpdq04mYgRQAAoLi5GSUkJXnrpJZw4cQKLFi1Cc3Mz5s+fDwC47777sHLlys7tFy1ahMbGRixduhQnT57Enj178MQTT2Dx4sWJ+ghESktyu/Dg7SMtbavDg9kfMPB61WeWttXh85gk9DaMNCPYhY6AdsKIbDt3y7GiCep0ulacTkwAOHfuXGzcuBGPPvooxo0bh6qqKpSWlnZODDl79izq6q7c+IYNG4Y333wTf/7zn3HTTTfhX//1X7F06VKsWLEiUR+BSHlLpo5GVnpyyN/r9GDuGNWIPAKYPTBZi88DyOltGG5GsPnfq2fla7v6jG6sBnVXD0zR5lohISlg05IlS0KmfA8cONDrZ4WFhaioqIjzXhHJkeR2Yf3dY7Boe2WvIEO3B7PVUY3vjhuqxecBZC2nZs4I7pnK9miUypbCHJENd24BwNrZBdpcKyQsACSi+JPyYLY6qlGUH3wimYqk9TacUZCHafkeMetO68ockQ324md68PYRmHmTHtc+dWAASJQA/oCh9UNNwoPZHNXwNn0Z9KHmQkdQq1NKS+LkiSS3S/nRSicI9eKXPTAZv5xdgJk3DUng3lFfMAAUTPcgQyrdZ2iadH8wdx3VcKF7l0Pd0tkmiUEtqUPCix9d4TIMQ+1qYIX5fD5kZmaiqalJuZ6AwYKMrAHJmD95OJZMHc0LNkHMGZqh6ud++8ObtQoCJZASkJvMcwwIHtTyHCNS+/ltFwaA/aDqCRQqyDBlpSdj/d1j+BCwmT9gYMqG/SELqc3RmYPLpzJAt1nX0fKcr6QCRkczYl1HOKQFtUSxpurz205MAQsTrg2E6UJLOxZtr+RIgM0kzdCUxkxnl1bX4d9+/1ftAyem6tTF0hxSBQNAYSIFGSZz3cZp+R7efGwibYamNKFGzs0Gyrq9MOleoykRR2ZJJWIaQVMHb9Mly9ty3UZ7SZyhKYWUBspd6bwWsEQSVmghWTgCKIyVlQ264miTfThDU13S0vNSR5p0TZ9GesFwgRkZsh8DQGGyv5Ia1fYcbbKPxLYjUkhKz0tLZZt0DmqlvWCQDEwBC+PJsB7Q6bJmqyRmM1VPZvfj5MlM0/bBLIGU9LzEVDagf/pU0gsGycERQGEmjMhGVnoyLrS0R9yWo02JwRma6pGSnpc40iQhfSrlBYNk4QigA7kAPHMPR5sSyZyhOXvcUBSOulrZB5dTmOl54Eo63qRTel7iSFM0Qa2qzBeMUGePC8zIkP0YAApzuLYx4uifAWDwwBR7dohIExLS8xJHmiQEtVJeMEgWpoCFkXCzJEoU3dPzUlLZXUkJas0XjJ4TWTyaTGQheRgACiPlZkl60bU9RzA6N1CWONNcUlCr+wsGycIAUBhJN0vSg87tOSSSNtJkBrULt1cG/b0BvYJanV8wSBYGgMJIHAEgdUntOac7jjQRUSScBCJQuGL2nxRdh9bLAS4NRf0mteecFFJmmpvnWShmGxieZ0TR4QigUD1HAE7/7Qv8v+Uf48l9Jzu3YZou8XSunZPYc64nnY+PFE44z4gSgQGgYOYIwLq9x/Ef79T2+n0d03QJpXvtnPQZ57ofHyn2Hfda2k7X84woUZgCFm7ve3VBgz+TAaZPEkH3pa0A2TPOJRwfCfwBA69VfWppWx3PM6JEYgAomD9g4JE3qiNup3oXfWmk1M5JXd1AyvEx+QMGymsa8EbVp9rV/h6ubURjc+RlLa8emKLdeUaUaEwBC9Zx82yztC3TJ/aRUtMkdca5lOMD6J/Gtnpfmj1uiHbnGVGicQRQsGiCOqZP7COpdk7C8mk9STk+EtLYVu9L0/I9cd4TInk4AiiY1Ztn9sBkpk9sJK12TlrPOQnHJ1Ia22ydMi3fo/RxitTYHtCzzKArzjSnRGEAKJh58wyXzgKAX84u4A3HRlaOi24PNUmrG0hYTUdKGltqmYFJ9xQ96Y0pYMHMm2e4W+ODt4/AzJuG2LZP1HFc7hob/uZ+19g8bR9qujOvGwC9rh1dgg4paWxAZpkBICNFT3rjCKBwodYFvXpgCtbOLsDMm/S8eerMHzCw+6/hb+67/1qHn824QekgQzLd19OVkMbuSlqZgZQUPemNAaADSLt56i5Seg7QIz0nnc7XjYQ0dk+SygykpOhJbwwAHULSzVN3ktJz0ul63UivndMd7wGkAtYAEtlMWnqO1CS1dk4C3gNIBRwBJC3p3DpBYnqO1KRzGluySJ0AeA8gOzAAJO3o3jqB6Tmyk5nGNl+a/vO9zxgIJpjZCSDcOu28B1C8uQzD0GdhSMX4fD5kZmaiqakJGRkZid4dRzBbJ/Q8ac3bpE6pLd0DWdIHzzW1hLqPmR68fQRWzsy3dZ+chs9vBoD9whPIXv6AgSkb9kdMmxxcPlWbN2edU9mkh0jBxjP3fJO9QG0k8T6mIz6/mQImjUhsnaDrLFOn0TVQD9dvzrRkx1Fshos9QW1i9T5WUdOAyaNz7NsxchwGgA6l4wONrRMoEXROn1rpORkwgIdeqcRWtz7lEzqzen966JVKbPifY7Q7Jjo+W5yKAaADlVbXYc3u9+H1tXb+zJORijV33aj0zYatE8huodKn5nJdqtecRvMyxJUn7GH1/tR0qR0Lt1diq+LnWFc6vyw5EfsAOkxpdR0Wbq/sFvwBgNfXioWKrz9ptk4I9XhyoeNmw9YJFAuRlusCOoImf0DdMupoXobM8gmKr0j3sZ5W7jqm9DlmCrW2cR3XNlYWA0AH8QcMrNh1LOw2KxS+2ZjtUwD0unmyfQrFWjQ1p6oygw2rWD4Rf13vY1acb2lHxemGOO5R/0WqNTWg/suSEzEAdJCKmgZcaGkPu82FlnZU1Kh7s+HqBmQXCTWn0QYbLJ+wh3kfG5iaZGn7coXvyUB065uTOlgD6CDlp89Z3k7l2Wdc3UB9EgrBpdSczijIwzP3fBNLdhxFqAEYrjxhvxkFeTj2303YcqDGwtZqj5x5my7FdDuyBwNAR7H6AFb/Qc32KerSdZJRT5KW7Jt50xBshgsPvVLZ63csn0icW0flWAoAC0eq+0IOAI3NbTHdjuzBFLCDWA2YGFhRX+k8yagnaTWnM2/Kw9Yf3tyrJpDlE4kzadTVyEpPDrtNVnoyJil+T87+SmpMtyN7cATQQSaN7LjZhKsDHJyejEkj1b7ZSOcPGKioafh7yr5jpHPSyKuVDzSsTjLSqdWIWavVs7WFR9PWFiyfUEuS24X1d4/Bwu29R2ZN6+8eo/zx8WRYK4Owuh3ZgwGgg1i52azT4GYjWWl1HVbsOtYtSN/89ilkpSdj/d1qN4WNZpKRyjWmPUkLmlg+oZYZBR0jszqXTZjlEuEmgrBFl3oYADrMjII8PHj7CJT8V223gnC3C1hw2wgtbjZSmenTYC60qN8UVsoko2AYNFE86f6SYZZLhFtz+q6xedp8HqdgDaDDlFbX4dl3anvNBgwYwLPv1GpVoyWJP2Bgze73I26ndi8tOZOMiOxmvmTMHjcUhaPUL/noaUZBHn58+4iQv+fzRT0MAB3EysLwagcYch2ubew1cSIYlXtpcZIRkXP5AwZ2/zV8gMfni1oYADqIhJUNpIqmmbCqjYfNSUbhcJIRkUx8vuiHAaCDSFjZQKpomgmr2njYnGQUzj/fGjpFRET64vNFPwwAHUTKygYSTRiRDU9G5B5Zqs+kM2c0hmr38OS+k5iyYT9rgShm/AED5TUNeKPqU5TXNDDFmCB8vuiHAaCDmFP1Q5UWu6B+gCFVktuFNXfdGHE7HRoPzyjIw6EVU7GsaHTQ33ubvsQizZpCk5pKq+swZcN+zCupwNKdVZhXUsEXjATh80U/DAAdJNzKBiYdAgypzNGzrAG9uzMNTk9WugVMMDv//EnQn5vjMywIp/4ora7Dou2VverO+IKRGNJWznECBoAOY65skBmkWD/Yz8h+acndA8DB6cl4fE6BVsGfxIJwphrVEa6jAV8wEsd8vni43KAWRDWC3rJlC/793/8dXq8XY8eOxW9+8xtMmDAh4t/t3LkT8+bNw+zZs/H666/Hf0cVEGzFhqaWdizaXskLNUHMEY2ej6wLLe1Y/MpR/Nbt0ua4SCsIL62u67UcXJ6my8FJEM0LBtsO2Uv3ptZOImYE8NVXX0VxcTFWr16NyspKjB07FtOnT8fnn38e9u/OnDmDf/u3f8Ntt91m054mlvnmHIzx9398c7aftBENSQXhTDWqR9oLhjS6N7V2CjEB4KZNm7BgwQLMnz8f+fn52Lp1K9LT07Ft27aQf+P3+/GDH/wAjz32GEaOHGnj3iZOpDdnQL/UnATSUqZSCsKlBeZSSHrBIEoUEQFgW1sbjhw5gqKios6fud1uFBUVoby8POTf/eIXv8A111yDBx54wI7dVILVN+KS/6qJ855QV9JGNKQUhEsLzKWQ8oJBlEgiAsBz587B7/cjNze3289zc3Ph9XqD/s3Bgwfx/PPPo6SkxPL/T2trK3w+X7d/urH6Rrz/g79h73tMbdklZ2DkHoDRbKcCCQXh0gJzKaS8YBAlkqhJIFZdvHgR9957L0pKSpCTk2P579atW4fHHnssjnsWfxNGZCN7YDIam3tPAulp1RvVmF7g4U3UDha/4j+facDk0dbP2UTTvSCcqUZ1mS8YPSfneDg5h8gSEQFgTk4OkpKSUF9f3+3n9fX18Hg8vbavqanBmTNnMGvWrM6fBQIBAMBVV12FDz/8EKNGjer1dytXrkRxcXHnf/t8PgwbNixWH8MWSW4XvjtuKJ4/dCbitg3NbdrNovMHDFScbkB5TQMAA4UjczBJgyLkc1+0Wtru2f+qxf/9j9cp/3m6MgvCdWSmGr1NXwatA3ShI+BgqjExdH/BCMYfMER9HlKXiAAwJSUF48ePR1lZGebMmQOgI6ArKyvDkiVLem1//fXX49ixY91+9sgjj+DixYt4+umnQwZ1qampSE3VJwUXSlG+x1IACOiV2iqtrsOKXce6tbjZ/HYNstKTsf7uMUqPCFgdQWpp82Pz/lNYGmKVDYotM9W4aHslXEC3IJCpRjXo/ILRE9sNkZ1E1AACQHFxMUpKSvDSSy/hxIkTWLRoEZqbmzF//nwAwH333YeVK1cCANLS0lBQUNDtX1ZWFgYNGoSCggKkpKQk8qPEnZkGtkKX1FZpdR0Wbq8M2t/wQks7FirermPCiGxkDbB2TF54t5azTm0UqpZx8MBkbLnnm3wwU0yw3RDZTUwAOHfuXGzcuBGPPvooxo0bh6qqKpSWlnZODDl79izq6ngBAR1vzP/z5qERt9NlFp0/YGDN7uC9Dbtas/t9ZQOnJLcL8yePsLTthZZ2zjq12YyCPKy6Mx/ZA6+8HDY2t2PtnhN8MFO/sd0QJYKIFLBpyZIlQVO+AHDgwIGwf/viiy/GfocU5Q8Y+M/3gs+O7mrVnXqktg7XNsLri5yq9vpala5pXDL1WvzHOzVoafNH3Fan1LwEpdV1WPxK71VazNEZXWY1k5q4sgklgpgRQLLOSjNoABg8UI9UeDTBkMqBU5LbhQdvt9aQXJfUvAQcnaF4Y7shSgQGgA4k7WYTTTCkeuC0ZOpoZKWHrgVkg1v7sRk0xRvbDVEiMAB0IGk3mwkjsuHJiLyvnoxU5QOnJLcL6+8eE7QtIGedJoa0FyZSD1c2oURgAOhA0m42SW4X1tyVH3G7NXfdqEXgZM46zdN4BQ1JpL0wkXq4sgklgsswDBau9JHP50NmZiaampqQkZGR6N2JitlyAAje20zHQCNYH0AAWvQBDIYNYdXgDxiYsmF/xGbQB5dP5fGhfpHYB1DV+5jOz+9YYQDYD7qfQFJvNjquBEJqk/jCRGpSNWDqC5WfMbo/v2OBAWA/SDiBet5sxn99MI58fF7EzYcollR+mBGpxnxp6hlgqPLSJOH53V8MAPtB2gnEBxxReP6AgYqaBpSfPgegYwmySSM5wkzUlVk2EWr2vAplE9Ke330hqhE09V2otzU2uiW64q3j3m4vSZvfPqX9S5KklKMk5nHx+r5E4xetyB6YAk/mAC2ODxtb64EBIEVsdOtCR6Pbafke5W88AB9oqtP1+Eh8SeKov5qCHReTDseHrZP0wACQRL2t8YGmNl2Pj7SXJEBmQCtBqONiqtPg+LB1kh7YB5DEvK2ZN86ewaz5QCutrkvQnhGg9/GRthoIl7dTU7jj0pUBtY+PtF6zUjEAJBFva3ygqU334yPlJckkLaCVwuo67YDax4eNrfXAAJBwvrk14jaqv63xgaY23Y+PhJekrqQFtFJE+32rfHzMFY08XNFIWawBdDh/wMDaPScibrfqTrXf1vhAU5vux8dMaUVaDUTll6SupAW0UkT7fat+fGYU5GFavkfLSV9OwBFAh7Oachg8MMWGvek7qzfCM+da4rwnFIzuAYe0lBZrtNQU6bh0pcvxSXJ39MucPW4oCrkqk1IYADqc7iMzJqs3zqf2nVR6soFUEgIOSSktaQGtFF2PSzgu8PhQ/zEAdDjdR2ZM5o3TyhQClScbSCUl4JhRkIeDy6dix4JJePr747BjwSQcXD5Vq+DPJCmgNfkDBsprGvBG1acor2nQ8jo3j0teZvB7bp6mx0fCsZGGS8H1g4SlZMwleyLVNiVyyZ5oPL3vJJ7c91HE7XYsmKR8T0OJdO0DKJmujbl7knZu6bwSSE8qHhsJz+/+YgDYD1JOILM/G4BuQaAqi3ZH442qT7F0Z1XE7Z7+/jjMHjc0/jtEvUgJOEgdoZon63gPk0bVYyPl+d0fTAGTqFSQlJS2ZCwKp1jSvcekZJGOjQFgze73eWwShG1gCICc6frS2nUQUXiSlrKUxkqXCa+vFZv3n8LSotE27RWZOAJInSSMzEiZbEBE1kjpZCCR1e/8SXZnSAgGgCSOpJQ2EYXHsg91RfOdM01vP6aASSQpKe2uOHmCqLdIZR8AkDUgGQHDgD9g8JqxkXlsrCw2wDS9/RgAklhmSlsCFdsoEKnALPtYtL0SLiBoEHjhUjt+8Nz/4TVjM/PYLPx7l4lImKa3F1PARIoz2yj0fIv2Nn2JRdsrWTtDjheq7KMnXjP2m1GQh2UWJ3gwTW8vBoBECmOLCyJrzFVaXn5gIrIGJAfdhtdMYiyZOhqejNDBnQ5LQUrEAJAcQddliKJpcUHkdEluF9xuFy5cag+5jY7XjK73L1OS24U1d+XDBXZnUAlrAEk8nevn2OKCKDrSrhmd719dmWn6np/Fo+FnkYIBIIkWahkisxZI9bYwbHFBdtN9trmka0b3+1dPErsz6IwBIIkVqX7OhY5aoGn5HmVvQFzZhOwkYbRJyjUj4f4VjKTuDLpjDSCJJaF+jiubkF1CzTav02zmrJRrRsL9i9TGAJDEklILxJVNKN7CjTYBHcHGyl3HtJl8IOGakXL/InUxBUxiSaoFYu0MxVOk0SYAON/Sjs37P8LSouts2qv+0f2akXT/IjUxACSxpNQCmVg7Q/FidRTphUNnsGTqaG2CKJ2vGWn3L1IPU8AklpRaIKJ4szqKdOFSO2vObML7F8UbA0ASTUItEFG8TRiRHXL1jJ5Yc2Yf3r8onpgCJvF0rwUiircktwvzJ4/Ak/tORtxWt5oz3fsa8v5F8cIAkIgoBnQPNJZMvRYvvFuLCy3Bl1HTseZMQl9DQO9aRlIXA0AST8pDgNQl4RxLcruw/u4xWLi9stfvdKw5K62uC/pZdF1FgyjWWANIooVqbuvVrLktqUvSOTajIA9bf3gz8jSvOfMHDKzYdSzo78wZtY/98bg2fQ2J4oEjgCSW1KWUSB0SzzEJNWeb958KmcoGuq+iwdQqORUDQIpI19qmaJZS4kOA+kLqOaZzzZk/YOCFQ7WWtuWMZnIyBoAUVml1HdbsPg6v78qN0pORhjV3qV/bxKWUKN54jqnncG0jLlwKPfrXlW4zmoliiTWAFJJZRN01+AMAr+9LLNSgtknyUkr+gIHymga8UfUpymsatK9l0vXzSD7HdGU12M4akKzVjGaiWOMIIAUVrojatHLXMaVrm6QupSRhxmlXOn+e8V8fDLcLCBevul0d25E9rAbb8ycPV/beRWQHjgBSUBWnG8IWUQMdi8NXnG6waY+iJ3EpJUkzTgH9P8+Rj8+HDf6AjuDwyMfn7dkh6nzxC3dVD05PxpKpo23bJwpN19F/CRgAUlDlNdYCO6vbJYqkpZQizTgF9Gpt4Q8YWLNb78/DGkD1hHvxM3+27u4xWr34SVVaXYcpG/ZjXkkFlu6swrySCkzZsF/5Fz8pmAKmEKw+dNV9OJsktLUA5M043bz/o171pV3p8HlYA6gm88VP19ICJzBH/3s+Qdio2z4MACmowpE52Px2TcTtktx6DCLr3NbCJGm0qbS6Dk/u+8jStip/Hql1phJIefGTSGL/TB3p8fQm200adTWyBkR+P/jdXz5ROkUniZTRJvPmb5XKn0dinakk5ovf7HFDUTjqah4HRUSTzaD4YQBIQSW5XZg/eUTE7XiR2idScbsLHSku1UebIt38u9Lh80iqMyWyg6Rshs6YAqaQhucMtLQdL1J7mKNNi7ZXwoXu1Zc6jTZFc77o8HkAphuJoiElm6E7BoAUEi9S9YQqbh88MBnfHTcUmQNS4A8YSgceVs+Xn/zjaK1GzyTUmRLZgbWzamAKmEKSknKUZkZBHg4un4odCybhXyYPR/bAFDQ2t+P5Q2e0aKNgpU8bAOz881mlPwcR9Q1rZ9XAAJBC4kWqriS3C02X2vDCoTNobG7r9jvVmyhH6tNmqve1Kv05iKjvWDubeKICwC1btmD48OFIS0vDxIkTcfjw4ZDblpSU4LbbbsPgwYMxePBgFBUVhd3eqXiRqkn3ptDmeZWbETodrMPnCIcrHBCF1zWb8fT3x2HHgkk4uHwqnys2EVMD+Oqrr6K4uBhbt27FxIkT8dRTT2H69On48MMPcc011/Ta/sCBA5g3bx5uvfVWpKWlYcOGDfjOd76D999/H0OHDk3AJ1AXC9zVI6Ep9IyCPAxKTcYPnv8/IbfR4XMEo/P6xkR2Yu1s4ogZAdy0aRMWLFiA+fPnIz8/H1u3bkV6ejq2bdsWdPuXX34ZDz30EMaNG4frr78ezz33HAKBAMrKymzecz2wn5ZapLRRONfcamm7fce9cd6T2NF9fWMicgYRAWBbWxuOHDmCoqKizp+53W4UFRWhvLzc0v9GS0sL2tvbkZ0dekJDa2srfD5ft39EiSBlhrbV/Xut6lMtUqi6p+aJEoHlEokhIgV87tw5+P1+5Obmdvt5bm4uPvjgA0v/G8uXL8eQIUO6BZE9rVu3Do899li/9pUoFqS0UZgwIvvvs5jbwm7X2NyuRRpYQmqeyE4sl0gcESOA/bV+/Xrs3LkTr732GtLSQo9IrFy5Ek1NTZ3/PvnkExv3kugKKTO0k9wuzBk3xNK2qqezATmpeSI7sFwisUQEgDk5OUhKSkJ9fX23n9fX18Pj8YT9240bN2L9+vX405/+hJtuuinstqmpqcjIyOj2jyhRpMzQnpYf/ho1qZ7OBuSk5onijeUSiSciBZySkoLx48ejrKwMc+bMAYDOCR1LliwJ+Xe/+tWv8Pjjj+PNN9/ELbfcYtPeEsWOhBnaZjo7VOpUl3Q2ICc1TxRvLJdIPBEjgABQXFyMkpISvPTSSzhx4gQWLVqE5uZmzJ8/HwBw3333YeXKlZ3bb9iwAatWrcK2bdswfPhweL1eeL1efPHFF4n6CER9ovsMbTOd7YLe6WxATmqeKN5YLpF4YgLAuXPnYuPGjXj00Ucxbtw4VFVVobS0tHNiyNmzZ1FXd6We4Le//S3a2trwT//0T8jLy+v8t3HjxkR9BEoAzj5Tg5R0NiDrs3TFa4ViieUSiecyDINXcR/5fD5kZmaiqamJ9YAakjb7zB8wtE4FA0Db5QD+V/kZfNzYgq9np+PewuFIuUrP91QJx8Mk7VqhxPMHDEzZsD9iucTB5VPjct3w+c0AsF94Aulr73uf4aFXjvb6uXmb0W2kRsIDWsJnkMicqRnqQbFVs2uF1GGeWwC6nV923If5/BaUAiayau97dViyo3fwB+g5+0xCKwUJn0GicDM1TSt2HdPmWiG1SC2X0IWIWcBEVpVW1+GhVyrDbqPT7LNIrRRc6Ahmp+V7lE0/SvgMUkWaqQkAF1rasXn/KSwtGm3TXpEkEjoZ6IojgOQYZqBhlQ6zz6JppaAqCZ9BKqvXwAvv1nIUkPpM904GumIASI5hZTSjKx1mn0lopSDhM0hl9Rq40NLOAJ1IMwwAyTGiCSDyNGnWK6GVgoTPINWEEdnIGpBsaVsG6ER6YQBIjhFNAKFLs15z5Ylwezo4PVnpYNbKZ7h6YArGf32wbftEHZLcLsyfPNzStgzQifTCAJAcw0qg4XYBz9zzTW1mn5krT4Srvjrf0o63jntt26dohVs9w9TQ3IY7/v1tzgZOgCVTRyMrPfQooAv6jJgT0RUMAMkxugYaoTwwZQRm3jTEpj2KjWn5nogPaNXb2oRqB9EVW8IkRpLbhfV3jwkanHN5OyJ9MQCkqOm8JNSMgjz8+PYRIX//3H/VahdgHK5txIWW9pC/12UW7YyCPPzvn34b2QODB7M69mgE9L5eTGaAnieoX5uE40LUH+wDSFHRfbUGf8DA7r+GDvAMAGt2v69VzzlJs2iPfHwejc3WglnVezQC+l8vXUnq1ybpuBD1FUcAyTIJqzVYaQXj9bVi8/5TNu1R/0maRSspmJVwvfQkoV+bxONC1BcMAMmSSKs1AHqk5qwGDk/uO6nNgyDS5BadivSlBLNSrhdpeFyIrmAASJZIWa0hmsBBlwdBuFm0uhXpTxiRHXZCCwBkKd7WBpBzvUjD40J0BQNAskRKas4cLbNCpweBpEXV2y8Hwv/eH/73KpByvUjD40J0BSeBkCVSUnPmaNnC7ZWWttfpQSChSL/idAOa2/xht2lu9aPidAMmX5tj015FT8r1Ig2PC9EVHAEkSyTVmc0oyMOyotGWttXtQaB7kX55TUNMt0sUSdeLJDwu6mN7HvswACRLJNWZAR2rG3gyQgd3fBAkitWbvdoPBWnXixQ8Lmorra7DlA37Ma+kAkt3VmFeSQWmbNivzYQ83TAAJMsk1ZkluV1Yc1c+XOCDQCWFI62lda1ul0iSrhdJQh2XzPRk/KToOkzL9yRoz5yN7Xns5zIMQ+1XaYX5fD5kZmaiqakJGRkZid4d2/gDhtZ1Zl2xIaxa/AED43/5VtiVTbLSk3HkkWnanHOSrhdJ/AEDm/d/hBcOncGFS1fON17/9vMHDEzZsD/kDG0XOl6cDi6fGrNrx6nP764YAPYDTyAZpD2gdf88pdV1YSfpbOXoGcWAOeLU8wFoXikcpbVPeU0D5pVURNxux4JJMVsBiM9vzgIm6pw4IYGEEc0ZBXnY+sObsWb3+/D6Wjt/7slIxZq7btTmc5C6IjWEdqGjD6hOS0LqjO15EoMBIJEQoUbOzBoanUY0JLS0IXVF0xBaysuhytieJzEYABIJ4A8YWLHrWNDf6TqiIWlkltTCESe1mO15vE1fBh2VNWsA2ZUhtjgLmEiAzftPhZ04oesSV+wJRvHAESe1sD1PYnAEkEhz/oCBFw7VWtpWpxENCfWMpCaOOKnHbM/T85r38JqPGwaARJo7XNvYrY1FOLqMaISaoaljPSOpxxxxWrS9Ei50byvOEafEYe2vvZgCJtKc1VG9rAHJWoxoRJqhCXTUMzIdTP3BRt1q0n05S51wBJD6Tfe+c7qzOqo3f/JwLY4LZ2iSXTjipC4+V+KPASD1C+u0Ei9SPRMAfCX1Kiz61rW27ldfcYYm2YmzzdXD54o9mAKmPuPajWoIN4PO9EXrZdzx729rcUw4Q5PIufhcsQ8DQOoT1mmpJVQ9U1e63EDNEc1QwawLHaMBOtQzEpF1fK7YiwEg9Uk0dVq60bX33IyCPPzvn34b2QOTg/5elxuo1J5gup5XRHaR/FxREWsAqU+k1mnpXnty5OPzaGy21hBa5bonaT3BdD+vemKBPsWD1OeKqhgAUp+cOddiaTud6rQk9J6TdAOVMkNTwnnVlbRgltTB+l97MQVMUfMHDOw4fDbidp6MVG3qtKTUnki7gereE0zKeWVigT7FE+t/7cUAkKJ2uLYRXl/kEaR5E76mzQNbSu0Jb6BqkXJeAfKCWVKP1PpfVTEApKhZTR8OzxkY5z2JHSmpU95A1SLlvAJkBbOkLq7QYh/WAFLUpKUZAVmfSdoECp1JOq8kBbOkNin1v6pjAEhRs7LyxOB0PdadNUX6TC50BFC6fCbeQNUg6bySFMyGwtnN6uAKLfHHFDBFzUwzhqv0Od/SjreOe23bp/6SmDrVfQKFBJLOK+n1paXVdZiyYT/mlVRg6c4qzCupwJQN+zmxhcRiAEh9Mi3fg6z04A2HgY6HgW4F4aw9oXiQcl5FWnLQAPD9/zHM1n2KFc5uJidyGYahzxNaMT6fD5mZmWhqakJGRkaid8dW5TUNmFdSEXG7HQsmaTWM7w8YqDjdgPKaBgAGCkfmYJLGo2eSUlq6fxbd998UrA9gV7r1BPQHDEzZsD/k5zHT9AeXT9XyeFFwTn5+m1gDSH0isSA82IPt/6v8VKuHWVeSGvZK+CxSaprM+tLN+0/hyX0ne/1etwbX0cxulnD8iExMAVOfSCsIl5YCkvR5JH2WnnReH3jnn4M3g9etJ6DEl1kiKzgCSH0iaXZjpAa3Zj3jtHyPFikgSZ9H0mfpSedRTUmjZtJeZoms4ggg9Ymk2Y3SGtxK+jySPktXuo9qSho1kz67mSgUBoDUZ1JmN0p6mAGyPo+kz2KSsKSapFGzSLObAX1eZomiwRQw9YuEhsOSHmaArM8j6bOYJKRPJZWAAFdeZlfsOoYLLe3dfpcZpt0Vkc44Akj9pnvD4UgpIECvFJCklJakz2KSMKopqQSkq57BHwA0tbRrkZYnihYDQHI8KymgS+1+bVY2kfRwlvRZTFJGNUOVgGSmJ+MnRddhWr4nQXsWPTMtH4wuaXmiaDEAJMKVh1modI9uowBS6jMBWZ8FkDWqOaMgDweXT8WyotHIGtBx7VxoaceT+05qtYya1MlGROGwBpDo76ble7Bm9/tBf6djyxEJ9ZkmSZ/FHNVctL0SLqBbDZ2Oo5pvHffiqX0f9aoF1KkhtIS0PFG0GAAS/d3h2kZ4fa0hf69DcX5PUlafAGR9FnNUs2cfQI8mfQBNUvo0SknLdyVl6UGKHwaARH/HUQCyk4RRTQkzmgF5s5p1bjJO9mENINHfSRwFILXpPoNeykuTpMlGujcZJ/uICgC3bNmC4cOHIy0tDRMnTsThw4fDbv/73/8e119/PdLS0jBmzBjs3bvXpj0lFVlpB5OVnqzNKABRvEl6aZIw2UhCk3Gyj5gA8NVXX0VxcTFWr16NyspKjB07FtOnT8fnn38edPt3330X8+bNwwMPPICjR49izpw5mDNnDqqrq23ec1KFOQoQ7tZ4oaVdm3YwRPFmvjRFcr45dG2tSsxZzTsWTMLT3x+HHQsm4eDyqVoEfwBnM1N0xASAmzZtwoIFCzB//nzk5+dj69atSE9Px7Zt24Ju//TTT2PGjBn46U9/ihtuuAFr167FzTffjM2bN9u856SSafkeZIXp/G8WtfMNmqjjpWnVnfkRt1u754Q214zOaXkpKXmyh4gAsK2tDUeOHEFRUVHnz9xuN4qKilBeXh70b8rLy7ttDwDTp08PuT05w+HaxqCrAZj4Bk3U3eCBKRG34TVjD0kpeYo/EbOAz507B7/fj9zc3G4/z83NxQcffBD0b7xeb9Dtvd7Q6b3W1la0tl5JZfh8vn7sNamIb9BE0eE1ow5ps5kpvkSMANpl3bp1yMzM7Pw3bNiwRO8SxRjfoImiw2tGHZJmM1P8iQgAc3JykJSUhPr6+m4/r6+vh8cTfD1Kj8cT1fYAsHLlSjQ1NXX+++STT/q/86QUSct0EdmB14xaJMxmJnuICABTUlIwfvx4lJWVdf4sEAigrKwMhYWFQf+msLCw2/YA8NZbb4XcHgBSU1ORkZHR7R/JwjdooujwmlGP7rOZyR4iAkAAKC4uRklJCV566SWcOHECixYtQnNzM+bPnw8AuO+++7By5crO7ZcuXYrS0lL8+te/xgcffIA1a9bgL3/5C5YsWZKoj0CK4Bs0UXR4zahH59nMZA8Rk0AAYO7cufjb3/6GRx99FF6vF+PGjUNpaWnnRI+zZ8/C7b4S795666145ZVX8Mgjj+DnP/85Ro8ejddffx0FBQWJ+gikEAnLdBHZidcMkV5chmHo0ZxJQT6fD5mZmWhqamI6mIiISBN8fgtKARMRERGRNQwAiYiIiByGASARERGRwzAAJCIiInIYBoBEREREDsMAkIiIiMhhGAASEREROQwDQCIiIiKHYQBIRERE5DBiloJLBHMRFZ/Pl+A9ISIiIqvM57aTF0NjANgPFy9eBAAMGzYswXtCRERE0bp48SIyMzMTvRsJwbWA+yEQCOCzzz7DoEGD4HL1fcFzn8+HYcOG4ZNPPnHsmoR24vdtH37X9uL3bS9+3/aJ9XdtGAYuXryIIUOGwO12ZjUcRwD7we1246tf/WrM/vcyMjJ4E7ERv2/78Lu2F79ve/H7tk8sv2unjvyZnBn2EhERETkYA0AiIiIih2EAqIDU1FSsXr0aqampid4VR+D3bR9+1/bi920vft/24Xcde5wEQkREROQwHAEkIiIichgGgEREREQOwwCQiIiIyGEYABIRERE5DANAm2zZsgXDhw9HWloaJk6ciMOHD4fd/ve//z2uv/56pKWlYcyYMdi7d69NeypDNN93SUkJbrvtNgwePBiDBw9GUVFRxONDV0R7bpt27twJl8uFOXPmxHcHhYn2+75w4QIWL16MvLw8pKam4rrrruP9JArRft9PPfUUvvGNb2DAgAEYNmwYli1bhi+//NKmvdXXO++8g1mzZmHIkCFwuVx4/fXXI/7NgQMHcPPNNyM1NRXXXnstXnzxxbjvpygGxd3OnTuNlJQUY9u2bcb7779vLFiwwMjKyjLq6+uDbn/o0CEjKSnJ+NWvfmUcP37ceOSRR4zk5GTj2LFjNu+5nqL9vu+55x5jy5YtxtGjR40TJ04Y//zP/2xkZmYa//3f/23znusn2u/aVFtbawwdOtS47bbbjNmzZ9uzswJE+323trYat9xyizFz5kzj4MGDRm1trXHgwAGjqqrK5j3XU7Tf98svv2ykpqYaL7/8slFbW2u8+eabRl5enrFs2TKb91w/e/fuNR5++GFj165dBgDjtddeC7v96dOnjfT0dKO4uNg4fvy48Zvf/MZISkoySktL7dlhARgA2mDChAnG4sWLO//b7/cbQ4YMMdatWxd0++9973vGnXfe2e1nEydONB588MG47qcU0X7fPV2+fNkYNGiQ8dJLL8VrF8Xoy3d9+fJl49ZbbzWee+454/7772cAGIVov+/f/va3xsiRI422tja7dlGUaL/vxYsXG1OnTu32s+LiYmPy5Mlx3U9prASAP/vZz4wbb7yx28/mzp1rTJ8+PY57JgtTwHHW1taGI0eOoKioqPNnbrcbRUVFKC8vD/o35eXl3bYHgOnTp4fcnq7oy/fdU0tLC9rb25GdnR2v3RShr9/1L37xC1xzzTV44IEH7NhNMfryfe/evRuFhYVYvHgxcnNzUVBQgCeeeAJ+v9+u3dZWX77vW2+9FUeOHOlME58+fRp79+7FzJkzbdlnJ+Fzsv+uSvQOSHfu3Dn4/X7k5uZ2+3lubi4++OCDoH/j9XqDbu/1euO2n1L05fvuafny5RgyZEivmwt115fv+uDBg3j++edRVVVlwx7K0pfv+/Tp09i/fz9+8IMfYO/evTh16hQeeughtLe3Y/Xq1Xbstrb68n3fc889OHfuHKZMmQLDMHD58mUsXLgQP//5z+3YZUcJ9Zz0+Xy4dOkSBgwYkKA90wdHAIm6WL9+PXbu3InXXnsNaWlpid4dUS5evIh7770XJSUlyMnJSfTuOEIgEMA111yDZ599FuPHj8fcuXPx8MMPY+vWrYneNZEOHDiAJ554As888wwqKyuxa9cu7NmzB2vXrk30rhH1whHAOMvJyUFSUhLq6+u7/by+vh4ejyfo33g8nqi2pyv68n2bNm7ciPXr12Pfvn246aab4rmbIkT7XdfU1ODMmTOYNWtW588CgQAA4KqrrsKHH36IUaNGxXenNdaXczsvLw/JyclISkrq/NkNN9wAr9eLtrY2pKSkxHWfddaX73vVqlW499578aMf/QgAMGbMGDQ3N+PHP/4xHn74YbjdHHOJlVDPyYyMDI7+WcSzMc5SUlIwfvx4lJWVdf4sEAigrKwMhYWFQf+msLCw2/YA8NZbb4Xcnq7oy/cNAL/61a+wdu1alJaW4pZbbrFjV7UX7Xd9/fXX49ixY6iqqur8d9ddd+Hb3/42qqqqMGzYMDt3Xzt9ObcnT56MU6dOdQbaAHDy5Enk5eUx+IugL993S0tLryDPDL4Nw4jfzjoQn5MxkOhZKE6wc+dOIzU11XjxxReN48ePGz/+8Y+NrKwsw+v1GoZhGPfee6+xYsWKzu0PHTpkXHXVVcbGjRuNEydOGKtXr2YbmChE+32vX7/eSElJMf7whz8YdXV1nf8uXryYqI+gjWi/6544Czg60X7fZ8+eNQYNGmQsWbLE+PDDD43//M//NK655hrjl7/8ZaI+glai/b5Xr15tDBo0yNixY4dx+vRp409/+pMxatQo43vf+16iPoI2Ll68aBw9etQ4evSoAcDYtGmTcfToUePjjz82DMMwVqxYYdx7772d25ttYH76058aJ06cMLZs2cI2MFFiAGiT3/zmN8bXvvY1IyUlxZgwYYJRUVHR+bs77rjDuP/++7tt/7vf/c647rrrjJSUFOPGG2809uzZY/Me6y2a7/vrX/+6AaDXv9WrV9u/4xqK9tzuigFg9KL9vt99911j4sSJRmpqqjFy5Ejj8ccfNy5fvmzzXusrmu+7vb3dWLNmjTFq1CgjLS3NGDZsmPHQQw8Z58+ft3/HNfP2228HvQ+b3+/9999v3HHHHb3+Zty4cUZKSooxcuRI44UXXrB9v3XmMgyOSxMRERE5CWsAiYiIiByGASARERGRwzAAJCIiInIYBoBEREREDsMAkIiIiMhhGAASEREROQwDQCIiIiKHYQBIRERE5DAMAImIiIgchgEgERERkcMwACQiIiJyGAaARERERA7DAJCIiIjIYRgAEhERETkMA0AiIiIih2EASEREROQwDACJiIiIHIYBIBEREZHDMAAkIiIichgGgEREREQOwwCQiIiIyGEYABIRERE5DANAIiIiIodhAEhERETkMAwAiYiIiByGASARERGRwzAAJCIiInIYBoBEREREDsMAkIiIiMhhGAASEREROQwDQCIiIiKH+f8BL0mYWqzdwnUAAAAASUVORK5CYII=",
      "_dom_classes": [],
      "_figure_label": "Figure 28",
      "_image_mode": "full",
      "_message": "",
      "_model_module": "jupyter-matplotlib",
      "_model_module_version": "^0.11",
      "_model_name": "MPLCanvasModel",
      "_rubberband_height": 0,
      "_rubberband_width": 0,
      "_rubberband_x": 0,
      "_rubberband_y": 0,
      "_size": [
       640,
       480
      ],
      "_view_count": null,
      "_view_module": "jupyter-matplotlib",
      "_view_module_version": "^0.11",
      "_view_name": "MPLCanvasView",
      "capture_scroll": false,
      "footer_visible": true,
      "header_visible": true,
      "layout": "IPY_MODEL_0bdc5db4cb244c0b8e4eda5d351d0b65",
      "pan_zoom_throttle": 33,
      "resizable": true,
      "toolbar": "IPY_MODEL_ae4208987f0043428e2f87a21af561b8",
      "toolbar_position": "left",
      "toolbar_visible": "fade-in-fade-out"
     }
    },
    "db742d370cf3494ea53ec24a02c3c975": {
     "model_module": "@jupyter-widgets/base",
     "model_module_version": "1.2.0",
     "model_name": "LayoutModel",
     "state": {
      "_model_module": "@jupyter-widgets/base",
      "_model_module_version": "1.2.0",
      "_model_name": "LayoutModel",
      "_view_count": null,
      "_view_module": "@jupyter-widgets/base",
      "_view_module_version": "1.2.0",
      "_view_name": "LayoutView",
      "align_content": null,
      "align_items": null,
      "align_self": null,
      "border": null,
      "bottom": null,
      "display": null,
      "flex": null,
      "flex_flow": null,
      "grid_area": null,
      "grid_auto_columns": null,
      "grid_auto_flow": null,
      "grid_auto_rows": null,
      "grid_column": null,
      "grid_gap": null,
      "grid_row": null,
      "grid_template_areas": null,
      "grid_template_columns": null,
      "grid_template_rows": null,
      "height": null,
      "justify_content": null,
      "justify_items": null,
      "left": null,
      "margin": null,
      "max_height": null,
      "max_width": null,
      "min_height": null,
      "min_width": null,
      "object_fit": null,
      "object_position": null,
      "order": null,
      "overflow": null,
      "overflow_x": null,
      "overflow_y": null,
      "padding": null,
      "right": null,
      "top": null,
      "visibility": null,
      "width": null
     }
    },
    "dd77f699721e4c1d97f27f13482a2bc9": {
     "model_module": "@jupyter-widgets/base",
     "model_module_version": "1.2.0",
     "model_name": "LayoutModel",
     "state": {
      "_model_module": "@jupyter-widgets/base",
      "_model_module_version": "1.2.0",
      "_model_name": "LayoutModel",
      "_view_count": null,
      "_view_module": "@jupyter-widgets/base",
      "_view_module_version": "1.2.0",
      "_view_name": "LayoutView",
      "align_content": null,
      "align_items": null,
      "align_self": null,
      "border": null,
      "bottom": null,
      "display": null,
      "flex": null,
      "flex_flow": null,
      "grid_area": null,
      "grid_auto_columns": null,
      "grid_auto_flow": null,
      "grid_auto_rows": null,
      "grid_column": null,
      "grid_gap": null,
      "grid_row": null,
      "grid_template_areas": null,
      "grid_template_columns": null,
      "grid_template_rows": null,
      "height": null,
      "justify_content": null,
      "justify_items": null,
      "left": null,
      "margin": null,
      "max_height": null,
      "max_width": null,
      "min_height": null,
      "min_width": null,
      "object_fit": null,
      "object_position": null,
      "order": null,
      "overflow": null,
      "overflow_x": null,
      "overflow_y": null,
      "padding": null,
      "right": null,
      "top": null,
      "visibility": null,
      "width": null
     }
    },
    "f50989d3da6b4381a4b904d135a6c802": {
     "model_module": "jupyter-matplotlib",
     "model_module_version": "^0.11",
     "model_name": "ToolbarModel",
     "state": {
      "_current_action": "",
      "_dom_classes": [],
      "_model_module": "jupyter-matplotlib",
      "_model_module_version": "^0.11",
      "_model_name": "ToolbarModel",
      "_view_count": null,
      "_view_module": "jupyter-matplotlib",
      "_view_module_version": "^0.11",
      "_view_name": "ToolbarView",
      "button_style": "",
      "collapsed": true,
      "layout": "IPY_MODEL_22ff4b331328428bba42693a568f9c27",
      "orientation": "vertical",
      "toolitems": [
       [
        "Home",
        "Reset original view",
        "home",
        "home"
       ],
       [
        "Back",
        "Back to previous view",
        "arrow-left",
        "back"
       ],
       [
        "Forward",
        "Forward to next view",
        "arrow-right",
        "forward"
       ],
       [
        "Pan",
        "Left button pans, Right button zooms\nx/y fixes axis, CTRL fixes aspect",
        "arrows",
        "pan"
       ],
       [
        "Zoom",
        "Zoom to rectangle\nx/y fixes axis",
        "square-o",
        "zoom"
       ],
       [
        "Download",
        "Download plot",
        "floppy-o",
        "save_figure"
       ]
      ]
     }
    },
    "f5a6c6026bd941129d15ef79bd29bbff": {
     "model_module": "@jupyter-widgets/base",
     "model_module_version": "1.2.0",
     "model_name": "LayoutModel",
     "state": {
      "_model_module": "@jupyter-widgets/base",
      "_model_module_version": "1.2.0",
      "_model_name": "LayoutModel",
      "_view_count": null,
      "_view_module": "@jupyter-widgets/base",
      "_view_module_version": "1.2.0",
      "_view_name": "LayoutView",
      "align_content": null,
      "align_items": null,
      "align_self": null,
      "border": null,
      "bottom": null,
      "display": null,
      "flex": null,
      "flex_flow": null,
      "grid_area": null,
      "grid_auto_columns": null,
      "grid_auto_flow": null,
      "grid_auto_rows": null,
      "grid_column": null,
      "grid_gap": null,
      "grid_row": null,
      "grid_template_areas": null,
      "grid_template_columns": null,
      "grid_template_rows": null,
      "height": null,
      "justify_content": null,
      "justify_items": null,
      "left": null,
      "margin": null,
      "max_height": null,
      "max_width": null,
      "min_height": null,
      "min_width": null,
      "object_fit": null,
      "object_position": null,
      "order": null,
      "overflow": null,
      "overflow_x": null,
      "overflow_y": null,
      "padding": null,
      "right": null,
      "top": null,
      "visibility": null,
      "width": null
     }
    },
    "f9fbb8a5f1ca48e8b4e637415782978b": {
     "model_module": "@jupyter-widgets/base",
     "model_module_version": "1.2.0",
     "model_name": "LayoutModel",
     "state": {
      "_model_module": "@jupyter-widgets/base",
      "_model_module_version": "1.2.0",
      "_model_name": "LayoutModel",
      "_view_count": null,
      "_view_module": "@jupyter-widgets/base",
      "_view_module_version": "1.2.0",
      "_view_name": "LayoutView",
      "align_content": null,
      "align_items": null,
      "align_self": null,
      "border": null,
      "bottom": null,
      "display": null,
      "flex": null,
      "flex_flow": null,
      "grid_area": null,
      "grid_auto_columns": null,
      "grid_auto_flow": null,
      "grid_auto_rows": null,
      "grid_column": null,
      "grid_gap": null,
      "grid_row": null,
      "grid_template_areas": null,
      "grid_template_columns": null,
      "grid_template_rows": null,
      "height": null,
      "justify_content": null,
      "justify_items": null,
      "left": null,
      "margin": null,
      "max_height": null,
      "max_width": null,
      "min_height": null,
      "min_width": null,
      "object_fit": null,
      "object_position": null,
      "order": null,
      "overflow": null,
      "overflow_x": null,
      "overflow_y": null,
      "padding": null,
      "right": null,
      "top": null,
      "visibility": null,
      "width": null
     }
    }
   }
  }
 },
 "nbformat": 4,
 "nbformat_minor": 5
}