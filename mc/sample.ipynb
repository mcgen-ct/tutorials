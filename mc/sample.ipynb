{
 "cells": [
  {
   "cell_type": "markdown",
   "id": "Random_Number_Generators",
   "metadata": {
    "id": "Random_Number_Generators"
   },
   "source": [
    "# Sampling and Monte Carlo integration"
   ]
  },
  {
   "cell_type": "markdown",
   "id": "qd-By19EJjgE",
   "metadata": {},
   "source": [
    "Uniform random number generators can be used to sample other probability models.\n",
    "This worksheet will cover two techniques to transform a uniform random variate to a desired probability distribution:   the inverse CDF and the accept/reject method.\n",
    "\n",
    "Random variates, uniform or not, are also a critical element of Monte Carlo (MC) integration techniques.  This worksheet will also cover this topic.\n",
    "\n",
    "Excellent background and practical material can be in the following references:\n",
    "* Devroye, Luc 1986 Non-Uniform Random Variate Generation [https://numerical.recipes/devroye/]\n",
    "* Gentle, James 2003 Random Number Generation and Monte Carlo Methods\n",
    "* Lepage, G.P. 1978, A New Algorithm for Adaptive Multidimensional Integration, Journal of Computational Physics, vol. 27, pp. 192-203\n",
    "* Lepage, G.P. 1980, VEGAS: An Adaptive Multidimensional Integration Program, Publication CLNS-80/447, Cornell University\n",
    "* Numerical Recipes Software 2007, [Complete VEGAS Code Listing](http://numerical.recipes/webnotes?9), Numerical Recipes Webnote No. 9\n",
    "* Press, W.H., and Farrar, G.R. 1990, Recursive Stratified Sampling for Multidimensional Monte Carlo Integration, Computers in Physics, vol. 4, pp. 190-195"
   ]
  },
  {
   "cell_type": "markdown",
   "id": "R2eorN_RO4Iw",
   "metadata": {
    "id": "Requirements"
   },
   "source": [
    "## Requirements"
   ]
  },
  {
   "cell_type": "markdown",
   "id": "Ib7sGa5eQCZd",
   "metadata": {},
   "source": [
    "We import both `numpy` and `scipy`.  Both have random number engines and integration routines. "
   ]
  },
  {
   "cell_type": "code",
   "execution_count": 6,
   "id": "w05VD3YaQPum",
   "metadata": {},
   "outputs": [],
   "source": [
    "import numpy as np\n",
    "import scipy as sp"
   ]
  },
  {
   "cell_type": "markdown",
   "id": "Introduction",
   "metadata": {
    "id": "Introduction"
   },
   "source": [
    "## Sampling:  inverse CDF method"
   ]
  },
  {
   "cell_type": "markdown",
   "id": "DReEcjhrJjgV",
   "metadata": {},
   "source": [
    "The CDF (or cumulative distribution function) is an integral (sum) over a continuous (discrete) probability distribution function.  For this worksheet, we consider continuous distributions.  We believe that all you need to know about discrete distributions can be inferred from your knowledge of continuous ones.\n",
    "\n",
    "The CDF has some nice properties.   First, it ranges from 0 to 1 -- the same range as our uniform random variates.   Second, it always increases from left to right.\n",
    "\n",
    "Consider a properly normalized probability distribution $p(x)$ with CDF $P(x)$ and inverse\n",
    "$P^{-1}(x)$.\n",
    "The iCDF method is to solve the equation $$u = P(x)$$ or $$x = P^{-1}(u)$$ for uniform random variate $u$.\n",
    "This works because:\n",
    "\n",
    "prob($P^{-1}(u) \\le x$) = prob($u \\le P(x)$) = $P(x)$ and\n",
    "\n",
    "prob($P(x) \\le u$) = prob($x \\le P^{-1}(u)$) = $P( P^{-1}(u) )$ = $u$.\n",
    "\n",
    "In practice, this method is useful only for a subset of interesting probability distributions.\n",
    "In other cases, one might need to solve $u = P(x)$ using numerical methods.\n",
    "\n",
    "Here is a selection of some probability distributions that can be sampled using the iCDF method:\n",
    "\n",
    "## Some useful probability distributions evaluated using iCDF method\n",
    "\n",
    "| Name | Range | Density $f(x)$ | $F(X)$ | $X=F^{-1}(U)$ |\n",
    "| --- |  --- |  --- | --- | --- |\n",
    "| Exponential | $x\\ge 0$ | $\\lambda \\exp(-\\lambda x)$ | $1-\\exp(-\\lambda x)$ | $-\\frac{1}{\\lambda}\\ln U$ |\n",
    "| Cauchy | $-\\infty < x < \\infty$ | $\\displaystyle\\frac{\\sigma}{\\pi(x^2+\\sigma^2)}$ | $\\displaystyle\\frac{1}{2}+\\frac{1}{\\pi}\\arctan(\\frac{x}{\\sigma})$ | $\\sigma \\tan(\\pi U)$ |\n",
    "| Triangular | $0\\le x\\le a$ | $\\displaystyle \\frac{2}{a}(1-\\frac{x}{a})$ | $\\displaystyle \\frac{2}{a}(x-\\frac{x^2}{2a})$ |  $a(1-\\sqrt{U})$ |\n",
    "\n",
    "Note, use has been made of the fact that, if $U$ is a uniform random variate distribution on $(0,1)$, then so is $1-U$.\n",
    "\n",
    "Exercise:  derive a sampling method for the Pareto(a,b) distribution $$\\displaystyle a b^a \\over x^{a+1}$$ over the range $x\\ge b\\gt 0$."
   ]
  },
  {
   "cell_type": "markdown",
   "id": "625f4e44-9b26-4299-995e-22d64fb2a51f",
   "metadata": {},
   "source": [
    "## Sampling:  Accept/Reject"
   ]
  },
  {
   "cell_type": "markdown",
   "id": "82970a07-474a-4c99-848f-9ed3c993393e",
   "metadata": {},
   "source": [
    "The iCDF method uses one random variate to generate another.   If we are willing to give up on this simple relation, we will find that we have much more flexibility to sample probability distributions.   To sample from a probability distribution $f(x)$, what is needed is a uniform random variate $u$ and a generator of another probability distribution $g(x)$ such that $f(x) < c g(x)$, where c is a constant.   $g(x)$ could be generated using any method, such as the iCDF method above.   The only challenge is to find a good function $g(x)$, which comes down to knowing something about $\\sup_x f(x)$.   Assume you know the actual maximum of $f(x) \\equiv f^*$.    Then, a simple (but possibly inefficient) algorithm is to select one uniform random variate to sample $x = x_\\min + (x_\\max - x_\\min) u_1$, then accept if $\\displaystyle u_2 < \\frac{f(x)}{f^*}$.   \n",
    "\n",
    "There are proofs of the basic accept/reject algorithm, but a convincing alternative is to draw a cartoon of the process and contemplate what is happening.   The algorithm samples uniformly over $(x,f(x))$ and uses the fact that the area under the curve is the integral of the function.\n",
    "It is ana"
   ]
  },
  {
   "cell_type": "code",
   "execution_count": 34,
   "id": "6c058af2-2abb-42f7-8700-70b09edd8e82",
   "metadata": {},
   "outputs": [
    {
     "data": {
      "image/png": "[encoded data removed]",
      "text/plain": [
       "<Figure size 200x200 with 1 Axes>"
      ]
     },
     "metadata": {},
     "output_type": "display_data"
    }
   ],
   "source": [
    "import matplotlib.pyplot as plt\n",
    "\n",
    "plt.style.use('_mpl-gallery')\n",
    "\n",
    "# make data\n",
    "x = np.linspace(-np.pi, np.pi, 100)\n",
    "y = 1 + np.cos(x)\n",
    "\n",
    "xp = np.array([-1.9,-0.3,0.5,2.2])\n",
    "yp = 1. + np.cos(xp)\n",
    "\n",
    "# plot\n",
    "fig, ax = plt.subplots()\n",
    "\n",
    "ax.plot(x, y, linewidth=2.0)\n",
    "ax.axhline(y=2,color=\"black\")\n",
    "ax.stem(xp,yp)\n",
    "ax.plot(xp[0],1.33,'x',color=\"red\")\n",
    "ax.plot(xp[1],0.87,'x',color=\"green\")\n",
    "ax.plot(xp[2],1.32,'x',color=\"green\")\n",
    "ax.plot(xp[3],0.75,'x',color=\"red\")\n",
    "\n",
    "plt.show()"
   ]
  },
  {
   "cell_type": "code",
   "execution_count": null,
   "id": "dc97d77d-a368-4599-a7de-c11098ac887a",
   "metadata": {},
   "outputs": [],
   "source": []
  }
 ],
 "metadata": {
  "colab": {
   "collapsed_sections": [
    "Requirements",
    "Introduction",
    "Middle_square_method",
    "Exercise:_implement_the_middle_square_method",
    "RNGs_based_on_modular_arithmetic",
    "Exercise:_patterns_in_multiplicative_congruential_generator",
    "Exercise:_choosing_better_parameters",
    "Combined_Generators",
    "XORshift_RNGs",
    "Exercise:_implement_bit_shifting",
    "Exercise:_determine_suitable_triplets",
    "Tests_of_Random_Number_Generators"
   ],
   "provenance": []
  },
  "kernelspec": {
   "display_name": "Python 3 (ipykernel)",
   "language": "python",
   "name": "python3"
  },
  "language_info": {
   "codemirror_mode": {
    "name": "ipython",
    "version": 3
   },
   "file_extension": ".py",
   "mimetype": "text/x-python",
   "name": "python",
   "nbconvert_exporter": "python",
   "pygments_lexer": "ipython3",
   "version": "3.10.17"
  }
 },
 "nbformat": 4,
 "nbformat_minor": 5
}
