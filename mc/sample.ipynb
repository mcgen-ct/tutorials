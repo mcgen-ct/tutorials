{
 "cells": [
  {
   "cell_type": "markdown",
   "id": "Random_Number_Generators",
   "metadata": {
    "id": "Random_Number_Generators"
   },
   "source": [
    "# Sampling and Monte Carlo integration"
   ]
  },
  {
   "cell_type": "markdown",
   "id": "qd-By19EJjgE",
   "metadata": {},
   "source": [
    "Uniform random number generators can be used to sample other probability models.\n",
    "This worksheet will cover two techniques to transform a uniform random variate to a desired probability distribution:   the inverse CDF and the accept/reject method.\n",
    "\n",
    "Random variates, uniform or not, are also a critical element of Monte Carlo (MC) integration techniques.  This worksheet will also cover this topic.\n",
    "\n",
    "Excellent background and practical material can be in the following references:\n",
    "* Devroye, Luc 1986 Non-Uniform Random Variate Generation [https://numerical.recipes/devroye/]\n",
    "* Gentle, James 2003 Random Number Generation and Monte Carlo Methods\n",
    "* Lepage, G.P. 1978, A New Algorithm for Adaptive Multidimensional Integration, Journal of Computational Physics, vol. 27, pp. 192-203\n",
    "* Lepage, G.P. 1980, VEGAS: An Adaptive Multidimensional Integration Program, Publication CLNS-80/447, Cornell University\n",
    "* Numerical Recipes Software 2007, [Complete VEGAS Code Listing](http://numerical.recipes/webnotes?9), Numerical Recipes Webnote No. 9\n",
    "* Press, W.H., and Farrar, G.R. 1990, Recursive Stratified Sampling for Multidimensional Monte Carlo Integration, Computers in Physics, vol. 4, pp. 190-195"
   ]
  },
  {
   "cell_type": "markdown",
   "id": "R2eorN_RO4Iw",
   "metadata": {
    "id": "Requirements"
   },
   "source": [
    "## Requirements"
   ]
  },
  {
   "cell_type": "markdown",
   "id": "Ib7sGa5eQCZd",
   "metadata": {},
   "source": [
    "We import both `numpy` and `scipy`.  Both have random number engines and integration routines. "
   ]
  },
  {
   "cell_type": "code",
   "execution_count": 6,
   "id": "w05VD3YaQPum",
   "metadata": {},
   "outputs": [],
   "source": [
    "import numpy as np\n",
    "import scipy as sp"
   ]
  },
  {
   "cell_type": "markdown",
   "id": "Introduction",
   "metadata": {
    "id": "Introduction"
   },
   "source": [
    "## Sampling:  inverse CDF method"
   ]
  },
  {
   "cell_type": "markdown",
   "id": "DReEcjhrJjgV",
   "metadata": {},
   "source": [
    "The CDF (or cumulative distribution function) is an integral (sum) over a continuous (discrete) probability distribution function.  For this worksheet, we consider continuous distributions.  We believe that all you need to know about discrete distributions can be inferred from your knowledge of continuous ones.\n",
    "\n",
    "The CDF has some nice properties.   First, it ranges from 0 to 1 -- the same range as our uniform random variates.   Second, it always increases from left to right.\n",
    "\n",
    "Consider a properly normalized probability distribution $p(x)$ with CDF $P(x)$ and inverse\n",
    "$P^{-1}(x)$.\n",
    "The iCDF method is to solve the equation $$u = P(x)$$ or $$x = P^{-1}(u)$$ for uniform random variate $u$.\n",
    "This works because:\n",
    "\n",
    "prob($P^{-1}(u) \\le x$) = prob($u \\le P(x)$) = $P(x)$ and\n",
    "\n",
    "prob($P(x) \\le u$) = prob($x \\le P^{-1}(u)$) = $P( P^{-1}(u) )$ = $u$.\n",
    "\n",
    "In practice, this method is useful only for a subset of interesting probability distributions.\n",
    "In other cases, one might need to solve $u = P(x)$ using numerical methods.\n",
    "\n",
    "Here is a selection of some probability distributions that can be sampled using the iCDF method:\n",
    "\n",
    "## Some useful probability distributions evaluated using iCDF method\n",
    "\n",
    "| Name | Range | Density $f(x)$ | $F(X)$ | $X=F^{-1}(U)$ |\n",
    "| --- |  --- |  --- | --- | --- |\n",
    "| Exponential | $x\\ge 0$ | $\\lambda \\exp(-\\lambda x)$ | $1-\\exp(-\\lambda x)$ | $-\\frac{1}{\\lambda}\\ln U$ |\n",
    "| Cauchy | $-\\infty < x < \\infty$ | $\\displaystyle\\frac{\\sigma}{\\pi(x^2+\\sigma^2)}$ | $\\displaystyle\\frac{1}{2}+\\frac{1}{\\pi}\\arctan(\\frac{x}{\\sigma})$ | $\\sigma \\tan(\\pi U)$ |\n",
    "| Triangular | $0\\le x\\le a$ | $\\displaystyle \\frac{2}{a}(1-\\frac{x}{a})$ | $\\displaystyle \\frac{2}{a}(x-\\frac{x^2}{2a})$ |  $a(1-\\sqrt{U})$ |\n",
    "\n",
    "Note, use has been made of the fact that, if $U$ is a uniform random variate distribution on $(0,1)$, then so is $1-U$.\n",
    "\n",
    "Exercise:  derive a sampling method for the Pareto(a,b) distribution $$\\displaystyle a b^a \\over x^{a+1}$$ over the range $x\\ge b\\gt 0$."
   ]
  },
  {
   "cell_type": "markdown",
   "id": "625f4e44-9b26-4299-995e-22d64fb2a51f",
   "metadata": {},
   "source": [
    "## Sampling:  Accept/Reject"
   ]
  },
  {
   "cell_type": "markdown",
   "id": "82970a07-474a-4c99-848f-9ed3c993393e",
   "metadata": {},
   "source": [
    "The iCDF method uses one random variate to generate another.   If we are willing to give up on this simple relation, we will find that we have much more flexibility to sample probability distributions.   To sample from a probability distribution $f(x)$, what is needed is a uniform random variate $u$ and a generator of another probability distribution $g(x)$ such that $f(x) < c g(x)$, where c is a constant.   $g(x)$ could be generated using any method, such as the iCDF method above.   The only challenge is to find a good function $g(x)$, which comes down to knowing something about $\\sup_x f(x)$.   Assume you know the actual maximum of $f(x) \\equiv f^*$.    Then, a simple (but possibly inefficient) algorithm is to select one uniform random variate to sample $x = x_\\min + (x_\\max - x_\\min) u_1$, then accept if $\\displaystyle u_2 < \\frac{f(x)}{f^*}$.   The \"trial\" function in this case is $f^*$.\n",
    "\n",
    "There are proofs of the basic accept/reject algorithm, but a convincing alternative is to draw a cartoon of the process and contemplate what is happening.   The algorithm samples uniformly over $(x,f(x))$ and uses the fact that the area under the curve is the integral of the function.\n",
    "\n",
    "In the plot below, the blue curve represents our function $f(x)$ with a maximum at $x=0$.\n",
    "The blue dots are random evaluations of $f(x)$ that are then compared to a uniform random variate, marked red or green depending upon whether the value of $x$ is accepted.   "
   ]
  },
  {
   "cell_type": "code",
   "execution_count": 55,
   "id": "6c058af2-2abb-42f7-8700-70b09edd8e82",
   "metadata": {},
   "outputs": [
    {
     "data": {
      "image/png": "[encoded data removed]",
      "text/plain": [
       "<Figure size 200x200 with 1 Axes>"
      ]
     },
     "metadata": {},
     "output_type": "display_data"
    }
   ],
   "source": [
    "import matplotlib.pyplot as plt\n",
    "\n",
    "plt.style.use('_mpl-gallery')\n",
    "\n",
    "# make data\n",
    "x = np.linspace(0, 1, 100)\n",
    "y = np.power(x,2) * (1-x)\n",
    "\n",
    "xp = np.array([0.19,0.3,0.5,0.92])\n",
    "yp = np.power(x,2) * (1-x)\n",
    "\n",
    "# plot\n",
    "fig, ax = plt.subplots()\n",
    "\n",
    "ax.plot(x, y, linewidth=2.0)\n",
    "ax.axhline(y=0.15,color=\"black\")\n",
    "#ax.stem(xp,yp)\n",
    "ax.plot(xp[0],0.11,'x',color=\"red\")\n",
    "ax.plot(xp[1],0.05,'x',color=\"green\")\n",
    "ax.plot(xp[2],0.10,'x',color=\"green\")\n",
    "ax.plot(xp[3],0.08,'x',color=\"red\")\n",
    "\n",
    "plt.show()"
   ]
  },
  {
   "cell_type": "markdown",
   "id": "93820ebd-bb6f-4c3d-8c19-dd30048658ca",
   "metadata": {},
   "source": [
    "### Majorizing"
   ]
  },
  {
   "cell_type": "markdown",
   "id": "6cb692dd-1531-4988-a04b-d98940f6ae49",
   "metadata": {},
   "source": [
    "For the example function, $x^2 (1-x)$ or B(3,2) (up to a normalization), the choice of a constant overestimate leads to a large inefficiency.   Roughly $1 over 2$ of the trial choices are rejected.   The algorithm would be improved if a trial function could be selected that is easy to sample but closer to the actual function of interest.   Thus, sampling relies on function approximation.  For this case, there are two lines that can be chosen that are always larger than the function of interest.  The combination of these lines \"majorizes\" $f(x)$.   Your exercise is to determine this majorizing function.   \n",
    "\n",
    "To demonstrate the method for B(3,2), we will find the line that goes through the x-axis at $x=0$.   The remainder of the exercise will be to find the line through $x=1$ and fully develop the selection algorithm.\n",
    "\n",
    "First, it is useful to know the mode of B(a,b).   This can be derived or looked up in a reference.  The mode is found by calculating the first derivative.\n",
    "\n",
    "Mode $=$ $a-1 \\over a+b-2$.\n",
    "\n",
    "A line through the origin has the functional from $y=m x$.   The optimal majorizing line will equal $f(x)$ at some point and, hence, have the same slope.   Solving this for a general B(a,b) yields the solution $x= {a-2 \\over a+b-3}$, or $1\\over 2$ (which might be obvious from the plot).   Thus, $y = m {1\\over 2} = {1\\over 2}^2 (1-{1\\over 2}) = {1\\over 8}$.   \n",
    "$y = {1\\over 4}x$ is the majorizing function to the left of the mode at $2 \\over 3$.\n",
    "\n",
    "The remainder of the exercise is to find the majorizing function to the right and match it to the majorizing function on the left.   \n",
    "\n",
    "Hint 1: you must guarantee that the function on the right is always larger than B(3,2).\n",
    "Hint 2: you can construct a CDF combining two triangle functions (see above) and use the iCDF method."
   ]
  },
  {
   "cell_type": "code",
   "execution_count": 56,
   "id": "3714ecd6-dd5c-493f-83dc-244794445761",
   "metadata": {},
   "outputs": [],
   "source": [
    "# Solution:\n",
    "# \n",
    "# iCDF:  if u < 4/5, x = sqrt(4/5 u)\n",
    "#        if u > 4/5, x = 1 - sqrt(1 - (u+4)/5)\n",
    "# rejection:  \n",
    "#        if x < 4/5, y = 1/4 x vs x^2 (1-x)\n",
    "#        if x > 4/5, y = 1-x   vs x^2 (1-x)\n",
    "# (check this)"
   ]
  },
  {
   "cell_type": "markdown",
   "id": "8c3e5f94-0319-4f16-afa2-575db3fb8b7c",
   "metadata": {},
   "source": [
    "Note, this algorithm can be improved by including a squeezing function.  A squeezing function bounds $f(x)$ from below.  This seems mostly to be of interest when it is expensive to evaluate $f(x)$."
   ]
  },
  {
   "cell_type": "markdown",
   "id": "0dbee752-64e3-49d5-b215-8997fa79d527",
   "metadata": {},
   "source": [
    "## Integration"
   ]
  },
  {
   "cell_type": "markdown",
   "id": "81b9c191-ab62-4647-b160-1b2c6d5b7e82",
   "metadata": {},
   "source": [
    "Fundamental Theorem of Calculus\n",
    "\n",
    "$$ I = \\int_{x_{\\min}}^{x_{\\max}} dx  f(x) = (x_\\max - x_\\min) \\langle I \\rangle $$"
   ]
  },
  {
   "cell_type": "markdown",
   "id": "65f058ff-279d-49db-a029-a3da26b527d1",
   "metadata": {},
   "source": []
  },
  {
   "cell_type": "markdown",
   "id": "d9afe4d1-8cd0-4480-ace0-49517bd89a21",
   "metadata": {},
   "source": [
    "$\\langle I \\rangle$ can be estimated by taking random evaluations of $f(x)$ and averaging.\n",
    "Simple example.   Compare to trapezoidal rule."
   ]
  },
  {
   "cell_type": "markdown",
   "id": "de1905b6-ee97-4a2b-bfa5-e9252d930777",
   "metadata": {},
   "source": [
    "The sampling of the integration variable $x$ need not be uniform, and can be optimized to capture certain features of the actual function $f(x)$.    \n",
    "\n",
    "Introduce Variance and show this is minimized by a $g(x) \\propto f(x)$.\n",
    "Simple example.  Compare to Gaussian quadrature."
   ]
  },
  {
   "cell_type": "markdown",
   "id": "03c1f58e-72a5-4691-8300-da93c15eec25",
   "metadata": {},
   "source": []
  },
  {
   "cell_type": "markdown",
   "id": "714215a1-efc7-44bb-8f34-fa953afa36be",
   "metadata": {},
   "source": [
    "Example for multidimensional integration.   Consider $x_i (1-x_i)$ for $i=1,N$ dimensions with \"numerical\" and Monte Carlo integration."
   ]
  },
  {
   "cell_type": "markdown",
   "id": "f5e0524b-42ad-4c0e-b780-c32bd03838b6",
   "metadata": {},
   "source": [
    "Consideration of variance reduction leads to Vegas algorithm.   Best sampling algorithm is one where $g(x)$ is approximately equal to $f(x)$.   How to construct such a function in a general way (for arbitrary integrands)?\n",
    "\n",
    "Take $g(x)$ equal to a sum of hat functions of equal area.\n",
    "Evaluate over $f(x)$ in one batch and find regions where $f(x)$ is largest.   Increase the weight of those hat functions and iterate over several batches.\n",
    "Thisis the"
   ]
  }
 ],
 "metadata": {
  "colab": {
   "collapsed_sections": [
    "Requirements",
    "Introduction",
    "Middle_square_method",
    "Exercise:_implement_the_middle_square_method",
    "RNGs_based_on_modular_arithmetic",
    "Exercise:_patterns_in_multiplicative_congruential_generator",
    "Exercise:_choosing_better_parameters",
    "Combined_Generators",
    "XORshift_RNGs",
    "Exercise:_implement_bit_shifting",
    "Exercise:_determine_suitable_triplets",
    "Tests_of_Random_Number_Generators"
   ],
   "provenance": []
  },
  "kernelspec": {
   "display_name": "Python 3 (ipykernel)",
   "language": "python",
   "name": "python3"
  },
  "language_info": {
   "codemirror_mode": {
    "name": "ipython",
    "version": 3
   },
   "file_extension": ".py",
   "mimetype": "text/x-python",
   "name": "python",
   "nbconvert_exporter": "python",
   "pygments_lexer": "ipython3",
   "version": "3.10.17"
  }
 },
 "nbformat": 4,
 "nbformat_minor": 5
}
