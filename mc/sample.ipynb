{
 "cells": [
  {
   "cell_type": "markdown",
   "id": "Random_Number_Generators",
   "metadata": {
    "id": "Random_Number_Generators"
   },
   "source": [
    "# Sampling and Monte Carlo integration"
   ]
  },
  {
   "cell_type": "markdown",
   "id": "qd-By19EJjgE",
   "metadata": {},
   "source": [
    "Uniform random number generators can be used to sample other probability models.\n",
    "This worksheet will cover two techniques to transform a uniform random variate to a desired probability distribution:   the inverse CDF and the accept/reject method.\n",
    "\n",
    "Random variates, uniform or not, are also a critical element of Monte Carlo (MC) integration techniques.  This worksheet will also cover this topic.\n",
    "\n",
    "Excellent background and practical material can be in the following references:\n",
    "* Devroye, Luc 1986 Non-Uniform Random Variate Generation [https://numerical.recipes/devroye/]\n",
    "* Gentle, James 2003 Random Number Generation and Monte Carlo Methods\n",
    "* Lepage, G.P. 1978, A New Algorithm for Adaptive Multidimensional Integration, Journal of Computational Physics, vol. 27, pp. 192-203\n",
    "* Lepage, G.P. 1980, VEGAS: An Adaptive Multidimensional Integration Program, Publication CLNS-80/447, Cornell University\n",
    "* Numerical Recipes Software 2007, [Complete VEGAS Code Listing](http://numerical.recipes/webnotes?9), Numerical Recipes Webnote No. 9\n",
    "* Press, W.H., and Farrar, G.R. 1990, Recursive Stratified Sampling for Multidimensional Monte Carlo Integration, Computers in Physics, vol. 4, pp. 190-195"
   ]
  },
  {
   "cell_type": "markdown",
   "id": "R2eorN_RO4Iw",
   "metadata": {
    "id": "Requirements"
   },
   "source": [
    "## Requirements"
   ]
  },
  {
   "cell_type": "markdown",
   "id": "Ib7sGa5eQCZd",
   "metadata": {},
   "source": [
    "We import both `numpy` and `scipy`.  Both have random number engines and integration routines. "
   ]
  },
  {
   "cell_type": "code",
   "execution_count": 1,
   "id": "w05VD3YaQPum",
   "metadata": {},
   "outputs": [],
   "source": [
    "import numpy as np\n",
    "import scipy as sp"
   ]
  },
  {
   "cell_type": "markdown",
   "id": "Introduction",
   "metadata": {
    "id": "Introduction"
   },
   "source": [
    "## Sampling:  inverse CDF method"
   ]
  },
  {
   "cell_type": "markdown",
   "id": "DReEcjhrJjgV",
   "metadata": {},
   "source": [
    "The CDF (or cumulative distribution function) is an integral (sum) over a continuous (discrete) probability distribution function.  For this worksheet, we consider continuous distributions.  We believe that all you need to know about discrete distributions can be inferred from your knowledge of continuous ones.\n",
    "\n",
    "The CDF has some nice properties.   First, it ranges from 0 to 1 -- the same range as our uniform random variates.   Second, it always increases from left to right.\n",
    "\n",
    "Consider a properly normalized probability distribution $p(x)$ with CDF $P(x)$ and inverse\n",
    "$P^{-1}(x)$.\n",
    "The iCDF method is to solve the equation $$u = P(x)$$ or $$x = P^{-1}(u)$$ for uniform random variate $u$.\n",
    "This works because:\n",
    "\n",
    "prob($P^{-1}(u) \\le x$) = prob($u \\le P(x)$) = $P(x)$ and\n",
    "\n",
    "prob($P(x) \\le u$) = prob($x \\le P^{-1}(u)$) = $P( P^{-1}(u) )$ = $u$.\n",
    "\n",
    "In practice, this method is useful only for a subset of interesting probability distributions.\n",
    "In other cases, one might need to solve $u = P(x)$ using numerical methods.\n",
    "\n",
    "Here is a selection of some probability distributions that can be sampled using the iCDF method:\n",
    "\n",
    "## Some useful probability distributions evaluated using iCDF method\n",
    "\n",
    "| Name | Range | Density $f(x)$ | $F(X)$ | $X=F^{-1}(U)$ |\n",
    "| --- |  --- |  --- | --- | --- |\n",
    "| Exponential | $x\\ge 0$ | $\\lambda \\exp(-\\lambda x)$ | $1-\\exp(-\\lambda x)$ | $-\\frac{1}{\\lambda}\\ln U$ |\n",
    "| Cauchy | $-\\infty < x < \\infty$ | $\\displaystyle\\frac{\\sigma}{\\pi(x^2+\\sigma^2)}$ | $\\displaystyle\\frac{1}{2}+\\frac{1}{\\pi}\\arctan(\\frac{x}{\\sigma})$ | $\\sigma \\tan(\\pi U)$ |\n",
    "| Triangular | $0\\le x\\le a$ | $\\displaystyle \\frac{2}{a}(1-\\frac{x}{a})$ | $\\displaystyle \\frac{2}{a}(x-\\frac{x^2}{2a})$ |  $a(1-\\sqrt{U})$ |\n",
    "\n",
    "Note, use has been made of the fact that, if $U$ is a uniform random variate distribution on $(0,1)$, then so is $1-U$.\n",
    "\n",
    "Exercise:  derive a sampling method for the triangular distribution and implement your own code to use the iCDF method.  Demonstrate that it produces the correct distribution.  (Note, you will use this case later)."
   ]
  },
  {
   "cell_type": "markdown",
   "id": "625f4e44-9b26-4299-995e-22d64fb2a51f",
   "metadata": {},
   "source": [
    "## Sampling:  Accept/Reject"
   ]
  },
  {
   "cell_type": "markdown",
   "id": "82970a07-474a-4c99-848f-9ed3c993393e",
   "metadata": {},
   "source": [
    "The iCDF method uses one random variate to generate another.   If we are willing to give up on this simple relation, we will find that we have much more flexibility to sample probability distributions.   To sample from a probability distribution $f(x)$, what is needed is a uniform random variate $u$ and a generator of another probability distribution $g(x)$ such that $f(x) < c g(x)$, where c is a constant.   $g(x)$ could be generated using any method, such as the iCDF method above.   The only challenge is to find a good function $g(x)$, which comes down to knowing something about $\\sup_x f(x)$.   Assume you know the actual maximum of $f(x) \\equiv f^*$.    Then, a simple (but possibly inefficient) algorithm is to select one uniform random variate to sample $x = x_\\min + (x_\\max - x_\\min) u_1$, then accept if $\\displaystyle u_2 < \\frac{f(x)}{f^*}$.   The \"trial\" function in this case is $f^*$.\n",
    "\n",
    "There are proofs of the basic accept/reject algorithm, but a convincing alternative is to draw a cartoon of the process and contemplate what is happening.   The algorithm samples uniformly over $(x,f(x))$ and uses the fact that the area under the curve is the integral of the function.\n",
    "\n",
    "In the plot below, the blue curve represents our function $f(x)$ with a maximum at $x=0$.\n",
    "The blue dots are random evaluations of $f(x)$ that are then compared to a uniform random variate, marked red or green depending upon whether the value of $x$ is accepted.   "
   ]
  },
  {
   "cell_type": "code",
   "execution_count": 2,
   "id": "6c058af2-2abb-42f7-8700-70b09edd8e82",
   "metadata": {},
   "outputs": [
    {
     "data": {
      "image/png": "[encoded data removed]",
      "text/plain": [
       "<Figure size 200x200 with 1 Axes>"
      ]
     },
     "metadata": {},
     "output_type": "display_data"
    }
   ],
   "source": [
    "import matplotlib.pyplot as plt\n",
    "\n",
    "plt.style.use('_mpl-gallery')\n",
    "\n",
    "# make data\n",
    "x = np.linspace(0, 1, 100)\n",
    "y = np.power(x,2) * (1-x)\n",
    "\n",
    "xp = np.array([0.19,0.3,0.5,0.92])\n",
    "yp = np.power(x,2) * (1-x)\n",
    "\n",
    "# plot\n",
    "fig, ax = plt.subplots()\n",
    "\n",
    "ax.plot(x, y, linewidth=2.0)\n",
    "ax.axhline(y=0.15,color=\"black\")\n",
    "#ax.stem(xp,yp)\n",
    "ax.plot(xp[0],0.11,'x',color=\"red\")\n",
    "ax.plot(xp[1],0.05,'x',color=\"green\")\n",
    "ax.plot(xp[2],0.10,'x',color=\"green\")\n",
    "ax.plot(xp[3],0.08,'x',color=\"red\")\n",
    "\n",
    "plt.show()"
   ]
  },
  {
   "cell_type": "markdown",
   "id": "93820ebd-bb6f-4c3d-8c19-dd30048658ca",
   "metadata": {},
   "source": [
    "### Majorizing"
   ]
  },
  {
   "cell_type": "markdown",
   "id": "6cb692dd-1531-4988-a04b-d98940f6ae49",
   "metadata": {},
   "source": [
    "For the example function, $x^2 (1-x)$ or B(3,2) (up to a normalization), the choice of a constant overestimate leads to a large inefficiency.   Roughly $1 over 2$ of the trial choices are rejected.   The algorithm would be improved if a trial function could be selected that is easy to sample but closer to the actual function of interest.   Thus, sampling relies on function approximation.  For this case, there are two lines that can be chosen that are always larger than the function of interest.  The combination of these lines \"majorizes\" $f(x)$.   Your exercise is to determine this majorizing function.   \n",
    "\n",
    "To demonstrate the method for B(3,2), we will find the line that goes through the x-axis at $x=0$.   The remainder of the exercise will be to find the line through $x=1$ and fully develop the selection algorithm.\n",
    "\n",
    "First, it is useful to know the mode of B(a,b).   This can be derived or looked up in a reference.  The mode is found by calculating the first derivative.\n",
    "\n",
    "Mode $=$ $a-1 \\over a+b-2$.\n",
    "\n",
    "A line through the origin has the functional from $y=m x$.   The optimal majorizing line will equal $f(x)$ at some point and, hence, have the same slope.   Solving this for a general B(a,b) yields the solution $x= {a-2 \\over a+b-3}$, or $1\\over 2$ (which might be obvious from the plot).   Thus, $y = m {1\\over 2} = {1\\over 2}^2 (1-{1\\over 2}) = {1\\over 8}$.   \n",
    "$y = {1\\over 4}x$ is the majorizing function to the left of the mode at $2 \\over 3$.\n",
    "\n",
    "The remainder of the exercise is to find the majorizing function to the right and match it to the majorizing function on the left.   \n",
    "\n",
    "Hint 1: you must guarantee that the function on the right is always larger than B(3,2).\n",
    "Hint 2: you can construct a CDF combining two triangle functions (see above) and use the iCDF method."
   ]
  },
  {
   "cell_type": "code",
   "execution_count": 56,
   "id": "3714ecd6-dd5c-493f-83dc-244794445761",
   "metadata": {},
   "outputs": [],
   "source": [
    "# Solution:\n",
    "# \n",
    "# iCDF:  if u < 4/5, x = sqrt(4/5 u)\n",
    "#        if u > 4/5, x = 1 - sqrt(1 - (u+4)/5)\n",
    "# rejection:  \n",
    "#        if x < 4/5, y = 1/4 x vs x^2 (1-x)\n",
    "#        if x > 4/5, y = 1-x   vs x^2 (1-x)\n",
    "# (check this)"
   ]
  },
  {
   "cell_type": "markdown",
   "id": "8c3e5f94-0319-4f16-afa2-575db3fb8b7c",
   "metadata": {},
   "source": [
    "Note, this algorithm can be improved by including a squeezing function.  A squeezing function bounds $f(x)$ from below.  This seems mostly to be of interest when it is expensive to evaluate $f(x)$."
   ]
  },
  {
   "cell_type": "markdown",
   "id": "0dbee752-64e3-49d5-b215-8997fa79d527",
   "metadata": {},
   "source": [
    "## Integration"
   ]
  },
  {
   "cell_type": "markdown",
   "id": "d40b266f-0499-4d90-b2f2-4bbdb47c76a8",
   "metadata": {},
   "source": [
    "Random variates can also be the basis for performing numerical integration.    In some cases, these methods, called Monte Carlo (MC) methods, can also be used to sample probability distributions.   The starting point is the fundamental theorem of calculus."
   ]
  },
  {
   "cell_type": "markdown",
   "id": "81b9c191-ab62-4647-b160-1b2c6d5b7e82",
   "metadata": {},
   "source": [
    "Mean Value Theorem of Calculus\n",
    "\n",
    "$$ I = \\int_{x_{\\min}}^{x_{\\max}} dx  f(x) = (x_\\max - x_\\min) \\langle f \\rangle $$"
   ]
  },
  {
   "cell_type": "markdown",
   "id": "62659443-8d0c-4d65-9bf9-8805eb9b1da6",
   "metadata": {},
   "source": [
    "The integral $I$ of a function $f(x)$ can be estimated by taking random evaluations of $f(x)$ and averaging.   For simplicity, we take the range of integration to be $(0,1)$.\n",
    "\n",
    "$$ I = \\langle f \\rangle = {1\\over N} \\sum_{i=1}^N f(x_i)$$\n",
    "\n",
    "Exercise:  Estimate the integral over the range (0,1):\n",
    "$$\n",
    "f(x) = 1/(1 + \\sinh[2x]*(\\ln[x])^2)\n",
    "$$\n",
    "(*Compare with real answer*)\n",
    "\n",
    "Compare to trapezoidal rule.\n",
    "See:  https://docs.scipy.org/doc/scipy/reference/generated/scipy.integrate.trapezoid.html"
   ]
  },
  {
   "cell_type": "code",
   "execution_count": 68,
   "id": "c01ad27e-3687-4759-9785-5ff7c2b4a4b5",
   "metadata": {},
   "outputs": [
    {
     "name": "stdout",
     "output_type": "stream",
     "text": [
      "trapezoidal result =  0.6924270485357307\n"
     ]
    }
   ],
   "source": [
    "from scipy import integrate\n",
    "x = np.linspace(1e-12, 1.0, num=50)\n",
    "y = 1 + np.sinh(2*x)*np.log(x)**2\n",
    "y = 1./y\n",
    "result = integrate.trapezoid(y, x)\n",
    "print(\"trapezoidal result = \",result)"
   ]
  },
  {
   "cell_type": "markdown",
   "id": "af306e04-ecdc-47f0-90a3-1e4b43e028ae",
   "metadata": {},
   "source": [
    "The sampling of the integration variable $x$ need not be uniform, and can be optimized to capture certain features of the actual function $f(x)$.    \n",
    "\n",
    "Introduce Variance and show this is minimized by a $g(x) \\propto f(x)$.\n",
    "Simple example.  Compare to Gaussian quadrature."
   ]
  },
  {
   "cell_type": "markdown",
   "id": "2fe8b2bc-749d-40a6-999d-2c37877a7d60",
   "metadata": {},
   "source": [
    "The sampling of the integration variable $x$ need not be uniform, and can be optimized to capture certain features of the actual function $f(x)$.    This is because the choice of integration variable can be viewed as a change of coordinates in the integration variable, i.e.:\n",
    "\n",
    "$$\n",
    "\\displaystyle I = \\int dx g(x) {f(x) \\over g(x) } = {1 \\over N }\\sum_{i=1}^N {f(x_i) \\over g(x_i)}\\bigg\\vert_{x_i\\sim g}\n",
    "$$\n",
    "\n",
    "What hasn't been discussed so far is the expected uncertainty in the integral estimate,\n",
    "$$\n",
    "\\sqrt{\\bigg\\langle {f^2 \\over g^2} \\bigg\\rangle - {\\bigg\\langle {f\\over g} \\bigg\\rangle}^2} / \\sqrt{N}.\n",
    "$$\n",
    "Choosing $g \\sim f$ will reduce the variance.   If one could find $g(x) \\propto f(x)$ and sample from it, then the variance would be $0$, but then the integral could be done analytically.\n",
    "\n",
    "Exercise:  find a $g(x)$ to improve the MC integration and demonstrate the reduction in variance."
   ]
  },
  {
   "cell_type": "markdown",
   "id": "c9a071a8-6814-4c68-a7b4-b081b168e511",
   "metadata": {},
   "source": [
    "Finding a custom $g(x)$ to reduce the variance yields a better result from the MC algorithm, but it is much easier (and accurate) to estimate the 1-d integral using a method like the trapezoid rule.   For multi-dimensional integrals, the MC method may be the only practical method to accurately estimate an integral.   Include a timed example of quadrature vs MC methods as a function of dimensions."
   ]
  },
  {
   "cell_type": "markdown",
   "id": "356e9230-473b-4b4a-bc59-622089776934",
   "metadata": {},
   "source": [
    "## Importance and Stratified Sampling"
   ]
  },
  {
   "cell_type": "markdown",
   "id": "2ba24526-760e-468d-ad4d-45610bcc9b34",
   "metadata": {},
   "source": [
    "Advanced techniques for performing MC integration rely on adapting some part of the algorithm and continuing until some criteria are satisfied.   Several good, general purpose tools exist, are readily available, and have good documentation and support.\n",
    "\n",
    "However, it is worthwhile to discuss the algorithms for those cases when you need to do something out of the ordinary.\n",
    "These algorithms adapt the sampling of the random variates based on these principle:   the integrand should be sampled where it is the largest, and the integrand should be sampled more where it is know less accurately.   The first principle leads to Importance Sampling, the second to Stratified Sampling.\n",
    "\n",
    "This workbook concentrates on Importance Sampling.   Importance Sampling is related to the change of variable technique.\n",
    "As shown, sampling according to $g(x) \\propto f(x)$ reduces the variance, but it also means we have \"flattened\" the integration to be almost uniform in the new random variate.   For non-trivial cases, the problem is how to find such a $g(x)$ that is also invertible and efficiently sampled.    Also, the method should be generic, i.e. the user should not have to optimize a function on their own\n",
    "(though intelligently choices can be made for the integration variables before attemping any numerical techniques if one has any information about the rough behavior of the integrand).\n",
    "\n",
    "Take $g(x)$ equal to a sum of hat functions of equal area.\n",
    "Evaluate over $f(x)$ in one batch and find regions where $f(x)$ is largest.   Increase the weight of those hat functions and iterate over several batches.  This is the core idea behind Vegas.   \n",
    "\n",
    "\n",
    "\n"
   ]
  },
  {
   "cell_type": "code",
   "execution_count": 10,
   "id": "bc39ec48-fdf9-4f59-908c-3a41b1b388a7",
   "metadata": {},
   "outputs": [],
   "source": [
    "def rebin(rc,r,xi):\n",
    "    dr=0\n",
    "    k=-1\n",
    "    xn=0\n",
    "    nd=len(r)\n",
    "    xin=np.zeros_like(xi)\n",
    "    for i in range(0,nd-1):\n",
    "        while rc > dr and k < nd-1:\n",
    "            k = k+1\n",
    "            dr = dr + r[k]\n",
    "            xo = xn\n",
    "            xn = xi[k]\n",
    "        dr = dr - rc\n",
    "        xin[i] = xn - (xn-xo)*dr/r[k]\n",
    "    xin[-1]=1.0\n",
    "    return xin"
   ]
  },
  {
   "cell_type": "code",
   "execution_count": 11,
   "id": "3957f2cc-5ecd-4bb2-b2cd-568326614a2e",
   "metadata": {},
   "outputs": [],
   "source": [
    "def integrate_mc(f,xout,Nin,Min):\n",
    "    y  = np.zeros(Nin)\n",
    "    ys = np.zeros(Nin)\n",
    "    NM = Nin*Min\n",
    "    r = np.random.rand(NM,1)\n",
    "    rN = r*Nin\n",
    "    ibin = rN.astype(int)\n",
    "    rp = rN - ibin\n",
    "    dl = np.zeros_like(xout)\n",
    "    dl[1:]=xout[0:-1]\n",
    "    xdiff = np.diff(xout,prepend=0)\n",
    "\n",
    "    for i,ibb in enumerate(ibin):\n",
    "        ib = int(ibb)\n",
    "        #if i < 10: print(i,ib,r[i],rp[i])\n",
    "        #dx = xout[ib]\n",
    "        #dl = 0.0\n",
    "        #if ib > 0: dl = xout[ib-1]\n",
    "        x = dl[ib] + xdiff[ib]*rp[i]\n",
    "        fs = f(x)*xdiff[ib]*Nin\n",
    "        y[ib] += fs\n",
    "        ys[ib] += fs*fs\n",
    "    return y/NM,ys/NM"
   ]
  },
  {
   "cell_type": "code",
   "execution_count": 63,
   "id": "1b2b521c-00de-47b1-9c2a-0891ba3596e8",
   "metadata": {},
   "outputs": [],
   "source": [
    "# One needs an integrand:\n",
    "def func(x):\n",
    "    return x*(1-x)"
   ]
  },
  {
   "cell_type": "code",
   "execution_count": 25,
   "id": "afbe5743-3000-44a9-a7de-bdcc1dfd584e",
   "metadata": {},
   "outputs": [],
   "source": [
    "# Parameters for the adaptive method\n",
    "K=10\n",
    "N=1000\n",
    "M=500"
   ]
  },
  {
   "cell_type": "code",
   "execution_count": null,
   "id": "f9e535af-0db0-4ee8-ac95-5d3beb226045",
   "metadata": {},
   "outputs": [],
   "source": []
  },
  {
   "cell_type": "code",
   "execution_count": 26,
   "id": "2c750aa4-ac7d-4171-a342-1ac7b632e1a6",
   "metadata": {},
   "outputs": [
    {
     "name": "stderr",
     "output_type": "stream",
     "text": [
      "/var/folders/p4/wl536gtd6nldhtfpx68j4xrh0000gp/T/ipykernel_89555/1173027056.py:14: DeprecationWarning: Conversion of an array with ndim > 0 to a scalar is deprecated, and will error in future. Ensure you extract a single element from your array before performing this operation. (Deprecated NumPy 1.25.)\n",
      "  ib = int(ibb)\n",
      "/var/folders/p4/wl536gtd6nldhtfpx68j4xrh0000gp/T/ipykernel_89555/1173027056.py:21: DeprecationWarning: Conversion of an array with ndim > 0 to a scalar is deprecated, and will error in future. Ensure you extract a single element from your array before performing this operation. (Deprecated NumPy 1.25.)\n",
      "  y[ib] += fs\n",
      "/var/folders/p4/wl536gtd6nldhtfpx68j4xrh0000gp/T/ipykernel_89555/1173027056.py:22: DeprecationWarning: Conversion of an array with ndim > 0 to a scalar is deprecated, and will error in future. Ensure you extract a single element from your array before performing this operation. (Deprecated NumPy 1.25.)\n",
      "  ys[ib] += fs*fs\n"
     ]
    },
    {
     "name": "stdout",
     "output_type": "stream",
     "text": [
      "[0.16676779 0.16667483 0.16667035 0.16666303 0.16666339 0.1666753\n",
      " 0.16667598 0.16667458 0.16667988 0.16665122 0.16667388] [1.11157720e-08 1.15192916e-10 9.68799129e-11 1.11688078e-10\n",
      " 1.09399954e-10 1.07423156e-10 1.21653479e-10 1.03154746e-10\n",
      " 1.18643247e-10 1.14269114e-10 1.06050988e-10]\n",
      "0.166670328095083   5.524462424843131e-07   6.698717666781361   0.6931471805599453\n"
     ]
    }
   ],
   "source": [
    "np.random.seed(1234)\n",
    "xdim,step = np.linspace(0.0,1.0,num=N+1,retstep=True)\n",
    "xout = xdim[1:]\n",
    "feval = np.zeros(K+1)\n",
    "ferr  = np.zeros(K+1)\n",
    "for k in range(0,K):\n",
    "    ydim,ydim2  = integrate_mc(func,xout,N,M)\n",
    "    ftmp  = np.sum(ydim)\n",
    "    fetmp = np.sum(ydim2)\n",
    "    feval[k]=ftmp\n",
    "    ferr[k]=(N*M-1)/(fetmp-ftmp*ftmp)\n",
    "    cdf   = np.sum(ydim)/N\n",
    "    xout  = rebin(cdf,ydim,xout)\n",
    "    ydim_old = ydim\n",
    "#    \n",
    "ydim,ydim2 = integrate_mc(func,xout,N,M)\n",
    "ftmp  = np.sum(ydim)\n",
    "fetmp = np.sum(ydim2)\n",
    "feval[K]=ftmp\n",
    "ferr[K] =(N*M-1)/(fetmp-ftmp*ftmp)\n",
    "print(feval,1./ferr)\n",
    "std = np.sum(ferr)\n",
    "ave = np.sum(feval*ferr)\n",
    "chi2 = np.sum( (feval-ave/std)**2*ferr )\n",
    "print(ave/std,\" \",1./np.sqrt(std)*ave/std,\" \",chi2)"
   ]
  },
  {
   "cell_type": "code",
   "execution_count": 39,
   "id": "db319c4d-c01e-4fa1-9785-4fcf892da4ff",
   "metadata": {},
   "outputs": [],
   "source": [
    "from vegas import Integrator\n",
    "import vegas"
   ]
  },
  {
   "cell_type": "code",
   "execution_count": 40,
   "id": "d6c03193-c294-4181-9339-d12b408975d1",
   "metadata": {},
   "outputs": [
    {
     "data": {
      "text/plain": [
       "'itn   integral        wgt average     chi2/dof        Q\\n-------------------------------------------------------\\n  1   0.166701(42)    0.166701(42)        0.00     1.00\\n  2   0.166625(44)    0.166665(30)        1.61     0.20\\n  3   0.166674(51)    0.166667(26)        0.82     0.44\\n  4   0.166790(55)    0.166690(24)        1.89     0.13\\n  5   0.166633(63)    0.166683(22)        1.60     0.17\\n'"
      ]
     },
     "execution_count": 40,
     "metadata": {},
     "output_type": "execute_result"
    }
   ],
   "source": [
    "integ = Integrator([[0,1]])\n",
    "result = integ(func,nitn=5,neval=1000)\n",
    "result.summary()"
   ]
  },
  {
   "cell_type": "code",
   "execution_count": 99,
   "id": "15541f7f-dfde-4eb4-b447-7711ec862531",
   "metadata": {},
   "outputs": [],
   "source": [
    "m = vegas.AdaptiveMap([[0,1]],ninc=9.)\n",
    "integ = vegas.Integrator(m)\n",
    "ny=1000\n",
    "y=np.random.uniform(0.,1.,(ny,1))\n",
    "x=np.empty(y.shape,float)\n",
    "jac=np.empty(y.shape[0],float)\n",
    "f2=np.empty(y.shape[0],float)"
   ]
  },
  {
   "cell_type": "code",
   "execution_count": 100,
   "id": "bd049655-f5b6-41a9-b52a-64f2afa9f6bd",
   "metadata": {},
   "outputs": [
    {
     "name": "stdout",
     "output_type": "stream",
     "text": [
      "    grid[ 0] = [0.    0.111 0.222 0.333 0.444 0.556 0.667 0.778 0.889\n",
      "                1.   ]\n",
      "\n"
     ]
    }
   ],
   "source": [
    "print(m.settings())"
   ]
  },
  {
   "cell_type": "code",
   "execution_count": 101,
   "id": "1f53d2d0-0472-43d6-8e3f-0b31768629fb",
   "metadata": {},
   "outputs": [
    {
     "name": "stderr",
     "output_type": "stream",
     "text": [
      "/var/folders/p4/wl536gtd6nldhtfpx68j4xrh0000gp/T/ipykernel_89555/186424577.py:4: DeprecationWarning: Conversion of an array with ndim > 0 to a scalar is deprecated, and will error in future. Ensure you extract a single element from your array before performing this operation. (Deprecated NumPy 1.25.)\n",
      "  f2[j] = (jac[j] * func(x[j])) ** 2\n"
     ]
    },
    {
     "data": {
      "image/png": "[encoded data removed]",
      "text/plain": [
       "<Figure size 200x200 with 1 Axes>"
      ]
     },
     "metadata": {},
     "output_type": "display_data"
    },
    {
     "name": "stdout",
     "output_type": "stream",
     "text": [
      "iteration 0:\n",
      "    grid[ 0] = [0.    0.18  0.291 0.38  0.461 0.539 0.621 0.71  0.819\n",
      "                1.   ]\n",
      "\n"
     ]
    },
    {
     "data": {
      "image/png": "[encoded data removed]",
      "text/plain": [
       "<Figure size 200x200 with 1 Axes>"
      ]
     },
     "metadata": {},
     "output_type": "display_data"
    },
    {
     "name": "stdout",
     "output_type": "stream",
     "text": [
      "iteration 1:\n",
      "    grid[ 0] = [0.    0.19  0.297 0.382 0.461 0.536 0.615 0.7   0.805\n",
      "                1.   ]\n",
      "\n"
     ]
    },
    {
     "data": {
      "image/png": "[encoded data removed]",
      "text/plain": [
       "<Figure size 200x200 with 1 Axes>"
      ]
     },
     "metadata": {},
     "output_type": "display_data"
    },
    {
     "name": "stdout",
     "output_type": "stream",
     "text": [
      "iteration 2:\n",
      "    grid[ 0] = [0.    0.192 0.297 0.382 0.46  0.536 0.614 0.698 0.801\n",
      "                1.   ]\n",
      "\n"
     ]
    },
    {
     "data": {
      "image/png": "[encoded data removed]",
      "text/plain": [
       "<Figure size 200x200 with 1 Axes>"
      ]
     },
     "metadata": {},
     "output_type": "display_data"
    },
    {
     "name": "stdout",
     "output_type": "stream",
     "text": [
      "iteration 3:\n",
      "    grid[ 0] = [0.    0.193 0.297 0.382 0.46  0.536 0.614 0.699 0.801\n",
      "                1.   ]\n",
      "\n"
     ]
    },
    {
     "data": {
      "image/png": "[encoded data removed]",
      "text/plain": [
       "<Figure size 200x200 with 1 Axes>"
      ]
     },
     "metadata": {},
     "output_type": "display_data"
    },
    {
     "name": "stdout",
     "output_type": "stream",
     "text": [
      "iteration 4:\n",
      "    grid[ 0] = [0.    0.193 0.297 0.382 0.46  0.536 0.614 0.699 0.8\n",
      "                1.   ]\n",
      "\n"
     ]
    },
    {
     "data": {
      "text/plain": [
       "'itn   integral        wgt average     chi2/dof        Q\\n-------------------------------------------------------\\n  1   0.166766(86)    0.166766(86)        0.00     1.00\\n  2   0.166638(64)    0.166684(52)        1.41     0.24\\n  3   0.166636(70)    0.166667(42)        0.86     0.42\\n  4   0.166666(70)    0.166667(36)        0.57     0.63\\n  5   0.166714(79)    0.166675(33)        0.50     0.73\\n  6   0.166647(79)    0.166671(30)        0.42     0.83\\n  7   0.166738(85)    0.166678(28)        0.45     0.85\\n  8   0.166606(85)    0.166671(27)        0.48     0.85\\n  9   0.166704(88)    0.166674(26)        0.43     0.90\\n 10   0.166432(89)    0.166655(25)        1.14     0.33\\n'"
      ]
     },
     "execution_count": 101,
     "metadata": {},
     "output_type": "execute_result"
    }
   ],
   "source": [
    "for itn in range(5):\n",
    "    m.map(y, x, jac)\n",
    "    for j in range(ny):                  # compute training data\n",
    "        f2[j] = (jac[j] * func(x[j])) ** 2\n",
    "\n",
    "    m.add_training_data(y, f2)           # adapt\n",
    "    m.adapt(alpha=1.5)\n",
    "    m.show_grid()\n",
    "\n",
    "    print('iteration %d:' % itn)\n",
    "    print(m.settings())    \n",
    "integ=vegas.Integrator(m)\n",
    "r = integ(func, neval=1e3)\n",
    "r.summary()"
   ]
  },
  {
   "cell_type": "code",
   "execution_count": 102,
   "id": "b2ecc8ba-babb-43b9-a6ca-28eab29bb90d",
   "metadata": {},
   "outputs": [
    {
     "data": {
      "image/png": "[encoded data removed]",
      "text/plain": [
       "<Figure size 200x200 with 1 Axes>"
      ]
     },
     "metadata": {},
     "output_type": "display_data"
    }
   ],
   "source": [
    "m.show_grid()"
   ]
  },
  {
   "cell_type": "code",
   "execution_count": null,
   "id": "3971585f-bf6e-4e8a-a505-12733463620c",
   "metadata": {},
   "outputs": [],
   "source": []
  }
 ],
 "metadata": {
  "colab": {
   "collapsed_sections": [
    "Requirements",
    "Introduction",
    "Middle_square_method",
    "Exercise:_implement_the_middle_square_method",
    "RNGs_based_on_modular_arithmetic",
    "Exercise:_patterns_in_multiplicative_congruential_generator",
    "Exercise:_choosing_better_parameters",
    "Combined_Generators",
    "XORshift_RNGs",
    "Exercise:_implement_bit_shifting",
    "Exercise:_determine_suitable_triplets",
    "Tests_of_Random_Number_Generators"
   ],
   "provenance": []
  },
  "kernelspec": {
   "display_name": "Python 3 (ipykernel)",
   "language": "python",
   "name": "python3"
  },
  "language_info": {
   "codemirror_mode": {
    "name": "ipython",
    "version": 3
   },
   "file_extension": ".py",
   "mimetype": "text/x-python",
   "name": "python",
   "nbconvert_exporter": "python",
   "pygments_lexer": "ipython3",
   "version": "3.10.18"
  }
 },
 "nbformat": 4,
 "nbformat_minor": 5
}
