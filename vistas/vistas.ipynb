{
 "cells": [
  {
   "cell_type": "markdown",
   "metadata": {
    "id": "Visualization"
   },
   "source": [
    "# Visualization"
   ]
  },
  {
   "cell_type": "markdown",
   "metadata": {},
   "source": [
    "This notebook provides a short guide on how to use the visualization tool VISTAS, developed by the [MLhad](https://uchep.gitlab.io/mlhad-docs/) group for Pythia. VISTAS is still in a beta stage, and so bugs are to be expected."
   ]
  },
  {
   "cell_type": "markdown",
   "metadata": {
    "id": "Requirements"
   },
   "source": [
    "## Requirements"
   ]
  },
  {
   "cell_type": "markdown",
   "metadata": {},
   "source": [
    "Before running this notebook, we need to set up our environment. First, we install and import the wurlitzer module. This allows programs that have C-like backends to write their output to the Python console. In short, this allows the output of Pythia to be displayed in this notebook."
   ]
  },
  {
   "cell_type": "code",
   "execution_count": null,
   "metadata": {},
   "outputs": [],
   "source": [
    "# Redirect the C output of Pythia to the notebook.\n",
    "!pip install wurlitzer\n",
    "from wurlitzer import sys_pipes_forever\n",
    "\n",
    "sys_pipes_forever()"
   ]
  },
  {
   "cell_type": "markdown",
   "metadata": {},
   "source": [
    "Next, we need to install the Pythia module."
   ]
  },
  {
   "cell_type": "code",
   "execution_count": null,
   "metadata": {},
   "outputs": [],
   "source": [
    "# Install and import the Pythia module.\n",
    "!pip install pythia8mc\n",
    "import pythia8mc as pythia8"
   ]
  },
  {
   "cell_type": "markdown",
   "metadata": {},
   "source": [
    "Finally, we need to download and import the visuzation module."
   ]
  },
  {
   "cell_type": "code",
   "execution_count": null,
   "metadata": {},
   "outputs": [],
   "source": [
    "# Download the visualization module.\n",
    "!wget -q -N https://gitlab.com/mcgen-ct/tutorials/-/raw/main/vistas/visualization.py\n",
    "!wget -q -N https://gitlab.com/mcgen-ct/tutorials/-/raw/main/vistas/status_meaning.py\n",
    "\n",
    "# Import `math` and `visualization` modules.\n",
    "import math\n",
    "import visualization"
   ]
  },
  {
   "cell_type": "markdown",
   "metadata": {
    "id": "Introduction"
   },
   "source": [
    "## Introduction"
   ]
  },
  {
   "cell_type": "markdown",
   "metadata": {},
   "source": [
    "The idea behind VISTAS, a Visualization Interface for Particle Collision Simulations, is to provide a more intuitive way to visualize high energy particle collisions as produced by Monte Carlo event generators. In this initial version of VISTAS, the focus has been to convert the output of Pythia into an interactive visual representation of the event generation process, where the different steps of high energy physics MC event generation are shown, including hard process, parton shower, and hadronization. This is different from experimental event displays, where events are displayed as reconstructed by the detector from real data.\n",
    "\n",
    "VISTAS uses the [Phoenix event display framework](https://github.com/HSF/phoenix), which is focused on experimental event displays. The output of Pythia events is parsed into a format which can be used in this framework and then displayed interactively."
   ]
  },
  {
   "cell_type": "markdown",
   "metadata": {
    "id": "Running_Vistas"
   },
   "source": [
    "## Running Vistas"
   ]
  },
  {
   "cell_type": "markdown",
   "metadata": {},
   "source": [
    "Displaying Pythia events in a way that provides some intuition can be challenging, and so there are a number of options that we have explored on how the visualization can be produced. Below is a dictionary of the possible settings that are available. Documentation is still in the process of being written up, but hopefully some of the options names are relatively straight forward."
   ]
  },
  {
   "cell_type": "code",
   "execution_count": null,
   "metadata": {},
   "outputs": [],
   "source": [
    "# Define settings for the visualization.\n",
    "settings = {\n",
    "    # Removes carbon copies.\n",
    "    \"remove_copy\": True,\n",
    "    # Includes beam remnants.\n",
    "    \"beam_remnant\": True,\n",
    "    # Scale factor for visualization.\n",
    "    \"scale_factor\": 1,\n",
    "    # Boost mode: None, \"cm_incoming\", \"cm_outgoing\".\n",
    "    \"boost_mode\": None,\n",
    "    # Scaling type: \"unit\", \"energy\", \"log_energy\".\n",
    "    \"scaling_type\": \"unit\",\n",
    "    # Rescaling: \"none\", \"total_distance_based\", \"category_distance_based\".\n",
    "    \"rescaling_type\": \"category_distance_based\",\n",
    "    # Base length added to each track.\n",
    "    \"base_length\": 40,\n",
    "    # Shows color connections.\n",
    "    \"color_connection\": True,\n",
    "    # Includes multi-parton interactions.\n",
    "    \"mpi\": True,\n",
    "    # Highlight certain category, all others are grayed out: \"hard_process\",\n",
    "    # \"beam_remnants\", \"MPI\", \"parton_shower\", \"hadronization\",\n",
    "    # \"color_connection\".\n",
    "    \"highlight_category\": None,\n",
    "    # Define where the MPI locations are shifted from the hard process.\n",
    "    \"mpi_location\": [\n",
    "        # Shift in x, cos(25 degrees).\n",
    "        1 / math.sqrt(2) * math.cos(math.radians(25)) * 30,\n",
    "        # Shift in y, sin(25 degrees).\n",
    "        1 / math.sqrt(2) * math.sin(math.radians(25)) * 30,\n",
    "        # Shift in z.\n",
    "        0.0,\n",
    "    ],\n",
    "}"
   ]
  },
  {
   "cell_type": "markdown",
   "metadata": {},
   "source": [
    "After creating the settings, we create a Pythia instance, configure it, and generate event. We then take that event, pass it to VISTAS, and generate a JSON file."
   ]
  },
  {
   "cell_type": "code",
   "execution_count": null,
   "metadata": {},
   "outputs": [],
   "source": [
    "# Create and configure a Pythia instance.\n",
    "pythia = pythia8.Pythia()\n",
    "\n",
    "# Configure Pythia here. We can look at top production for example.\n",
    "pythia.readString(\"Top:gg2ttbar = on\")\n",
    "\n",
    "# Initialize Pythia and generate an event.\n",
    "pythia.init()\n",
    "pythia.next()\n",
    "\n",
    "# Initialize the Visualization tool.\n",
    "vistas = visualization.Visualization(pythia, settings)\n",
    "\n",
    "# Write the output to a JSON file.\n",
    "vistas.write_json(\"ttbar.json\");"
   ]
  },
  {
   "cell_type": "markdown",
   "metadata": {
    "id": "Using_Phoenix"
   },
   "source": [
    "## Using Phoenix"
   ]
  },
  {
   "cell_type": "markdown",
   "metadata": {},
   "source": [
    "Once we have the JSON file, we can download it from this notebook (if running on Colab) and upload it to [Phoenix](https://hepsoftwarefoundation.org/phoenix).\n",
    "\n",
    "1. Open the Colab file explorer indicated by the folder icon on the left-hand menu of the screen (assuming a default Colab configuration). Select the file generated with VISTAS, the default in this example is `ttbar.json`, and download it locally.\n",
    "\n",
    "![Open Colab file explorer](download.png)\n",
    "\n",
    "2. Go to the [Phoenix playground](https://hepsoftwarefoundation.org/phoenix/playground). Alternatively, go to the top level [Phoenix](https://hepsoftwarefoundation.org/phoenix), and select the playground.\n",
    "\n",
    "![Open the Phoenix playground.](phoenix.png)\n",
    "\n",
    "3. Select the `Import and export options` icon from the menu.\n",
    "\n",
    "![Select import.](menu.png)\n",
    "\n",
    "4. Import the JSON file by selecting `Load .json`.\n",
    "\n",
    "![Upload the JSON.](upload.png)\n",
    "\n",
    "5. Explore the event!"
   ]
  }
 ],
 "metadata": {
  "colab": {
   "collapsed_sections": [
    "Requirements",
    "Introduction",
    "Running_Vistas",
    "Using_Phoenix"
   ],
   "provenance": []
  },
  "kernelspec": {
   "display_name": "Python 3 (ipykernel)",
   "language": "python",
   "name": "python3"
  },
  "language_info": {
   "codemirror_mode": {
    "name": "ipython",
    "version": 3
   }
  }
 },
 "nbformat": 4,
 "nbformat_minor": 0
}