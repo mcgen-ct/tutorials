{
 "cells": [
  {
   "cell_type": "markdown",
   "metadata": {},
   "source": [
    "![Pythia logo.](https://gitlab.com/mcgen-ct/tutorials/-/raw/main/pythia/figures/pythiaLogo.png)\n",
    "# Pythia 8.3 Python Worksheet\n",
    "\n",
    "Written by:\n",
    "- Torbjörn Sjöstrand (Department of Astronomy and Theoretical Physics, Lund University)\n",
    "- Peter Skands (School of Physics, Monash University)\n",
    "- Stefan Prestel\n",
    "- Philip Ilten (School of Physics, University of Cincinnati)\n",
    "- Leif Gellerson (Department of Astronomy and Theoretical Physics, Lund University)\n",
    "$\\renewcommand{\\gtrsim}{\\raisebox{-2mm}{\\hspace{1mm}$\\stackrel{>}{\\sim}$\\hspace{1mm}}}\\renewcommand{\\lessim}{\\raisebox{-2mm}{\\hspace{1mm}$\\stackrel{<}{\\sim}$\\hspace{1mm}}}\\renewcommand{\\as}{\\alpha_{\\mathrm{s}}}\\renewcommand{\\aem}{\\alpha_{\\mathrm{em}}}\\renewcommand{\\kT}{k_{\\perp}}\\renewcommand{\\pT}{p_{\\perp}}\\renewcommand{\\pTs}{p^2_{\\perp}}\\renewcommand{\\pTe}{\\p_{\\perp\\mrm{evol}}}\\renewcommand{\\pTse}{\\p^2_{\\perp\\mrm{evol}}}\\renewcommand{\\pTmin}{p_{\\perp\\mathrm{min}}}\\renewcommand{\\pTsmim}{p^2_{\\perp\\mathrm{min}}}\\renewcommand{\\pTmax}{p_{\\perp\\mathrm{max}}}\\renewcommand{\\pTsmax}{p^2_{\\perp\\mathrm{max}}}\\renewcommand{\\pTL}{p_{\\perp\\mathrm{L}}}\\renewcommand{\\pTD}{p_{\\perp\\mathrm{D}}}\\renewcommand{\\pTA}{p_{\\perp\\mathrm{A}}}\\renewcommand{\\pTsL}{p^2_{\\perp\\mathrm{L}}}\\renewcommand{\\pTsD}{p^2_{\\perp\\mathrm{D}}}\\renewcommand{\\pTsA}{p^2_{\\perp\\mathrm{A}}}\\renewcommand{\\pTo}{p_{\\perp 0}}\\renewcommand{\\shat}{\\hat{s}}\\renewcommand{\\a}{{\\mathrm a}}\\renewcommand{\\b}{{\\mathrm b}}\\renewcommand{\\c}{{\\mathrm c}}\\renewcommand{\\d}{{\\mathrm d}}\\renewcommand{\\e}{{\\mathrm e}}\\renewcommand{\\f}{{\\mathrm f}}\\renewcommand{\\g}{{\\mathrm g}}\\renewcommand{\\hrm}{{\\mathrm h}}\\renewcommand{\\lrm}{{\\mathrm l}}\\renewcommand{\\n}{{\\mathrm n}}\\renewcommand{\\p}{{\\mathrm p}}\\renewcommand{\\q}{{\\mathrm q}}\\renewcommand{\\s}{{\\mathrm s}}\\renewcommand{\\t}{{\\mathrm t}}\\renewcommand{\\u}{{\\mathrm u}}\\renewcommand{\\A}{{\\mathrm A}}\\renewcommand{\\B}{{\\mathrm B}}\\renewcommand{\\D}{{\\mathrm D}}\\renewcommand{\\F}{{\\mathrm F}}\\renewcommand{\\H}{{\\mathrm H}}\\renewcommand{\\J}{{\\mathrm J}}\\renewcommand{\\K}{{\\mathrm K}}\\renewcommand{\\L}{{\\mathrm L}}\\renewcommand{\\Q}{{\\mathrm Q}}\\renewcommand{\\R}{{\\mathrm R}}\\renewcommand{\\T}{{\\mathrm T}}\\renewcommand{\\W}{{\\mathrm W}}\\renewcommand{\\Z}{{\\mathrm Z}}\\renewcommand{\\bbar}{\\overline{\\mathrm b}}\\renewcommand{\\cbar}{\\overline{\\mathrm c}}\\renewcommand{\\dbar}{\\overline{\\mathrm d}}\\renewcommand{\\fbar}{\\overline{\\mathrm f}}\\renewcommand{\\pbar}{\\overline{\\mathrm p}}\\renewcommand{\\qbar}{\\overline{\\mathrm q}}\\renewcommand{\\rbar}{\\overline{\\mathrm{r}}}\\renewcommand{\\sbar}{\\overline{\\mathrm s}}\\renewcommand{\\tbar}{\\overline{\\mathrm t}}\\renewcommand{\\ubar}{\\overline{\\mathrm u}}\\renewcommand{\\Bbar}{\\overline{\\mathrm B}}\\renewcommand{\\Fbar}{\\overline{\\mathrm F}}\\renewcommand{\\Qbar}{\\overline{\\mathrm Q}}\\renewcommand{\\tms}{{t_{\\mathrm{\\tiny MS}}}}\\renewcommand{\\Oas}[1]{{\\mathcal{O}\\left(\\as^{#1}\\right)}}$"
   ]
  },
  {
   "cell_type": "markdown",
   "metadata": {},
   "source": [
     "## Introduction"
   ]
  },
  {
   "cell_type": "markdown",
   "metadata": {},
   "source": [
    "The Pythia 8.3 program is a standard tool for the generation of high-energy collisions (specifically, it focuses on centre-of-mass energies greater than about 10 GeV), comprising a coherent set of physics models for the evolution from a few-body high-energy (\"hard\") scattering process to a complex multihadronic final state. The particles are produced in vacuum. Simulation of the interaction of the produced particles with detector material is not included in Pythia but can, if needed, be done by interfacing to external detector-simulation codes.\n",
    "\n",
    "The Pythia 8.3 code package contains a library of hard interactions and models for initial- and final-state parton showers, multiple parton-parton interactions, beam remnants, string fragmentation and particle decays. It also has a set of utilities and interfaces to external programs.\n",
    "\n",
    "The objective of this exercise is to teach you the basics of how to use the Pythia 8.3 event generator to study various physics aspects. As you become more familiar you will better understand the tools at your disposal, and can develop your own style to use them. Within this first exercise it is not possible to describe the physics models used in the program; for this we refer to the [Pythia 8.3 manual](https://arxiv.org/abs/2203.11601), and to all the further references found in them. For practical usage, the [Pythia 8.3 HTML manual](https://pythia.org/manuals/pythia8311/Welcome.html) provides full documentation on running and configuring Pythia. A local version of this manual can be accessed by opening `htmldoc/Welcome.html` in a browser. A [Pythia 8.3 Doxygen manual](https://pythia.org/doxygen/pythia8311) is also available, although the HTML manual should always be used as the primary documentation.\n",
    "\n",
    "Pythia 8 is, by today's standards, a small package. It is completely self-contained, and is therefore easy to install for standalone usage, e.g. if you want to have it on your own laptop, or if you want to explore physics or debug code without any danger of destructive interference between different libraries. This worksheet uses Pythia's Python interface, using an installation included in the Docker container. If you would like to run Pythia 8.3 natively using `C++`, please take a look at the analogous [standalone worksheet](https://pythia.org/download/pdf/worksheet8200.pdf), which includes installation instructions. You can download the latest version at [pythia.org](https://pythia.org/).\n",
    "\n",
    "When you use Pythia you are expected to write the main program yourself, for maximal flexibility and power. Several examples of such main programs are included with the code, to illustrate common tasks and help getting started. The section [A \"Hello World\" Program](#helloWorld) gives you a simple step-by-step recipe how to write a minimal main program, that can then gradually be expanded in different directions, e.g. as in [A first realistic analysis](#realisticAnalysis).\n",
    "\n",
    "In the section [Input files](#inputFiles) you will see how the parameters of a run can be read in from a file, so that the main program can be kept fixed. Many of the provided `C++` main programs therefore allow you to create executables that can be used for different physics studies without recompilation, but potentially at the cost of some flexibility. For Python usage, this is not an issue.\n",
    "\n",
    "The final three sections provide suggestions for optional further studies, and can be addressed in any order. [CKKW-L merging](#ckkwl) deals with the important topic of merging of external matrix-element input of different orders, introducing the CKKW-L scheme as a suitable starting point. [Some studies of Higgs production](#higgsProduction) describes how you can explore various physics aspects of the Standard Model Higgs production and decay. [Further studies](#furtherStudies), finally, collects suggestions for a few diverse studies.\n",
    "\n",
    "While Pythia can be run standalone, it can also be interfaced with a set of other libraries. One example is `HepMC`, which is the standard format used by experimentalists to store generated events. Further main programs included with the Pythia code provide examples of linking, e.g., to `AlpGen`, `MadGraph`, `PowHeg`, `FastJet`, `ROOT`, and the Les Houches Accords LHEF, LHAPDF and SLHA.\n",
    "\n",
    "[Appendix: The Event Record](#eventRecord) contains a brief summary of the event-record structure."
   ]
  },
  {
   "cell_type": "markdown",
   "metadata": {},
   "source": [
    "<a id='helloWorld'></a>\n",
    "## A \"Hello World\" Program\n",
    "\n",
    "We will now generate a single $\\g \\g \\to \\t \\tbar$ event at the LHC, using Pythia's Python interface. The following example contains explanatory comments."
   ]
  },
  {
   "cell_type": "code",
   "execution_count": null,
   "metadata": {},
   "outputs": [],
   "source": [
    "# Import the Pythia module.\n",
    "import pythia8"
   ]
  },
  {
   "cell_type": "code",
   "execution_count": null,
   "metadata": {},
   "outputs": [],
   "source": [
    "# Create a Pythia object.\n",
    "pythia = pythia8.Pythia()"
   ]
  },
  {
   "cell_type": "code",
   "execution_count": null,
   "metadata": {},
   "outputs": [],
   "source": [
    "# Configure the Pythia object.\n",
    "pythia.readString(\"Top:gg2ttbar = on\")  # Switch on process.\n",
    "pythia.readString(\"Beams:eCM = 14000.\") # Set 14 TeV CM energy."
   ]
  },
  {
   "cell_type": "code",
   "execution_count": null,
   "metadata": {},
   "outputs": [],
   "source": [
    "# Initialize, incoming pp beams are default.\n",
    "pythia.init()"
   ]
  },
  {
   "cell_type": "code",
   "execution_count": null,
   "metadata": {},
   "outputs": [],
   "source": [
    "# Generate an(other) event. Fill event record.\n",
    "pythia.next()"
   ]
  },
  {
   "cell_type": "markdown",
   "metadata": {},
   "source": [
    "Now you can study the output, especially the example of a complete event record (preceded by initialization information, and by kinematical-variable and hard-process listing for the same event). At this point you need to turn to the [Appendix: The Event Record](#eventRecord) for a brief overview of the information stored in the event record. Documentation of the event record is can also be found under [The Event Record page](https://pythia.org/manuals/pythia8311/EventRecord.html) of the HTML manual. In Python, it is also possible to access documentation by the standard Python `help` method. Note, however, that this does not provide detailed documentation like the HTML manual does."
   ]
  },
  {
   "cell_type": "code",
   "execution_count": null,
   "metadata": {},
   "outputs": [],
   "source": [
    "# Print documentation for the Event class in Pythia.\n",
    "help(pythia.event)"
   ]
  },
  {
   "cell_type": "markdown",
   "metadata": {},
   "source": [
    "An important part of the event record is that many copies of the same particle may exist, but only those with a positive status code are still present in the final state. To exemplify, consider a top quark produced in the hard interaction, initially with positive status code. When later a shower branching $\\t \\to \\t \\g$ occurs, the new $\\t$ and $\\g$ are added at the bottom of the then-current event record, but the old $\\t$ is not removed. It is marked as decayed, however, by negating its status code. At any stage of the shower there is thus only one \"current\" copy of the top. After the shower, when the final top decays, $\\t \\to \\b \\W^+$, also that copy receives a negative status code. When you understand the basic principles, see if you can find several copies of the top quarks, and check the status codes to figure out why each new copy has been added. Also note how the mother/daughter indices tie together the various copies."
   ]
  },
  {
   "cell_type": "markdown",
   "metadata": {},
   "source": [
    "<a id='realisticAnalysis'></a>\n",
    "## A first realistic analysis\n",
    "\n",
    "We will now gradually expand the skeleton program from above, towards what would be needed for a more realistic analysis setup. In the following input cell, we have consolidated all the necessary code for ease of editing and use. For each suggestion below, simply copy the relevant code here and rerun the input cell."
   ]
  },
  {
   "cell_type": "code",
   "execution_count": null,
   "metadata": {},
   "outputs": [],
   "source": [
    "# Import the Pythia module.\n",
    "import pythia8\n",
    "\n",
    "# Create a Pythia object.\n",
    "pythia = pythia8.Pythia()\n",
    "\n",
    "# Configure the Pythia object.\n",
    "pythia.readString(\"Top:gg2ttbar = on\")  # Switch on process.\n",
    "pythia.readString(\"Beams:eCM = 14000.\") # Set 14 TeV CM energy.\n",
    "\n",
    "# Initialize, incoming pp beams are default.\n",
    "pythia.init()\n",
    "\n",
    "# Generate an(other) event. Fill event record.\n",
    "pythia.next()"
   ]
  },
  {
   "cell_type": "markdown",
   "metadata": {},
   "source": [
    "- Often, we wish to mix several processes together. To add the process $\\q \\qbar \\to \\t \\tbar$ to the above example, just include a third `pythia.readString` call \n",
    "```python\n",
    "pythia.readString(\"Top:qqbar2ttbar = on\")\n",
    "```\n",
    "Note that the `Pythia` object must be reinitialized whenever a new configuration is added."
   ]
  },
  {
   "cell_type": "markdown",
   "metadata": {},
   "source": [
    "- Now we wish to generate more than one event. To do this, introduce a loop around `pythia.next()`, so the code now reads as the following input cell. If you have already created and initialized the `Pythia` object, you can simply run this cell to see the output."
   ]
  },
  {
   "cell_type": "code",
   "execution_count": null,
   "metadata": {},
   "outputs": [],
   "source": [
    "for iEvent in range(5):\n",
    "    pythia.next()"
   ]
  },
  {
   "cell_type": "markdown",
   "metadata": {},
   "source": [
    "> Hereafter, we will call this the event loop. The program will now generate 5 events; each call to `pythia.next()` resets the event record and fills it with a new event. To list more of the events, you also need to add\n",
    "> ```python\n",
    "> pythia.readString(\"Next:numberShowEvent = 5\")\n",
    "> ```\n",
    "> along with the other `pythia.readString` commands, or simply add `pythia.event.list()` after `pythia.next()`."
   ]
  },
  {
   "cell_type": "markdown",
   "metadata": {},
   "source": [
    "- To obtain statistics on the number of events generated of the different kinds, and the estimated cross sections, add the following, just before the end of the program. If you have already generated a few events, you can just run the input cell below."
   ]
  },
  {
   "cell_type": "code",
   "execution_count": null,
   "metadata": {},
   "outputs": [],
   "source": [
    "pythia.stat()"
   ]
  },
  {
   "cell_type": "markdown",
   "metadata": {},
   "source": [
    "- During the run you may receive problem messages. These come in three kinds:\n",
    "    - a *warning* is a minor problem that is automatically fixed by the program, at least approximately;\n",
    "    - an *error* is a bigger problem, that is normally still automatically fixed by the program, by backing up and trying again;\n",
    "    - an *abort* is such a major problem that the current event could not be completed; in such a rare case `pythia.next()` is false and the event should be skipped.\n",
    "Thus the user need only be on the lookout for aborts. During event generation, a problem message is printed only the first time it occurs (except for a few special cases). The above-mentioned `pythia.stat()` will then tell you how many times each problem was encountered over the entire run."
   ]
  },
  {
   "cell_type": "markdown",
   "metadata": {},
   "source": [
    "- Studying the event listing for a few events at the beginning of each run is useful to make sure you are generating the right kind of events, at the right energies, etc. For real analyses, however, you need automated access to the event record. The Pythia  event record provides many utilities to make this as simple and efficient  as possible. To access all the particles in the event record, use the following loop after calling `pythia.next()` (typically within the event loop)."
   ]
  },
  {
   "cell_type": "code",
   "execution_count": null,
   "metadata": {},
   "outputs": [],
   "source": [
    "for prt in pythia.event:\n",
    "    print(prt.id())"
   ]
  },
  {
   "cell_type": "markdown",
   "metadata": {},
   "source": [
    "> This is called the `particle loop`. Inside this loop, you can access the properties of each particle `prt`. For instance, the method `id()` returns the PDG identity code of a particle (see [Identity codes](identityCodes)). The `print` statement, therefore, will give a list of the PDG code of every particle in the event record. Note, it is also possible to access particles via index, e.g.\n",
    "> ```python\n",
    "> for i in range(0, pythia.event.size()):\n",
    ">     print(pythia.event[i])\n",
    "> ```\n",
    "> The entries of the `Event` class in Pythia are particles of type `Particle`. The `Particle` class within Pythia provides information on the particle, including fundemental properties as well as kinematics. The [Particle Properties page](https://pythia.org/manuals/pythia8311/ParticleProperties.html) of the HTML manual gives full details on all the available information. Below, you can see the available methods using `help`."
   ]
  },
  {
   "cell_type": "code",
   "execution_count": null,
   "metadata": {},
   "outputs": [],
   "source": [
    "# Print documentation for the Particle class in Pythia.\n",
    "help(pythia8.Particle)"
   ]
  },
  {
   "cell_type": "markdown",
   "metadata": {},
   "source": [
    "- As mentioned above, the event listing contains all partons and particles, traced through a number of intermediate steps. Eventually, the top will decay ($\\t \\to \\W \\b$), and by implication it is the last top copy in the event record that defines the definitive top production kinematics, just before the decay. You can obtain the location of this final top  e.g. by inserting a line just before the particle loop\n",
    "```python\n",
    "top = None\n",
    "```\n",
    "and a line inside the particle loop\n",
    "```python\n",
    "if prt.id() == 6: top = prt\n",
    "```\n",
    "The value of `top` will be set every time a top is found in the event record. When the particle loop is complete, `top` will now point to the final top in the event record. The index of this particle in the event record can be retrieved by calling `top.index()`. Executing the cell below will find the final $\\t$ of the last generated event."
   ]
  },
  {
   "cell_type": "code",
   "execution_count": null,
   "metadata": {},
   "outputs": [],
   "source": [
    "top = None\n",
    "for prt in pythia.event:\n",
    "    if prt.id() == 6: top = prt"
   ]
  },
  {
   "cell_type": "markdown",
   "metadata": {},
   "source": [
    "- In addition to the particle properties in the event listing, there are also methods that return many derived quantities for a  particle, such as transverse momentum, `top.pT()`, and pseudorapidity, `top.eta()`. Use these methods to print out the values for the final top found above. "
   ]
  },
  {
   "cell_type": "code",
   "execution_count": null,
   "metadata": {},
   "outputs": [],
   "source": [
    "top.pT(), top.eta()"
   ]
  },
  {
   "cell_type": "markdown",
   "metadata": {},
   "source": [
    "- We now want to generate more events, say 1000, to view the shape of these distributions. Inside Pythia is a very simple histogramming class, see [Histograms](#histograms), that can be used for rapid check/debug purposes. To book a histogram (typically before the event loop), use the following, where the last three arguments are the number of bins, the lower edge and the upper edge of the histogram, respectively."
   ]
  },
  {
   "cell_type": "code",
   "execution_count": null,
   "metadata": {},
   "outputs": [],
   "source": [
    "pT = pythia8.Hist(\"top transverse momentum\", 100, 0., 200.)\n",
    "eta = pythia8.Hist(\"top pseudorapidity\", 100, -5., 5.)"
   ]
  },
  {
   "cell_type": "markdown",
   "metadata": {},
   "source": [
    "> Now we want to fill the histograms in each event, which can be done as follows."
   ]
  },
  {
   "cell_type": "code",
   "execution_count": null,
   "metadata": {},
   "outputs": [],
   "source": [
    "pT.fill(top.pT())\n",
    "eta.fill(top.eta())"
   ]
  },
  {
   "cell_type": "markdown",
   "metadata": {},
   "source": [
    "> Finally, to write out the histograms, after the event loop we can write the following, typically at the end of the event loop."
   ]
  },
  {
   "cell_type": "code",
   "execution_count": null,
   "metadata": {},
   "outputs": [],
   "source": [
    "print(pT)"
   ]
  },
  {
   "cell_type": "markdown",
   "metadata": {},
   "source": [
    "> In Python, it is also simple to plot this histogram with `Matplotlib`. First, we need to create our `x` and `y` vectors to plot from the histogram."
   ]
  },
  {
   "cell_type": "code",
   "execution_count": null,
   "metadata": {},
   "outputs": [],
   "source": [
    "x = [(x0 + x1)/2 for x0, x1 in zip(pT.getBinEdges(), pT.getBinEdges()[1:])]\n",
    "y = pT.getBinContents()"
   ]
  },
  {
   "cell_type": "markdown",
   "metadata": {},
   "source": [
    "> Next, we can use `Matplotlib` as normal."
   ]
  },
  {
   "cell_type": "code",
   "execution_count": null,
   "metadata": {},
   "outputs": [],
   "source": [
    "%matplotlib inline\n",
    "from matplotlib import pyplot\n",
    "pyplot.plot(x, y)\n",
    "pyplot.show()"
   ]
  },
  {
   "cell_type": "markdown",
   "metadata": {},
   "source": [
    "> Do you understand why the $\\eta$ distribution looks the way it does? Propose and study a related but alternative measure and compare."
   ]
  },
  {
   "cell_type": "markdown",
   "metadata": {},
   "source": [
    "- As a final standalone exercise, consider plotting the charged  multiplicity of events. You then need to have a counter set to zero for each new event. Inside the particle loop this counter should be incremented whenever the particle `isCharged()` and `isFinal()`. For the histogram, note that it can be treacherous to have bin limits at integers, where roundoff errors decide whichever way they go. In this particular case only even numbers are possible, so 100 bins from -1 to 399 would still be acceptable."
   ]
  },
  {
   "cell_type": "markdown",
   "metadata": {},
   "source": [
    "- Now, to make it easier to examine the event record and discuss the physics content, please execute the following command."
   ]
  },
  {
   "cell_type": "code",
   "execution_count": null,
   "metadata": {},
   "outputs": [],
   "source": [
    "commands = \"\"\"import pythia8; pythia = pythia8.Pythia(); pythia.readString(\"Top:gg2ttbar = on\"); pythia.readString(\"Beams:eCM = 14000.\"); pythia.init(); pythia.next(); pythia.event.list();\"\"\"\n",
    "\n",
    "import os\n",
    "os.system(f\"python -c '{commands}' > ./evt_record.txt\")"
   ]
  },
  {
   "cell_type": "markdown",
   "metadata": {},
   "source": [
    "- Please navigate to the \"Home Page\" tab in your browser and open the file \"evt_record.txt\" in a different window."
   ]
  },
  {
   "cell_type": "markdown",
   "metadata": {},
   "source": [
    "<a id='inputFiles'></a>\n",
    "## Input files\n",
    "\n",
    "When running structure developed above via `C++` code, it is necessary to recompile the main program for each minor change, e.g. if you want to rerun with more statistics. This is not time-consuming for a simple  standalone run, but may become so for more realistic applications. Therefore, parameters can be put in special input \"card\" files that are read by the main program. For Python analyses, like the examples here, compilation is no longer an issue, but it can be cleaner to factorize the code from the settings that are passed to Pythia. In this way, it is easy to track settings changes vs. analysis changes.\n",
    "\n",
    "We will now create such a file, with the same settings used in the example program above."
   ]
  },
  {
   "cell_type": "code",
   "execution_count": null,
   "metadata": {},
   "outputs": [],
   "source": [
    "with open(\"mymain01.cmnd\", \"w\") as file: file.write(\"\"\"\n",
    "# t tbar production at the LHC\n",
    "Beams:idA = 2212          # first incoming beam is a 2212, i.e. a proton.  \n",
    "Beams:idB = 2212          # second beam is also a proton. \n",
    "Beams:eCM = 8000.         # the cm energy of collisions. \n",
    "Top:gg2ttbar = on         # switch on the process g g -> t tbar.  \n",
    "Top:qqbar2ttbar = on      # switch on the process q qbar -> t tbar.\n",
    "Main:numberOfEvents = 100 # set the number of events to generate.\n",
    "\"\"\")"
   ]
  },
  {
   "cell_type": "markdown",
   "metadata": {},
   "source": [
    "The `mymain01.cmnd` file can contain one command per line, of the type\n",
    "```\n",
    "variable = value\n",
    "```\n",
    "All variable names are case-insensitive (the mixing of cases has been chosen purely to improve readability) and non-alphanumeric characters (such as !, \\# or \\$) will be interpreted as the start of a comment. All valid variables are listed in the HTML manual. Cut-and-paste of variable names can be used to avoid spelling mistakes."
   ]
  },
  {
   "cell_type": "markdown",
   "metadata": {},
   "source": [
    "The final step is to modify our program to use this input file. The name of this input file can be hardcoded in the main program, but for more flexibility, it can also be provided as a command-line argument when running a Python file as a script. To do this in Python, we recommend using `argparse`.\n",
    "```python\n",
    "# Set up the arguments.\n",
    "import argparse\n",
    "parser = argparse.ArgumentParser(\n",
    "    description = \"Description of what the program does.\")\n",
    "parser.add_argument('-c','--cmnd', help = \"Command file.\", \n",
    "    required = True, type = str, default = \"mymain01.cmnd\")\n",
    "args = vars(parser.parse_args())\n",
    "\n",
    "# Read in the command file.\n",
    "pythia.readFile(args.cmnd)\n",
    "```\n",
    "Here, we can just create a Pythia instance, read in the file, and initialize."
   ]
  },
  {
   "cell_type": "code",
   "execution_count": null,
   "metadata": {},
   "outputs": [],
   "source": [
    "import pythia8\n",
    "pythia = pythia8.Pythia()\n",
    "pythia.readFile(\"mymain01.cmnd\")\n",
    "pythia.init()"
   ]
  },
  {
   "cell_type": "markdown",
   "metadata": {},
   "source": [
    "In addition to all the internal `Pythia` variables there exist a few defined in the database but not actually used. These are intended to be useful in the main program, and thus begin with `Main:`. The most basic of those is `Main:numberOfEvents`, which you can use to specify how many events you want to generate. To make this have\n",
    "any effect, you need to read it in the main program, after the `pythia.readFile(...)` command, by a line like the following."
   ]
  },
  {
   "cell_type": "code",
   "execution_count": null,
   "metadata": {},
   "outputs": [],
   "source": [
    "nEvent = pythia.mode(\"Main:numberOfEvents\")\n",
    "for iEvent in range(nEvent):\n",
    "    pythia.next()"
   ]
  },
  {
   "cell_type": "markdown",
   "metadata": {},
   "source": [
    "You are now free to play with further options in the input file, such as:\n",
    "- change the top mass, which by default is 171 GeV.\n",
    "```\n",
    "6:m0 = 175\n",
    "```\n",
    "- switch off final-state radiation.\n",
    "```\n",
    "PartonLevel:FSR = off\n",
    "```\n",
    "- switch off initial-state radiation.\n",
    "```\n",
    "PartonLevel:ISR = off\n",
    "```\n",
    "- switch off multiparton interactions.\n",
    "```\n",
    "PartonLevel:MPI = off\n",
    "```\n",
    "- different combined tunes, in particular to radiation and multiparton interactions parameters. In part this reflects that no generator is perfect, and also not all data is perfect, so different emphasis will result in different optima.\n",
    "```\n",
    "Tune:pp = 3 # (or other values between 1 and 17)\n",
    "```\n",
    "- all runs by default use the same random-number sequence, for reproducibility,\n",
    "but you can pick any number between 1 and 900,000,000 to obtain a unique\n",
    "sequence.\n",
    "```\n",
    "Random:setSeed = on`\n",
    "Random:seed = 123456789\n",
    "```\n",
    "For instance, check the importance of FSR, ISR and MPI on the charged  multiplicity of events by switching off one component at a time. The possibility to use command-line input files is further illustrated\n",
    "e.g. in `main16.cc` and `main42.cc`.\n",
    "\n",
    "You have now completed the core part of the worksheet - congratulations! From now on you should be able to take off in different directions, depending on your interests. The following three sections contain examples of further possible studies, and can be addressed in any order.  "
   ]
  },
  {
   "cell_type": "markdown",
   "metadata": {},
   "source": [
    "<a id='ckkwl'></a>\n",
    "## CKKW-L merging\n",
    "\n",
    "The main programs we have constructed and studied in the previous sections have one common drawback: all start from the Pythia 8 internal library of lowest-order processes, and then add higher-order corrections entirely by the internal parton-shower machinery. This will give reliable results for soft and collinear configurations, but less so for  multiple hard, well-separated jets. To model the latter similarly well, we need to include external input from higher-order calculations at tree level and, where feasible, at one-loop level. A number of different external programs can provide such input, using the LHA/LHEF standard format to transfer information, usually as LHE files (see [Generic User Process Interface for Event Generators](https://arxiv.org/abs/hep-ph/0109068), [A standard format for Les Houches Event Files](https://arxiv.org/abs/hep-ph/0609017), and [Les Houches 2013: Physics at TeV Colliders: Standard Model Working Group Report](https://arxiv.org/abs/1405.1067)). The hard-process events stored in these files will be accepted or rejected in such a way that  doublecounting between different parton multiplicities is removed, resulting in a smooth transition between the multiplicities, and between the external input and the internal handling of parton showers. These two tasks usually go hand in hand.\n",
    "\n",
    "Many different schemes have been proposed for matrix element + parton shower merging (MEPS), and a comprehensive selection of such schemes is available with the Pythia 8 distribution, including\n",
    "\n",
    "- tree-level merging: *MLM* jet matching (see [Matching matrix elements and shower evolution for top-quark production in hadronic collisions](https://arxiv.org/abs/hep-ph/0611129), *MadGraph*- or *AlpGen*-style), *CKKW-L* merging (see [Matching Tree-Level Matrix Elements with Interleaved Showers](https://arxiv.org/abs/1109.4829)), and \n",
    "unitarised *ME*+*PS* merging (*UMEPS*, see [Unitarising Matrix Element + Parton Shower merging](https://arxiv.org/abs/1211.4827)); and\n",
    "- next-to-leading order merging: *NL*$^3$ merging and unitarised NLO+PS merging (*UNLOPS*, see [Merging Multi-leg NLO Matrix Elements with Parton Showers](https://arxiv.org/abs/1211.7278)).\n",
    "\n",
    "The setup of such merging schemes is documented in the [Matching and Merging page](https://pythia.org/manuals/pythia8311/MatchingAndMerging.html) of the HTML manual manual with further subpages, and is illustrated in several of the example main programs.\n",
    "\n",
    "Here we will experiment with the *CKKW-L* scheme, which was the first merging scheme available in *Pythia 8*, and also is among the simpler to work with. We will take the `main80` example main program as a starting point for our studies, reproduced inline below. In its general structure it closely resembles the main program(s) we already constructed step by step, so we will only need to comment on aspects that are new for the merging game. The process $\\W^+ + \\leq 2$ jets will be taken as an example. It uses the LHE files:\n",
    "- `w+_production_lhc_0.lhe` for $\\W^+ + 0$ partons\n",
    "- `w+_production_lhc_1.lhe` for $\\W^+ + 1$ parton\n",
    "- `w+_production_lhc_2.lhe` for $\\W^+ + 2$ partons\n",
    "in the `examples` directory to produce a result that simultaneously describes $\\W^+ + 0,1,2$ jet observables with leading-order matrix elements, while also including arbitrarily many shower emissions. Jets are here defined by a clustering procedure on the partons thus generated. (We omit other effects from consideration, such as MPIs or \n",
    "hadronization.)"
   ]
  },
  {
   "cell_type": "code",
   "execution_count": null,
   "metadata": {},
   "outputs": [],
   "source": [
    "# First, we need to change to the examples directory.\n",
    "%cd examples"
   ]
  },
  {
   "cell_type": "code",
   "execution_count": null,
   "metadata": {},
   "outputs": [],
   "source": [
    "# Create a little plotting tool for the Pythia histogram class.\n",
    "%matplotlib inline\n",
    "from matplotlib import pyplot\n",
    "def plot(hist, xlabel = None, ylabel = \"entries\"):\n",
    "    x = [(x0 + x1)/2 for x0, x1 in zip(hist.getBinEdges(), hist.getBinEdges()[1:])]\n",
    "    y = hist.getBinContents()\n",
    "    pyplot.plot(x, y)\n",
    "    pyplot.xlabel(xlabel)\n",
    "    pyplot.ylabel(ylabel)\n",
    "    pyplot.show()"
   ]
  },
  {
   "cell_type": "code",
   "execution_count": null,
   "metadata": {},
   "outputs": [],
   "source": [
    "# Initialize the Pythia object.\n",
    "import pythia8\n",
    "\n",
    "# Generator. Input parameters.\n",
    "pythia = pythia8.Pythia()\n",
    "pythia.readFile(\"main80.cmnd\")\n",
    "pythia.readString(\"Merging:includeWeightInXsection = off\")\n",
    "\n",
    "# Extract number of events and max number of jets in merging.\n",
    "nEvent = pythia.mode(\"Main:numberOfEvents\")\n",
    "nMerge = pythia.mode(\"Merging:nJetMax\")\n",
    "\n",
    "# Histograms combined over all jet multiplicities.\n",
    "pTWsum = pythia8.Hist(\"pT of W, summed over all subruns\", 100, 0., 200.)\n",
    "\n",
    "# Merged total cross section, summed over subruns.\n",
    "sigmaTotal = 0."
   ]
  },
  {
   "cell_type": "code",
   "execution_count": null,
   "metadata": {},
   "outputs": [],
   "source": [
    "# Loop over subruns with varying number of jets.\n",
    "for iMerge in range(0, nMerge + 1):\n",
    "    sigmaSample = 0.\n",
    "\n",
    "    # Read in name of LHE file for current subrun and initialize.\n",
    "    pythia.readFile(\"main80.cmnd\", iMerge)\n",
    "    pythia.init()\n",
    "\n",
    "    # Histograms for current jet multiplicity.\n",
    "    weightNow = pythia8.Hist(\"event weights, current subrun\", 100, 0., 2.5)\n",
    "    pTWnow = pythia8.Hist(\"pT of W, current subrun\", 100, 0., 200.)\n",
    "\n",
    "    # Start event generation loop.\n",
    "    for iEvent in range(0, nEvent):\n",
    "\n",
    "        # Generate next event. Break out of event loop if at end of LHE file.\n",
    "        if not pythia.next():\n",
    "            if pythia.infoPython().atEndOfFile(): break\n",
    "            else: continue\n",
    "\n",
    "        # Get CKKWL weight of current event. Histogram and accumulate it.\n",
    "        evtweight = pythia.infoPython().weight()\n",
    "        weight    = pythia.infoPython().mergingWeight()\n",
    "        weightNow.fill(weight)\n",
    "        weight      *= evtweight\n",
    "        sigmaSample += weight\n",
    "\n",
    "        # Do nothing for vanishing weight (event record might not be filled).\n",
    "        if weight == 0: continue\n",
    "\n",
    "        # Find the final copy of the W+, which is after the full shower.\n",
    "        prtW = None\n",
    "        for prt in pythia.event:\n",
    "            if prt.id() == 24: prtW = prt\n",
    "\n",
    "        # Fill the pT of the W histogram, with CKKWL weight.\n",
    "        if prtW: pTWnow.fill(prtW.pT(), weight)\n",
    "\n",
    "    # Normalize pTW histogram, convert mb -> pb, and correct for bin width.\n",
    "    pTWnow *= 1e9 * pythia.infoPython().sigmaGen() / (\n",
    "        2. * pythia.infoPython().nAccepted())\n",
    "\n",
    "    # Print cross section and histograms for current subrun.\n",
    "    # Alternatively, use print(hist) for Pythia style histogram printing.\n",
    "    pythia.stat()\n",
    "    plot(weightNow, f\"event weights, subrun {iMerge}\")\n",
    "    plot(pTWnow, f\"$p_T(W^+)$, subrun {iMerge}\")\n",
    "\n",
    "    # Sum up merged cross section of current run.\n",
    "    sigmaSample *= pythia.infoPython().sigmaGen() / float(\n",
    "        pythia.infoPython().nAccepted())\n",
    "    sigmaTotal  += sigmaSample\n",
    "\n",
    "    # Add current histogram to the combined one. End of subrun loop.\n",
    "    pTWsum += pTWnow"
   ]
  },
  {
   "cell_type": "code",
   "execution_count": null,
   "metadata": {},
   "outputs": [],
   "source": [
    "# Print final histograms and info on merged cross section..\n",
    "plot(pTWsum, r\"$\\sum p_T(W^+)$\")\n",
    "print(f\"The inclusive cross section after merging is: {sigmaTotal:.4e} mb.\")"
   ]
  },
  {
   "cell_type": "markdown",
   "metadata": {},
   "source": [
    "Say we want to study a one-jet observable, e.g. the transverse momentum of the jet $j$ in events with *exactly* one jet. In this case, we want to take \"hard\" jets from the $\\p\\p \\to \\W j$ matrix element (ME), while \"soft\" jets should be modelled by parton-shower (PS) emissions off the $\\p\\p \\to \\W$ states. In order to smoothly merge these \n",
    "two samples, we have to know in which measure \"hard\" is defined, and which value of this measure separates the hard and soft regions. In `main80.cmnd`, these definitions are:\n",
    "```\n",
    "Merging:doKTMerging = on\n",
    "Merging:ktType      = 2\n",
    "Merging:TMS         = 30.\n",
    "```\n",
    "This will enable the merging procedure, with the merging scale defined by the minimal longitudinally invariant $k_\\perp$ separation between partons (there are many other possibilities, by `ktType` value or by your own choice of merging procedure), with a merging scale $\\tms = 30$ GeV. Such a definition fixes what we mean when we talk about \"hard\" and \"soft\" jets:\n",
    "\n",
    "type | definition\n",
    "-----|:-----\n",
    "Hard jets: | $\\min\\{$any relative $k_{\\perp}$ between sets of partons$\\} > \\tms$\n",
    "Soft jets: | $\\min\\{$any relative $k_{\\perp}$ between sets of partons$\\} < \\tms$\n",
    "\n",
    "Thus, in order for the merging prescription to work, we need to remove phase space regions with $\\min\\{$any \n",
    "$k_{\\perp}\\} < \\tms$ from the $\\W+1$-parton matrix element calculation. Otherwise, there would\n",
    "be an overlap between the \"soft jet\" and \"hard jet\" samples.\n",
    "\n",
    "This requirement means that the merging-scale definition should be implemented as a *cut in the matrix element generator*. Alternatively, it is possible to enforce the cut in *Pythia 8* internally, assuming that the ME is calculated with more inclusive (i.e. loose) cuts. This is illustrated below, where the triangle depicts the whole phase space, with soft or collinear divergences located on the edges. The yellow area symbolises the phase-space region used for the generation of the LHEF events, while the green area represents the phase space after *Pythia 8* has enforced the merging-scale cut on the input events. In order to correctly apply the merging-scale cut, the green area has to be fully contained inside the yellow one, i.e. the cut in the ME generator has to be more inclusive than the $\\tms$-cut. For optimal efficiency, the yellow and green areas should be identical. This can be the case in *MadGraph 5* (see [MadGraph 5 : Going Beyond](https://arxiv.org/abs/1106.0522)), when using the generation cuts `ktdurham` (corresponding to `Merging:doKTMerging = on`) and `ptpythia` (corresponding to `Merging:doPTLundMerging = on`).\n",
    "\n",
    "![Schematic illustration phase-space cuts.](https://gitlab.com/mcgen-ct/tutorials/-/raw/main/pythia/figures/phaseSpaceCuts.png)\n",
    "\n",
    "After the merging-scale definition, we define the underlying process. To tell *Pythia 8* that we want to merge additional jets in $\\W$-boson production, we specify which is the core process, using *MadGraph* notation, where the final state is defined by the $\\W^+$ decay products rather than by the $\\W^+$ itself:\n",
    "```\n",
    "Merging:Process = pp>e+ve\n",
    "```\n",
    "in `main80.cmnd`. Finally, the setting\n",
    "```\n",
    "Merging:nJetMax = 2\n",
    "```\n",
    "tells the program to include the pre-generated ME events for up to two additional jets."
   ]
  },
  {
   "cell_type": "markdown",
   "metadata": {},
   "source": [
    "In the merging example given above, the input file `main80.cmnd` is read early on by the `pythia.readFile(...)` command. This gives access to the number of events to be read from each LHE file, and the number of LHE files\n",
    "to be processed. The *subrun loop* then handles each LHE file, one at a time. Specifically, the\n",
    "```python\n",
    "pythia.readFile(\"main80.cmnd\", iMerge)\n",
    "```\n",
    "uses the `iMerge` argument when reading the `main80.cmnd` file, so that only those commands following the respective `Main:subrun = iMerge` labels are read. (Plus that everything before the first `Main:subrun` is re-read, but that does not matter since it stays the same.) Thus the proper LHE file is picked up for each jet multiplicity. The\n",
    "```\n",
    "Beams:frameType = 4\n",
    "```\n",
    "also informs *Pythia* that beam parameters should be read from the header section of the LHE file, and not set by the user.\n",
    "\n",
    "Then we enter the event loop. The already-discussed difference in phase-space coverage can lead to a fair fraction of all input events being rejected. Thus the number of produced events can be lower than the requested `Main:numberOfEvents` one if the file is not large enough. (When no further events can be read the `pythia.next()` command will return `False`, so that the event loop can be exited at the end of the LHE file.) Those events that survive come with a weight\n",
    "```python\n",
    "weight = pythia.infoPython().mergingWeight()\n",
    "```\n",
    "which contains Sudakov factors (to remove the double counting between samples of different multiplicity), $\\as$ ratios (to incorporate the $\\as$ running not available in matrix element generators), and ratios of parton distributions (to include variable factorization scales). This weight *must* be used when filling histogram bins, as is e.g. done by\n",
    "```python\n",
    "pTWnow.fill( pTW, weight)\n",
    "```\n",
    "for the $p_{\\perp}$ of the $\\W$ boson. The sum of weights also goes into the calculation of the total generated cross section.\n",
    "\n",
    "After the event loop, the contribution to the $p_{\\perp}$ of the $\\W$ boson from this particular multiplicity is normalised by\n",
    "```python\n",
    "pTWnow *= 1e9*pythia.infoPython().sigmaGen()/(2.*pythia.infoPython().nAccepted())\n",
    "```\n",
    "where the ratio of the two `pythia.infoPython()` numbers is the weight per event, the `1e9` is for conversion from mb to pb, and the `2.` compensates for the bin width to give cross section per GeV. This number and more detailed statistics are printed to the terminal. As a final step, the contribution of the current subrun is added to the total histogram\n",
    "```python\n",
    "pTWsum += pTWnow\n",
    "```\n",
    "and the subrun loop begins over with the next LHE file. The complete histogram, combining all multiplicities, is printed after the sub-run loop has concluded.\n",
    "\n",
    "When you run the program above, note that some warning messages are issued routinely as part of the merging machinery, in the steps where a clustering history is found and where it is decided whether an event fails the merging scale cuts. Warnings from the SLHA interface also are irrelevant. So no reason to worry about any of that."
   ]
  },
  {
   "cell_type": "markdown",
   "metadata": {},
   "source": [
    "After the first run with the main program as is, you can try different variations.\n",
    "- Convince yourself that the variation of the \"merging weight\" is moderate.\n",
    "- Check in which $p_\\perp$ regions which jet multiplicity contributes most.\n",
    "- Study how the individual contributions and the sum changes when you run with a maximum of 1 or 0 jets, instead of the default 2.\n",
    "- Compare the $p_\\perp$ spectrum of the $\\W$ with what you get from running the internal *Pythia* production process, by  straightforward modifications of your original *Pythia* program.\n",
    "- A major limitation is the size of the event files that come with the standard *Pythia* distribution, for space reasons. If you have a decent internet connection you can download larger files, with 100,000 events for each multiplicity up to $\\W + 4$ partons: [`wp_tree_0.lhe.gz`](https://pythia.org/download/lhe/wp_tree_0.lhe.gz), [`wp_tree_1.lhe.gz`](https://pythia.org/download/lhe/wp_tree_1.lhe.gz), [`wp_tree_2.lhe.gz`](https://pythia.org/download/lhe/wp_tree_2.lhe.gz), [`wp_tree_3.lhe.gz`](https://pythia.org/download/lhe/wp_tree_3.lhe.gz), and [`wp_tree_4.lhe.gz`](https://pythia.org/download/lhe/wp_tree_4.lhe.gz). With these files you can repeat the exercise above, and in particular check how much is gained by including the further $\\W + 3$ and $\\W + 4$ samples. To run through all events in the files takes a while, so check with a fraction of the sample to begin with, and be prepared to do something else while you wait for the full run to complete. Note that you will need to change `main80.cmnd` to update these filenames with the `.gz` extension.\n",
    "- Alternatively, if you are already a *MadGraph* user, you could generate your own LHE files and merge them. This would take some time, however, in particular for the higher multiplicities, so may not be an option.\n",
    "- Use a jet finder to analyze the final state, and plot the $\\pT$ spectra for the first, second, and third hardest jets, combining separate contributions similarly we already did for the $\\W$ $\\pT$ spectrum. Instructions how to use the built-in `SlowJet` jet finder can be found in [Jet Finding](#jetFinding).\n",
    "- Check the variation of merged predictions with $\\tms$. You can  do this by using an \"inclusive\" event sample, and having *Pythia* enforce a stronger $\\tms$ cut. In which phase-space region is the $\\tms$ variation most visible?\n",
    "- Switch between the \"wimpy\" and \"power\" options for maximal shower scales by choosing values for `TimeShower:pTmaxMatch` and `SpaceShower:pTmaxMatch`. Are the effects more visible in merged or non-merged predictions?\n",
    "\n",
    "Once you have familiarised yourself with the example, you can experiment with more advanced settings in `main80.cmnd`. Alternatively, try to use the example main program `main85.cc`, which is intended \n",
    "as a general \"*CKKW-L* blackbox\", or `main89.cc`, which can be run with several `.cmnd` files for different matching/merging options. Both these programs produce *HepMC* events that can  directly be processed by standard plotting tools. You can also download the dedicated merging tutorial from the [Pythia home page](https://pythia.org/) to learn more."
   ]
  },
  {
   "cell_type": "markdown",
   "metadata": {},
   "source": [
    "<a id='higgsProduction'></a>\n",
    "## Some studies of Higgs production\n",
    "\n",
    "The discovery of the Higgs boson has been one of the main accomplishments of the LHC to date. Generators have been part of that story, right from the early days when the ATLAS and CMS detectors were designed in such a way as to permit that discovery. This section offers exercises intended to explore the physics of Higgs production from various aspects, with *Pythia* as guide.\n",
    "\n",
    "### Production kinematics\n",
    "\n",
    "The dominant production channel is $\\g\\g\\to\\H^0$. To study the kinematics distribution of the Higgs, the existing top production program could easily be modified. Instead of switching on top production, use `HiggsSM:gg2H = on`. And instead of looking for the last top copy before decay, look for the last Higgs copy `prtH`, ie. the last particle with `id() == 25`. Once found the `prtH` methods can be used to extract and histogram Higgs kinematics distributions, like for the top. In addition to the transverse momentum `pT()` you can compare the distributions for true rapidity `y()` and for pseudorapidity `eta()`.\n",
    "\n",
    "### Production processes\n",
    "\n",
    "While $\\g\\g \\to \\H^0$ is the main Higgs production channel, it is not the only one. Do a run with `HiggsSM:all = on` to check which are implemented and their relative importance. Also figure out how you could generate one of the less frequent processes on its own, either from the [HTML manual](https://pythia.org/manuals/pythia8311/Welcome.html) or by making some deductions from the output with all processes.\n",
    "\n",
    "In order to get decent cross-section statistics faster, you can use `PartonLevel:all = off` to switch off everything except the hard-process generation itself. One price to pay is that the kinematics distributions for the Higgs are not meaningful. If instead complete events are generated you can study how the transverse-momentum distribution varies between processes. What are the reasons behind the significant differences?\n",
    "\n",
    "### Decay channels\n",
    "\n",
    "Also the decay channels and branching ratios in the Higgs decay are of interest. Here no ready-made statistics routines exist, so you have to do it yourself. You already have the decaying Higgs, `prtH`. Since the standard decay modes are two-body, they can be accessed as:\n",
    "```python\n",
    "dau1 = pythia.event[prtH.daughter1()]\n",
    "dau2 = pythia.event[prtH.daughter2()]\n",
    "```\n",
    "and from that you can get the identities of the daughters. Introduce counters for all the decay modes you come to think of,that you use to derive and print branching ratios. Print the daughter identities in the leftover decays, where you did not yet have any counters, and iterate until you catch it all.\n",
    " \n",
    "In this case, `PartonLevel:all = off` cannot be used, since then one does not get to the decays, at least not with the information in `pythia.event`. But you can combine\n",
    "```\n",
    "PartonLevel:ISR = off # to switch off initial-state radiation,\n",
    "PartonLevel:FSR = off # to switch off final-state radiation,\n",
    "PartonLevel:MPI = off # to switch off multiparton interactions, and\n",
    "HadronLevel:all = off # to switch off hadronization and decays,\n",
    "```\n",
    "to get almost the same net time saving.\n",
    "\n",
    "### Mass distribution\n",
    "\n",
    "By now the Higgs mass is pretty well pinned down, but you can check what the branching ratios would have been with another mass, e.g. by `25:m0 = 150.` for a 150 GeV Higgs.\n",
    "\n",
    "On a related note, the Higgs mass is generated according to a Breit-Wigner distribution, convoluted with parton densities. Can you resolve this shape for the default Higgs mass? How does it change had the Higgs been heavier, say at 400 GeV? \n",
    "\n",
    "### Associated jets\n",
    "\n",
    "Let us return to the different production channels, which give different event characteristics. Well-known is that the $\\q \\q \\to \\q \\q \\H^0$ processes give rise to jets at large rapidities, that can be used for tagging purposes. This can be studied as follows.\n",
    "\n",
    "The two relevant processes are `HiggsSM:ff2Hff(t:ZZ)` and `HiggsSM:ff2Hff(t:WW)` for $\\Z^0 \\Z^0$ and $\\W^+ \\W^-$\n",
    "fusion ($\\f$ here denotes a fermion; the same processes also exist e.g. at $\\e^+ \\e^-$ colliders), that are to be compared with the standard $\\g\\g \\to \\H^0$ one.\n",
    "\n",
    "Find jets using the `SlowJet` class, see [Jet finding](#jetFinding), e.g. using the anti-$k_{\\perp}$ algorithm with $R = 0.7$, $p_{\\perp\\mathrm{min}} = 30$~GeV and $\\eta_{\\mathrm{max}} = 5$.\n",
    "\n",
    "One problem is that also the Higgs decay products can give jets, which we are not interested in here. To avoid this, we can switch off Higgs decays by `25:mayDecay = off`. This still leaves the Higgs itself\n",
    "in the event record. A call `prtH.statusNeg()` will negate its status code, and since `slowJet.analyze(...)` only considers the final particles, i.e. those with positive status, the Higgs is thus eliminated. \n",
    "\n",
    "Now study the $\\pT$ and rapidity spectrum of the hardest jets, and compare those distributions for the two processes. Also study how many jets are produced in the two cases.\n",
    "\n",
    "### Underlying event\n",
    "\n",
    "Several mechanisms contribute to the overall particle production in Higgs events. This can be studied e.g. by histogramming the charged particle distribution.    \n",
    "\n",
    "You then need to have a counter set to zero for each new event. Inside the particle loop this counter should be incremented whenever the particle `isFinal()` and `isCharged()`. For the histogram, note that it can be treacherous to have bin limits at integers, where roundoff errors decide whichever way they go. In this particular case only even numbers are possible, so 100 bins from $-1$ to 399 would still be acceptable, for instance.\n",
    "\n",
    "Once you have the distribution down for normal events, study what happens if you remove ISR, FSR and MPI one by one or all together. Also study the contribution of the Higgs decay itself to the multiplicity, e.g. by setting the Higgs stable. Reflect on why different combinations give the pattern they do, e.g. why ISR on/off makes a bigger difference when MPI is on than off. \n",
    "\n",
    "### Decay properties\n",
    "\n",
    "The decay mode $\\H^0 \\to \\Z^0 \\Z^0 \\to \\ell^+ \\ell^- \\ell'^+ \\ell'^-$, $\\ell, \\ell' = \\e, \\mu$, is called the gold-plated one, since it stands out so well from backgrounds. It also offers angular correlations that probe the spin of a Higgs candidate.\n",
    "\n",
    "For now consider a simpler, but still interesting, pair of distributions: the mass spectra of the two $\\Z^0$ decay products. Plot them for the lighter and the heavier of the two separately, and compare shapes and average values. To improve statistics, you can use `25:onMode = off` to switch off all decay channels, and then `25:onIfMatch = 23 23` to switch back on the decay to $\\Z^0 \\Z^0$ (and nothing else). Further, neither ISR, FSR, MPI nor hadronization affect the mass distributions, so this allows some speedup.\n",
    "\n",
    "How can one qualitatively understand why the two masses tend to be so far apart, rather than roughly comparable? \n",
    "\n",
    "### Comparison with $\\Z^0$ production\n",
    "\n",
    "One of the key reference processes at hadron colliders is $\\Z^0$ production. To lowest order it only involves one process, $\\q\\qbar \\to \\gamma^*/\\Z^0$, accessible with `WeakSingleBoson:ffbar2gmZ = on`. One complication is that the process involves $\\gamma^*/\\Z^0$ interference, and so a significant enhancement at low masses, even if the combined particle always is classified with code 23, however.\n",
    "\n",
    "Compare the two processes $\\g\\g \\to \\H^0$ and $\\q\\qbar \\to \\gamma^*/\\Z^0$, with respect to the $\\pT$ distribution of the boson and the total charged multiplicity of the events. So as to remove the dependence on the difference\n",
    "in mass, you can set a specific mass range in the $\\gamma^*/\\Z^0$ generation with `PhaseSpace:mHatMin = 124` and \n",
    "`PhaseSpace:mHatMax = 126`, to agree with the $\\H^0$ mass to $\\pm$ 1 GeV.\n",
    "\n",
    "Can you explain what is driving the differences in the $\\pT$ and  $n_{\\mathrm{chg}}$ distributions between the two processes?"
   ]
  },
  {
   "cell_type": "markdown",
   "metadata": {},
   "source": [
    "<a id='furtherStudies'></a>\n",
    "## Further studies\n",
    "\n",
    "If you have time left, you should take the opportunity to try a few other processes or options. Below are given some examples, but feel free to pick something else that you would be more interested in.  \n",
    "\n",
    "- One popular misconception is that the energy and momentum of a $\\B$ meson has to be smaller than that of its mother $\\b$ quark, and similarly for charm. The fallacy is twofold. Firstly, if the $\\b$  quark is surrounded by nearby colour-connected gluons, the $\\B$ meson may also pick up some of the momentum of these gluons. Secondly, the concept of smaller momentum is not Lorentz-frame-independent: if the other end of the $\\b$ colour force field is a parton with a higher momentum (such as a beam remnant) the \"drag\" of the hadronization process may imply an acceleration in the lab frame (but a deceleration in the beam rest frame). To study this, simulate $\\b$ production, e.g. the process `HardQCD:gg2bbbar`. Identify $\\B / \\B^*$ mesons that come directly from the hadronization, for simplicity those with status code $-83$ or $-84$. In the former case the mother $\\b$ quark is in the `mother1()` position, in the latter in `mother2()` (study a few event listings to see how it works). Plot the ratio of $\\B$ to $\\b$ energy to see what it looks like."
   ]
  },
  {
   "cell_type": "markdown",
   "metadata": {},
   "source": [
    "- One of the characteristics of multiparton-interactions (MPI) models is that they lead to strong long-range correlations, as observed in data. That is, if many hadrons are produced in one rapidity range of an event, then most likely this is an event where many MPI's occurred (and the impact parameter between the two colliding protons was small), and then one may expect a larger activity also at other rapidities. To study this, select two symmetrically located, one unit wide bins in rapidity (or pseudorapidity), with a variable central separation $\\Delta y$: $\\left[ \\Delta y/2, \\Delta y/2 + 1 \\right]$ and $\\left[ - \\Delta y/2 - 1, - \\Delta y/2 \\right]$. For each event you may find $n_F$ and $n_B$, the charged multiplicity in the \"forward\" and \"backward\" rapidity bins. Suitable averages over a sample of events then gives the forward-backward correlation coefficient\n",
    "$$\n",
    "\\rho_{FB}(\\Delta y) = \\frac{\\langle n_F \\, n_B \\rangle \n",
    "- \\langle n_F \\rangle \\langle n_B \\rangle}%\n",
    "{\\sqrt{(\\langle n_F^2 \\rangle - \\langle n_F \\rangle^2)\n",
    "(\\langle n_B^2 \\rangle - \\langle n_B \\rangle^2)}} \n",
    "= \\frac{\\langle n_F \\, n_B \\rangle - \\langle n_F \\rangle^2}%\n",
    "{\\langle n_F^2 \\rangle - \\langle n_F \\rangle^2} ~,\n",
    "$$\n",
    "where the last equality holds for symmetric distributions such as in $\\p\\p$ and $\\pbar\\p$. Compare how $\\rho_{FB}(\\Delta y)$ changes for increasing $\\Delta y = 0, 1, 2, 3, \\ldots$, with and without MPI switched on (`PartonLevel:MPI = on/off`) for minimum-bias events (`SoftQCD:minBias = on`)."
   ]
  },
  {
   "cell_type": "markdown",
   "metadata": {},
   "source": [
    "- $\\Z^0$ production to lowest order only involves one process, which is accessible with `WeakSingleBoson:ffbar2gmZ = on`. The problem here is that the process is $\\f \\fbar \\to \\gamma^*/\\Z^0$ with full $\\gamma^*/\\Z^0$ interference and so a signficiant enhancement at low masses. The combined particle is always classified with code `23`, however. So generate events and study the $\\gamma^*/\\Z^0$ mass and $\\pT$ distributions. Then restrict to a more \"$\\Z^0$-like\" mass range with `PhaseSpace:mHatMin = 75` and `PhaseSpace:mHatMax = 120`."
   ]
  },
  {
   "cell_type": "markdown",
   "metadata": {},
   "source": [
    "- Use a jet clustering algorithm, e.g. one of the `SlowJet` options described in [Jet finding](#jetFinding), to study the number of jets found in association with the $\\Z^0$ above. You can switch off $\\Z^0$ decay with `23:mayDecay = no`, and negate its status code by `prtZ.statusNeg()`, so that it will not be included in the jet finding. Here `prtZ` is the last copy of the $\\Z^0$, cf. how the last top copy was found above. Again check the importance of FSR/ISR/MPI."
   ]
  },
  {
   "cell_type": "markdown",
   "metadata": {},
   "source": [
    "Note that the [*Pythia* homepage](https://pythia.org) contains two further tutorials, in addition to older editions of the current one. These share some of the introductory material, but then put the emphasis on two specific areas:\n",
    "- a merging tutorial, showing the step-by-step construction of a relevant main program, and more details on possible merging approaches than found in the [CKKW-L merging](#ckkwl) section of this notebook; and\n",
    "- a BSM tutorial, describing how you can input events from Beyond-the-Standard-model scenarios into *Pythia*."
   ]
  },
  {
   "cell_type": "markdown",
   "metadata": {},
   "source": [
    "<a id='eventRecord'></a>\n",
    "## Appendix: The Event Record\n",
    "\n",
    "The event record is set up to store every step in the evolution from an initial low-multiplicity partonic process to a final high-multiplicity hadronic state, in the order that new particles are generated. The record is a vector of particles, that expands to fit the needs of the current event (plus some additional pieces of information not discussed here). Thus `event[i]` is the i'th particle of the current event, and you may study its properties by using various `event[i].method()` possibilities.\n",
    "\n",
    "The `event.list()` listing provides the main properties of each particles, by column:\n",
    "\n",
    "- `no`, the index number of the particle (`i` above);\n",
    "- `id`, the PDG particle identity code (method `id()`);\n",
    "- `name`, a plaintext rendering of the particle name (method `name()`), within brackets for initial or intermediate particles and without for final-state ones;\n",
    "- `status`, the reason why a new particle was added to the event record (method `status()`);\n",
    "- `mothers` and `daughters`, documentation on the event history (methods `mother1()`, `mother2()`, `daughter1()`, and `daughter2()`);\n",
    "- `colours`, the colour flow of the process (methods `col()` and `acol()`);\n",
    "- `p_x`, `p_y`, `p_z`, and `e`, the components of the momentum four-vector ($p_x$ , $p_y$ , $p_z$, $E$), in units of GeV with $c = 1$ (methods `px()`, `py()`, `pz()`, and `e()`);\n",
    "- m, the mass, in units as above (method `m()`).\n",
    "\n",
    "For a complete description of these and other particle properties (such as production and decay vertices, rapidity, $p_\\perp$, etc), open the [Particle Properties page](https://pythia.org/manuals/pythia8311/ParticleProperties.html) of the HTML manual. For brief summaries on the less trivial of the ones above, read on.\n",
    "\n",
    "<a id='identityCodes'></a>\n",
    "### Identity codes\n",
    "\n",
    "A complete specification of the PDG codes is found in the [Review of Particle Physics](https://pdg.lbl.gov/).\n",
    "An online listing is available from the [PDG MC numbering review](http://pdg.lbl.gov/2022/reviews/rpp2022-rev-monte-carlo-numbering.pdf). A short summary of the most common id codes would be\n",
    "\n",
    "ID | particle | ID | particle | ID | particle | ID | particle | ID | particle | ID | particle | ID | particle\n",
    "-----:|:-----|-----:|:-----|-----:|:-----|-----:|:-----|-----:|:-----|-----:|:-----|-----:|:-----\n",
    "1 | $\\d$ | 11 | $\\e^-$       | 21 | $\\g$     | 111 | $\\pi^0$             | 223 | $\\omega$            | 331 | $\\eta'$     | 2112 | $\\n$       \n",
    "2 | $\\u$ | 12 | $\\nu_{\\e}$   | 22 | $\\gamma$ | 113 | $\\rho^0$            | 310 | $\\K^0_{\\mathrm{S}}$ | 333 | $\\phi$      | 2212 | $\\p$       \n",
    "3 | $\\s$ | 13 | $\\mu^-$      | 23 | $\\Z^0$   | 130 | $\\K^0_{\\mathrm{L}}$ | 311 | $\\K^0$              | 411 | $\\D^+$      | 3112 | $\\Sigma^-$ \n",
    "4 | $\\c$ | 14 | $\\nu_{\\mu}$  | 24 | $\\W^+$   | 211 | $\\pi^+$             | 313 | $\\K^{*0}$           | 421 | $\\D^0$      | 3122 | $\\Lambda^0$\n",
    "5 | $\\b$ | 15 | $\\tau^-$     | 25 | $\\H^0$   | 213 | $\\rho^+$            | 321 | $\\K^+$              | 431 | $\\D_{\\s}^+$ | 3212 | $\\Sigma^0$ \n",
    "6 | $\\t$ | 16 | $\\nu_{\\tau}$ |    |          | 221 | $\\eta$              | 323 | $\\K^{*+}$           | 3222 | $\\Sigma^+$ \n",
    "    \n",
    "Antiparticles to the above, where existing as separate entities, are given with a negative sign. Note that simple meson and baryon codes are constructed from the constituent (anti)quark codes, with a final spin-state-counting digit $2s + 1$ ($\\K^0_{\\mathrm{L}}$ and $\\K^0_{\\mathrm{S}}$ being exceptions), and with a set of further rules to make the codes unambiguous.\n",
    "\n",
    "### Status codes\n",
    "\n",
    "When a new particle is added to the event record, it is assigned a positive status code that describes why it has been added, as follows (see the [`Particle::status` section of the Particle Properties page](https://pythia.org/manuals/pythia8311/ParticleProperties.html#anchor2) of the HTML manual for the meaning of each specific code):\n",
    "\n",
    "code range | explanation\n",
    "-----|-----\n",
    "11 - 19|beam particles\n",
    "21 - 29|particles of the hardest subprocess\n",
    "31 - 39|particles of subsequent subprocesses in multiparton interactions\n",
    "41 - 49|particles produced by initial-state-showers\n",
    "51 - 59|particles produced by final-state-showers\n",
    "61 - 69|particles produced by beam-remnant treatment\n",
    "71 - 79|partons in preparation of hadronization process\n",
    "81 - 89|primary hadrons produced by hadronization process\n",
    "91 - 99|particles produced in decay process, or by Bose-Einstein effects\n",
    "\n",
    "Whenever a particle is allowed to branch or decay further its status code is negated (but it is *never* removed from the event record), such that only particles in the final state remain with positive codes. The `isFinal()` method returns `True/False` for positive/negative status codes.\n",
    "\n",
    "### History information\n",
    "\n",
    "The two mother and two daughter indices of each particle provide  information on the history relationship between the different entries in the event record. The detailed rules depend on the particular physics  step being described, as defined by the status code. As an example, in a $2 \\to 2$ process $a b \\to c d$, the locations of $a$ and $b$ would set the mothers of $c$ and $d$, with the reverse relationship for daughters. When the two mother or daughter indices are not consecutive they define a range between the first and last entry, such as a string system consisting of several partons fragment into several hadrons.\n",
    "\n",
    "There are also several special cases. One such is when \"the same\" particle appears as a second copy, e.g. because its momentum has been shifted by it taking a recoil in the dipole picture of parton showers. Then the original has both daughter indices pointing to the same particle, which in its turn has both mother pointers referring back to the original. Another special case is the description of ISR by backwards evolution, where the mother is constructed at a later stage than the daughter, and therefore appears below it in the event listing. \n",
    "\n",
    "### Colour flow information\n",
    "\n",
    "The colour flow information is based on the Les Houches Accord convention (see [Generic User Process Interface for Event Generators](https://arxiv.org/abs/hep-ph/0109068)). In it, the number of colours is assumed infinite, so that each new colour line can be assigned a new separate colour. These colours are given consecutive labels:\n",
    "`101`, `102`, `103`, ... A gluon has both a colour and an anticolour label, an (anti)quark only (anti)colour. \n",
    "\n",
    "While colours are traced consistently through hard processes and parton showers, the subsequent beam-remnant-handling step often involves a drastic change of colour labels. Firstly, previously unrelated colours and anticolours taken from the beams may at this stage be associated with each other, and be relabelled accordingly. Secondly, it appears that the close space-time overlap of many colour fields leads to reconnections, i.e. a swapping of colour labels, that tends to reduce the total length of field lines."
   ]
  },
  {
   "cell_type": "markdown",
   "metadata": {},
   "source": [
    "<a id='someFacilities'></a>\n",
    "# Some facilities\n",
    "\n",
    "The *Pythia* package contains some facilities that are not part of the core generation mission, but are useful for standalone running, notably at summer schools. Here we give some brief info on histograms and jet finding.\n",
    "\n",
    "<a id='histograms'></a>\n",
    "## Histograms\n",
    "\n",
    "For real-life applications you may want to use sophisticated histogramming programs like `ROOT`, which can take time to install and learn. Within the time at our disposal, we therefore stick with the very primitive `Hist` class. Here is a simple overview of what is involved. \n",
    "\n",
    "As a first step you need to declare a histogram, with name, title, number of bins and $x$ range (from, to), like"
   ]
  },
  {
   "cell_type": "code",
   "execution_count": null,
   "metadata": {},
   "outputs": [],
   "source": [
    "import pythia8\n",
    "pTH = pythia8.Hist(\"Higgs transverse momentum\", 100, 0., 200.)"
   ]
  },
  {
   "cell_type": "markdown",
   "metadata": {},
   "source": [
    "Once declared, its contents can be added by repeated calls to fill"
   ]
  },
  {
   "cell_type": "code",
   "execution_count": null,
   "metadata": {},
   "outputs": [],
   "source": [
    "pTH.fill(22.7, 1.)"
   ]
  },
  {
   "cell_type": "markdown",
   "metadata": {},
   "source": [
    "where the first argument is the $x$ value and the second the weight. Since the weight defaults to 1 the last argument could have been omitted in this case.\n",
    "\n",
    "A set of overloaded operators have been defined, so that histograms can be added, subtracted, divided or multiplied by each other. Then the contents are modified accordingly bin by bin. Thus the relative deviation between two histograms `data` and `theory` can be found as"
   ]
  },
  {
   "cell_type": "code",
   "execution_count": null,
   "metadata": {},
   "outputs": [],
   "source": [
    "data = pythia8.Hist(\"Higgs transverse momentum - data\", 100, 0., 200.)\n",
    "theory = pythia8.Hist(\"Higgs transverse momentum - theory\", 100, 0., 200.)\n",
    "diff = (data - theory) / (data + theory)"
   ]
  },
  {
   "cell_type": "markdown",
   "metadata": {},
   "source": [
    "assuming that `diff`, `data` and `theory` have been booked with the same number of bins and $x$ range.\n",
    "\n",
    "Also overloaded operations with double real numbers are available. Again these four operations are defined bin by bin, i.e. the corresponding amount is added to, subtracted from, multiplied by or divided by each bin. The double number can come before or after the histograms, with obvious results. Thus the inverse of a histogram result is given by `1./result`. The two kind of operations can be combined.\n",
    "\n",
    "A histogram can be printed by making use of `print`, e.g."
   ]
  },
  {
   "cell_type": "code",
   "execution_count": null,
   "metadata": {
    "scrolled": true
   },
   "outputs": [],
   "source": [
    "print(pTH)"
   ]
  },
  {
   "cell_type": "markdown",
   "metadata": {},
   "source": [
    "The printout format is inspired by the old HBOOK one. To understand \n",
    "how to read it, consider the simplified example\n",
    "```\n",
    "        3.50*10^ 2  9                     \n",
    "        3.00*10^ 2  X   7               \n",
    "        2.50*10^ 2  X  1X               \n",
    "        2.00*10^ 2  X6 XX                \n",
    "        1.50*10^ 2  XX5XX                 \n",
    "        1.00*10^ 2  XXXXX                \n",
    "        0.50*10^ 2  XXXXX        \n",
    "\n",
    "          Contents \n",
    "            *10^ 2  31122\n",
    "            *10^ 1  47208\n",
    "            *10^ 0  79373\n",
    "\n",
    "          Low edge  -- \n",
    "            *10^ 1  10001 \n",
    "            *10^ 0  05050\n",
    "```\n",
    "The key feature is that the `Contents` and `Low edge` have to be read vertically. For instance, the first bin has the contents $3 \\times 10^2 + 4 \\times 10^1 + 7 \\times 10^0 = 347$. Correspondingly, the other bins have contents 179, 123, 207 and 283. The first bin stretches from $-(1 \\times 10^1 + 0 \\times 10^0) = -10$ to the beginning of the second bin, at $-(0 \\times 10^1 + 5 \\times 10^0) = -5$.\n",
    "\n",
    "The visual representation above the contents give a simple impression of the shape. An `X` means that the contents are filled up to this level, a digit in the topmost row the fraction to which the last level is filled. So the `9` of the first column indicates this bin is filled 9/10 of the way from $3.00 \\times 10^2 = 300$ to $3.50 \\times 10^2 = 350$, i.e. somewhere close to 345, or more precisely in the range 342.5 to 347.5.\n",
    "\n",
    "The printout also provides some other information, such as the number of entries, i.e. how many times the histogram has been filled, the total weight inside the histogram, the total weight in underflow and overflow, and the mean value and root-mean-square width (disregarding underflow and overflow). The mean and width assumes that all the contents is in the middle of the respective bin. This is especially relevant when you plot a integer quantity, such as a multiplicity. Then it makes sense to book with limits that are half-integers, e.g."
   ]
  },
  {
   "cell_type": "code",
   "execution_count": null,
   "metadata": {},
   "outputs": [],
   "source": [
    "multMPI = pythia8.Hist(\"number of multiparton interactions\", 20, -0.5, 19.5)"
   ]
  },
  {
   "cell_type": "markdown",
   "metadata": {},
   "source": [
    "so that the bins are centered at 0, 1, 2, ..., respectively. This also avoids ambiguities which bin gets to be filled if entries are exactly at the border between two bins. Also note that the `fill(xValue)` method automatically performs a cast to double precision where necessary, i.e. `xValue` can be an integer.\n",
    "\n",
    "Histogram values can also be output to a file"
   ]
  },
  {
   "cell_type": "code",
   "execution_count": null,
   "metadata": {},
   "outputs": [],
   "source": [
    "pTH.table(\"filename\")"
   ]
  },
  {
   "cell_type": "markdown",
   "metadata": {},
   "source": [
    "which produces a two-column table, where the first column gives the center of each bin and the second one the corresponding bin content. This may be used for plotting e.g. with Gnuplot.\n",
    "\n",
    "<a id='jetFinding'></a>\n",
    "## Jet finding\n",
    "\n",
    "The `SlowJet` class offer jet finding by the $\\kT$, Cambridge/Aachen and anti-$\\kT$ algorithms. By default it is now a front end to the FJcore subset, extracted from the *FastJet* package (see [FastJet user manual](https://arxiv.org/abs/1111.6097)) and distributed as part of the *Pythia* package, and is therefore no longer slow. It is good enough for basic jet studies, but does not allow for jet pruning or other more sophisticated applications. (An interface to the full FastJet package is available for such uses.)\n",
    "\n",
    "You set up `SlowJet` initially with\n",
    "```Python\n",
    "slowJet = pythia8.SlowJet(pow, radius, pTjetMin, etaMax)\n",
    "```\n",
    "where `pow = -1` for anti-$\\kT$ (recommended), `pow = 0` for Cambridge/Aachen, `pow = 1` for $\\kT$, while `radius` is the $R$ parameter, `pTjetMin` the minimum $\\pT$ of jets, and `etaMax` the maximum pseudorapidity of the detector coverage."
   ]
  },
  {
   "cell_type": "code",
   "execution_count": null,
   "metadata": {},
   "outputs": [],
   "source": [
    "import pythia8\n",
    "slowJet = pythia8.SlowJet(-1, 0.5, 5., 100.)"
   ]
  },
  {
   "cell_type": "markdown",
   "metadata": {},
   "source": [
    "Inside the event loop, you can analyze an event by a call\n",
    "```python\n",
    "slowJet.analyze(pythia.event)\n",
    "```\n",
    "The jets found can be listed by `slowJet.list()`, but this is only feasible for a few events. Instead you can use the following methods:\n",
    "```python\n",
    "slowJet.sizeJet() # gives the number of jets found,\n",
    "slowJet.pT(i)     # gives the pT for the i'th jet, and\n",
    "slowJet.y(i)      # gives the rapidity for the i'th jet.\n",
    "```\n",
    "The jets are ordered in falling $\\pT$. Below is a more complete example."
   ]
  },
  {
   "cell_type": "code",
   "execution_count": null,
   "metadata": {},
   "outputs": [],
   "source": [
    "# Create a Pythia object.\n",
    "pythia = pythia8.Pythia(\"\", False)\n",
    "pythia.readString(\"HardQCD:hardbbbar = on\")\n",
    "pythia.readString(\"Print:quiet = on\")\n",
    "pythia.init()\n",
    "\n",
    "# Generate an event.\n",
    "pythia.next()\n",
    "\n",
    "# Build the jets.\n",
    "slowJet.analyze(pythia.event)\n",
    "\n",
    "# List the event.\n",
    "slowJet.list()"
   ]
  }
 ],
 "metadata": {
  "kernelspec": {
   "display_name": "Python 3",
   "language": "python",
   "name": "python3"
  },
  "language_info": {
   "codemirror_mode": {
    "name": "ipython",
    "version": 3
   },
   "file_extension": ".py",
   "mimetype": "text/x-python",
   "name": "python",
   "nbconvert_exporter": "python",
   "pygments_lexer": "ipython3",
   "version": "3.8.10"
  }
 },
 "nbformat": 4,
 "nbformat_minor": 5
}
