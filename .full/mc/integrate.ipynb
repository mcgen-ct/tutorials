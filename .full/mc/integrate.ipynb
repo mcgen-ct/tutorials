{
 "cells": [
  {
   "cell_type": "markdown",
   "metadata": {
    "id": "Integration_and_Sampling"
   },
   "source": [
    "# Integration and Sampling"
   ]
  },
  {
   "cell_type": "markdown",
   "metadata": {},
   "source": [
    "In this notebook we first investigate sampling random numbers other than uniform, and then use random number sampling to calculate integrals."
   ]
  },
  {
   "cell_type": "markdown",
   "metadata": {
    "id": "Requirements"
   },
   "source": [
    "## Requirements"
   ]
  },
  {
   "cell_type": "markdown",
   "metadata": {},
   "source": [
    "We need a random number generator. We could use one of the RNGs implemented in [`rng.ipynb`](rng.ipynb), but instead we will use the default `numpy` RNG. We also need the `math` module and `matplotlib`."
   ]
  },
  {
   "cell_type": "code",
   "execution_count": null,
   "metadata": {},
   "outputs": [],
   "source": [
    "# Import the `numpy` and `math` modules.\n",
    "import numpy as np\n",
    "import math\n",
    "\n",
    "# Import the `matplotlib` module.\n",
    "import matplotlib.pyplot as plt\n",
    "\n",
    "# Create an RNG, with a seed of 10.\n",
    "rng = np.random.default_rng(10)"
   ]
  },
  {
   "cell_type": "markdown",
   "metadata": {
    "id": "Introduction"
   },
   "source": [
    "## Introduction"
   ]
  },
  {
   "cell_type": "markdown",
   "metadata": {},
   "source": [
    "Typical events produced within the Large Hadron Collider (LHC) from colliding protons have $\\mathcal{O}(100)$ or more particles produced. When calculating a cross-section for a two-to-two process we typically only need to integrate over two variables, $\\theta$ and $\\phi$. A two-to-$n$ process requires integrating over $3n -4$ variables, so a typical LHC event would require integrating over $\\mathcal{O}(300)$ variables. This is numerically challenging, at best, and with current technology is just simply not possible. To calcululate LHC events, we can instead factorise the problem into more manageable parts using probabilistic methods. Even still, calculating a perturbative cross-section for a $4$-body final state requires integrating over $8$ variables which is a challenging numerical integration. The bottom line is that performing high dimension integrals quickly and efficiently is a core problem in particle physic, and is very numerically challenging.\n",
    "\n",
    "However, before we tackle integration with MC, we need to first discuss how we can efficiently sample distributions. In the [`rng.ipynb`](mc/rng.ipynb) notebook, we have hard to make a good generator for uniformly-distributed random variates. In practice, however, the probability distributions of interest are not uniform. Fortunately, uniform random variates can either be transformed into a different distribution or used as part of an accept/reject algorithm that converges to the desired probability distribution. Random variates -- uniform or not -- are also a primary part of the Monte Carlo integration method, so it is worthwhile to know how to transform uniform into complicated.\n",
    "\n",
    "In this notebook, we only consider continous distributions, but everything that we say can be applied, with some modification, to discrete distributions."
   ]
  },
  {
   "cell_type": "markdown",
   "metadata": {
    "id": "Analytic_Sampling"
   },
   "source": [
    "## Analytic Sampling"
   ]
  },
  {
   "cell_type": "markdown",
   "metadata": {},
   "source": [
    "Analytic, or inverse cumulative distribution function (CDF) sampling allows us to transform a uniform distribution into our target distribution, $f(x)$. However, this is not possible for every $f(x)$. To sample $f(x)$ the following must generally be fulfilled.\n",
    "\n",
    "1. The sampling of $f(x)$ is bounded, where over this range $f(x)$ is positive.\n",
    "\n",
    "$$\n",
    "f(x) \\geq 0 \\text{ for } x_\\min < x < x_\\max\n",
    "$$\n",
    "\n",
    "2. The integral of $f(x)$ can be calculated.\n",
    "\n",
    "$$\n",
    "F(x) = \\int \\text{d}x\\, f(x)\n",
    "$$\n",
    "\n",
    "3. The integral of $f(x)$ can be inverted, which we label $F^{-1}(x)$.\n",
    "\n",
    "With these three conditions met we can then sample a distribution for $f(x)$ as follows. First, we can consider integrating a distribution from $x_\\min$ to $x$, as shown in the figure below.\n",
    "\n",
    "![Schematic of analytic sampling.](figures/sampleAnalytic)\n",
    "\n",
    "We then draw a uniform random number $R$ which gives us the following relation.\n",
    "\n",
    "$$\n",
    "\\int_{x_{\\min}}^x \\text{d}x'\\, f(x') = R \\int_{x_{\\min}}^{x_{\\max}} \\text{d}{x'}\\, f(x')\n",
    "$$\n",
    "\n",
    "We then perform the integration, where $F(x)$ is the indefinite integral of $f(x)$.\n",
    "\n",
    "$$\n",
    "F(x) - F(x_{\\min}) = R(F(x_\\max) - F(x_\\min))\n",
    "$$\n",
    "\n",
    "We can then write $F(x_\\max) - F(x_\\min)$ as $A$, the area under the integral.\n",
    "$$\n",
    "F(x) - F(x_{\\min}) = R A\n",
    "$$\n",
    "\n",
    "We then solve for $x$.\n",
    "\n",
    "$$\n",
    "x = F^{-1}(F(x_{\\min}) + R A)\n",
    "$$\n",
    "\n",
    "So, we can uniformly sample $R$ and then use the final relation to transform this into $x$, as sampled from $f(x)$."
   ]
  },
  {
   "cell_type": "markdown",
   "metadata": {
    "id": "Exercise:_generic_sampler"
   },
   "source": [
    "### Exercise: generic sampler"
   ]
  },
  {
   "cell_type": "markdown",
   "metadata": {},
   "source": [
    "Before we try to generate any specific distributions using this method, let us first set up a generic sampler class which uses the steps above."
   ]
  },
  {
   "cell_type": "code",
   "execution_count": null,
   "metadata": {},
   "outputs": [],
   "source": [
    "### START_EXERCISE\n",
    "class SampleAnalytic:\n",
    "    \"\"\"\n",
    "    Base class to analytically sample a distribution from a random\n",
    "    distribution.\n",
    "    \"\"\"\n",
    "\n",
    "    def __init__(self, rng, xmin, xmax):\n",
    "        \"\"\"\n",
    "        Initialize the sampler, given the limits on f(x).\n",
    "\n",
    "        rng:  uniform random number generator, should have method `uniform()`.\n",
    "        xmin: lower bound of the sampling region.\n",
    "        xmax: upper bound of the sampling region.\n",
    "        \"\"\"\n",
    "        self.rng = rng\n",
    "        self.xmin = xmin\n",
    "        self.xmax = xmax\n",
    "        self.F_xmin = self.F(xmin)\n",
    "        self.area = self.F(xmax) - self.F(xmin)\n",
    "\n",
    "    def f(self, x):\n",
    "        \"\"\"\n",
    "        Return the function being sampled, f(x). This method is not necessary,\n",
    "        but very useful for importance sampling and checking the distribution.\n",
    "\n",
    "        x: value to calculate f(x) for.\n",
    "        \"\"\"\n",
    "        # Implment f(x) here.\n",
    "        return 0.0\n",
    "\n",
    "    def F(self, x):\n",
    "        \"\"\"\n",
    "        Returns F(x), the indefinite integral for f(x).\n",
    "\n",
    "        x: value to calculate the indefinite integral for f(x).\n",
    "        \"\"\"\n",
    "        # Implement F(x) here.\n",
    "        return 0.0\n",
    "\n",
    "    def F_inv(self, f):\n",
    "        \"\"\"\n",
    "        Returns the inverse of the F(x).\n",
    "\n",
    "        F: the value of F(x) to calculate the inverse.\n",
    "        \"\"\"\n",
    "        # Implement F^-1(x) here.\n",
    "        return 0.0\n",
    "\n",
    "    def __call__(self):\n",
    "        \"\"\"\n",
    "        Return the sampled value.\n",
    "        \"\"\"\n",
    "        # Define the function from above that transforms a uniformly sampled\n",
    "        # random number to the desired distribution.\n",
    "        return 0.0\n",
    "\n",
    "\n",
    "###STOP_EXERCISE"
   ]
  },
  {
   "cell_type": "code",
   "execution_count": null,
   "metadata": {},
   "outputs": [],
   "source": [
    "### START_SOLUTION\n",
    "class SampleAnalytic:\n",
    "    \"\"\"\n",
    "    Base class to analytically sample a distribution from a random\n",
    "    distribution.\n",
    "    \"\"\"\n",
    "\n",
    "    def __init__(self, rng, xmin, xmax):\n",
    "        \"\"\"\n",
    "        Initialize the sampler, given the limits on f(x).\n",
    "\n",
    "        rng:  uniform random number generator, should have method `uniform()`.\n",
    "        xmin: lower bound of the sampling region.\n",
    "        xmax: upper bound of the sampling region.\n",
    "        \"\"\"\n",
    "        self.rng = rng\n",
    "        self.xmin = xmin\n",
    "        self.xmax = xmax\n",
    "        self.F_xmin = self.F(xmin)\n",
    "        self.area = self.F(xmax) - self.F(xmin)\n",
    "\n",
    "    def f(self, x):\n",
    "        \"\"\"\n",
    "        Return the function being sampled, f(x). This method is not necessary,\n",
    "        but very useful for importance sampling and checking the distribution.\n",
    "\n",
    "        x: value to calculate f(x) for.\n",
    "        \"\"\"\n",
    "        return 0.0\n",
    "\n",
    "    def F(self, x):\n",
    "        \"\"\"\n",
    "        Returns F(x), the indefinite integral for f(x).\n",
    "\n",
    "        x: value to calculate the indefinite integral for f(x).\n",
    "        \"\"\"\n",
    "        return 0.0\n",
    "\n",
    "    def F_inv(self, f):\n",
    "        \"\"\"\n",
    "        Returns the inverse of the F(x).\n",
    "\n",
    "        F: the value of F(x) to calculate the inverse.\n",
    "        \"\"\"\n",
    "        return 0.0\n",
    "\n",
    "    def __call__(self):\n",
    "        \"\"\"\n",
    "        Return the sampled value.\n",
    "        \"\"\"\n",
    "        # Sample the uniform random number.\n",
    "        r = self.rng.uniform()\n",
    "        return self.F_inv(self.F_xmin + r * self.area)\n",
    "\n",
    "\n",
    "###STOP_SOLUTION"
   ]
  },
  {
   "cell_type": "markdown",
   "metadata": {
    "id": "Exercise:_linear_function"
   },
   "source": [
    "### Exercise: linear function"
   ]
  },
  {
   "cell_type": "markdown",
   "metadata": {},
   "source": [
    "Sample from a linear distribution with the following form.\n",
    "\n",
    "$$\n",
    "f(x) = mx + b\n",
    "$$"
   ]
  },
  {
   "cell_type": "code",
   "execution_count": null,
   "metadata": {},
   "outputs": [],
   "source": [
    "###START_EXERCISE\n",
    "class SampleLinear(SampleAnalytic):\n",
    "    \"\"\"\n",
    "    Class to analytically sample a linear function.\n",
    "    \"\"\"\n",
    "\n",
    "    def __init__(self, rng, xmin, xmax, m, b):\n",
    "        \"\"\"\n",
    "        Initialize the sampler, given the limits on f(x) and the linear\n",
    "        parameters.\n",
    "\n",
    "        f(x) = mx + b\n",
    "\n",
    "        rng:  uniform random number generator, should have method `uniform()`.\n",
    "        xmin: lower bound of the sampling region.\n",
    "        xmax: upper bound of the sampling region.\n",
    "        m:    slope of the linear distribution.\n",
    "        b:    intercept of the linear distribution.\n",
    "        \"\"\"\n",
    "        # Set the linear parameters. This must be done before the base class\n",
    "        # is initialized.\n",
    "        # Initialize the base class.\n",
    "\n",
    "    def f(self, x):\n",
    "        \"\"\"\n",
    "        Return the function being sampled, f(x).\n",
    "\n",
    "        x: value to calculate f(x) for.\n",
    "        \"\"\"\n",
    "        return 0.0\n",
    "\n",
    "    def F(self, x):\n",
    "        \"\"\"\n",
    "        Returns F(x), the indefinite integral for f(x).\n",
    "\n",
    "        x: value to calculate the indefinite integral for f(x).\n",
    "        \"\"\"\n",
    "        return 0.0\n",
    "\n",
    "    def F_inv(self, f):\n",
    "        \"\"\"\n",
    "        Returns the inverse of the F(x).\n",
    "\n",
    "        F: the value of F(x) to calculate the inverse.\n",
    "        \"\"\"\n",
    "        # Handle the special case of no slope.\n",
    "        return 0.0\n",
    "\n",
    "\n",
    "###STOP_EXERCISE"
   ]
  },
  {
   "cell_type": "code",
   "execution_count": null,
   "metadata": {},
   "outputs": [],
   "source": [
    "###START_SOLUTION\n",
    "class SampleLinear(SampleAnalytic):\n",
    "    \"\"\"\n",
    "    Class to analytically sample a linear function.\n",
    "    \"\"\"\n",
    "\n",
    "    def __init__(self, rng, xmin, xmax, m, b):\n",
    "        \"\"\"\n",
    "        Initialize the sampler, given the limits on f(x) and the linear\n",
    "        parameters.\n",
    "\n",
    "        f(x) = mx + b\n",
    "\n",
    "        rng:  uniform random number generator, should have method `uniform()`.\n",
    "        xmin: lower bound of the sampling region.\n",
    "        xmax: upper bound of the sampling region.\n",
    "        m:    slope of the linear distribution.\n",
    "        b:    intercept of the linear distribution.\n",
    "        \"\"\"\n",
    "        # Set the linear parameters. This must be done before the base class\n",
    "        # is initialized.\n",
    "        self.m = m\n",
    "        self.b = b\n",
    "        # Initialize the base class.\n",
    "        super().__init__(rng, xmin, xmax)\n",
    "\n",
    "    def f(self, x):\n",
    "        \"\"\"\n",
    "        Return the function being sampled, f(x).\n",
    "\n",
    "        x: value to calculate f(x) for.\n",
    "        \"\"\"\n",
    "        return self.m * x + self.b\n",
    "\n",
    "    def F(self, x):\n",
    "        \"\"\"\n",
    "        Returns F(x), the indefinite integral for f(x).\n",
    "\n",
    "        x: value to calculate the indefinite integral for f(x).\n",
    "        \"\"\"\n",
    "        return self.m * x**2 / 2 + self.b * x\n",
    "\n",
    "    def F_inv(self, f):\n",
    "        \"\"\"\n",
    "        Returns the inverse of the F(x).\n",
    "\n",
    "        F: the value of F(x) to calculate the inverse.\n",
    "        \"\"\"\n",
    "        # Handle the special case of no slope.\n",
    "        if self.m == 0:\n",
    "            return f / self.b\n",
    "        else:\n",
    "            return abs(((self.b**2 + 2 * self.m * f) ** 0.5 - self.b) / self.m)\n",
    "\n",
    "\n",
    "###STOP_SOLUTION"
   ]
  },
  {
   "cell_type": "markdown",
   "metadata": {},
   "source": [
    "Now, let us test whether this sampler works for $m = 3$ and $b = 2$ between $0$ and $1$. We will want to test a number of distributions, so let us first write a little method that does just that. The following method plots the normalized sampled distribution and compares this to the normalized target function $f(x)$."
   ]
  },
  {
   "cell_type": "code",
   "execution_count": null,
   "metadata": {},
   "outputs": [],
   "source": [
    "def plot_sampler(sampler, n=100000, bins=50):\n",
    "    \"\"\"\n",
    "    Plots the distribution from a sampler for a specific distribution.\n",
    "\n",
    "    sampler: random number sampler.\n",
    "    n:       number of points to sample.\n",
    "    bins:    number of bins in the histogram.\n",
    "    \"\"\"\n",
    "    # Sample the distribution.\n",
    "    rns = []\n",
    "    for i in range(0, n):\n",
    "        # Store the value.\n",
    "        rns += [sampler()]\n",
    "\n",
    "    # Calculate the target function.\n",
    "    xs = np.linspace(sampler.xmin, sampler.xmax)\n",
    "    fs = [sampler.f(x) / sampler.area for x in xs]\n",
    "\n",
    "    # Create the plot.\n",
    "    fig, ax = plt.subplots()\n",
    "\n",
    "    # Draw the histogram.\n",
    "    ax.hist(rns, bins=bins, density=True, label=\"generated\")\n",
    "\n",
    "    # Draw the target function, make sure to normalize.\n",
    "    ax.plot(xs, fs, label=\"target\")\n",
    "\n",
    "    # Draw the legend.\n",
    "    ax.legend()\n",
    "\n",
    "    return fig, ax"
   ]
  },
  {
   "cell_type": "markdown",
   "metadata": {},
   "source": [
    "With this method, test to see if the distribution being generated matches the target."
   ]
  },
  {
   "cell_type": "code",
   "execution_count": null,
   "metadata": {},
   "outputs": [],
   "source": [
    "###START_EXERCISE\n",
    "# Create the sampler.\n",
    "\n",
    "# Call the `plot_sampler` method.\n",
    "###STOP_EXERCISE"
   ]
  },
  {
   "cell_type": "code",
   "execution_count": null,
   "metadata": {},
   "outputs": [],
   "source": [
    "###START_SOLUTION\n",
    "# Create the sampler.\n",
    "sampler = SampleLinear(rng, 0, 1, 3, 2)\n",
    "\n",
    "# Plot the comparison.\n",
    "plot_sampler(sampler);\n",
    "###STOP_SOLUTION"
   ]
  },
  {
   "cell_type": "markdown",
   "metadata": {
    "id": "Exercise:_Breit-Wigner"
   },
   "source": [
    "### Exercise: Breit-Wigner"
   ]
  },
  {
   "cell_type": "markdown",
   "metadata": {},
   "source": [
    "Also known as a Cauchy distribution, the relativistic Breit-Wigner is of particular importance in particle physics because it can describe the distribution of masses for a specific particle type, e.g., a $Z$ boson. If we want to be able to efficiently sample a mass distribution, then we need to be able to sample a relativistic Breit-Wigner. The form of the function is as follows.\n",
    "\n",
    "$$\n",
    "f(x) = \\frac{1}{\\pi}\\left(\\frac{\\gamma}{(x - x_0)^2 + \\gamma^2}\\right)\n",
    "$$\n",
    "\n",
    "Rememner, the normalization of this function does not matter. In a particle physics context, $\\gamma$ is $M\\Gamma$ where $M$ is the mass of the particle and $\\Gamma$ is its width. Then, $x_0$ is $M$.\n",
    "\n",
    "Implement a sampler for the Breit-Wigner distribution."
   ]
  },
  {
   "cell_type": "code",
   "execution_count": null,
   "metadata": {},
   "outputs": [],
   "source": [
    "###START_EXERCISE\n",
    "class SampleCauchy(SampleAnalytic):\n",
    "    \"\"\"\n",
    "    Class to analytically sample a Cauchy function.\n",
    "    \"\"\"\n",
    "\n",
    "    def __init__(self, rng, xmin, xmax, x0, gamma):\n",
    "        \"\"\"\n",
    "        Initialize the sampler, given the limits on f(x) and the linear\n",
    "        parameters.\n",
    "\n",
    "        f(x) = 1/pi * (gamma/(x - x0)^2 + gamma^2)\n",
    "\n",
    "        rng:   uniform random number generator, should have method `uniform()`.\n",
    "        xmin:  lower bound of the sampling region.\n",
    "        xmax:  upper bound of the sampling region.\n",
    "        x0:    location parameter.\n",
    "        gamma: scale parameter.\n",
    "        \"\"\"\n",
    "        # Set the parameters.\n",
    "        # Initialize the base class.\n",
    "        super().__init__(rng, xmin, xmax)\n",
    "\n",
    "    def f(self, x):\n",
    "        \"\"\"\n",
    "        Return the function being sampled, f(x).\n",
    "\n",
    "        x: value to calculate f(x) for.\n",
    "        \"\"\"\n",
    "        return 0.0\n",
    "\n",
    "    def F(self, x):\n",
    "        \"\"\"\n",
    "        Returns F(x), the indefinite integral for f(x).\n",
    "\n",
    "        x: value to calculate the indefinite integral for f(x).\n",
    "        \"\"\"\n",
    "        return 0.0\n",
    "\n",
    "    def F_inv(self, f):\n",
    "        \"\"\"\n",
    "        Returns the inverse of the F(x).\n",
    "\n",
    "        F: the value of F(x) to calculate the inverse.\n",
    "        \"\"\"\n",
    "        return 0.0\n",
    "\n",
    "\n",
    "###STOP_EXERCISE"
   ]
  },
  {
   "cell_type": "code",
   "execution_count": null,
   "metadata": {},
   "outputs": [],
   "source": [
    "###START_SOLUTION\n",
    "class SampleCauchy(SampleAnalytic):\n",
    "    \"\"\"\n",
    "    Class to analytically sample a Cauchy function.\n",
    "    \"\"\"\n",
    "\n",
    "    def __init__(self, rng, xmin, xmax, x0, gamma):\n",
    "        \"\"\"\n",
    "        Initialize the sampler, given the limits on f(x) and the linear\n",
    "        parameters.\n",
    "\n",
    "        f(x) = 1/pi * (gamma/(x - x0)^2 + gamma^2)\n",
    "\n",
    "        rng:   uniform random number generator, should have method `uniform()`.\n",
    "        xmin:  lower bound of the sampling region.\n",
    "        xmax:  upper bound of the sampling region.\n",
    "        x0:    location parameter.\n",
    "        gamma: scale parameter.\n",
    "        \"\"\"\n",
    "        # Set the parameters.\n",
    "        self.x0 = x0\n",
    "        self.gamma = gamma\n",
    "        # Initialize the base class.\n",
    "        super().__init__(rng, xmin, xmax)\n",
    "\n",
    "    def f(self, x):\n",
    "        \"\"\"\n",
    "        Return the function being sampled, f(x).\n",
    "\n",
    "        x: value to calculate f(x) for.\n",
    "        \"\"\"\n",
    "        return 1 / math.pi * self.gamma / ((x - self.x0) ** 2 + self.gamma**2)\n",
    "\n",
    "    def F(self, x):\n",
    "        \"\"\"\n",
    "        Returns F(x), the indefinite integral for f(x).\n",
    "\n",
    "        x: value to calculate the indefinite integral for f(x).\n",
    "        \"\"\"\n",
    "        return 1 / math.pi * math.atan((x - self.x0) / self.gamma) + 1 / 2\n",
    "\n",
    "    def F_inv(self, f):\n",
    "        \"\"\"\n",
    "        Returns the inverse of the F(x).\n",
    "\n",
    "        F: the value of F(x) to calculate the inverse.\n",
    "        \"\"\"\n",
    "        return self.x0 + self.gamma * math.tan(math.pi * (f - 1 / 2))\n",
    "\n",
    "\n",
    "###STOP_SOLUTION"
   ]
  },
  {
   "cell_type": "markdown",
   "metadata": {},
   "source": [
    "Check this distribution for a $\\gamma = 5$, $x_0 = 20$, and range of $0$ to $40$."
   ]
  },
  {
   "cell_type": "code",
   "execution_count": null,
   "metadata": {},
   "outputs": [],
   "source": [
    "###START_EXERCISE\n",
    "# Create the sampler.\n",
    "\n",
    "# Plot the comparison.\n",
    "###STOP_EXERCISE"
   ]
  },
  {
   "cell_type": "code",
   "execution_count": null,
   "metadata": {},
   "outputs": [],
   "source": [
    "###START_SOLUTION\n",
    "# Create the sampler.\n",
    "sampler = SampleCauchy(rng, 0, 40, 20, 5)\n",
    "\n",
    "# Plot the comparison.\n",
    "plot_sampler(sampler);\n",
    "###STOP_SOLUTION"
   ]
  },
  {
   "cell_type": "markdown",
   "metadata": {
    "id": "Exercise:_Gaussian"
   },
   "source": [
    "### Exercise: Gaussian"
   ]
  },
  {
   "cell_type": "markdown",
   "metadata": {},
   "source": [
    "Perhaps one of the most sampled distributions out there is the Gaussian.\n",
    "\n",
    "$$\n",
    "f(x) = \\frac{1}{\\sqrt{2\\pi\\sigma^2}}e^{-(x-\\mu)^2/(2\\sigma^2)}\n",
    "$$\n",
    "\n",
    "As a matter of fact, the Gaussian is critical for many machine learning techniques. However, looking at the function above, it is clear that it is not possible to calculate a closed analytic form for either $F(x)$ or $F^{-1}(x)$. So, our analytic method from above fails. What do we do instead? One option is to numerically calculate the $F(x)$ and $F^{-1}(x)$, of which there are relatively efficient methods.\n",
    "\n",
    "However, it turns out there is a very clever transform that you can do, commonly called the Box-Muller transform. We won't go through the derivation here, but it has to do with relating Cartesian and polar coordinates. Anyhow, the method is as follows.\n",
    "\n",
    "1. Sample two random numbers $R_1$ and $R_2$.\n",
    "2. Transform these into two indepdent Gaussian distributed numbers $x_1$ and $x_2$ with the following.\n",
    "\n",
    "$$\n",
    "x_1 = \\sqrt{-2\\log(R_1)}\\cos(2\\pi R_2)\n",
    "$$\n",
    "\n",
    "$$\n",
    "x_2 = \\sqrt{-2\\log(R_1)}\\sin(2\\pi R_2)\n",
    "$$\n",
    "\n",
    "3. These $x$ are for a Gaussian with $\\mu = 0$ and $\\sigma = 1$, so they need to be muplitied by $\\sigma$ with $\\mu$ added on.\n",
    "\n",
    "What is great about this method is that not only is it simple and fast, it also is not bounded, which is required of the method we used above! Using this transformation, define a Gaussian sampler."
   ]
  },
  {
   "cell_type": "code",
   "execution_count": null,
   "metadata": {},
   "outputs": [],
   "source": [
    "###START_SOLUTION\n",
    "class SampleGaussian:\n",
    "    \"\"\"\n",
    "    Class to sample a Gaussian distribution.\n",
    "    \"\"\"\n",
    "\n",
    "    def __init__(self, rng, xmin, xmax, mu, sigma):\n",
    "        \"\"\"\n",
    "        Initialize the sampler. Note, the limits `xmin` and `xmax` here only\n",
    "        define the limits when used for drawing with the `plot_sampler` method.\n",
    "        Sampling is performed without any limits.\n",
    "\n",
    "        rng:   uniform random number generator, should have method `uniform()`.\n",
    "        xmin:  minimum x for plotting (not sampling).\n",
    "        xmax:  maximum x for plotting (not sampling).\n",
    "        mu:    mean of Gaussian.\n",
    "        sigma: width of Gaussian.\n",
    "        \"\"\"\n",
    "        # Set the parameters.\n",
    "        self.rng = rng\n",
    "        self.xmin = xmin\n",
    "        self.xmax = xmax\n",
    "        self.mu = mu\n",
    "        self.sigma = sigma\n",
    "\n",
    "        # Set the area being sampled. This distribution is normalized.\n",
    "        self.area = 1\n",
    "\n",
    "    def f(self, x):\n",
    "        \"\"\"\n",
    "        Return the function being sampled, f(x).\n",
    "\n",
    "        x: value to calculate f(x) for.\n",
    "        \"\"\"\n",
    "        return (\n",
    "            1\n",
    "            / (2 * math.pi * self.sigma**2) ** 0.5\n",
    "            * math.exp(-((x - self.mu) ** 2) / (2 * self.sigma**2))\n",
    "        )\n",
    "\n",
    "    def __call__(self):\n",
    "        \"\"\"\n",
    "        Return the sampled value.\n",
    "        \"\"\"\n",
    "        # Sample the two uniform random numbers.\n",
    "        r1 = self.rng.uniform()\n",
    "        r2 = self.rng.uniform()\n",
    "        # Return only one of the two transformed values.\n",
    "        return (\n",
    "            self.sigma * (-2 * math.log(r1)) ** 0.5 * math.cos(2 * math.pi * r2)\n",
    "            + self.mu\n",
    "        )\n",
    "\n",
    "\n",
    "###STOP_SOLUTION"
   ]
  },
  {
   "cell_type": "markdown",
   "metadata": {},
   "source": [
    "Check this distribution."
   ]
  },
  {
   "cell_type": "code",
   "execution_count": null,
   "metadata": {},
   "outputs": [],
   "source": [
    "### START_EXERCISE\n",
    "### STOP_EXERCISE"
   ]
  },
  {
   "cell_type": "code",
   "execution_count": null,
   "metadata": {},
   "outputs": [],
   "source": [
    "### START_SOLUTION\n",
    "# Create the sampler.\n",
    "sampler = SampleGaussian(rng, 0, 10, 5, 2)\n",
    "\n",
    "# Plot the comparison.\n",
    "plot_sampler(sampler);\n",
    "### STOP_SOLUTION"
   ]
  },
  {
   "cell_type": "markdown",
   "metadata": {
    "id": "Binned_Sampling"
   },
   "source": [
    "## Binned Sampling"
   ]
  },
  {
   "cell_type": "markdown",
   "metadata": {
    "id": "Example:_create_a_histogram"
   },
   "source": [
    "### Example: create a histogram"
   ]
  },
  {
   "cell_type": "markdown",
   "metadata": {
    "id": "Example:_implement_binned_sampling"
   },
   "source": [
    "### Example: implement binned sampling"
   ]
  },
  {
   "cell_type": "markdown",
   "metadata": {
    "id": "Accept/Reject_Sampling"
   },
   "source": [
    "## Accept/Reject Sampling"
   ]
  },
  {
   "cell_type": "markdown",
   "metadata": {
    "id": "Importance_Sampling"
   },
   "source": [
    "## Importance Sampling"
   ]
  },
  {
   "cell_type": "markdown",
   "metadata": {
    "id": "Multichannel_Sampling"
   },
   "source": [
    "## Multichannel Sampling"
   ]
  },
  {
   "cell_type": "markdown",
   "metadata": {
    "id": "Quadarature_Integration"
   },
   "source": [
    "## Quadarature Integration"
   ]
  },
  {
   "cell_type": "markdown",
   "metadata": {
    "id": "MC_Integration"
   },
   "source": [
    "## MC Integration"
   ]
  }
 ],
 "metadata": {
  "colab": {
   "collapsed_sections": [
    "Requirements",
    "Introduction",
    "Analytic_Sampling",
    "Exercise:_generic_sampler",
    "Exercise:_linear_function",
    "Exercise:_Breit-Wigner",
    "Exercise:_Gaussian",
    "Binned_Sampling",
    "Example:_create_a_histogram",
    "Example:_implement_binned_sampling",
    "Accept/Reject_Sampling",
    "Importance_Sampling",
    "Multichannel_Sampling",
    "Quadarature_Integration",
    "MC_Integration"
   ],
   "provenance": []
  },
  "kernelspec": {
   "display_name": "Python 3 (ipykernel)",
   "language": "python",
   "name": "python3"
  },
  "language_info": {
   "codemirror_mode": {
    "name": "ipython",
    "version": 3
   }
  }
 },
 "nbformat": 4,
 "nbformat_minor": 0
}