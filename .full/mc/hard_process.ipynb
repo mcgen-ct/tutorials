{
 "cells": [
  {
   "cell_type": "markdown",
   "metadata": {
    "id": "Hard_Process"
   },
   "source": [
    "# Hard Process"
   ]
  },
  {
   "cell_type": "markdown",
   "metadata": {},
   "source": [
    "The starting point for almost any high energy particle physics MC event generator is the hard process, where the signal of inteterest to the user is generated. For example, this could be $g g \\to H$, $q \\bar{q} \\to Z$, or $g g \\to t\\bar{t}$. Whatever is chosen becomes the start point for the entire event. In Pythia, the event generation roughly proceeds through the following steps.\n",
    "\n",
    "1. Hard process is generated.\n",
    "2. Resonances prouced in the hard process, like a Higgs or $Z$ are decayed.\n",
    "3. Perturbative evolution of the hard process via parton showers, initial and final state, is performed.\n",
    "4. Additional scatterings from the beam, multi-parton interactions (MPI) are interleaved into the perturbative evolution.\n",
    "5. Partons from the shower are combined together into hadrons through the phenomenoligcal process of hadronization.\n",
    "6. These hadrons are decayed.\n",
    "7. Other non-perturbative effects are included, like hadronic rescattering or Bose-Einstein correlations. Sometimes these processes are interleaved with the decays.\n",
    "\n",
    "Condensing this down even further, we have three major steps: hard process, evolution, and hadronization as shown below.\n",
    "\n",
    "![Event factorization.](figures/event.png)\n",
    "\n",
    "In this tutorial, we work through how the hard process can be calculated numerically from scratch."
   ]
  }
 ],
 "metadata": {
  "colab": {
   "collapsed_sections": [],
   "provenance": []
  },
  "kernelspec": {
   "display_name": "Python 3 (ipykernel)",
   "language": "python",
   "name": "python3"
  },
  "language_info": {
   "codemirror_mode": {
    "name": "ipython",
    "version": 3
   }
  }
 },
 "nbformat": 4,
 "nbformat_minor": 0
}