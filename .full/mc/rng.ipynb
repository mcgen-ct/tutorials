{
 "cells": [
  {
   "cell_type": "markdown",
   "metadata": {
    "id": "Random_Number_Generators"
   },
   "source": [
    "# Random Number Generators"
   ]
  },
  {
   "cell_type": "markdown",
   "metadata": {},
   "source": [
    "For any Monte Carlo (MC) computational technique, random numbers (or pseudo-random numbers) are critical, not only in the sampling characterstics of the generator but also the speed of the sampling. For example, simulating a Large Hadron Collider (LHC) collission can require upwards of $2.5 \\times 10^6$ random number calls.\n",
    "\n",
    "This worksheet is largely based on chapter 7 of [Numerical Recipes](https://numerical.recipes/book.html), and associated primary papers. The following is a list of references for further reading.\n",
    "\n",
    "*  Hammersley, J.M. and Handscomb, D.C. 1964, Monte Carlo Methods (London: Methuen)\n",
    "* Kalos, M.H. and Whitlock, P.A. 1986, Monte Carlo Methods (New York: Wiley)\n",
    "* Bratley, P., Fox, B.L., and Schrage, E.L. 1983, A Guide to Simulation, 2nd ed. (New York: Springer)\n",
    "* Lepage, G.P. 1978, A New Algorithm for Adaptive Multidimensional Integration, Journal of Computational Physics, vol. 27, pp. 192-203\n",
    "* Lepage, G.P. 1980, VEGAS: An Adaptive Multidimensional Integration Program, Publication CLNS-80/447, Cornell University\n",
    "* Numerical Recipes Software 2007, [Complete VEGAS Code Listing](http://numerical.recipes/webnotes?9), Numerical Recipes Webnote No. 9\n",
    "* Press, W.H., and Farrar, G.R. 1990, Recursive Stratified Sampling for Multidimensional Monte Carlo Integration, Computers in Physics, vol. 4, pp. 190-195\n",
    "* Numerical Recipes Software 2007, [Complete Miser Code Listing](http://numerical.recipes/webnotes?10), Numerical Recipes Webnote No. 10"
   ]
  },
  {
   "cell_type": "markdown",
   "metadata": {
    "id": "Requirements"
   },
   "source": [
    "## Requirements"
   ]
  },
  {
   "cell_type": "markdown",
   "metadata": {},
   "source": [
    "This notebook requires a few external dependencies which are imported here. First, it is useful to have interactive plotting via `matplotlib`. To enable this, we need to install the `ipympl` module and restart the kernel."
   ]
  },
  {
   "cell_type": "code",
   "execution_count": null,
   "metadata": {},
   "outputs": [],
   "source": [
    "# Install `ipympl`.\n",
    "#!pip install -q ipympl\n",
    "# get_ipython().kernel.do_shutdown(restart=True)"
   ]
  },
  {
   "cell_type": "markdown",
   "metadata": {},
   "source": [
    "Next, we configure `matplotlib` and allow widgets in Colab."
   ]
  },
  {
   "cell_type": "code",
   "execution_count": null,
   "metadata": {},
   "outputs": [],
   "source": [
    "# Allow for interactive plots.\n",
    "%matplotlib widget\n",
    "from matplotlib import pyplot as plt\n",
    "\n",
    "# Allow for widgets in Colab.\n",
    "try:\n",
    "    from google.colab import output\n",
    "\n",
    "    output.enable_custom_widget_manager()\n",
    "except:\n",
    "    pass"
   ]
  },
  {
   "cell_type": "markdown",
   "metadata": {},
   "source": [
    "Finally, we import both `numpy` and `scipy` for matrix operations which are used in the [XORshift RNGs](#scrollTo=XORshift_RNGs) section. We also need `sys` to determine the size of types when performing bit shifts."
   ]
  },
  {
   "cell_type": "code",
   "execution_count": null,
   "metadata": {},
   "outputs": [],
   "source": [
    "import numpy as np\n",
    "import scipy as sp\n",
    "import sys, math, inspect"
   ]
  },
  {
   "cell_type": "markdown",
   "metadata": {
    "id": "Introduction"
   },
   "source": [
    "## Introduction"
   ]
  },
  {
   "cell_type": "markdown",
   "metadata": {},
   "source": [
    "This tutorial will give an introduction to Random Number Generators (or RNGs, for short). RNG algorithms are really pseudo-random (pRNG). This means they are deterministic. Randomness (Jaynes, [Probability Theory: The Logic of Science](http://www.med.mcgill.ca/epidemiology/hanley/bios601/GaussianModel/JaynesProbabilityTheory.pdf)) is a statement about knowledge, not about causes. pRNGs have causes, but you might not know them, or you might use them in a way so that they appear to be random, or random \"enough\".\n",
    "\n",
    "What are the basic properties of RNs? On any interval, there is an equal probability to obtain any value. For convenience, we will take this interval to be $(0,1)$. Note, we will generally exclude $0$ from the interval when considering RNs on a computer, since many algorithms will fail if $0$ is ever encountered.\n",
    "\n",
    "At the very least, we expect our computer RNs to have the properties of abstract ones.\n",
    "\n",
    "Mean:\n",
    "\n",
    "$$\\langle x \\rangle = \\int_0^1 \\text{d}x\\, x = \\frac{1}{2}$$\n",
    "\n",
    "Variance:\n",
    "\n",
    "$$\\langle x^2 \\rangle - \\langle x \\rangle^2 = \\frac{1}{3}-\\frac{1}{4} = \\frac{1}{12}$$\n",
    "\n",
    "Since it is useful to check the mean and variance, let us write simple functions which calculate these values given an iterable object like a list or array."
   ]
  },
  {
   "cell_type": "code",
   "execution_count": null,
   "metadata": {},
   "outputs": [],
   "source": [
    "# Note, these functions are available in `numpy` as `numpy.mean` and\n",
    "# `numpy.var`.\n",
    "def mean(xs):\n",
    "    \"\"\"\n",
    "    Return the mean for a list of numbers given by `xs`.\n",
    "\n",
    "    xs: list of numbers to find the mean for.\n",
    "    \"\"\"\n",
    "    return sum(vals) / float(len(vals))\n",
    "\n",
    "\n",
    "def variance(vals):\n",
    "    \"\"\"\n",
    "    Return the variance for a list of numbers given by `xs`.\n",
    "\n",
    "    xs: list of numbers to find the variance for.\n",
    "    \"\"\"\n",
    "    return mean([val**2 for val in vals]) - mean(vals) ** 2"
   ]
  },
  {
   "cell_type": "markdown",
   "metadata": {},
   "source": [
    "In practice, computers represent only a finite range of numbers.\n",
    "This has implications for RNGs. Any algorithm that is deterministic and shuffles through the numbers is bound to repeat itself. Further, if our algorithm uses one number as the seed for the next, this repetition will mean that the sequence of pRNs repeats itself. This hardly looks random. Much of the art in developing good RNGs is knowing how to characterize or calculate the length of these cycles. If the cycle is long enough, much longer than any sequence of RNs we ever use in practice, then there is hope that this sequence will have the desired properties of random numbers. Identifying an algorithm with a long cycle is a priority, and possibly led to the focus on modular arithmetic, to be discussed shortly."
   ]
  },
  {
   "cell_type": "markdown",
   "metadata": {
    "id": "Middle_square_method"
   },
   "source": [
    "## Middle square method"
   ]
  },
  {
   "cell_type": "markdown",
   "metadata": {},
   "source": [
    "The need for such algorithms only came about with the development of practical computers and Monte Carlo (MC) techniques. Historically, we are placing ourselves in the 1940-1950s.\n",
    "Von Neumann (who else?) used a method called the [middle square](https://en.wikipedia.org/wiki/Middle-square_method). It can give us some insight to the problem we are facing.\n",
    "\n",
    "The middle square algorithm is short and strange:\n",
    "\n",
    "1. input a number of length $n$\n",
    "2. square the number and zero-pad if not of length $2n$\n",
    "3. output the \"middle\" number of length $n$\n",
    "4. use this number as the random variate and the input for step 1\n",
    "\n",
    "For example:\n",
    "\n",
    "$$14^2 = 196 \\to 0196 \\to 19; 19^2 = 0361 \\to 36; 36^2 = 1296 \\to 29; 29^2 = 0841 \\to 84, \\text{ etc.}$$\n",
    "\n",
    "Von Neumann used larger $n$ than this, but you get the point."
   ]
  },
  {
   "cell_type": "markdown",
   "metadata": {},
   "source": [
    "Before we practically explore the middle square method, let us first consider some technical realities behind RNGs. Perhaps the most critical aspect is that all RNGs require state; for the next RN to be generated, the RNG must have saved information stored on how the previous RN was generated. In the context of Python, this means that we need to use a class to define an RNG."
   ]
  },
  {
   "cell_type": "code",
   "execution_count": null,
   "metadata": {},
   "outputs": [],
   "source": [
    "# Here, we define a simple base class which can hold the state for an RNG.\n",
    "class RNG:\n",
    "    \"\"\"\n",
    "    This is a simple base class for random number generation.\n",
    "    \"\"\"\n",
    "\n",
    "    def __init__(self, seed):\n",
    "        \"\"\"\n",
    "        Constructor for this class, e.g. `RNG(seed)`.\n",
    "\n",
    "        seed: seed used to initialize the generator.\n",
    "        \"\"\"\n",
    "        self.seed = seed\n",
    "        # In derived classes, further state can be initialized here.\n",
    "\n",
    "    def __call__(self):\n",
    "        \"\"\"\n",
    "        Returns a uniform RN between 0 and 1. This defines the `()`\n",
    "        for this class. For example:\n",
    "        ```\n",
    "        rng = RNG(seed)\n",
    "        rng()\n",
    "        ```\n",
    "        \"\"\"\n",
    "        # In derived classes, the actual algorithm should be implemented here.\n",
    "        return 0.5"
   ]
  },
  {
   "cell_type": "markdown",
   "metadata": {},
   "source": [
    "We are also interested in the periodicity for the RNG, so we can define a function, which given an RNG, generates RNs until the sequence repeats."
   ]
  },
  {
   "cell_type": "code",
   "execution_count": null,
   "metadata": {},
   "outputs": [],
   "source": [
    "# Since it is useful to determine the period of an RNG, let us define a method\n",
    "# that does just this. Since we are storing the RNs we need to be careful not\n",
    "# to store a very long list.\n",
    "def rng_sequence(rng, n=int(1e6)):\n",
    "    \"\"\"\n",
    "    Given an RNG, return its sequence after its first repition or until\n",
    "    `n` RNs have been generated.\n",
    "\n",
    "    n: maximum number of RNs to generate.\n",
    "    \"\"\"\n",
    "    # Start with no RN and create the RN sequence.\n",
    "    rn, rns = None, []\n",
    "\n",
    "    # Loop while the next RN is not in the sequence.\n",
    "    while rn not in rns:\n",
    "        # Append the RN to the sequence.\n",
    "        if rn != None:\n",
    "            rns.append(rn)\n",
    "        # Generate the next RN.\n",
    "        rn = rng()\n",
    "        # Return if `n` is reached.\n",
    "        if len(rns) >= n:\n",
    "            return rns\n",
    "\n",
    "    # Return the sequence.\n",
    "    return rns"
   ]
  },
  {
   "cell_type": "markdown",
   "metadata": {
    "id": "Exercise:_implement_the_middle_square_method"
   },
   "source": [
    "### Exercise: implement the middle square method"
   ]
  },
  {
   "cell_type": "markdown",
   "metadata": {},
   "source": [
    "For $n$=2, try all seeds (inputs) and identify the longest sequence (before a repeat). For this longest sequence, calculate the mean and variance. Then, identify the worst seeds (0 period)."
   ]
  },
  {
   "cell_type": "code",
   "execution_count": null,
   "metadata": {},
   "outputs": [],
   "source": [
    "###START_EXERCISE\n",
    "# All RNGs require state of some sort, i.e. they need to save information about\n",
    "# the previous random number call. This means that in Python, we should write\n",
    "# our RNGs as classes.\n",
    "\n",
    "\n",
    "# Here, we define the middle square generator as a derived class of `RNG`.\n",
    "class RNGMiddleSquare(RNG):\n",
    "    # For this example `n` would be 2.\n",
    "    def __init__(self, seed, n):\n",
    "        # This initializes the base class.\n",
    "        super().__init__(seed)\n",
    "        # Additional state initialized here.\n",
    "        self.n = n\n",
    "\n",
    "    def __call__(self):\n",
    "        # Return the actual number.\n",
    "        return 0\n",
    "\n",
    "\n",
    "# Set the seed and create the RNG, use a 2 digit number.\n",
    "seed = 23\n",
    "rng = RNGMiddleSquare(seed, 2)\n",
    "\n",
    "# Determine the period.\n",
    "###STOP_EXERCISE"
   ]
  },
  {
   "cell_type": "code",
   "execution_count": null,
   "metadata": {},
   "outputs": [],
   "source": [
    "###START_SOLUTION\n",
    "# First we define the middle square class.\n",
    "class RNGMiddleSquare(RNG):\n",
    "    # For our state, we need the previously generated integer and what\n",
    "    # `n` we are using.\n",
    "    def __init__(self, seed, n=2):\n",
    "        super().__init__(seed)\n",
    "        self.state = seed\n",
    "        self.n = n\n",
    "\n",
    "    # Here, we define the actual RNG.\n",
    "    def __call__(self):\n",
    "        # The `zfill` method pads the string with 0s, this gives us a string.\n",
    "        self.state = str(self.state**2).zfill(2 * self.n)\n",
    "        # Next, we extract the middle of the string as an integer.\n",
    "        i = int(self.n / 2)\n",
    "        self.state = int(self.state[i:-i])\n",
    "        # We divide by 10^n - 1 so our RN is between 0 and 1.\n",
    "        return self.state / float(10**self.n - 1)"
   ]
  },
  {
   "cell_type": "code",
   "execution_count": null,
   "metadata": {},
   "outputs": [],
   "source": [
    "# Now we can try it out for n = 2.\n",
    "# Input the random number seed and define the sequence.\n",
    "seed = 10\n",
    "\n",
    "# Create the RNG.\n",
    "rng = RNGMiddleSquare(seed, 2)\n",
    "\n",
    "# We store the current RN in `rn` and the sequence of RNs in `rns`.\n",
    "rn, rns = None, []\n",
    "\n",
    "# Start throwing random numbers.\n",
    "while rn not in rns:\n",
    "    # Append RN to the sequence.\n",
    "    if rn != None:\n",
    "        rns.append(rn)\n",
    "    # Generate the new random number using the middle square method.\n",
    "    rn = rng()\n",
    "    # Print the result.\n",
    "    print(f\"#{len(rns)}: {rn}\")\n",
    "\n",
    "# Print the result.\n",
    "print(\n",
    "    f\"We began with {seed} and\"\n",
    "    f\" have repeated ourselves after {len(rns)} steps\"\n",
    "    f\" with {rn}.\"\n",
    ")\n",
    "\n",
    "# We can now calculate the mean and the variance of the sequence.\n",
    "# Numpy allows us to easily calculate the mean and variance.\n",
    "print(\"mean = \", mean(rns))\n",
    "print(\"variance = \", variance(rns))"
   ]
  },
  {
   "cell_type": "code",
   "execution_count": null,
   "metadata": {},
   "outputs": [],
   "source": [
    "# We can also try it for n = 4.\n",
    "# Input the random number seed and define the sequence.\n",
    "seed = 1234\n",
    "\n",
    "# Create the RNG.\n",
    "rng = RNGMiddleSquare(seed, 4)\n",
    "\n",
    "# We store the current RN in `rn` and the sequence of RNs in `rns`.\n",
    "rn, rns = None, []\n",
    "\n",
    "# Start throwing random numbers.\n",
    "while rn not in rns:\n",
    "    # Append RN to the sequence.\n",
    "    if rn != None:\n",
    "        rns.append(rn)\n",
    "    # Generate the new random number using the middle square method.\n",
    "    rn = rng()\n",
    "    # Print the result.\n",
    "    print(f\"#{len(rns)}: {rn}\")\n",
    "\n",
    "# Print the result.\n",
    "print(\n",
    "    f\"We began with {seed} and\"\n",
    "    f\" have repeated ourselves after {len(rns)} steps\"\n",
    "    f\" with {rn}.\"\n",
    ")"
   ]
  },
  {
   "cell_type": "code",
   "execution_count": null,
   "metadata": {},
   "outputs": [],
   "source": [
    "# Now, we try out all the seeds for n = 2.\n",
    "# Create a dictionary of periods.\n",
    "periods = {}\n",
    "\n",
    "# For all seeds we iterate between 1 and 99.\n",
    "# We don't use 0, since this has a period of 0.\n",
    "for seed in range(1, 100):\n",
    "    # Create the RNG.\n",
    "    rng = RNGMiddleSquare(seed, 2)\n",
    "\n",
    "    # Determine the period.\n",
    "    rns = rng_sequence(rng)\n",
    "\n",
    "    # Include the period and sequence in the dictionary.\n",
    "    period = len(rns)\n",
    "    if not period in periods:\n",
    "        periods[period] = [[seed, rns]]\n",
    "    else:\n",
    "        periods[period] += [[seed, rns]]\n",
    "\n",
    "# Print out a sorted list of the periods.\n",
    "for period, seeds in sorted([(key, val) for key, val in periods.items()]):\n",
    "    print(\"-\" * 10)\n",
    "    print(f\"period = {period}\")\n",
    "    print(\"-\" * 10)\n",
    "    for seed, rns in seeds:\n",
    "        print(f\"seed = {seed}\")\n",
    "        if len(rns) > 0:\n",
    "            print(\"  mean = \", mean(rns))\n",
    "            print(\"  variance = \", variance(rns))\n",
    "###STOP_SOLUTION"
   ]
  },
  {
   "cell_type": "markdown",
   "metadata": {
    "id": "RNGs_based_on_modular_arithmetic"
   },
   "source": [
    "## RNGs based on modular arithmetic"
   ]
  },
  {
   "cell_type": "markdown",
   "metadata": {},
   "source": [
    "The middle square can have short periods (bad) and are not even very random (really bad).\n",
    "\n",
    "These types of RNGs were quickly overshadowed by those based on modular arithmetic. Two numbers are of the same modular class if they differ by only multiples of an integer $m$. Thus,\n",
    "\n",
    "$$1 \\equiv 4\\pmod{3} \\equiv 7\\pmod{3} \\equiv 82\\pmod{3}.$$\n",
    "\n",
    "In Python, the mod operator is given by the `%` symbol. Modular arithmetic has some nice properties that allow us to calculate or estimate periods, and it can be done quickly on a computer (a feature that could be relevant when sampling millions of RNs). However, the equivalences can also lead to some unexpected consequences.\n",
    "\n",
    "First, we will explore linear congruential generators. These have the form,\n",
    "\n",
    "$$x_i = a x_{i-1} + c \\mod m, 0 < x_i < m \\in \\mathbb{Z},$$\n",
    "\n",
    "where $a$ is the *multiplier*, a positive integer, $m$ is the *modulus*, also an integer, and $c$ is the *increment*, a non-negative integer. As with all such algorithms, you can convert this into a value between $0$ and $1$ by dividing by the largest element $m$. In general, $a$ should be relatively prime to $m$. When $c \\neq 0$ this type of RNG is called a linear congruential genenerator (LCG) and when $c = 0$ this RNG is called a multiplicative LCG (MLCG). In the examples below, we will focus on the special case of the MLCG."
   ]
  },
  {
   "cell_type": "code",
   "execution_count": null,
   "metadata": {},
   "outputs": [],
   "source": [
    "# We can now define a linear congruential generator.\n",
    "class RNGLCG(RNG):\n",
    "    # For our state, we only need the previously generated integer.\n",
    "    # We give a default value of `c` so this is an MLCG.\n",
    "    def __init__(self, seed, a=65593, m=2**31, c=0):\n",
    "        super().__init__(seed)\n",
    "        self.state = seed\n",
    "        self.a = a\n",
    "        self.m = m\n",
    "        self.c = c\n",
    "\n",
    "    # Here, we define the actual RNG.\n",
    "    def __call__(self):\n",
    "        self.state = (self.a * self.state + self.c) % self.m\n",
    "        return self.state / (self.m - 1)"
   ]
  },
  {
   "cell_type": "markdown",
   "metadata": {},
   "source": [
    "Now, let us test this RNG by first checking its period, mean, and variance."
   ]
  },
  {
   "cell_type": "code",
   "execution_count": null,
   "metadata": {},
   "outputs": [],
   "source": [
    "# Create the RNG.\n",
    "rng = RNGLCG(9, 3, 31)\n",
    "\n",
    "# Find the period.\n",
    "rns = rng_sequence(rng)\n",
    "\n",
    "# Print the period, mean, and variance.\n",
    "print(f\"period = {len(rns)}\")\n",
    "print(f\"mean = {mean(rns)}\")\n",
    "print(f\"variance = {variance(rns)}\")"
   ]
  },
  {
   "cell_type": "markdown",
   "metadata": {
    "id": "Exercise:_patterns_in_multiplicative_congruential_generator"
   },
   "source": [
    "### Exercise: patterns in multiplicative congruential generator"
   ]
  },
  {
   "cell_type": "markdown",
   "metadata": {},
   "source": [
    "Lets investigate some other properties of this RNG.\n",
    "The pairs $(x_i,x_{i-1})$ lie on a plane. Plot their pattern."
   ]
  },
  {
   "cell_type": "code",
   "execution_count": null,
   "metadata": {},
   "outputs": [],
   "source": [
    "###START_EXERCISE\n",
    "# We can use `matplotlib` to create a figure and axis.\n",
    "fig, ax = plt.subplots()\n",
    "\n",
    "# Use the `scatter` method of `ax` to plot the RNs.\n",
    "xs = [0]\n",
    "ys = [0]\n",
    "ax.scatter(xs, ys)\n",
    "###STOP_EXERCISE"
   ]
  },
  {
   "cell_type": "code",
   "execution_count": null,
   "metadata": {},
   "outputs": [],
   "source": [
    "###START_SOLUTION\n",
    "# Our x values are just the random numbers.\n",
    "xs = rns\n",
    "\n",
    "# Our y values are shifted to the left by one.\n",
    "ys = rns[-1:] + rns[:-1]\n",
    "# This can also be accopmlished with `numpy.roll`.\n",
    "# ys = numpy.roll(rns, 1)\n",
    "\n",
    "# Create the plot.\n",
    "fig, ax = plt.subplots()\n",
    "ax.scatter(xs, ys)\n",
    "\n",
    "# Label each RN by its number in the sequence.\n",
    "for i, rn in enumerate(rns):\n",
    "    ax.annotate(str(i), (xs[i], ys[i]))\n",
    "###STOP_SOLUTION"
   ]
  },
  {
   "cell_type": "markdown",
   "metadata": {
    "id": "Exercise:_choosing_better_parameters"
   },
   "source": [
    "### Exercise: choosing better parameters"
   ]
  },
  {
   "cell_type": "markdown",
   "metadata": {},
   "source": [
    "A better choice of $a$ and $m$ can give our RNG better properties.\n",
    "Create a new RNG with $a = 65539$ and $m = 2^{31}$. Generate a sequence of 1000 RNs using seed = $2^8 - 1$. Make a sequence of points $(x_i, x_{i-1})$ and plot them. Do any patterns emerge?"
   ]
  },
  {
   "cell_type": "code",
   "execution_count": null,
   "metadata": {},
   "outputs": [],
   "source": [
    "###START_EXERCISE\n",
    "# You already have the RNGLCG class, so use this, and then plot.\n",
    "###STOP_EXERCISE"
   ]
  },
  {
   "cell_type": "code",
   "execution_count": null,
   "metadata": {},
   "outputs": [],
   "source": [
    "###START_SOLUTION\n",
    "# Create the random number generator.\n",
    "rng = RNGLCG(2**8 - 1, 65539, 2**31)\n",
    "\n",
    "# Generate the sequence.\n",
    "rns = rng_sequence(rng, 1000)"
   ]
  },
  {
   "cell_type": "code",
   "execution_count": null,
   "metadata": {},
   "outputs": [],
   "source": [
    "# Create the pairs.\n",
    "xs = rns\n",
    "ys = rns[-1:] + rns[:-1]\n",
    "\n",
    "# Create the plot.\n",
    "fig, ax = plt.subplots()\n",
    "ax.scatter(xs, ys)\n",
    "###STOP_SOLUTION"
   ]
  },
  {
   "cell_type": "markdown",
   "metadata": {},
   "source": [
    "Now, given a little more advanced knowledge, let us see if we can find a pattern. Using the same RNG and seed, generate 20002 RNs and make a sequence of points $(x_{i-1}, x_i, x_{i+1})$. Filter these points for $0.50 < x_i < 0.51$. Make a 2-D scatter plot of $(x_{i-1},x_{i+1})$ for these filtered points. Do any patterns emerge?"
   ]
  },
  {
   "cell_type": "code",
   "execution_count": null,
   "metadata": {},
   "outputs": [],
   "source": [
    "###START_SOLUTION\n",
    "# Create the random number generator.\n",
    "rng = RNGLCG(2**8 - 1, 65539, 2**31)\n",
    "\n",
    "# Generate the sequence.\n",
    "rns = rng_sequence(rng, 20002)"
   ]
  },
  {
   "cell_type": "code",
   "execution_count": null,
   "metadata": {},
   "outputs": [],
   "source": [
    "# Create the pairs.\n",
    "xs = rns[-1:] + rns[:-1]\n",
    "ys = rns[1:] + rns[:1]\n",
    "\n",
    "# Filter the pairs.\n",
    "xs = [x for x, rn in zip(xs, rns) if 0.50 < rn < 0.51]\n",
    "ys = [y for y, rn in zip(ys, rns) if 0.50 < rn < 0.51]\n",
    "\n",
    "# Create the plot.\n",
    "fig, ax = plt.subplots()\n",
    "ax.scatter(xs, ys)\n",
    "\n",
    "# Indeed, we do see a pattern here!\n",
    "###STOP_SOLUTION"
   ]
  },
  {
   "cell_type": "markdown",
   "metadata": {},
   "source": [
    "So far, we have only been looking in two dimensions, what about in three? Generate 1000 RNs using the same RNG and seed. Then make a 3-D scatter plot with the points $(x_{i-1},x_i,x_{i+1})$."
   ]
  },
  {
   "cell_type": "code",
   "execution_count": null,
   "metadata": {},
   "outputs": [],
   "source": [
    "###START_EXERCISE\n",
    "# The following will create a 3-D scatter plot.\n",
    "\n",
    "# Set your points.\n",
    "xs = [0]\n",
    "ys = [0]\n",
    "zs = [0]\n",
    "\n",
    "# Create the figure and allow to be 3-D.\n",
    "fig = plt.figure()\n",
    "ax = fig.add_subplot(projection=\"3d\")\n",
    "\n",
    "# Create the scatter plot.\n",
    "ax.scatter3D(xs, ys, zs)\n",
    "###STOP_EXERCISE"
   ]
  },
  {
   "cell_type": "code",
   "execution_count": null,
   "metadata": {},
   "outputs": [],
   "source": [
    "###START_SOLUTION\n",
    "# Create the random number generator.\n",
    "rng = RNGLCG(2**8 - 1, 65539, 2**31)\n",
    "\n",
    "# Generate the sequence.\n",
    "rns = rng_sequence(rng, 1000)"
   ]
  },
  {
   "cell_type": "code",
   "execution_count": null,
   "metadata": {},
   "outputs": [],
   "source": [
    "# Create the triplets.\n",
    "xs = rns[-1:] + rns[:-1]\n",
    "ys = rns\n",
    "zs = rns[1:] + rns[:1]\n",
    "\n",
    "# Create the figure.\n",
    "fig = plt.figure()\n",
    "ax = fig.add_subplot(projection=\"3d\")\n",
    "ax.scatter3D(xs, ys, zs)\n",
    "\n",
    "# Rotate the view so we can see the pattern.\n",
    "ax.view_init(elev=7, azim=-124)\n",
    "###STOP_SOLUTION"
   ]
  },
  {
   "cell_type": "markdown",
   "metadata": {},
   "source": [
    "This example is not just pedagogical. In fact, this RNG is called `RANDU`. The authors of Numerical Recipes (3rd ed), share this anecdote:\n",
    "\n",
    "> Even worse, many early generators happened to make particularly bad choices for m and a. One infamous such routine, `RANDU`, with a = 65539 and m = $2^{31}$, was widespread on IBM mainframe computers for many years, and widely copied onto other systems. One of us recalls as a graduate student producing a \"random\" plot with only 11 planes and being told by his computer center's programming consultant that he had misused the random number generator: \"We guarantee that each number is random individually, but we don't guarantee that more than one of them is random.\" That set back our graduate education by at least a year!"
   ]
  },
  {
   "cell_type": "markdown",
   "metadata": {
    "id": "XORshift_RNGs"
   },
   "source": [
    "## XORshift RNGs"
   ]
  },
  {
   "cell_type": "markdown",
   "metadata": {},
   "source": [
    "Modern RNGs still combine two algorithms to remove undesired correlations.\n",
    "However, they use an independent algorithm for the first sequence, so as not to unwittingly combine two correlations that arise from the same class of algorithm.\n",
    "\n",
    "One such popular algorithm is called `XORshift`. Its properties are understood by studying the multiplication of 3 special kinds of binary matrices: the identity matrix $I$, a right-shift matrix $R$, and a left-shift matrix $L$. However, this is type of RNG is typically programmed more efficiently using bit-shift and exclusive OR (XOR) operations (true if exactly one of two inputs is true, false otherwise).\n",
    "\n",
    "The resulting algorithm does not look anything like matrix multiplication, but it really is. This is because a bit shift can be represented on an $n$-bit vector (typically 32-bit or 64-bit) by a matrix with only ones on a sub-diagonal. Thus, to right-shift a bit sequence $\\beta = (b_1,b_2,\\cdots,b_n) \\to \\beta^\\prime = (0,b_1,b_2,\\cdots,b_{n-1})$, you would multiply $\\beta$ by an $n\\times n$ matrix $R$,\n",
    "\n",
    "$$\n",
    "\\beta^\\prime = \\beta R\n",
    "$$\n",
    "\n",
    "with only $1$s above the diagonal.\n",
    "\n",
    "$$\n",
    "R \\equiv\n",
    "\\begin{pmatrix}\n",
    "0 & 1 & 0 & \\cdots & 0 \\\\\n",
    "0 & 0 & 1 & \\cdots & 0 \\\\\n",
    "0 & 0 & 0 & 1 & 0 \\\\\n",
    "\\vdots & \\vdots & \\vdots & \\ddots & 1 \\\\\n",
    "0 & 0 & 0 & 0 & 0 \\\\\n",
    "\\end{pmatrix}\n",
    "$$\n",
    "\n",
    "Similarly, a left-shift matrix has only $1$s on a subdiagonal below the diagonal.\n",
    "\n",
    "$$\n",
    "L =\n",
    "\\begin{pmatrix}\n",
    "0 & 0 & 0 & \\cdots & 0 \\\\\n",
    "1 & 0 & 0 & \\cdots & 0 \\\\\n",
    "0 & 1 & 0 & 0 & 0 \\\\\n",
    "\\vdots & \\vdots & \\vdots & \\ddots & 0 \\\\\n",
    "0 & 0 & 0 & 1 & 0 \\\\\n",
    "\\end{pmatrix}\n",
    "$$\n",
    "\n",
    "Finally, since these are binary matrices, all operations use integer arithmetic modulo 2, *i.e.* all arithmetic operations are defined as normal, but with the result taken as $\\pmod 2$.\n",
    "\n",
    "It is important to note here that the right-shift defined above is a *logical* right shift and not an *arithmetic* right shift. In a logical right shift, the left-most bit is set to zero, while for an arithmetic right-shift the left-most bit does not change. This is important for signed numbers, where the left-most bit gives the sign of the number. In most programming languages, the right-shift operator is defined as the arithmetic right shift and not the logical right shift.\n",
    "\n",
    "The claim is that the series of operations $\\beta T, \\beta T^2 , \\cdots \\beta T^{2^n-1}$, every possible $\\beta$ is produced. This means that the cycle has length $2^n-1$. For most current implementations, this transformation matrix can be defined as\n",
    "\n",
    "$$\n",
    "T = (1 + L^a)(1 + R^b)(1 + L^c)\n",
    "$$\n",
    "\n",
    "which is an $n\\times n$ binary matrix with $(a,b,c)$ bit-shifts left-right-left. Here, $1$ is an $n\\times n$ identity matrix. This identity matrix, in combination with the modulo 2 arithmetic, corresponds to an XOR operator. Only certain triplets of $(a,b,c)$ fulfill the ideal cycle length of $2^n - 1$. A minimal test that $T$ has the desired properties is to check that\n",
    "\n",
    "$$\n",
    "T^{2^n} = T\n",
    "$$\n",
    "\n",
    "holds."
   ]
  },
  {
   "cell_type": "markdown",
   "metadata": {
    "id": "Exercise:_implement_bit_shifting"
   },
   "source": [
    "### Exercise: implement bit shifting"
   ]
  },
  {
   "cell_type": "markdown",
   "metadata": {},
   "source": [
    "Before we implement a full `XORshift` RNG, we need to build the necessary matrices to define the transformation $T$. Using the `sparse` sub-module from `scipy`, define functions that return $R$ and $L$ matrices. We use the `sparse` module to make the calculation more efficient than just full matrix multiplication."
   ]
  },
  {
   "cell_type": "code",
   "execution_count": null,
   "metadata": {},
   "outputs": [],
   "source": [
    "###START_EXERCISE\n",
    "# The following creates a sparse identity matrix with n = 4.\n",
    "im = sp.sparse.eye(4, dtype=np.int32)\n",
    "# Here, the first argument is `n`, and the second argument is the\n",
    "# data type of the matrix. All available `numpy` datatypes can be listed\n",
    "# with the following.\n",
    "print(np.sctypeDict)\n",
    "# Depending on how we perform our modulo arithmetic, we could choose a\n",
    "# more efficient data type for the matrix.\n",
    "\n",
    "# It is possible to print a sparse matrix as an array to check its form.\n",
    "print(im.toarray())\n",
    "\n",
    "# We can also create off-diagonal matrices.\n",
    "om = sp.sparse.diags([1], [1], shape=(4, 4), dtype=np.int32)\n",
    "# The first and second arguments should be lists of the same length.\n",
    "# The first argument is the value to insert along a diagonal of the matrix.\n",
    "# The second argument is the offset for the diagonal.\n",
    "# The `shape` argument gives the matrix dimensions.\n",
    "# This example places 1s one above the main diagonal.\n",
    "print(om.toarray())\n",
    "\n",
    "\n",
    "# We then define the following two methods.\n",
    "def build_rshift(n, dtype=np.int32):\n",
    "    # Actually define the matrix here.\n",
    "    return 0.0\n",
    "\n",
    "\n",
    "def build_lshift(n, dtype=np.int32):\n",
    "    # Actually define the matrix here.\n",
    "    return 0.0\n",
    "\n",
    "\n",
    "# For completeness define the identity matrix as well.\n",
    "def build_i(n, dtype=np.int32):\n",
    "    # Actually define the matrix here.\n",
    "    return 0.0\n",
    "\n",
    "\n",
    "###STOP_EXERCISE"
   ]
  },
  {
   "cell_type": "code",
   "execution_count": null,
   "metadata": {},
   "outputs": [],
   "source": [
    "###START_SOLUTION\n",
    "# First, we define the method for the right-shift matrix.\n",
    "def build_rshift(n, dtype=np.int32):\n",
    "    \"\"\"\n",
    "    Return a right-shift matrix of dimension `n`.\n",
    "\n",
    "    n:     dimension of the shifting matrix.\n",
    "    dtype: type of entries to use in the matrix.\n",
    "    \"\"\"\n",
    "    return sp.sparse.diags([1], [1], shape=(n, n), dtype=dtype)\n",
    "\n",
    "\n",
    "# Second, we define the method for the left-shift matrix.\n",
    "def build_lshift(n, dtype=np.int32):\n",
    "    \"\"\"\n",
    "    Return a left-shift matrix of dimension `n`.\n",
    "\n",
    "    n:     dimension of the shifting matrix.\n",
    "    dtype: type of entries to use in the matrix.\n",
    "    \"\"\"\n",
    "    return sp.sparse.diags([1], [-1], shape=(n, n), dtype=dtype)\n",
    "\n",
    "\n",
    "# For completeness, we define the identity matrix as well.\n",
    "def build_i(n, dtype=np.int32):\n",
    "    \"\"\"\n",
    "    Return an identity matrix of dimension `n`.\n",
    "\n",
    "    n:     dimension of the shifting matrix.\n",
    "    dtype: type of entries to use in the matrix.\n",
    "    \"\"\"\n",
    "    return sp.sparse.eye(n, dtype=dtype)\n",
    "\n",
    "\n",
    "###STOP_SOLUTION"
   ]
  },
  {
   "cell_type": "code",
   "execution_count": null,
   "metadata": {},
   "outputs": [],
   "source": [
    "###START_SOLUTION\n",
    "# Print an example R.\n",
    "r = build_rshift(4)\n",
    "print(f\"R =\\n{r.toarray()}\")\n",
    "\n",
    "# Print an example L.\n",
    "l = build_lshift(4)\n",
    "print(f\"L =\\n{l.toarray()}\")\n",
    "\n",
    "# We can also check to see if the shift actually works.\n",
    "vec = [1, 1, 1, 1]\n",
    "print(f\"original      = {np.array(vec)}\")\n",
    "print(f\"right shifted = {vec * r}\")\n",
    "print(f\"left shifted  = {vec * l}\")\n",
    "###STOP_SOLUTION"
   ]
  },
  {
   "cell_type": "markdown",
   "metadata": {},
   "source": [
    "In Python, the right-shift operator is given by `>>` followed the number of positions, and the left-shift operator is given by `<<`, also followed by the number of positions. Check that your shift matrices are correctly built using these built in operators, remembering that the right-shift operator is an arithmetic shift.\n",
    "\n",
    "As a brief, but relevant aside, the Python `int` type does not have a fixed size and instead uses \"arbitrary precision arithmetic\" (also known as `bignum`). This means that you should use the fixed size-types from `numpy` instead. Note, real number types like `float` in Python are fixed size. Why is `float` fixed size but `int` variable size?"
   ]
  },
  {
   "cell_type": "code",
   "execution_count": null,
   "metadata": {},
   "outputs": [],
   "source": [
    "###START_EXERCISE\n",
    "# Be careful with what data type you check the operation on.\n",
    "# Because we are working with logical shift operators,\n",
    "# rather than arithmetic, this means you should work with\n",
    "# unsigned types. The following creates an unsigned 8-bit\n",
    "# integer.\n",
    "val = np.uint8(120)\n",
    "\n",
    "# You will need to be able to convert this value to binary.\n",
    "# The following creates a string, where the characters\n",
    "# are the binary representation of the decimal value,\n",
    "# prefixed by \"0b\".\n",
    "chars = bin(val)\n",
    "\n",
    "\n",
    "# You can loop over this string to produce a vector of bits.\n",
    "# It might be useful to write this out as a little function.\n",
    "# Here, `dec` is the decimal value and `dtype` is the data type\n",
    "# to encode the bits in the vector.\n",
    "def dec_to_bits(dec, dtype=int):\n",
    "    # The following determines the number of bytes used by `dec`.\n",
    "    # Remember this in bytes and not bits!\n",
    "    n = np.dtype(dec).itemsize\n",
    "    # Define the conversion here.\n",
    "    return []\n",
    "\n",
    "\n",
    "# Now, shift the vector of bits.\n",
    "\n",
    "\n",
    "# Once you have a shifted vector of bits, it is useful to be able to convert\n",
    "# back into a decimal value. Here, `dtype` is the return type for the\n",
    "# decimal value.\n",
    "def bits_to_dec(bits, dtype=int):\n",
    "    # First, create a binary string. Then, most numerical types in Python can\n",
    "    # convert from strings for non-decimal values. The `2` indicates this is\n",
    "    # a binary string.\n",
    "    return dtype(\"01010\", 2)\n",
    "\n",
    "\n",
    "###STOP_EXERCISE"
   ]
  },
  {
   "cell_type": "code",
   "execution_count": null,
   "metadata": {},
   "outputs": [],
   "source": [
    "###START_SOLUTION\n",
    "# It is useful to first write a little utility that creates\n",
    "# a vector of bits from a decimal number.\n",
    "def dec_to_bits(dec, dtype=int):\n",
    "    \"\"\"\n",
    "    Return a vector of bits with type `dtype` given decimal value `dec`.\n",
    "\n",
    "    dec:   decimal value to convert to bits.\n",
    "    dtype: type of elements in the returned vector.\n",
    "    \"\"\"\n",
    "    # Determine the storage size of the value type in bytes. Multiply by 8\n",
    "    # to convert from bytes to bits.\n",
    "    n = np.dtype(dec).itemsize * 8\n",
    "    # Convert it into a binary string, strip the leading `0b`, and zero pad.\n",
    "    chars = bin(dec).lstrip(\"0b\").zfill(n)\n",
    "    # Split the string into a vector and return.\n",
    "    return [dtype(char) for char in chars]\n",
    "\n",
    "\n",
    "# It is also useful to got the opposite direction, convert a vector of bits\n",
    "# into a decimal value.\n",
    "def bits_to_dec(bits, dtype=int):\n",
    "    \"\"\"\n",
    "    Return a decimal value of type `dtype` given `bits`, a vector of bits.\n",
    "\n",
    "    bits:  vector of bits to convert to decimal value.\n",
    "    dtype: type of the returned decimal value.\n",
    "    \"\"\"\n",
    "    # Convert the vector to a binary string.\n",
    "    chars = \"\".join([f\"{int(bit)}\" for bit in bits])\n",
    "    # Read the binary string into a decimal value.\n",
    "    return dtype(chars, 2)\n",
    "\n",
    "\n",
    "###STOP_SOLUTION"
   ]
  },
  {
   "cell_type": "code",
   "execution_count": null,
   "metadata": {},
   "outputs": [],
   "source": [
    "###START_SOLUTION\n",
    "# Define an integer value to shift. We work with unsigned 8-bit integers\n",
    "# so that the right-shift is the same between logical and arithmetic.\n",
    "val = np.uint8(120)\n",
    "# Convert this decimal value into a vector of bits.\n",
    "beta = dec_to_bits(val)\n",
    "\n",
    "# We now need our operators. Here, `n` is given by the length\n",
    "# of `beta`. Here, `n` should be 8.\n",
    "n = len(beta)\n",
    "r = build_rshift(n)\n",
    "l = build_lshift(n)\n",
    "\n",
    "# Multiply the vector by the right-shift operator.\n",
    "beta_p = beta * r\n",
    "\n",
    "# Convert back to decimal form, print, and check.\n",
    "dec = bits_to_dec(beta_p)\n",
    "print(f\"matrix right-shifted = {dec}\")\n",
    "print(f\"operator right-shifted = {val >> 1}\")\n",
    "\n",
    "# We do the same for left-shifting.\n",
    "beta_p = beta * l\n",
    "dec = bits_to_dec(beta_p)\n",
    "print(f\"matrix left-shifted = {dec}\")\n",
    "print(f\"operator left-shifted = {val << 1}\")\n",
    "###STOP_SOLUTION"
   ]
  },
  {
   "cell_type": "code",
   "execution_count": null,
   "metadata": {},
   "outputs": [],
   "source": [
    "###START_SOLUTION\n",
    "# Let us now address integers can use `bignum`, while real numbers cannot.\n",
    "\n",
    "# The size of a finite integer is fixed. The following\n",
    "# gives the size of `val`. The `-2` accounts for the leading \"0b\".\n",
    "val = 278811\n",
    "print(\"-\" * 10)\n",
    "print(f\"val: {val}\")\n",
    "print(f\"bits of val: {len(bin(val)) - 2}\")\n",
    "\n",
    "# We can check this against the internal Python representation.\n",
    "print(f\"Python storage: {sys.getsizeof(val)*8}\")\n",
    "\n",
    "# Interesting, these values are not the same. It turns out that Python stores\n",
    "# additional information for an integer.\n",
    "# * reference count (64 bits): Stores how many times this integer is\n",
    "#   referenced in memory.\n",
    "# * data type (64 bits): Tells Python what data type this object is.\n",
    "# * size (64 bits): Allocates the memory where the actual value is stored.\n",
    "# * value (? bits): The actual memory where the value is stored.\n",
    "val = 1\n",
    "print(\"-\" * 10)\n",
    "print(f\"val: {val}\")\n",
    "print(f\"bits of val: {len(bin(val)) - 2}\")\n",
    "print(f\"Python storage: {sys.getsizeof(val)*8}\")\n",
    "\n",
    "# From the above, see that 32 bits are used as the actual memory allocation\n",
    "# for the integer value. Why, when only 1 bit is needed? This has to do with\n",
    "# memory allocation. This value must be stored in a contiguous block of memory.\n",
    "# Whenever the value changes and more memory is needed, a memory block must\n",
    "# be allocated, and the value must be copied. Turns out that 32 bits covers\n",
    "# most integers users will use. What happens if we go really big?\n",
    "val = 123848585883838383838383838383\n",
    "print(\"-\" * 10)\n",
    "print(f\"val: {val}\")\n",
    "print(f\"bits of val: {len(bin(val)) - 2}\")\n",
    "print(f\"Python storage: {sys.getsizeof(val)*8}\")\n",
    "\n",
    "# Here we see that we now need 97 bits, and Python has allocated an additional\n",
    "# 96 bits (128 bits total).\n",
    "\n",
    "# So why doesn't this work for real numbers? Real numbers can require an\n",
    "# infinite precision rather than a fixed size, so this expansion is no longer\n",
    "# possible.\n",
    "###STOP_SOLUTION"
   ]
  },
  {
   "cell_type": "markdown",
   "metadata": {},
   "source": [
    "We can also consider the general form of $L^a$ and $R^b$. Is there a more efficient way to write $L^a$ then just `L**a`?"
   ]
  },
  {
   "cell_type": "code",
   "execution_count": null,
   "metadata": {},
   "outputs": [],
   "source": [
    "###START_EXERCISE\n",
    "# First, use matrix multiplication to see what L^a is for a from 1 to n.\n",
    "# Next, see if there is a simpler way to construct these matrices.\n",
    "# Finally, write new `build_rshift` and `build_shift` methods which allow the\n",
    "# power to be specified.\n",
    "###STOP_EXERCISE"
   ]
  },
  {
   "cell_type": "code",
   "execution_count": null,
   "metadata": {},
   "outputs": [],
   "source": [
    "###START_SOLUTION\n",
    "# First, we can see what happens when we take L^a.\n",
    "n = 4\n",
    "l = build_lshift(n)\n",
    "print(\"-\" * 10 + \"\\nmatrix multiplication\\n\" + \"-\" * 10)\n",
    "for a in range(1, n + 1):\n",
    "    la = l**a\n",
    "    print(f\"L^{a} =\\n{la.toarray()}\")\n",
    "\n",
    "# We see that the diagonal is just shifted down.\n",
    "# It turns out that we can replicate this with the `diag` method.\n",
    "print(\"-\" * 10 + \"\\nusing `diags` method\\n\" + \"-\" * 10)\n",
    "for a in range(1, n + 1):\n",
    "    la = sp.sparse.diags([1], [-a], shape=(n, n), dtype=np.int32)\n",
    "    print(f\"L^{a} =\\n{la.toarray()}\")\n",
    "\n",
    "###STOP_SOLUTION"
   ]
  },
  {
   "cell_type": "code",
   "execution_count": null,
   "metadata": {},
   "outputs": [],
   "source": [
    "###START_SOLUTION\n",
    "# We can use this property to construct L^a and R^b with\n",
    "# more general `build_lshift` and `build_rshift` methods.\n",
    "\n",
    "\n",
    "# First, redefine R.\n",
    "def build_rshift(n, a=1, dtype=np.int32):\n",
    "    \"\"\"\n",
    "    Return a right-shift matrix R^a of dimension `n`.\n",
    "\n",
    "    n:     dimension of the shifting matrix.\n",
    "    a:     number of right shifts to perform.\n",
    "    dtype: type of entries to use in the matrix.\n",
    "    \"\"\"\n",
    "    return sp.sparse.diags([1], [b], shape=(n, n), dtype=dtype)\n",
    "\n",
    "\n",
    "# Second, redfine L.\n",
    "def build_lshift(n, a=1, dtype=np.int32):\n",
    "    \"\"\"\n",
    "    Return a left-shift matrix L^a of dimension `n`.\n",
    "\n",
    "    n:     dimension of the shifting matrix.\n",
    "    a:     number of left shifts to perform.\n",
    "    dtype: type of entries to use in the matrix.\n",
    "    \"\"\"\n",
    "    return sp.sparse.diags([1], [-a], shape=(n, n), dtype=dtype)\n",
    "\n",
    "\n",
    "###STOP_SOLUTION"
   ]
  },
  {
   "cell_type": "markdown",
   "metadata": {
    "id": "Exercise:_determine_suitable_triplets"
   },
   "source": [
    "### Exercise: determine suitable triplets"
   ]
  },
  {
   "cell_type": "markdown",
   "metadata": {},
   "source": [
    "Construct $T$ for the triplets $(1,3,10)$, $(5,17,13)$, and $(2,5,14)$ using 32-bit precision. Which of these are suitable triplets, using the test $T^{2^n} = T$?"
   ]
  },
  {
   "cell_type": "code",
   "execution_count": null,
   "metadata": {},
   "outputs": [],
   "source": [
    "###START_EXERCISE\n",
    "# Define a method that constructs T.\n",
    "# If the additional argument `reverse` is `True`, then perform a\n",
    "# right-left-shift rather than left-right-left shift.\n",
    "def build_tshift(n, a, b, c, reverse=False, dtype=np.int32):\n",
    "    # Use the `build_rshift`, `build_lshift`, and `build_i` methods.\n",
    "    return 0.0\n",
    "\n",
    "\n",
    "# Test T^(2^n) = T. Remember the right-hand side should be modulo 2.\n",
    "# With `scipy` it is possible to piecewise apply modulo 2 to a matrix\n",
    "# but for a sparse matrix, it must be first promoted to a full matrix using\n",
    "# `todense` as shown below.\n",
    "s = 2 * sp.sparse.eye(4)\n",
    "d = s.todense()\n",
    "m = d % 2\n",
    "print(f\"m =\\n{m}\")\n",
    "\n",
    "# Finally, the `numpy.count_nonzero` can be used to find the number of non-zero\n",
    "# elements in an array (or matrix).\n",
    "print(f\"non-zero `d` elements = {np.count_nonzero(d)}\")\n",
    "print(f\"non-zero `m` elements = {np.count_nonzero(m)}\")\n",
    "###STOP_EXERCISE"
   ]
  },
  {
   "cell_type": "code",
   "execution_count": null,
   "metadata": {},
   "outputs": [],
   "source": [
    "###START_SOLUTION\n",
    "# First we create the `build_tshift` method.\n",
    "def build_tshift(n, a, b, c, reverse=False, dtype=np.int32):\n",
    "    \"\"\"\n",
    "    Return a shift matrix of dimension `n` with the form:\n",
    "    T = (1 + L^a)(1 + R^b)(1 + L^c)\n",
    "    If `reverse` is `True`, than the operator directions are swapped.\n",
    "    T = (1 + R^a)(1 + L^b)(1 + R^c)\n",
    "\n",
    "    n:       dimension of the shifting matrix.\n",
    "    a:       number of first shifts.\n",
    "    b:       number of second shifts.\n",
    "    c:       number of third shifts.\n",
    "    reverse: reverse from left-right-left to right-left-right.\n",
    "    dtype:   type of entries to use in the matrix.\n",
    "    \"\"\"\n",
    "    if reverse:\n",
    "        return (\n",
    "            (build_i(n, dtype) + build_rshift(n, a, dtype))\n",
    "            * (build_i(n, dtype) + build_lshift(n, b, dtype))\n",
    "            * (build_i(n, dtype) + build_rshift(n, c, dtype))\n",
    "        )\n",
    "    else:\n",
    "        return (\n",
    "            (build_i(n, dtype) + build_lshift(n, a, dtype))\n",
    "            * (build_i(n, dtype) + build_rshift(n, b, dtype))\n",
    "            * (build_i(n, dtype) + build_lshift(n, c, dtype))\n",
    "        )\n",
    "\n",
    "\n",
    "###STOP_SOLUTION"
   ]
  },
  {
   "cell_type": "code",
   "execution_count": null,
   "metadata": {},
   "outputs": [],
   "source": [
    "###START_SOLUTION\n",
    "# Define our triplets.\n",
    "ts = ((1, 3, 10), (5, 17, 13), (2, 5, 14))\n",
    "\n",
    "# We are testing for 32-bits.\n",
    "n = 32\n",
    "\n",
    "# Loop over the triplets.\n",
    "for a, b, c in ts:\n",
    "    # Construct the shift matrix.\n",
    "    t = build_tshift(n, a, b, c)\n",
    "    # Test the condition.\n",
    "    t = t.todense()\n",
    "    check = (t ** (2**n) % 2) - t\n",
    "    print(f\"non-zero elements for T{a, b, c} = {np.count_nonzero(check)}\")\n",
    "###STOP_SOLUTION"
   ]
  },
  {
   "cell_type": "markdown",
   "metadata": {
    "id": "Exercise:_implement_XORshift_with_matrices"
   },
   "source": [
    "### Exercise: implement XORshift with matrices"
   ]
  },
  {
   "cell_type": "markdown",
   "metadata": {},
   "source": [
    "Now that we have all the components, define an XORshift RNG. From the exercise above, choose valid default values for $a$, $b$, and $c$."
   ]
  },
  {
   "cell_type": "code",
   "execution_count": null,
   "metadata": {},
   "outputs": [],
   "source": [
    "###START_EXERCISE\n",
    "# We can now define an XORshift generator using matrices.\n",
    "class RNGXORShiftMatrix(RNG):\n",
    "    # The `dtype` determines how many bits we use, and we should choose\n",
    "    # a valid default for `a`, `b`, and `c`. If `reverse` is `True`,\n",
    "    # reverse the direction of the shift operators. We need this later for a\n",
    "    # combined RNG.\n",
    "    def __init__(self, seed, a=1, b=1, c=1, reverse=False, dtype=np.uint32):\n",
    "        super().__init__(seed)\n",
    "        # Store the state and any other info that is needed.\n",
    "        # Building the transformation matrix only once here would make sense.\n",
    "\n",
    "    # Here, we define the actual RNG.\n",
    "    def __call__(self):\n",
    "        # Apply the necessary transformations here.\n",
    "        return 0.5\n",
    "\n",
    "\n",
    "###STOP_EXERCISE"
   ]
  },
  {
   "cell_type": "code",
   "execution_count": null,
   "metadata": {},
   "outputs": [],
   "source": [
    "###START_SOLUTION\n",
    "# We can now define an XORshift generator using matrices.\n",
    "class RNGXORShiftMatrix(RNG):\n",
    "    \"\"\"\n",
    "    RNG using an three XOR operations in combination with bit shifts.\n",
    "    \"\"\"\n",
    "\n",
    "    # The `dtype` determines how many bits we use.\n",
    "    def __init__(self, seed, a=5, b=17, c=13, reverse=False, dtype=np.uint32):\n",
    "        \"\"\"\n",
    "        Constructor for this class, e.g. `RNGXORShiftMatrix(seed)`.\n",
    "\n",
    "        seed: seed used to initialize the generator.\n",
    "        n:       dimension of the shifting matrix.\n",
    "        a:       number of first shifts.\n",
    "        b:       number of second shifts.\n",
    "        c:       number of third shifts.\n",
    "        reverse: reverse from left-right-left to right-left-right.\n",
    "        dtype:   type of entries to use in the matrix.\n",
    "        \"\"\"\n",
    "        super().__init__(seed)\n",
    "        # The state is just our beta vector.\n",
    "        self.state = dec_to_bits(dtype(seed))\n",
    "        # It's useful to store the number of bits we use.\n",
    "        self.n = len(self.state)\n",
    "        # We also need the shift matrix.\n",
    "        self.t = build_tshift(self.n, a, b, c, reverse, dtype)\n",
    "\n",
    "    # Here, we define the actual RNG.\n",
    "    def __call__(self):\n",
    "        \"\"\"\n",
    "        Return a uniform RN.\n",
    "        \"\"\"\n",
    "        self.state = (self.state * self.t) % 2\n",
    "        return bits_to_dec(self.state) / (2**self.n - 1)\n",
    "\n",
    "\n",
    "###STOP_SOLUTION"
   ]
  },
  {
   "cell_type": "code",
   "execution_count": null,
   "metadata": {},
   "outputs": [],
   "source": [
    "###START_SOLUTION\n",
    "# We can now generate some numbers and test the generator.\n",
    "# The implementation of this RNG is not efficient, and so generation\n",
    "# is slow. Luckily, we can reimplement with shift operators which is\n",
    "# siginficantly faster.\n",
    "rng = RNGXORShiftMatrix(20)\n",
    "rns = rng_sequence(rng, 10000)\n",
    "print(f\"period = {len(rns)}\")\n",
    "print(f\"mean = {mean(rns)}\")\n",
    "print(f\"variance = {variance(rns)}\")\n",
    "###STOP_SOLUTION"
   ]
  },
  {
   "cell_type": "markdown",
   "metadata": {
    "id": "Exercise:_implement_XORshift_with_operators"
   },
   "source": [
    "### Exercise: implement XORshift with operators"
   ]
  },
  {
   "cell_type": "markdown",
   "metadata": {},
   "source": [
    "It turns out, not suprisingly, that the `XORshift` RNG we implemented with matrices is not particularly efficient. How many operations per RNG call are required for the matrix implementation? Assume the matrices are dense and ignore the operations necessary to convert to from a vector of bits to a real number."
   ]
  },
  {
   "cell_type": "markdown",
   "metadata": {},
   "source": [
    "###START_SOLUTION We only need to build the transformation matrix $T$ once, so this means that for each call we need to peform the following.\n",
    "\n",
    "$$\n",
    "\\beta' = \\beta T\n",
    "$$\n",
    "\n",
    "This consists of multiplying a vector of length $n$ with a matrix of size $n\\times n$ which is $2n^2$ operations.\n",
    "###STOP_SOLUTION"
   ]
  },
  {
   "cell_type": "markdown",
   "metadata": {},
   "source": [
    "So, let us now implement a more efficient version of this generator where we use the built in Pythonic operators for XOR and bit shifting."
   ]
  },
  {
   "cell_type": "code",
   "execution_count": null,
   "metadata": {},
   "outputs": [],
   "source": [
    "###START_EXERCISE\n",
    "# The following demonstrate the in-place XOR operator, `^=`.\n",
    "a = np.uint8(13)\n",
    "print(f\"a   = {dec_to_bits(a)}\")\n",
    "b = np.uint8(5)\n",
    "print(f\"b   = {dec_to_bits(b)}\")\n",
    "a ^= b\n",
    "print(f\"a^b = {dec_to_bits(a)}\")\n",
    "\n",
    "# We already compared the bit-shifting operator, but we can illustrate it\n",
    "# again here.\n",
    "a = np.uint8(13)\n",
    "print(f\"a      = {dec_to_bits(a)}\")\n",
    "a = a << 1\n",
    "print(f\"a << 1 = {dec_to_bits(a)}\")\n",
    "\n",
    "\n",
    "# Here is a template for defining the generator.\n",
    "class RNGXORShiftOperator(RNG):\n",
    "    # Use the same default `a`, `b`, and `c` as RNGXORShiftMatrix.\n",
    "    # Use the same default `dtype` as RNGXORShiftMatrix.\n",
    "    def __init__(self, seed, a=1, b=1, c=1, reverse=False, dtype=np.uint32):\n",
    "        super().__init__(seed)\n",
    "        # Store the state.\n",
    "        # Store the bit size.\n",
    "        # Store the `a`, `b`, and `c` configuration.\n",
    "\n",
    "    # Define the actual RNG call.\n",
    "    def __call__(self):\n",
    "        # Bit-shift `state` left by `a`, then take XOR with non-shifted state.\n",
    "        # Bit-shift `state` right by `b`, then take XOR with non-shifted state.\n",
    "        # Bit-shift `state` left by `c`, then take XOR with non-shifted state.\n",
    "        # Normalize and return.\n",
    "        return 0.5\n",
    "\n",
    "\n",
    "###STOP_EXERCISE"
   ]
  },
  {
   "cell_type": "code",
   "execution_count": null,
   "metadata": {},
   "outputs": [],
   "source": [
    "###START_SOLUTION\n",
    "# Class to perform XORshift with Python bit-wise operators.\n",
    "class RNGXORShiftOperator(RNG):\n",
    "    # Use the same default `a`, `b`, and `c` as RNGXORShiftMatrix.\n",
    "    # Use the same default `dtype` as RNGXORShiftMatrix.\n",
    "    def __init__(self, seed, a=5, b=17, c=13, reverse=False, dtype=np.uint32):\n",
    "        super().__init__(seed)\n",
    "        # Store the state.\n",
    "        self.state = dtype(seed)\n",
    "        # Store the bit size.\n",
    "        self.n = self.state.itemsize * 8\n",
    "        # Store the `a`, `b`, and `c` configuration.\n",
    "        self.a = a\n",
    "        self.b = b\n",
    "        self.c = c\n",
    "        self.reverse = reverse\n",
    "\n",
    "    # Define the actual RNG call.\n",
    "    def __call__(self):\n",
    "        if self.reverse:\n",
    "            # Bit-shift `state` right by `a`, then take XOR with non-shifted state.\n",
    "            self.state ^= self.state >> self.a\n",
    "            # Bit-shift `state` left by `b`, then take XOR with non-shifted state.\n",
    "            self.state ^= self.state << self.b\n",
    "            # Bit-shift `state` right by `c`, then take XOR with non-shifted state.\n",
    "            self.state ^= self.state >> self.c\n",
    "            # Normalize and return.\n",
    "\n",
    "        else:\n",
    "            # Bit-shift `state` left by `a`, then take XOR with non-shifted state.\n",
    "            self.state ^= self.state << self.a\n",
    "            # Bit-shift `state` right by `b`, then take XOR with non-shifted state.\n",
    "            self.state ^= self.state >> self.b\n",
    "            # Bit-shift `state` left by `c`, then take XOR with non-shifted state.\n",
    "            self.state ^= self.state << self.c\n",
    "            # Normalize and return.\n",
    "        return self.state / (2**self.n - 1)\n",
    "\n",
    "\n",
    "###STOP_SOLUTION"
   ]
  },
  {
   "cell_type": "markdown",
   "metadata": {},
   "source": [
    "Compare this `XORshift` RNG with the one you wrote using matrices. Do the two match? Should they?"
   ]
  },
  {
   "cell_type": "code",
   "execution_count": null,
   "metadata": {},
   "outputs": [],
   "source": [
    "###START_EXERCISE\n",
    "# Define the two RNGs. Make sure to use the same `seed` and `a`, `b`, and `c`.\n",
    "# Loop over the first 5 RNs generated.\n",
    "###STOP_EXERCISE"
   ]
  },
  {
   "cell_type": "code",
   "execution_count": null,
   "metadata": {},
   "outputs": [],
   "source": [
    "###START_SOLUTION\n",
    "# Define the two RNGs.\n",
    "rng_operator = RNGXORShiftOperator(20)\n",
    "rng_matrix = RNGXORShiftMatrix(20)\n",
    "# Loop over the first 5 RNs generated.\n",
    "for i in range(0, 5):\n",
    "    print(rng_operator(), rng_matrix())\n",
    "\n",
    "# They match!\n",
    "###STOP_SOLUTION"
   ]
  },
  {
   "cell_type": "markdown",
   "metadata": {
    "id": "Combined_RNGs"
   },
   "source": [
    "## Combined RNGs"
   ]
  },
  {
   "cell_type": "markdown",
   "metadata": {},
   "source": [
    "We have explored three different RNG methods: [Middle Square Method](scrollTo=Middle_square_method), [LCGs](scrollTo=#RNGs_based_on_modular_arithmetic), and [`XORshift`](XORshift_RNGs). While only the final RNG method is currently considered to be sufficient, another possibility is to combine RNGs together to produce a better RNG. In Numerical Recipes (3rd ed), a number of guidelines are given for what constitutes a bad RNG, which is then followed by this \"received wisdom of the present\".\n",
    "\n",
    "> An acceptable random generator must combine at least two (ideally, unrelated) methods. The methods combined should evolve independently and share no state. The combination should be by simple operations that do not produce results less random than their operands.\n",
    "\n",
    "In Numerical Recipes, an RNG is recommended that combines four different RNGs. The first RNG is a an `XORshift`, the second is an LCG, the third is another `XORshift`, and the fourth is a Multiply with Carry (MWC). These RNGs are combined as follows.\n",
    "\n",
    "$$\n",
    "(\\text{XOR}_1(\\text{LCG}_2) + \\text{XOR}_3) \\wedge \\text{MWC}_4\n",
    "$$\n",
    "\n",
    "The notation here of $\\text{XOR}_1(\\text{LCG}_2)$ is called a succesor relation, where the state of $\\text{LCG}_2$ is still iterated as normal, but is taken as the state of $\\text{XOR}_1$."
   ]
  },
  {
   "cell_type": "markdown",
   "metadata": {
    "id": "Exercise:_implement_an_MWC_RNG"
   },
   "source": [
    "### Exercise: implement an MWC RNG"
   ]
  },
  {
   "cell_type": "markdown",
   "metadata": {},
   "source": [
    "The idea behind an MCW is similar to an LCG with $m = ab - 1$, but is implemented using a bit-shift with an AND operation. The algorithm is as follows, considering an $n$-bit state.\n",
    "1. Right-shift $x_i$ by $n/2$.\n",
    "2. Take the AND operation between $x_i$ and $2^{n/2} -1$.\n",
    "2. Multiply the result of (2) by $a$ and add to the result of (1).\n",
    "Implement an MCW for $n = 64$ and $a = 4294957665$."
   ]
  },
  {
   "cell_type": "code",
   "execution_count": null,
   "metadata": {},
   "outputs": [],
   "source": [
    "###START_EXERCISE\n",
    "# Class to perform MWC.\n",
    "class RNGMWC(RNG):\n",
    "    def __init__(self, seed, a=4294957665, dtype=np.uint64):\n",
    "        super().__init__(seed)\n",
    "        # Store the state.\n",
    "        # Store the bit size.\n",
    "        # Store the `a` configuration.\n",
    "\n",
    "    # Define the actual RNG call.\n",
    "    def __call__(self):\n",
    "        # Bit-shift `state` right by `n/2`.\n",
    "        # Take bit-wise AND with 2^(`n`/2) - 1, multiply by `a`.\n",
    "        # Here, you will need to create a dtype of 2^(`n`/2) otherwise Python\n",
    "        # will complain about adding an `int` to dtype.\n",
    "        # Add the results.\n",
    "        # Normalize and return.\n",
    "        pass\n",
    "\n",
    "\n",
    "###STOP_EXERCISE"
   ]
  },
  {
   "cell_type": "code",
   "execution_count": null,
   "metadata": {},
   "outputs": [],
   "source": [
    "###START_SOLUTION\n",
    "# Class to perform MWC.\n",
    "class RNGMWC(RNG):\n",
    "    def __init__(self, seed, a=4294957665, dtype=np.uint64):\n",
    "        super().__init__(seed)\n",
    "        # Store the state.\n",
    "        self.state = dtype(seed)\n",
    "        # Store the bit size.\n",
    "        self.n = self.state.itemsize * 8\n",
    "        # Store the `a` configuration.\n",
    "        self.a = a\n",
    "        self.b = dtype((2 ** (self.n / 2) - 1))\n",
    "        self.c = int(self.n / 2)\n",
    "\n",
    "    # Define the actual RNG call.\n",
    "    def __call__(self):\n",
    "        # Bit-shift `state` right by `n/2`.\n",
    "        x = self.state >> self.c\n",
    "        # Take bit-wise AND with 2^(`n`/2) - 1, multiply by `a`.\n",
    "        y = self.a * (self.state & self.b)\n",
    "        # Add the results.\n",
    "        self.state = x + y\n",
    "        # Normalize and return.\n",
    "        return self.state / (2**self.n - 1)\n",
    "\n",
    "\n",
    "###STOP_SOLUTION"
   ]
  },
  {
   "cell_type": "code",
   "execution_count": null,
   "metadata": {},
   "outputs": [],
   "source": [
    "###START_SOLUTION\n",
    "# Now we can test the generator.\n",
    "rng = RNGMWC(13)\n",
    "rns = rng_sequence(rng, 10000)\n",
    "print(f\"period = {len(rns)}\")\n",
    "print(f\"mean = {mean(rns)}\")\n",
    "print(f\"variance = {variance(rns)}\")\n",
    "###STOP_SOLUTION"
   ]
  },
  {
   "cell_type": "markdown",
   "metadata": {
    "id": "Exercise:_combine_RNGs"
   },
   "source": [
    "### Exercise: combine RNGs"
   ]
  },
  {
   "cell_type": "markdown",
   "metadata": {},
   "source": [
    "We now have all the ingredients needed to create the recommended RNG combination from Numerical recipes. However, we need to know the parameters used for each RNG.\n",
    "\n",
    "* $\\text{XOR}_1$: $a = 21$, $b = 35$, $c = 4$, and left-right-left shifts\n",
    "* $\\text{LCG}_2$: $a = 2862933555777941757$, $c = 7046029254386353087$, and $m = 2^n$\n",
    "* $\\text{XOR}_3$: $a = 17$, $b = 31$, $c = 8$, and right-left-right shifts\n",
    "* $\\text{MWC}_4$: $a = 4294957665$\n",
    "\n",
    "For all the generators we have $n = 64$. There is also some additional initialization that is required that is described in the comments for the exercise code.\n",
    "\n",
    "To check your solution, the first $5$ random numbers should be the following.\n",
    "```\n",
    "0.40573455184711105\n",
    "0.4626566077784852\n",
    "0.06435855239385686\n",
    "0.5209198360653725\n",
    "0.034725647607092826\n",
    "```"
   ]
  },
  {
   "cell_type": "code",
   "execution_count": null,
   "metadata": {},
   "outputs": [],
   "source": [
    "###START_EXERCISE\n",
    "# Class to create a combined RNG.\n",
    "class RNGCombine(RNG):\n",
    "    def __init__(\n",
    "        self,\n",
    "        seed,\n",
    "        seed3=4101842887655102017,\n",
    "        seed4=1,\n",
    "        a1=21,\n",
    "        b1=35,\n",
    "        c1=4,\n",
    "        a2=2862933555777941757,\n",
    "        c2=7046029254386353087,\n",
    "        m2=2**64,\n",
    "        a3=17,\n",
    "        b3=31,\n",
    "        c3=8,\n",
    "        a4=4294957665,\n",
    "        dtype=np.uint64,\n",
    "    ):\n",
    "        super().__init__(seed)\n",
    "        # Determine the seeds for the RNGs. Any value for `seed1` is fine,\n",
    "        # since this seed is never used in RNG1.\n",
    "        # The seed for RNG2 is the XOR of `seed1` and `seed3`.\n",
    "        # We already have `seed3` and `seed4`.\n",
    "\n",
    "        # Store the bit size and data type.\n",
    "\n",
    "        # Create the 4 RNGs.\n",
    "\n",
    "        # Perform some additional initialization.\n",
    "        # Call the RNG with the current states.\n",
    "        # Update the state of RNG3 to that of RNG2.\n",
    "        # Call the RNG with the current states.\n",
    "        # Update the state of RNG4 to that of RNG3.\n",
    "        # Call the RNG with the current states.\n",
    "\n",
    "    # Define the actual RNG call.\n",
    "    def __call__(self):\n",
    "        # Independently call RNG2, RNG3, and RNG4.\n",
    "        # Set the RNG1 state to the RNG2 state. Make sure this is the correct\n",
    "        # data type.\n",
    "        # Call RNG1.\n",
    "        # Combine the states.\n",
    "        # This step can cause an overflow error, but it is safe to ignore\n",
    "        # since the overflow treatment is what we want.\n",
    "        # Normalize and return.\n",
    "        return 0.5\n",
    "\n",
    "\n",
    "###STOP_EXERCISE"
   ]
  },
  {
   "cell_type": "code",
   "execution_count": null,
   "metadata": {},
   "outputs": [],
   "source": [
    "###START_SOLUTION\n",
    "# Class to create a combined RNG.\n",
    "class RNGCombine(RNG):\n",
    "    def __init__(\n",
    "        self,\n",
    "        seed,\n",
    "        seed3=4101842887655102017,\n",
    "        seed4=1,\n",
    "        a1=21,\n",
    "        b1=35,\n",
    "        c1=4,\n",
    "        a2=2862933555777941757,\n",
    "        c2=7046029254386353087,\n",
    "        a3=17,\n",
    "        b3=31,\n",
    "        c3=8,\n",
    "        reverse3=True,\n",
    "        a4=4294957665,\n",
    "        dtype=np.uint64,\n",
    "    ):\n",
    "        super().__init__(seed)\n",
    "        # Determine the seeds for the RNGs. Any value for `seed1` is fine,\n",
    "        # since this seed is never used in RNG1.\n",
    "        seed1 = dtype(seed)\n",
    "        # The seed for RNG2 is the XOR of `seed1` and `seed3`.\n",
    "        seed2 = int(dtype(seed1) ^ dtype(seed3))\n",
    "        # We already have `seed3` and `seed4`.\n",
    "\n",
    "        # Store the bit size and data type.\n",
    "        self.n = seed1.itemsize * 8\n",
    "        self.dtype = dtype\n",
    "\n",
    "        # Create the 4 RNGs.\n",
    "        self.rng1 = RNGXORShiftOperator(seed1, a1, b1, c1, False, dtype)\n",
    "        self.rng2 = RNGLCG(seed2, a2, 2**self.n, c2)\n",
    "        self.rng3 = RNGXORShiftOperator(seed3, a3, b3, c3, True, dtype)\n",
    "        self.rng4 = RNGMWC(seed4, a4, dtype)\n",
    "        self.rngs = [self.rng1, self.rng2, self.rng3, self.rng4]\n",
    "\n",
    "        # Perform some additional initialization.\n",
    "        # Call the RNG with the current states.\n",
    "        self()\n",
    "        # Update the state of RNG3 to that of RNG2.\n",
    "        self.rng3.state = self.dtype(self.rng2.state)\n",
    "        # Call the RNG with the current states.\n",
    "        self()\n",
    "        # Update the state of RNG4 to that of RNG3.\n",
    "        self.rng4.state = self.rng3.state\n",
    "        # Call the RNG with the current states.\n",
    "        self()\n",
    "\n",
    "    # Define the actual RNG call.\n",
    "    def __call__(self):\n",
    "        # Independently call RNG2, RNG3, and RNG4.\n",
    "        self.rng2()\n",
    "        self.rng3()\n",
    "        self.rng4()\n",
    "        # Set the RNG1 state to the RNG2 state. Make sure this is the correct\n",
    "        # data type.\n",
    "        self.rng1.state = self.dtype(self.rng2.state)\n",
    "        # Call RNG1.\n",
    "        self.rng1()\n",
    "        # Combine the states. We could use the following line.\n",
    "        # state = (self.rng1.state + self.rng3.state) ^ self.rng4.state\n",
    "        # But, this generates an overflow warning. The behavior is correct,\n",
    "        # since this just performs modulo 2^64. However, we can avoid the\n",
    "        # warning by using the `bignum` Python integer type, and then\n",
    "        # performing modulo 2^64. Note, this is less efficient.\n",
    "        state = (\n",
    "            self.dtype((int(self.rng1.state) + int(self.rng3.state)) % 2**64)\n",
    "            ^ self.rng4.state\n",
    "        )\n",
    "        # Normalize and return.\n",
    "        return state / (2**self.n - 1)\n",
    "\n",
    "\n",
    "###STOP_SOLUTION"
   ]
  },
  {
   "cell_type": "code",
   "execution_count": null,
   "metadata": {},
   "outputs": [],
   "source": [
    "###START_SOLUTION\n",
    "# Now we can test the generator.\n",
    "rng = RNGCombine(13)\n",
    "# Loop over the first 5 RNs generated.\n",
    "for i in range(0, 5):\n",
    "    print(rng())\n",
    "\n",
    "# Calcuate the mean and variance.\n",
    "rns = rng_sequence(rng, 10000)\n",
    "print(f\"period = {len(rns)}\")\n",
    "print(f\"mean = {mean(rns)}\")\n",
    "print(f\"variance = {variance(rns)}\")\n",
    "###STOP_SOLUTION"
   ]
  },
  {
   "cell_type": "code",
   "execution_count": null,
   "metadata": {},
   "outputs": [],
   "source": [
    "###START_SOLUTION\n",
    "# It turns out that the `RNGCombine` method can be a little slow, mainly\n",
    "# because of how we use the Python `int` class in our LCG. Below, we implement\n",
    "# the same RNG but following more closely the implementation of Numerical\n",
    "# Methods.\n",
    "class RNGCombineNM(RNG):\n",
    "    def __init__(\n",
    "        self,\n",
    "        seed,\n",
    "        seed3=4101842887655102017,\n",
    "        seed4=1,\n",
    "        a1=21,\n",
    "        b1=35,\n",
    "        c1=4,\n",
    "        a2=2862933555777941757,\n",
    "        c2=7046029254386353087,\n",
    "        a3=17,\n",
    "        b3=31,\n",
    "        c3=8,\n",
    "        a4=4294957665,\n",
    "        dtype=np.uint64,\n",
    "    ):\n",
    "        super().__init__(seed)\n",
    "\n",
    "        # Set the states for the RNGs.\n",
    "        self.state3 = dtype(seed3)\n",
    "        self.state2 = dtype(seed) ^ self.state3\n",
    "        self.state4 = dtype(seed4)\n",
    "\n",
    "        # Set the parameters.\n",
    "        self.n = self.state2.itemsize * 8\n",
    "        self.a1, self.b1, self.c1 = a1, b1, c1\n",
    "        self.a2, self.c2 = dtype(a2), dtype(c2)\n",
    "        self.a3, self.b3, self.c3 = a3, b3, c3\n",
    "        self.a4 = dtype(a4)\n",
    "        self.b4, self.c4 = dtype((2 ** (self.n / 2) - 1)), int(self.n / 2)\n",
    "\n",
    "        # Initialize the states further.\n",
    "        self()\n",
    "        self.state3 = self.state2\n",
    "        self()\n",
    "        self.state4 = self.state3\n",
    "        self()\n",
    "\n",
    "    # Define the actual RNG call.\n",
    "    def __call__(self):\n",
    "        # Call RNG2. Here, modulo 2^64 is handled by the overflow.\n",
    "        # print(self.a2)\n",
    "        # print(self.state2)\n",
    "        # print(self.c2)\n",
    "        self.state2 = self.a2 * self.state2 + self.c2\n",
    "        # Call RNG3.\n",
    "        self.state3 ^= self.state3 >> self.a3\n",
    "        self.state3 ^= self.state3 << self.b3\n",
    "        self.state3 ^= self.state3 >> self.c3\n",
    "        # Call RNG4.\n",
    "        self.state4 = self.a4 * (self.state4 & self.b4) + (self.state4 >> self.c4)\n",
    "        # Call RNG1.\n",
    "        state1 = self.state2 ^ (self.state2 << self.a1)\n",
    "        state1 ^= state1 >> self.b1\n",
    "        state1 ^= state1 << self.c1\n",
    "        # Combine the states.\n",
    "        state = (state1 + self.state3) ^ self.state4\n",
    "        return state / (2**self.n - 1)\n",
    "\n",
    "\n",
    "###STOP_SOLUTION"
   ]
  },
  {
   "cell_type": "code",
   "execution_count": null,
   "metadata": {},
   "outputs": [],
   "source": [
    "###START_SOLUTION\n",
    "# We can compare this to `RNGCombine`. This second RNG will produce warnings\n",
    "# since we are utilizing the overflow behavior of `numpy`.\n",
    "rng_combine = RNGCombine(13)\n",
    "rng_methods = RNGCombineNM(13)\n",
    "# Loop over the first 5 RNs generated.\n",
    "for i in range(0, 5):\n",
    "    print(rng_combine(), rng_methods())\n",
    "###STOP_SOLUTION"
   ]
  },
  {
   "cell_type": "markdown",
   "metadata": {
    "id": "Tests_of_Random_Number_Generators"
   },
   "source": [
    "## Tests of Random Number Generators"
   ]
  },
  {
   "cell_type": "markdown",
   "metadata": {},
   "source": [
    "At the begining of this notebook, we defined a good RNG based on its mean and variance matching an expected uniform distribution. However, as we saw with various RNGs, the period of a generator can be small, so it begins repeating, or patterns can even arise within a single period. However, as we saw for LCGs that even if we [chose better parameters](#scrollTo=Exercise:_choosing_better_parameters) these patterns could continue to emerge. So, how do we catch these patterns, and what defines a good RNG?\n",
    "\n",
    "There is not a simple answer to this question, but instead there are standard series of tests that can be applied to RNGs that attempt to quantify how good an RNG is. Perhaps the best known is the `diehard` test suite developed by George Marsaglia which was extended by Robert Brown into the [`dieharder`](https://webhome.phy.duke.edu/~rgb/General/dieharder.php) test suite, and by Pierre L'Ecuyer and Richard Simard into the [`TestU01`](https://github.com/umontreal-simul/TestU01-2009/) test suite. We will explore a few tests from the original `diehard` suite of tests."
   ]
  },
  {
   "cell_type": "markdown",
   "metadata": {
    "id": "Exercise:_timing"
   },
   "source": [
    "### Exercise: timing"
   ]
  },
  {
   "cell_type": "markdown",
   "metadata": {},
   "source": [
    "Timing does not assess the quality of an RNG, but is necessary from a practical point of view to determine whether an RNG is usable. Evaluate the timing per RNG call for all the RNGs implemented in this notebook."
   ]
  },
  {
   "cell_type": "code",
   "execution_count": null,
   "metadata": {},
   "outputs": [],
   "source": [
    "###START_EXERCISE\n",
    "# Define a list of RNG classes.\n",
    "rng_classes = [RNGCombine]\n",
    "\n",
    "# Create a list of RNGs.\n",
    "rngs = [rng_class(13) for rng_class in rng_classes]\n",
    "# Time each class.\n",
    "\n",
    "# The following times everything between start and top.\n",
    "# You will probably want to make a number of RNG calls to\n",
    "# get an average timing.\n",
    "import time\n",
    "\n",
    "start = time.time()\n",
    "for rng in rngs:\n",
    "    rng()\n",
    "stop = time.time()\n",
    "diff = stop - start\n",
    "###STOP_EXERCISE"
   ]
  },
  {
   "cell_type": "code",
   "execution_count": null,
   "metadata": {},
   "outputs": [],
   "source": [
    "###START_SOLUTION\n",
    "# We could create a list of the classes here.\n",
    "# classes = [RNGCombine, ...]\n",
    "\n",
    "# However, we can also inspect our global environment for relevant classes\n",
    "# to make sure we catch 'em all.\n",
    "rng_classes = []\n",
    "for name, obj in list(globals().items()):\n",
    "    # Check the object is a class and is in the main namespace.\n",
    "    if inspect.isclass(obj) and obj.__module__ == \"__main__\":\n",
    "        # Use only the classes with a name starting with RNG.\n",
    "        if name.startswith(\"RNG\") and name != \"RNG\":\n",
    "            rng_classes += [obj]\n",
    "\n",
    "# Now we needs to create our RNGs.\n",
    "rngs = [rng_class(13) for rng_class in rng_classes]\n",
    "\n",
    "# Next, we can time each RNG for 1000 calls.\n",
    "calls = 1000\n",
    "timings = []\n",
    "import time\n",
    "\n",
    "for rng in rngs:\n",
    "    start = time.time()\n",
    "    for call in range(0, calls):\n",
    "        rng()\n",
    "    stop = time.time()\n",
    "    timings += [(stop - start, rng)]\n",
    "\n",
    "# Finally, we print the timing for each RNG, sorted low to high.\n",
    "timings.sort()\n",
    "for i, (timing, rng) in enumerate(timings):\n",
    "    print(f\"({i:{int(len(rngs)/10)}}) {timing/calls:.2e} \" f\"{rng.__class__.__name__}\")\n",
    "###STOP_SOLUTION"
   ]
  },
  {
   "cell_type": "markdown",
   "metadata": {
    "id": "Exercise:_Kolmogorov-Smirnov_test"
   },
   "source": [
    "### Exercise: Kolmogorov-Smirnov test"
   ]
  },
  {
   "cell_type": "markdown",
   "metadata": {},
   "source": [
    "The general idea behind the `diehard` tests is to generate a distribution produced from an algorithm using the RNG and compare this to the asymptotic limit of the distribution for the algorithm. To do this, we need to be able to quantify how well a discrete generated distribution agrees with a continuous distribution. The Kolmogorov-Smirnov (KS) test does this by finding the maximum distance between the cumulative distribution functions of the two distributions. Try to implement this below."
   ]
  },
  {
   "cell_type": "code",
   "execution_count": null,
   "metadata": {},
   "outputs": [],
   "source": [
    "###START_SOLUTION\n",
    "def ks_distance(xs, cdf):\n",
    "    \"\"\"\n",
    "    Returns the KS test statistic.\n",
    "\n",
    "    xs:  distribution of generated points.\n",
    "    cdf: cumulative distribution function for comparison. This should be a\n",
    "         function which takes an `x` and returns the CDF.\n",
    "    \"\"\"\n",
    "    # Sort the values.\n",
    "    xs.sort()\n",
    "    # Set the initial maximum distance.\n",
    "    dmax = 0\n",
    "    # Determine the normalization.\n",
    "    norm = len(xs)\n",
    "    # Loop over the values.\n",
    "    for i, x in enumerate(xs):\n",
    "        # Set the number of values.\n",
    "        n = i + 1\n",
    "        # Find the distance.\n",
    "        d = abs(cdf(x) - n / norm)\n",
    "        # Update the maximum distance.\n",
    "        dmax = max(d, dmax)\n",
    "    # Return the maximum distance.\n",
    "    return dmax\n",
    "\n",
    "\n",
    "###STOP_SOLUTION"
   ]
  },
  {
   "cell_type": "markdown",
   "metadata": {},
   "source": [
    "Now, let us test a uniform distribution with the KS test."
   ]
  },
  {
   "cell_type": "code",
   "execution_count": null,
   "metadata": {},
   "outputs": [],
   "source": [
    "###START_SOLUTION\n",
    "# Create the uniform distribution.\n",
    "rng = RNGCombine(13)\n",
    "xs = [rng() for i in range(0, 1000)]\n",
    "\n",
    "\n",
    "# Define the CDF for the uniform distribution.\n",
    "def cdf_uniform(x):\n",
    "    return x\n",
    "\n",
    "\n",
    "# Run the KS test.\n",
    "d = ks_distance(xs, cdf_uniform)\n",
    "###STOP_SOLUTION"
   ]
  },
  {
   "cell_type": "markdown",
   "metadata": {},
   "source": [
    "However, this number is not so useful unless we know the expected distribution for KS distances. The asymptotic CDF for the distance $d$ as $n \\to \\infty$ for the generated distribution is given by the following.\n",
    "\n",
    "$$\n",
    "\\text{CDF}(d) = \\frac{\\sqrt{2\\pi}}{\\sqrt{n}d} \\sum_{k = 1}^\\infty e^{-(2k-1)^2\\pi^2/(8nd^2)}\n",
    "$$\n",
    "\n",
    "Implement a function which calculates the p-value for the KS test."
   ]
  },
  {
   "cell_type": "code",
   "execution_count": null,
   "metadata": {},
   "outputs": [],
   "source": [
    "###START_EXERCISE\n",
    "# Define the function here, where `kmax` defines the upper limit of the sum.\n",
    "def ks_pvalue(d, n, kmax=100):\n",
    "    return 0.0\n",
    "\n",
    "\n",
    "###STOP_EXERCISE"
   ]
  },
  {
   "cell_type": "code",
   "execution_count": null,
   "metadata": {},
   "outputs": [],
   "source": [
    "###START_SOLUTION\n",
    "def ks_pvalue(d, n, kmax=100):\n",
    "    \"\"\"\n",
    "    Returns the asymptotic KS p-value.\n",
    "\n",
    "    d:    KS distance from a generated distribution.\n",
    "    n:    points in the generated distribution.\n",
    "    kmax: maximum number of iterations in the sum.\n",
    "    \"\"\"\n",
    "    p = 0\n",
    "    a = math.pi**2 / (8 * n * d**2)\n",
    "    for k in range(1, kmax):\n",
    "        p += math.exp(-((2.0 * k - 1) ** 2) * a)\n",
    "    return 1 - p * (2 * math.pi) ** 0.5 / (n**0.5 * d)\n",
    "\n",
    "\n",
    "###STOP_SOLUTION"
   ]
  },
  {
   "cell_type": "markdown",
   "metadata": {},
   "source": [
    "We can test our implementation against the `scipy` implementation."
   ]
  },
  {
   "cell_type": "code",
   "execution_count": null,
   "metadata": {},
   "outputs": [],
   "source": [
    "p = ks_pvalue(d, len(xs))\n",
    "s = sp.stats.kstest(xs, cdf_uniform)\n",
    "print(f\"local distance: {d}\")\n",
    "print(f\"scipy distance: {s.statistic}\")\n",
    "print(f\"local distance: {p}\")\n",
    "print(f\"scipy distance: {s.pvalue}\")"
   ]
  },
  {
   "cell_type": "markdown",
   "metadata": {
    "id": "Exercise:_minimum_distance_test"
   },
   "source": [
    "### Exercise: minimum distance test"
   ]
  },
  {
   "cell_type": "markdown",
   "metadata": {},
   "source": [
    "There are quite a few tests in the `diehard` including tests such as the birthdays, craps, car parking, and monkeys. We will focus on a test with a slightly more boring name, the minimum distance test. In this test, $n$ random points $(x_i, y_i)$ are generated where both $x_i$ and $y_i$ are uniformly distributed between $0$ and $10^4$. The minimum distance between all point combinations, $d_\\min^2$, is then returned. Implement this test below."
   ]
  },
  {
   "cell_type": "code",
   "execution_count": null,
   "metadata": {},
   "outputs": [],
   "source": [
    "###START_EXERCISE\n",
    "# Define the method.\n",
    "def diehard_minimum_distance(rng, n):\n",
    "    # Create the points.\n",
    "    # Make sure they are sampled between 0 and 1e4.\n",
    "    # Calculate the distance.\n",
    "    # Return the minimum distance.\n",
    "    return 1e8\n",
    "\n",
    "\n",
    "###STOP_EXERCISE"
   ]
  },
  {
   "cell_type": "code",
   "execution_count": null,
   "metadata": {},
   "outputs": [],
   "source": [
    "###START_SOLUTION\n",
    "def diehard_minimum_distance(rng, n):\n",
    "    # Create the points.\n",
    "    # Make sure they are sampled between 0 and 1e4\n",
    "    xs = [(rng() * 1e4, rng() * 1e4) for i in range(0, n)]\n",
    "\n",
    "    # Calculate the distance.\n",
    "    dmin = 1e8\n",
    "    for i, (xi, yi) in enumerate(xs):\n",
    "        for j, (xj, yj) in enumerate(xs[i + 1 :]):\n",
    "            d = (xi - xj) ** 2 + (yi - yj) ** 2\n",
    "            dmin = min(d, dmin)\n",
    "\n",
    "    # Return the minumum distance.\n",
    "    return dmin\n",
    "\n",
    "\n",
    "###STOP_SOLUTION"
   ]
  },
  {
   "cell_type": "markdown",
   "metadata": {},
   "source": [
    "This value itself, or an ensemble of these values, is not useful unless we know the corresponding distribution. Create a distribution from $100$ $d_\\min^2$ using $n = 8000$ and the `RNGCombine` RNG. **This will take some time.**"
   ]
  },
  {
   "cell_type": "code",
   "execution_count": null,
   "metadata": {},
   "outputs": [],
   "source": [
    "###START_EXERCISE\n",
    "# Create the RNG.\n",
    "# Run the test 100 times with 8000 points each.\n",
    "###STOP_EXERCISE"
   ]
  },
  {
   "cell_type": "code",
   "execution_count": null,
   "metadata": {},
   "outputs": [],
   "source": [
    "###START_SOLUTION\n",
    "# Create the RNG.\n",
    "rng = RNGCombine(13)\n",
    "\n",
    "# Run the test 100 times with 8000 points each.\n",
    "tests = 100\n",
    "n = 8000\n",
    "xs = []\n",
    "for test in range(0, tests):\n",
    "    print(f\"test {test}\")\n",
    "    x = diehard_minimum_distance(rng, n)\n",
    "    print(f\"    d = {x:.2e}\")\n",
    "    xs += [x]\n",
    "###STOP_SOLUTION"
   ]
  },
  {
   "cell_type": "markdown",
   "metadata": {},
   "source": [
    "Plot the histogram for these $d_\\min^2$. What kind of distribution does this look like?"
   ]
  },
  {
   "cell_type": "code",
   "execution_count": null,
   "metadata": {},
   "outputs": [],
   "source": [
    "###START_EXERCISE\n",
    "# Create the figure.\n",
    "# Use the `ax.hist` to create a histogram.\n",
    "###STOP_EXERCISE"
   ]
  },
  {
   "cell_type": "code",
   "execution_count": null,
   "metadata": {},
   "outputs": [],
   "source": [
    "###START_SOLUTION\n",
    "# Create the figure.\n",
    "fig, ax = plt.subplots()\n",
    "# Use the `ax.hist` to create a histogram.\n",
    "ax.hist(xs, density=True)\n",
    "# With a little foreknowledge we know the PDF (see below).\n",
    "pdf = np.linspace(0, 8)\n",
    "mu = 1 / 0.995\n",
    "ax.plot(vals, [mu * math.exp(-mu * x) for x in pdf])\n",
    "###STOP_SOLUTION"
   ]
  },
  {
   "cell_type": "markdown",
   "metadata": {},
   "source": [
    "It turns out the distribution is an exponential.\n",
    "\n",
    "$$\n",
    "\\text{PDF}(x) = \\mu e^{-\\mu x}\n",
    "$$\n",
    "\n",
    "The CDF is then given by the following.\n",
    "\n",
    "$$\n",
    "\\text{CDF}(x) = 1 - e^{-\\mu x}\n",
    "$$\n",
    "\n",
    "For this particular test, $\\mu = 1/0.995$. Implement the expected CDF for this test and calculate the KS p-value."
   ]
  },
  {
   "cell_type": "code",
   "execution_count": null,
   "metadata": {},
   "outputs": [],
   "source": [
    "###START_EXERCISE\n",
    "# First, we define the CDF.\n",
    "def cdf_exp(x, mu=1 / 0.995):\n",
    "    return 0.0\n",
    "\n",
    "\n",
    "# Now we perform the test.\n",
    "###STOP_EXERCISE"
   ]
  },
  {
   "cell_type": "code",
   "execution_count": null,
   "metadata": {},
   "outputs": [],
   "source": [
    "###START_SOLUTION\n",
    "# First, we define the CDF.\n",
    "def cdf_exp(x, mu=1 / 0.995):\n",
    "    \"\"\"\n",
    "    Return the CDF for an exponential.\n",
    "\n",
    "    x:  value to determine the CDF for.\n",
    "    mu: rate parameter.\n",
    "    \"\"\"\n",
    "    return 1 - math.exp(-mu * x)\n",
    "\n",
    "\n",
    "###STOP_SOLUTION"
   ]
  },
  {
   "cell_type": "code",
   "execution_count": null,
   "metadata": {},
   "outputs": [],
   "source": [
    "###START_SOLUTION\n",
    "# Now we perform the test.\n",
    "d = ks_distance(xs, cdf_exp)\n",
    "p = ks_pvalue(d, len(xs))\n",
    "print(f\"KS p-value = {p:.2e}\")\n",
    "###STOP_SOLUTION"
   ]
  },
  {
   "cell_type": "markdown",
   "metadata": {},
   "source": [
    "We start to get worried if the p-value is close to $0$ or $1$. Normally, something less than $0.05$ would be considered problematic. However, there are a sufficient number of `diehard` tests that failures at the $0.05$ level can still occur for an RNG that is ideal. However, when p-values are less than $1\\times10^{-5}$ this is typically indicative of an RNG that has some serious shortcomings."
   ]
  }
 ],
 "metadata": {
  "colab": {
   "collapsed_sections": [
    "Requirements",
    "Introduction",
    "Middle_square_method",
    "Exercise:_implement_the_middle_square_method",
    "RNGs_based_on_modular_arithmetic",
    "Exercise:_patterns_in_multiplicative_congruential_generator",
    "Exercise:_choosing_better_parameters",
    "XORshift_RNGs",
    "Exercise:_implement_bit_shifting",
    "Exercise:_determine_suitable_triplets",
    "Exercise:_implement_XORshift_with_matrices",
    "Exercise:_implement_XORshift_with_operators",
    "Combined_RNGs",
    "Exercise:_implement_an_MWC_RNG",
    "Exercise:_combine_RNGs",
    "Tests_of_Random_Number_Generators",
    "Exercise:_timing",
    "Exercise:_Kolmogorov-Smirnov_test",
    "Exercise:_minimum_distance_test"
   ],
   "provenance": []
  },
  "kernelspec": {
   "display_name": "Python 3 (ipykernel)",
   "language": "python",
   "name": "python3"
  },
  "language_info": {
   "codemirror_mode": {
    "name": "ipython",
    "version": 3
   }
  }
 },
 "nbformat": 4,
 "nbformat_minor": 5
}