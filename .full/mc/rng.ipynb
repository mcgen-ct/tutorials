{
 "cells": [
  {
   "cell_type": "markdown",
   "metadata": {
    "id": "Random_Number_Generators"
   },
   "source": [
    "# Random Number Generators"
   ]
  },
  {
   "cell_type": "markdown",
   "metadata": {},
   "source": [
    "For any Monte Carlo (MC) computational technique, random numbers (or pseudo-random numbers) are critical, not only in the sampling characterstics of the generator but also the speed of the sampling. For example, simulating a Large Hadron Collider (LHC) collission can require upwards of $2.5 \\times 10^6$ random number calls.\n",
    "\n",
    "This worksheet is largely based on chapter 7 of [Numerical Recipes](https://numerical.recipes/book.html), and associated primary papers. The following is a list of references for further reading.\n",
    "\n",
    "*  Hammersley, J.M. and Handscomb, D.C. 1964, Monte Carlo Methods (London: Methuen)\n",
    "* Kalos, M.H. and Whitlock, P.A. 1986, Monte Carlo Methods (New York: Wiley)\n",
    "* Bratley, P., Fox, B.L., and Schrage, E.L. 1983, A Guide to Simulation, 2nd ed. (New York: Springer)\n",
    "* Lepage, G.P. 1978, A New Algorithm for Adaptive Multidimensional Integration, Journal of Computational Physics, vol. 27, pp. 192-203\n",
    "* Lepage, G.P. 1980, VEGAS: An Adaptive Multidimensional Integration Program, Publication CLNS-80/447, Cornell University\n",
    "* Numerical Recipes Software 2007, [Complete VEGAS Code Listing](http://numerical.recipes/webnotes?9), Numerical Recipes Webnote No. 9\n",
    "* Press, W.H., and Farrar, G.R. 1990, Recursive Stratified Sampling for Multidimensional Monte Carlo Integration, Computers in Physics, vol. 4, pp. 190-195\n",
    "* Numerical Recipes Software 2007, [Complete Miser Code Listing](http://numerical.recipes/webnotes?10), Numerical Recipes Webnote No. 10"
   ]
  },
  {
   "cell_type": "markdown",
   "metadata": {
    "id": "Introduction"
   },
   "source": [
    "## Introduction"
   ]
  },
  {
   "cell_type": "markdown",
   "metadata": {},
   "source": [
    "This tutorial will give an introduction to Random Number Generators (or RNGs, for short). For this tutorial it is useful to have interactive plotting via `matplotlib`. To enable this, we need to install the `ipympl` module and restart the kernel."
   ]
  },
  {
   "cell_type": "code",
   "metadata": {
    "id": "hVmY59iMymd_"
   },
   "source": [
    "# Install `ipympl`.\n",
    "!pip install -q ipympl\n",
    "get_ipython().kernel.do_shutdown(restart=True)"
   ]
  },
  {
   "cell_type": "markdown",
   "metadata": {},
   "source": [
    "Next, we configure `matplotlib` and allow widgets in Colab."
   ]
  },
  {
   "cell_type": "code",
   "metadata": {
    "id": "W2vCsaTDzIRU"
   },
   "source": [
    "# Allow for interactive plots.\n",
    "%matplotlib widget\n",
    "# Allow for widgets in Colab.\n",
    "try:\n",
    "    from google.colab import output\n",
    "\n",
    "    output.enable_custom_widget_manager()\n",
    "except:\n",
    "    pass"
   ]
  },
  {
   "cell_type": "markdown",
   "metadata": {},
   "source": [
    "Now we are ready to go!\n",
    "\n",
    "RNG algorithms are really pseudo-random (pRNG). This means they are deterministic. Randomness (Jaynes, [Probability Theory: The Logic of Science](http://www.med.mcgill.ca/epidemiology/hanley/bios601/GaussianModel/JaynesProbabilityTheory.pdf)) is a statement about knowledge, not about causes. pRNGs have causes, but you might not know them, or you might use them in a way so that they appear to be random, or random \"enough\".\n",
    "\n",
    "What are the basic properties of RNs? On any interval, there is an equal probability to obtain any value. For convenience, we will take this interval to be $(0,1)$. Note, we will generally exclude $0$ from the interval when considering RNs on a computer, since many algorithms will fail if $0$ is ever encountered.\n",
    "\n",
    "At the very least, we expect our computer RNs to have the properties of abstract ones.\n",
    "\n",
    "Mean:\n",
    "\n",
    "$$\\langle x \\rangle = \\int_0^1 \\text{d}x\\, x = \\frac{1}{2}$$\n",
    "\n",
    "Variance:\n",
    "\n",
    "$$\\langle x^2 \\rangle - \\langle x \\rangle^2 = \\frac{1}{3}-\\frac{1}{4} = \\frac{1}{12}$$\n",
    "\n",
    "Since it is useful to check the mean and variance, let us write simple functions which calculate these values given an iterable object like a list or array."
   ]
  },
  {
   "cell_type": "code",
   "metadata": {
    "id": "yIYMc_BCAAdd"
   },
   "source": [
    "# Note, these functions are available in `numpy` as `numpy.mean` and\n",
    "# `numpy.var`.\n",
    "def mean(vals):\n",
    "    \"\"\"\n",
    "    Return the mean for a list of numbers given by `vals`.\n",
    "    \"\"\"\n",
    "    return sum(vals) / float(len(vals))\n",
    "\n",
    "\n",
    "def variance(vals):\n",
    "    \"\"\"\n",
    "    Return the variance for a list of numbers given by `vals`.\n",
    "    \"\"\"\n",
    "    return mean([val**2 for val in vals]) - mean(vals) ** 2"
   ]
  },
  {
   "cell_type": "markdown",
   "metadata": {},
   "source": [
    "In practice, computers represent only a finite range of numbers.\n",
    "This has implications for RNGs. Any algorithm that is deterministic and shuffles through the numbers is bound to repeat itself. Further, if our algorithm uses one number as the seed for the next, this repetition will mean that the sequence of pRNs repeats itself. This hardly looks random. Much of the art in developing good RNGs is knowing how to characterize or calculate the length of these cycles. If the cycle is long enough, much longer than any sequence of RNs we ever use in practice, then there is hope that this sequence will have the desired properties of random numbers. Identifying an algorithm with a long cycle is a priority, and possibly led to the focus on modular arithmetic, to be discussed shortly.\n",
    "\n",
    "Before we get started, we need to make sure we have the `matplotlib` package configured as we need it. Since we will be looking at some 3D plots, we need to install the `ipympl` package and then set how `matplotlib` displays figures so that we can interact with them."
   ]
  },
  {
   "cell_type": "markdown",
   "metadata": {
    "id": "Middle_square_method"
   },
   "source": [
    "## Middle square method"
   ]
  },
  {
   "cell_type": "markdown",
   "metadata": {},
   "source": [
    "The need for such algorithms only came about with the development of practical computers and Monte Carlo (MC) techniques. Historically, we are placing ourselves in the 1940-1950s.\n",
    "Von Neumann (who else?) used a method called the [middle square](https://en.wikipedia.org/wiki/Middle-square_method). It can give us some insight to the problem we are facing.\n",
    "\n",
    "The middle square algorithm is short and strange:\n",
    "\n",
    "1. input a number of length $n$\n",
    "2. square the number and zero-pad if not of length $2n$\n",
    "3. output the \"middle\" number of length $n$\n",
    "4. use this number as the random variate and the input for step 1\n",
    "\n",
    "For example:\n",
    "\n",
    "$$14^2 = 196 \\to 0196 \\to 19; 19^2 = 0361 \\to 36; 36^2 = 1296 \\to 29; 29^2 = 0841 \\to 84, \\text{ etc.}$$\n",
    "\n",
    "Von Neumann used larger $n$ than this, but you get the point."
   ]
  },
  {
   "cell_type": "markdown",
   "metadata": {},
   "source": [
    "Before we practically explore the middle square method, let us first consider some technical realities behind RNGs. Perhaps the most critical aspect is that all RNGs require state; for the next RN to be generated, the RNG must have saved information stored on how the previous RN was generated. In the context of Python, this means that we need to use a class to define an RNG."
   ]
  },
  {
   "cell_type": "code",
   "metadata": {
    "id": "SPYE3wpCobAq"
   },
   "source": [
    "# Here, we define a simple base class which can hold the state for an RNG.\n",
    "class RNG:\n",
    "    \"\"\"\n",
    "    This is a simple base class for random number generation.\n",
    "    \"\"\"\n",
    "\n",
    "    def __init__(self, seed):\n",
    "        \"\"\"\n",
    "        Constructor for this class, e.g. `RNG(seed)`.\n",
    "        \"\"\"\n",
    "        self.seed = seed\n",
    "        # In derived classes, further state can be initialized here.\n",
    "\n",
    "    def __call__(self):\n",
    "        \"\"\"\n",
    "        This defines the `()` for this class and should return an RN between 0 and\n",
    "        1 for this generator. For example:\n",
    "        ```\n",
    "        rng = RNG(seed)\n",
    "        rng()\n",
    "        ```\n",
    "        \"\"\"\n",
    "        return 0.0\n",
    "        # In derived classes, the actual algorithm should be implemented here."
   ]
  },
  {
   "cell_type": "markdown",
   "metadata": {},
   "source": [
    "We are also interested in the periodicity for the RNG, so we can define a function, which given an RNG, generates RNs until the sequence repeats."
   ]
  },
  {
   "cell_type": "code",
   "metadata": {
    "id": "MNokcVySIJhh"
   },
   "source": [
    "# Since it is useful to determine the period of an RNG, let us define a method\n",
    "# that does just this. Since we are storing the RNs we need to be careful not\n",
    "# to store a very long list.\n",
    "def rng_sequence(rng, n=int(1e6)):\n",
    "    \"\"\"\n",
    "    Given an RNG, return its sequence after its first repition or until\n",
    "    `n` RNs have been generated.\n",
    "    \"\"\"\n",
    "    # Start with no RN and create the RN sequence.\n",
    "    rn, rns = None, []\n",
    "\n",
    "    # Loop while the next RN is not in the sequence.\n",
    "    while rn not in rns:\n",
    "        # Append the RN to the sequence.\n",
    "        if rn != None:\n",
    "            rns.append(rn)\n",
    "        # Generate the next RN.\n",
    "        rn = rng()\n",
    "        # Return if `n` is reached.\n",
    "        if len(rns) >= n:\n",
    "            return rns\n",
    "\n",
    "    # Return the sequence.\n",
    "    return rns"
   ]
  },
  {
   "cell_type": "markdown",
   "metadata": {
    "id": "Exercise:_implement_the_middle_square_method"
   },
   "source": [
    "### Exercise: implement the middle square method"
   ]
  },
  {
   "cell_type": "markdown",
   "metadata": {},
   "source": [
    "For $n$=2, try all seeds (inputs) and identify the longest sequence (before a repeat). For this longest sequence, calculate the mean and variance. Then, identify the worst seeds (0 period)."
   ]
  },
  {
   "cell_type": "code",
   "metadata": {
    "id": "AJtbbiN9V8jo"
   },
   "source": [
    "###START_EXERCISE\n",
    "# All RNGs require state of some sort, i.e. they need to save information about\n",
    "# the previous random number call. This means that in Python, we should write\n",
    "# our RNGs as classes.\n",
    "\n",
    "\n",
    "# Here, we define the middle square generator as a derived class of `RNG`.\n",
    "class RNGMiddleSquare(RNG):\n",
    "    # For this example `n` would be 2.\n",
    "    def __init__(self, seed, n):\n",
    "        # This initializes the base class.\n",
    "        super().__init__(seed)\n",
    "        # Additional state initialized here.\n",
    "        self.n = n\n",
    "\n",
    "    def __call__(self):\n",
    "        # Return the actual number.\n",
    "        return 0\n",
    "\n",
    "\n",
    "# Get the seed and create the RNG.\n",
    "seed = int(input(\"Please enter a two-digit number:\\n[##] \"))\n",
    "rng = RNGMiddleSquare(seed, 2)\n",
    "\n",
    "# Determine the period.\n",
    "###STOP_EXERCISE"
   ]
  },
  {
   "cell_type": "code",
   "metadata": {
    "id": "Oq8Hug4gPa3V"
   },
   "source": [
    "###START_SOLUTION\n",
    "# First we define the middle square class.\n",
    "class RNGMiddleSquare(RNG):\n",
    "    # For our state, we need the previously generated integer and what\n",
    "    # `n` we are using.\n",
    "    def __init__(self, seed, n):\n",
    "        super().__init__(seed)\n",
    "        self.state = seed\n",
    "        self.n = 2\n",
    "\n",
    "    # Here, we define the actual RNG.\n",
    "    def __call__(self):\n",
    "        # The `zfill` method pads the string with 0s, this gives us a string.\n",
    "        self.state = str(self.state**2).zfill(2 * self.n)\n",
    "        # Next, we extract the middle of the string as an integer.\n",
    "        i = int(self.n / 2)\n",
    "        self.state = int(self.state[i:-i])\n",
    "        # We divide by 10^n - 1 so our RN is between 0 and 1.\n",
    "        return self.state / float(10**self.n - 1)"
   ]
  },
  {
   "cell_type": "code",
   "metadata": {
    "id": "EUyYh8XQGg0W"
   },
   "source": [
    "# Now we can try it out for n = 2.\n",
    "# Input the random number seed and define the sequence.\n",
    "seed = int(input(\"Please enter a two-digit number:\\n[##] \"))\n",
    "\n",
    "# Create the RNG.\n",
    "rng = RNGMiddleSquare(seed, 2)\n",
    "\n",
    "# We store the current RN in `rn` and the sequence of RNs in `rns`.\n",
    "rn, rns = None, []\n",
    "\n",
    "# Start throwing random numbers.\n",
    "while rn not in rns:\n",
    "    # Append RN to the sequence.\n",
    "    if rn != None:\n",
    "        rns.append(rn)\n",
    "    # Generate the new random number using the middle square method.\n",
    "    rn = rng()\n",
    "    # Print the result.\n",
    "    print(f\"#{len(rns)}: {rn}\")\n",
    "\n",
    "# Print the result.\n",
    "print(\n",
    "    f\"We began with {seed} and\"\n",
    "    f\" have repeated ourselves after {len(rns)} steps\"\n",
    "    f\" with {rn}.\"\n",
    ")\n",
    "\n",
    "# We can now calculate the mean and the variance of the sequence.\n",
    "# Numpy allows us to easily calculate the mean and variance.\n",
    "print(\"mean = \", mean(rns))\n",
    "print(\"variance = \", variance(rns))"
   ]
  },
  {
   "cell_type": "code",
   "metadata": {
    "id": "POM3VOw2HcK3"
   },
   "source": [
    "# We can also try it for n = 4.\n",
    "# Input the random number seed and define the sequence.\n",
    "seed = int(input(\"Please enter a four-digit number:\\n[####] \"))\n",
    "\n",
    "# Create the RNG.\n",
    "rng = RNGMiddleSquare(seed, 4)\n",
    "\n",
    "# We store the current RN in `rn` and the sequence of RNs in `rns`.\n",
    "rn, rns = None, []\n",
    "\n",
    "# Start throwing random numbers.\n",
    "while rn not in rns:\n",
    "    # Append RN to the sequence.\n",
    "    if rn != None:\n",
    "        rns.append(rn)\n",
    "    # Generate the new random number using the middle square method.\n",
    "    rn = rng()\n",
    "    # Print the result.\n",
    "    print(f\"#{len(rns)}: {rn}\")\n",
    "\n",
    "# Print the result.\n",
    "print(\n",
    "    f\"We began with {seed} and\"\n",
    "    f\" have repeated ourselves after {len(rns)} steps\"\n",
    "    f\" with {rn}.\"\n",
    ")"
   ]
  },
  {
   "cell_type": "code",
   "metadata": {
    "id": "FKSfBAMhbJxE"
   },
   "source": [
    "# Now, we try out all the seeds for n = 2.\n",
    "# Create a dictionary of periods.\n",
    "periods = {}\n",
    "\n",
    "# For all seeds we iterate between 1 and 99.\n",
    "# We don't use 0, since this has a period of 0.\n",
    "for seed in range(1, 100):\n",
    "    # Create the RNG.\n",
    "    rng = RNGMiddleSquare(seed, 2)\n",
    "\n",
    "    # Determine the period.\n",
    "    rns = rng_sequence(rng)\n",
    "\n",
    "    # Include the period and sequence in the dictionary.\n",
    "    period = len(rns)\n",
    "    if not period in periods:\n",
    "        periods[period] = [[seed, rns]]\n",
    "    else:\n",
    "        periods[period] += [[seed, rns]]\n",
    "\n",
    "# Print out a sorted list of the periods.\n",
    "for period, seeds in sorted([(key, val) for key, val in periods.items()]):\n",
    "    print(\"-\" * 10)\n",
    "    print(f\"period = {period}\")\n",
    "    print(\"-\" * 10)\n",
    "    for seed, rns in seeds:\n",
    "        print(f\"seed = {seed}\")\n",
    "        if len(rns) > 0:\n",
    "            print(\"  mean = \", mean(rns))\n",
    "            print(\"  variance = \", variance(rns))\n",
    "###STOP_SOLUTION"
   ]
  },
  {
   "cell_type": "markdown",
   "metadata": {
    "id": "RNGs_based_on_modular_arithmetic"
   },
   "source": [
    "## RNGs based on modular arithmetic"
   ]
  },
  {
   "cell_type": "markdown",
   "metadata": {},
   "source": [
    "The middle square can have short periods (bad) and are not even very random (really bad).\n",
    "\n",
    "These types of RNGs were quickly overshadowed by those based on modular arithmetic. Two numbers are of the same modular class if they differ by only multiples of an integer $m$. Thus,\n",
    "\n",
    "$$1 \\equiv 4\\pmod{3} \\equiv 7\\pmod{3} \\equiv 82\\pmod{3}.$$\n",
    "\n",
    "In Python, the mod operator is given by the `%` symbol. Modular arithmetic has some nice properties that allow us to calculate or estimate periods, and it can be done quickly on a computer (a feature that could be relevant when sampling millions of RNs). However, the equivalences can also lead to some unexpected consequences.\n",
    "\n",
    "First, we will explore multiplicative congruential generators.\n",
    "These have the form,\n",
    "\n",
    "$$x_i = a x_{i-1} \\mod m, 0 < x_i < m \\in \\mathbb{Z}.$$\n",
    "\n",
    "As with all such algorithms, you can convert this into a float between $0$ and $1$ by dividing by the largest element $m$. $a$ and $m$ are integers, with $a$ relatively prime to $m$."
   ]
  },
  {
   "cell_type": "code",
   "metadata": {
    "id": "41160_vNPa3V"
   },
   "source": [
    "# We can now define a multiplicative congruential generator.\n",
    "class RNGMultCon(RNG):\n",
    "    # For our state, we only need the previously generated integer.\n",
    "    def __init__(self, seed, a, m):\n",
    "        super().__init__(seed)\n",
    "        self.state = seed\n",
    "        self.a = a\n",
    "        self.m = m\n",
    "\n",
    "    # Here, we define the actual RNG.\n",
    "    def __call__(self):\n",
    "        self.state = (self.a * self.state) % self.m\n",
    "        return self.state / float(self.m - 1)"
   ]
  },
  {
   "cell_type": "markdown",
   "metadata": {},
   "source": [
    "Now, let us test this RNG by first checking its period, mean, and variance."
   ]
  },
  {
   "cell_type": "code",
   "metadata": {
    "id": "37fPxA-GPa3V"
   },
   "source": [
    "# Create the RNG.\n",
    "rng = RNGMultCon(9, 3, 31)\n",
    "\n",
    "# Find the period.\n",
    "rns = rng_sequence(rng)\n",
    "\n",
    "# Print the period, mean, and variance.\n",
    "print(f\"period = {len(rns)}\")\n",
    "print(f\"mean = {mean(rns)}\")\n",
    "print(f\"variance = {variance(rns)}\")"
   ]
  },
  {
   "cell_type": "markdown",
   "metadata": {
    "id": "Exercise:_patterns_in_multiplicative_congruential_generator"
   },
   "source": [
    "### Exercise: patterns in multiplicative congruential generator"
   ]
  },
  {
   "cell_type": "markdown",
   "metadata": {},
   "source": [
    "Lets investigate some other properties of this RNG.\n",
    "The pairs $(x_i,x_{i-1})$ lie on a plane. Plot their pattern."
   ]
  },
  {
   "cell_type": "code",
   "metadata": {
    "id": "TFPig8AEM-pQ"
   },
   "source": [
    "###START_EXERCISE\n",
    "# We can use `matplotlib` to create a figure and axis.\n",
    "fig, ax = plt.subplots()\n",
    "\n",
    "# Use the `scatter` method of `ax` to plot the RNs.\n",
    "xs = [0]\n",
    "ys = [0]\n",
    "ax.scatter(xs, ys)\n",
    "###STOP_EXERCISE"
   ]
  },
  {
   "cell_type": "code",
   "metadata": {
    "id": "WG0R5afsPa3V"
   },
   "source": [
    "###START_SOLUTION\n",
    "# Our x values are just the random numbers.\n",
    "xs = rns\n",
    "\n",
    "# Our y values are shifted to the left by one.\n",
    "ys = rns[-1:] + rns[:-1]\n",
    "# This can also be accopmlished with `numpy.roll`.\n",
    "# ys = numpy.roll(rns, 1)\n",
    "\n",
    "# Create the plot.\n",
    "fig, ax = plt.subplots()\n",
    "ax.scatter(xs, ys)\n",
    "\n",
    "# Label each RN by its number in the sequence.\n",
    "for i, rn in enumerate(rns):\n",
    "    ax.annotate(str(i), (xs[i], ys[i]))\n",
    "###STOP_SOLUTION"
   ]
  },
  {
   "cell_type": "markdown",
   "metadata": {
    "id": "Exercise:_choosing_better_parameters"
   },
   "source": [
    "### Exercise: choosing better parameters"
   ]
  },
  {
   "cell_type": "markdown",
   "metadata": {},
   "source": [
    "A better choice of $a$ and $m$ can give our RNG better properties.\n",
    "Create a new RNG with $a = 65539$ and $m = 2^{31}$. Generate a sequence of 1000 RNs using seed = $2^8 - 1$. Make a sequence of points $(x_i, x_{i-1})$ and plot them. Do any patterns emerge?"
   ]
  },
  {
   "cell_type": "code",
   "metadata": {
    "id": "TRFRkjZ_RfJ8"
   },
   "source": [
    "###START_EXERCISE\n",
    "# You already have the RNGMultCon class, so use this, and then plot.\n",
    "###STOP_EXERCISE"
   ]
  },
  {
   "cell_type": "code",
   "metadata": {
    "id": "bgU88vBrW2zn"
   },
   "source": [
    "###START_SOLUTION\n",
    "# Create the random number generator.\n",
    "rng = RNGMultCon(2**8 - 1, 65539, 2**31)\n",
    "\n",
    "# Generate the sequence.\n",
    "rns = rng_sequence(rng, 1000)"
   ]
  },
  {
   "cell_type": "code",
   "metadata": {
    "id": "Fo-E6kyPPa3V"
   },
   "source": [
    "# Create the pairs.\n",
    "xs = rns\n",
    "ys = rns[-1:] + rns[:-1]\n",
    "\n",
    "# Create the plot.\n",
    "fig, ax = plt.subplots()\n",
    "ax.scatter(xs, ys)\n",
    "###STOP_SOLUTION"
   ]
  },
  {
   "cell_type": "markdown",
   "metadata": {},
   "source": [
    "Now, given a little more advanced knowledge, let us see if we can find a pattern. Using the same RNG and seed, generate 20002 RNs and make a sequence of points $(x_{i-1}, x_i, x_{i+1})$. Filter these points for $0.50 < x_i < 0.51$. Make a 2-D scatter plot of $(x_{i-1},x_{i+1})$ for these filtered points. Do any patterns emerge?"
   ]
  },
  {
   "cell_type": "code",
   "metadata": {
    "id": "En4wAmURjMav"
   },
   "source": [
    "###START_SOLUTION\n",
    "# Create the random number generator.\n",
    "rng = RNGMultCon(2**8 - 1, 65539, 2**31)\n",
    "\n",
    "# Generate the sequence.\n",
    "rns = rng_sequence(rng, 20002)"
   ]
  },
  {
   "cell_type": "code",
   "metadata": {
    "id": "FFbem0Tgj__2"
   },
   "source": [
    "# Create the pairs.\n",
    "xs = rns[-1:] + rns[:-1]\n",
    "ys = rns[1:] + rns[:1]\n",
    "\n",
    "# Filter the pairs.\n",
    "xs = [x for x, rn in zip(xs, rns) if 0.50 < rn < 0.51]\n",
    "ys = [y for y, rn in zip(ys, rns) if 0.50 < rn < 0.51]\n",
    "\n",
    "# Create the plot.\n",
    "fig, ax = plt.subplots()\n",
    "ax.scatter(xs, ys)\n",
    "\n",
    "# Indeed, we do see a pattern here!\n",
    "###STOP_SOLUTION"
   ]
  },
  {
   "cell_type": "markdown",
   "metadata": {},
   "source": [
    "So far, we have only been looking in two dimensions, what about in three? Generate 1000 RNs using the same RNG and seed. Then make a 3-D scatter plot with the points $(x_{i-1},x_i,x_{i+1})$."
   ]
  },
  {
   "cell_type": "code",
   "metadata": {
    "id": "kIG6ln5toLCj"
   },
   "source": [
    "###START_EXERCISE\n",
    "# The following will create a 3-D scatter plot.\n",
    "\n",
    "# Set your points.\n",
    "xs = [0]\n",
    "ys = [0]\n",
    "zs = [0]\n",
    "\n",
    "# Create the figure and allow to be 3-D.\n",
    "fig = plt.figure()\n",
    "ax = fig.add_subplot(projection=\"3d\")\n",
    "\n",
    "# Create the scatter plot.\n",
    "ax.scatter3D(xs, ys, zs)\n",
    "###STOP_EXERCISE"
   ]
  },
  {
   "cell_type": "code",
   "metadata": {
    "id": "D5--5xGnjrpO"
   },
   "source": [
    "###START_SOLUTION\n",
    "# Create the random number generator.\n",
    "rng = RNGMultCon(2**8 - 1, 65539, 2**31)\n",
    "\n",
    "# Generate the sequence.\n",
    "rns = rng_sequence(rng, 1000)"
   ]
  },
  {
   "cell_type": "code",
   "metadata": {
    "id": "RmMtmStyPa3V"
   },
   "source": [
    "# Create the triplets.\n",
    "xs = rns[-1:] + rns[:-1]\n",
    "ys = rns\n",
    "zs = rns[1:] + rns[:1]\n",
    "\n",
    "# Create the figure.\n",
    "fig = plt.figure()\n",
    "ax = fig.add_subplot(projection=\"3d\")\n",
    "ax.scatter3D(xs, ys, zs)\n",
    "\n",
    "# Rotate the view so we can see the pattern.\n",
    "ax.view_init(elev=7, azim=-124)\n",
    "###STOP_SOLUTION"
   ]
  },
  {
   "cell_type": "markdown",
   "metadata": {},
   "source": [
    "This example is not just pedagogical. In fact, this RNG is called `RANDU`. The authors of Numerical Recipes (3rd ed), share this anecdote:\n",
    "\n",
    "> Even worse, many early generators happened to make particularly bad choices for m and a. One infamous such routine, `RANDU`, with a = 65539 and m = $2^{31}$, was widespread on IBM mainframe computers for many years, and widely copied onto other systems. One of us recalls as a graduate student producing a \"random\" plot with only 11 planes and being told by his computer center's programming consultant that he had misused the random number generator: \"We guarantee that each number is random individually, but we don't guarantee that more than one of them is random.\" That set back our graduate education by at least a year!"
   ]
  },
  {
   "cell_type": "markdown",
   "metadata": {
    "id": "Combined_Generators"
   },
   "source": [
    "## Combined Generators"
   ]
  },
  {
   "cell_type": "markdown",
   "metadata": {},
   "source": [
    "`Individual` RNGs can have correlations.\n",
    "A solution to this is to scramble the results again with a second RNG.\n",
    "In fact, you could make the algorithm very complicated by using multiplication or some other math functions. The cost is the ease of programming the algorithm AND, more importantly,\n",
    "the execution time. In many applications, the RNG is the bottleneck.\n",
    "\n",
    "... More details here about `Fibonacci` RNGs\n",
    "\n",
    "Also, some recommendations on how to combine."
   ]
  },
  {
   "cell_type": "markdown",
   "metadata": {
    "id": "XORshift_RNGs"
   },
   "source": [
    "## XORshift RNGs"
   ]
  },
  {
   "cell_type": "markdown",
   "metadata": {},
   "source": [
    "Modern RNGs still combine two algorithms to remove undesired correlations.\n",
    "However, they use an independent algorithm for the first sequence, so as not to unwittingly combine two correlations that arise from the same `type` of algorithm.\n",
    "\n",
    "One such popular algorithm is called `XORshift`. Its properties are understood by studying the multiplication of 3 special kinds of 32- or 64-dimensional binary matrices, but it can be programmed easily using bit shift and XOR operations. The resulting algorithm does not look anything like matrix multiplication, but it really is. This is because a bit shift can be represented on an n-bit vector by a matrix with only ones on a sub-diagonal. Thus, to right-shift a bit sequence $\\beta = (b_1,b_2,\\cdots,b_n) \\to \\beta^{'} = (0,b_1,b_2,\\cdots,b_{n-1})$, you would right multiply by an $n\\times n$ matrix with only $1$s above the diagonal:\n",
    "$$\n",
    "\\begin{pmatrix}\n",
    "0 & 1 & 0 & \\cdots &  0 \\\\\n",
    "0 & 0 & 1 & \\cdots &  0 \\\\\n",
    "0 & 0 & 0 & 1      &  0 \\\\\n",
    "\\vdots & \\vdots & \\vdots & \\ddots &  1 \\\\\n",
    "0 & 0 & 0 & 0      &                 0  \\\\\n",
    "\\end{pmatrix}\n",
    "$$\n",
    "\n",
    "Similarly, a left-shift matrix has only $1$s on a subdiagonal `below` the diagonal.\n",
    "Finally, since these are binary matrices, all operations use  integer arithmetic modulo 2.\n",
    "\n",
    "The claim is that the series of operations $\\beta T, \\beta T^2 , \\cdots \\beta T^{2^n-1}$, every possible $\\beta$ is produced.\n",
    "This means that the cycle has length $2^n-1$.\n",
    "\n",
    "For the current implementations, $T = (1_n+L^a)(1_n+R^b)(1_n+L^c)$, an $n\\times n$ binary matrix with $(a,b,c)$ bit-shifts left-right-left.\n",
    "Only certain triplets $(a,b,c)$ have the desired property.\n",
    "\n",
    "A minimal test that $T$ has the desired properties is to square $T$ $n$ times and check if it is equal to $T$.\n",
    "\n",
    "Perform this test for the tuples $(1,3,10)$, $(5,17,13)$, and $(2,5,14)$ using 32-bit precision.\n",
    "Which of these are suitable triplets?"
   ]
  },
  {
   "cell_type": "code",
   "metadata": {
    "id": "Gef5NIngPa3l"
   },
   "source": [
    "import numpy as np\n",
    "import scipy as sp"
   ]
  },
  {
   "cell_type": "code",
   "metadata": {
    "id": "goOcUytvPa3l"
   },
   "source": [
    "def make_matrix(a, b, c):\n",
    "    from scipy.sparse import diags\n",
    "\n",
    "    E = sp.sparse.eye(32, dtype=np.int32)\n",
    "    T1 = diags([1], [a], shape=(32, 32), dtype=np.int32) + E\n",
    "    T2 = diags([1], [-b], shape=(32, 32), dtype=np.int32) + E\n",
    "    T3 = diags([1], [c], shape=(32, 32), dtype=np.int32) + E\n",
    "    #\n",
    "    return T1 @ T2 @ T3"
   ]
  },
  {
   "cell_type": "code",
   "metadata": {
    "id": "Di2ARvdEPa3l"
   },
   "source": [
    "T = make_matrix(5, 17, 13)\n",
    "U = T.todense()\n",
    "for i in range(0, 32):\n",
    "    U = U @ U % 2\n",
    "print((T - U).nonzero())"
   ]
  },
  {
   "cell_type": "markdown",
   "metadata": {},
   "source": [
    "Use (a,b,c) = (5,17,13)\n",
    "\n",
    "Choose a number < 10**32-1 and represent it as an `np.array` of length 32, i.e. `3 = [0,0,....0,1,1]`.\n",
    "\n",
    "Right multiply (mod 2) by T and convert the result back to an integer.\n",
    "\n",
    "Now, starting with the integer i, perform the operations:\n",
    "i = i ^ i>>a i = i ^ i<<b i = i ^ i<<c\n",
    "\n",
    "Show the results are equivalent.\n",
    "Hint: make sure your integer doesn't become int64!"
   ]
  },
  {
   "cell_type": "code",
   "metadata": {
    "id": "QMwPVEW8Pa3l"
   },
   "source": [
    "def func(x, bits):\n",
    "    return np.array([int(i) for i in bin(x)[2:].zfill(bits)])"
   ]
  },
  {
   "cell_type": "code",
   "metadata": {
    "id": "IvtulzY0Pa3l"
   },
   "source": [
    "numb = np.array(2**30 - 3, dtype=np.int32)"
   ]
  },
  {
   "cell_type": "code",
   "metadata": {
    "id": "SiPY6cYqPa3l"
   },
   "source": [
    "print(func(numb, 32))"
   ]
  },
  {
   "cell_type": "code",
   "metadata": {
    "id": "_Duhca0bPa3l"
   },
   "source": [
    "print(c), bin(c)\n",
    "print(func(c, 32))"
   ]
  },
  {
   "cell_type": "code",
   "metadata": {
    "id": "YDSSRJ5OPa3l"
   },
   "source": [
    "c = numb ^ numb >> 5\n",
    "c = c.astype(np.int32)\n",
    "c = c ^ (c << 17 & 0xFFFFFFFF)\n",
    "c = c.astype(np.int32)\n",
    "c = c ^ c >> 13\n",
    "c = c.astype(np.int32)"
   ]
  },
  {
   "cell_type": "code",
   "metadata": {
    "id": "U7q8lFXHPa3l"
   },
   "source": [
    "b = func(numb, 32)"
   ]
  },
  {
   "cell_type": "code",
   "metadata": {
    "id": "KqEoqF01Pa3l"
   },
   "source": [
    "f = (b @ T) % 2"
   ]
  },
  {
   "cell_type": "code",
   "metadata": {
    "id": "cpn4ZOZVPa3l"
   },
   "source": [
    "print(f)"
   ]
  },
  {
   "cell_type": "markdown",
   "metadata": {},
   "source": [
    "Implement your own high quality RNG using the triplet (17,31,8).\n",
    "Combine it with another RNG to make it safer."
   ]
  },
  {
   "cell_type": "code",
   "metadata": {
    "id": "zy55CKr-Pa3l"
   },
   "source": [
    "# Need help or must use c-functions\n",
    "Ran:\n",
    "    def __init__(self, seed):\n",
    "        self.v = np.array(4101842887655102017, dtype=np.ulonglong)\n",
    "        self.u = np.array(np.ulonglong(seed) ^ self.v, dtype=np.ulonglong)\n",
    "        self.w = np.array(1, dtype=np.ulonglong)\n",
    "        self.int64()\n",
    "        self.v = self.u\n",
    "        self.int64()\n",
    "        self.w = self.v\n",
    "        self.int64()\n",
    "\n",
    "    def int64(self):\n",
    "        self.u = self.u * 2862933555777941757 + np.ulonglong(7046029254386353087)\n",
    "        self.v ^= self.v >> 17\n",
    "        self.v ^= self.v << np.uint64(31)\n",
    "        self.v ^= self.v >> np.uint64(8)\n",
    "        self.w = np.uint32(4294957665) * (np.uint32(self.w) & 0xFFFFFFFF) + (\n",
    "            np.uint32(self.w) >> 32\n",
    "        )\n",
    "        x = np.uint64(self.u) ^ np.uint64(np.uint64(self.u) << np.uint64(21))\n",
    "        x ^= x >> np.uint64(35)\n",
    "        x ^= x << np.uint64(4)\n",
    "        state = np.uint64(x + self.v) ^ np.uint64(self.w)\n",
    "        return state\n",
    "\n",
    "    def doub(self):\n",
    "        return 5.42101086242752217e-20 * self.int64()\n",
    "\n",
    "    def int32(self):\n",
    "        return np.uint32(self.int64())"
   ]
  },
  {
   "cell_type": "code",
   "metadata": {
    "id": "ei8nPeLRPa3l"
   },
   "source": [
    "myran = Ran(17)"
   ]
  },
  {
   "cell_type": "markdown",
   "metadata": {
    "id": "Tests_of_Random_Number_Generators"
   },
   "source": [
    "## Tests of Random Number Generators"
   ]
  },
  {
   "cell_type": "markdown",
   "metadata": {},
   "source": [
    "Diehard, NIST references.\n",
    "Craps test?"
   ]
  }
 ],
 "metadata": {
  "colab": {
   "collapsed_sections": [
    "Introduction",
    "Middle_square_method",
    "Exercise:_implement_the_middle_square_method",
    "RNGs_based_on_modular_arithmetic",
    "Exercise:_patterns_in_multiplicative_congruential_generator",
    "Exercise:_choosing_better_parameters",
    "Combined_Generators",
    "XORshift_RNGs",
    "Tests_of_Random_Number_Generators"
   ],
   "provenance": []
  },
  "kernelspec": {
   "display_name": "Python 3 (ipykernel)",
   "language": "python",
   "name": "python3"
  },
  "language_info": {
   "codemirror_mode": {
    "name": "ipython",
    "version": 3
   },
   "file_extension": ".py",
   "mimetype": "text/x-python",
   "name": "python",
   "nbconvert_exporter": "python",
   "pygments_lexer": "ipython3",
   "version": "3.10.17"
  }
 },
 "nbformat": 4,
 "nbformat_minor": 5
}