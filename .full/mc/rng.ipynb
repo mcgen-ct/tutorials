{
 "cells": [
  {
   "cell_type": "markdown",
   "id": "Random_Number_Generators",
   "metadata": {
    "id": "Random_Number_Generators"
   },
   "source": [
    "# Random Number Generators"
   ]
  },
  {
   "cell_type": "markdown",
   "id": "qd-By19EJjgE",
   "metadata": {},
   "source": [
    "For any Monte Carlo (MC) computational technique, random numbers (or pseudo-random numbers) are critical, not only in the sampling characterstics of the generator but also the speed of the sampling. For example, simulating a Large Hadron Collider (LHC) collission can require upwards of $2.5 \\times 10^6$ random number calls.\n",
    "\n",
    "This worksheet is largely based on chapter 7 of [Numerical Recipes](https://numerical.recipes/book.html), and associated primary papers. The following is a list of references for further reading.\n",
    "\n",
    "*  Hammersley, J.M. and Handscomb, D.C. 1964, Monte Carlo Methods (London: Methuen)\n",
    "* Kalos, M.H. and Whitlock, P.A. 1986, Monte Carlo Methods (New York: Wiley)\n",
    "* Bratley, P., Fox, B.L., and Schrage, E.L. 1983, A Guide to Simulation, 2nd ed. (New York: Springer)\n",
    "* Lepage, G.P. 1978, A New Algorithm for Adaptive Multidimensional Integration, Journal of Computational Physics, vol. 27, pp. 192-203\n",
    "* Lepage, G.P. 1980, VEGAS: An Adaptive Multidimensional Integration Program, Publication CLNS-80/447, Cornell University\n",
    "* Numerical Recipes Software 2007, [Complete VEGAS Code Listing](http://numerical.recipes/webnotes?9), Numerical Recipes Webnote No. 9\n",
    "* Press, W.H., and Farrar, G.R. 1990, Recursive Stratified Sampling for Multidimensional Monte Carlo Integration, Computers in Physics, vol. 4, pp. 190-195\n",
    "* Numerical Recipes Software 2007, [Complete Miser Code Listing](http://numerical.recipes/webnotes?10), Numerical Recipes Webnote No. 10"
   ]
  },
  {
   "cell_type": "markdown",
   "id": "R2eorN_RO4Iw",
   "metadata": {
    "id": "Requirements"
   },
   "source": [
    "## Requirements"
   ]
  },
  {
   "cell_type": "markdown",
   "id": "6wOVEnrsO8MJ",
   "metadata": {},
   "source": [
    "This notebook requires a few external dependencies which are imported here. First, it is useful to have interactive plotting via `matplotlib`. To enable this, we need to install the `ipympl` module and restart the kernel."
   ]
  },
  {
   "cell_type": "code",
   "id": "FnCAfZTIO6pL",
   "metadata": {},
   "source": [
    "# Install `ipympl`.\n",
    "!pip install -q ipympl\n",
    "get_ipython().kernel.do_shutdown(restart=True)"
   ]
  },
  {
   "cell_type": "markdown",
   "id": "VXI7OZ02Pw3k",
   "metadata": {},
   "source": [
    "Next, we configure `matplotlib` and allow widgets in Colab."
   ]
  },
  {
   "cell_type": "code",
   "id": "oTNyEjEpPzcJ",
   "metadata": {},
   "source": [
    "# Allow for interactive plots.\n",
    "%matplotlib widget\n",
    "from matplotlib import pyplot as plt\n",
    "\n",
    "# Allow for widgets in Colab.\n",
    "try:\n",
    "    from google.colab import output\n",
    "\n",
    "    output.enable_custom_widget_manager()\n",
    "except:\n",
    "    pass"
   ]
  },
  {
   "cell_type": "markdown",
   "id": "Ib7sGa5eQCZd",
   "metadata": {},
   "source": [
    "Finally, we import both `numpy` and `scipy` for matrix operations which are used in the [XORshift RNGs](#scrollTo=XORshift_RNGs) section."
   ]
  },
  {
   "cell_type": "code",
   "id": "w05VD3YaQPum",
   "metadata": {},
   "source": [
    "import numpy as np\n",
    "import scipy as sp"
   ]
  },
  {
   "cell_type": "markdown",
   "id": "Introduction",
   "metadata": {
    "id": "Introduction"
   },
   "source": [
    "## Introduction"
   ]
  },
  {
   "cell_type": "markdown",
   "id": "DReEcjhrJjgV",
   "metadata": {},
   "source": [
    "This tutorial will give an introduction to Random Number Generators (or RNGs, for short). RNG algorithms are really pseudo-random (pRNG). This means they are deterministic. Randomness (Jaynes, [Probability Theory: The Logic of Science](http://www.med.mcgill.ca/epidemiology/hanley/bios601/GaussianModel/JaynesProbabilityTheory.pdf)) is a statement about knowledge, not about causes. pRNGs have causes, but you might not know them, or you might use them in a way so that they appear to be random, or random \"enough\".\n",
    "\n",
    "What are the basic properties of RNs? On any interval, there is an equal probability to obtain any value. For convenience, we will take this interval to be $(0,1)$. Note, we will generally exclude $0$ from the interval when considering RNs on a computer, since many algorithms will fail if $0$ is ever encountered.\n",
    "\n",
    "At the very least, we expect our computer RNs to have the properties of abstract ones.\n",
    "\n",
    "Mean:\n",
    "\n",
    "$$\\langle x \\rangle = \\int_0^1 \\text{d}x\\, x = \\frac{1}{2}$$\n",
    "\n",
    "Variance:\n",
    "\n",
    "$$\\langle x^2 \\rangle - \\langle x \\rangle^2 = \\frac{1}{3}-\\frac{1}{4} = \\frac{1}{12}$$\n",
    "\n",
    "Since it is useful to check the mean and variance, let us write simple functions which calculate these values given an iterable object like a list or array."
   ]
  },
  {
   "cell_type": "code",
   "id": "h_yjs9eBJjgV",
   "metadata": {},
   "source": [
    "# Note, these functions are available in `numpy` as `numpy.mean` and\n",
    "# `numpy.var`.\n",
    "def mean(vals):\n",
    "    \"\"\"\n",
    "    Return the mean for a list of numbers given by `vals`.\n",
    "    \"\"\"\n",
    "    return sum(vals) / float(len(vals))\n",
    "\n",
    "\n",
    "def variance(vals):\n",
    "    \"\"\"\n",
    "    Return the variance for a list of numbers given by `vals`.\n",
    "    \"\"\"\n",
    "    return mean([val**2 for val in vals]) - mean(vals) ** 2"
   ]
  },
  {
   "cell_type": "markdown",
   "id": "obT96yzuJjgV",
   "metadata": {},
   "source": [
    "In practice, computers represent only a finite range of numbers.\n",
    "This has implications for RNGs. Any algorithm that is deterministic and shuffles through the numbers is bound to repeat itself. Further, if our algorithm uses one number as the seed for the next, this repetition will mean that the sequence of pRNs repeats itself. This hardly looks random. Much of the art in developing good RNGs is knowing how to characterize or calculate the length of these cycles. If the cycle is long enough, much longer than any sequence of RNs we ever use in practice, then there is hope that this sequence will have the desired properties of random numbers. Identifying an algorithm with a long cycle is a priority, and possibly led to the focus on modular arithmetic, to be discussed shortly.\n",
    "\n",
    "Before we get started, we need to make sure we have the `matplotlib` package configured as we need it. Since we will be looking at some 3D plots, we need to install the `ipympl` package and then set how `matplotlib` displays figures so that we can interact with them."
   ]
  },
  {
   "cell_type": "markdown",
   "id": "Middle_square_method",
   "metadata": {
    "id": "Middle_square_method"
   },
   "source": [
    "## Middle square method"
   ]
  },
  {
   "cell_type": "markdown",
   "id": "fH6AoM55JjgV",
   "metadata": {},
   "source": [
    "The need for such algorithms only came about with the development of practical computers and Monte Carlo (MC) techniques. Historically, we are placing ourselves in the 1940-1950s.\n",
    "Von Neumann (who else?) used a method called the [middle square](https://en.wikipedia.org/wiki/Middle-square_method). It can give us some insight to the problem we are facing.\n",
    "\n",
    "The middle square algorithm is short and strange:\n",
    "\n",
    "1. input a number of length $n$\n",
    "2. square the number and zero-pad if not of length $2n$\n",
    "3. output the \"middle\" number of length $n$\n",
    "4. use this number as the random variate and the input for step 1\n",
    "\n",
    "For example:\n",
    "\n",
    "$$14^2 = 196 \\to 0196 \\to 19; 19^2 = 0361 \\to 36; 36^2 = 1296 \\to 29; 29^2 = 0841 \\to 84, \\text{ etc.}$$\n",
    "\n",
    "Von Neumann used larger $n$ than this, but you get the point."
   ]
  },
  {
   "cell_type": "markdown",
   "id": "yy-7kBAZJjgV",
   "metadata": {},
   "source": [
    "Before we practically explore the middle square method, let us first consider some technical realities behind RNGs. Perhaps the most critical aspect is that all RNGs require state; for the next RN to be generated, the RNG must have saved information stored on how the previous RN was generated. In the context of Python, this means that we need to use a class to define an RNG."
   ]
  },
  {
   "cell_type": "code",
   "id": "I3788t_RJjgV",
   "metadata": {},
   "source": [
    "# Here, we define a simple base class which can hold the state for an RNG.\n",
    "class RNG:\n",
    "    \"\"\"\n",
    "    This is a simple base class for random number generation.\n",
    "    \"\"\"\n",
    "\n",
    "    def __init__(self, seed):\n",
    "        \"\"\"\n",
    "        Constructor for this class, e.g. `RNG(seed)`.\n",
    "        \"\"\"\n",
    "        self.seed = seed\n",
    "        # In derived classes, further state can be initialized here.\n",
    "\n",
    "    def __call__(self):\n",
    "        \"\"\"\n",
    "        This defines the `()` for this class and should return an RN between 0\n",
    "        and 1 for this generator. For example:\n",
    "        ```\n",
    "        rng = RNG(seed)\n",
    "        rng()\n",
    "        ```\n",
    "        \"\"\"\n",
    "        return 0.0\n",
    "        # In derived classes, the actual algorithm should be implemented here."
   ]
  },
  {
   "cell_type": "markdown",
   "id": "fp2-RYbVJjgV",
   "metadata": {},
   "source": [
    "We are also interested in the periodicity for the RNG, so we can define a function, which given an RNG, generates RNs until the sequence repeats."
   ]
  },
  {
   "cell_type": "code",
   "id": "-jBmSUTwJjgV",
   "metadata": {},
   "source": [
    "# Since it is useful to determine the period of an RNG, let us define a method\n",
    "# that does just this. Since we are storing the RNs we need to be careful not\n",
    "# to store a very long list.\n",
    "def rng_sequence(rng, n=int(1e6)):\n",
    "    \"\"\"\n",
    "    Given an RNG, return its sequence after its first repition or until\n",
    "    `n` RNs have been generated.\n",
    "    \"\"\"\n",
    "    # Start with no RN and create the RN sequence.\n",
    "    rn, rns = None, []\n",
    "\n",
    "    # Loop while the next RN is not in the sequence.\n",
    "    while rn not in rns:\n",
    "        # Append the RN to the sequence.\n",
    "        if rn != None:\n",
    "            rns.append(rn)\n",
    "        # Generate the next RN.\n",
    "        rn = rng()\n",
    "        # Return if `n` is reached.\n",
    "        if len(rns) >= n:\n",
    "            return rns\n",
    "\n",
    "    # Return the sequence.\n",
    "    return rns"
   ]
  },
  {
   "cell_type": "markdown",
   "id": "Exercise:_implement_the_middle_square_method",
   "metadata": {
    "id": "Exercise:_implement_the_middle_square_method"
   },
   "source": [
    "### Exercise: implement the middle square method"
   ]
  },
  {
   "cell_type": "markdown",
   "id": "_XBX2VIwJjgV",
   "metadata": {},
   "source": [
    "For $n$=2, try all seeds (inputs) and identify the longest sequence (before a repeat). For this longest sequence, calculate the mean and variance. Then, identify the worst seeds (0 period)."
   ]
  },
  {
   "cell_type": "code",
   "id": "eW3EZcGFJjgV",
   "metadata": {},
   "source": [
    "###START_EXERCISE\n",
    "# All RNGs require state of some sort, i.e. they need to save information about\n",
    "# the previous random number call. This means that in Python, we should write\n",
    "# our RNGs as classes.\n",
    "\n",
    "\n",
    "# Here, we define the middle square generator as a derived class of `RNG`.\n",
    "class RNGMiddleSquare(RNG):\n",
    "    # For this example `n` would be 2.\n",
    "    def __init__(self, seed, n):\n",
    "        # This initializes the base class.\n",
    "        super().__init__(seed)\n",
    "        # Additional state initialized here.\n",
    "        self.n = n\n",
    "\n",
    "    def __call__(self):\n",
    "        # Return the actual number.\n",
    "        return 0\n",
    "\n",
    "\n",
    "# Get the seed and create the RNG.\n",
    "seed = int(input(\"Please enter a two-digit number:\\n[##] \"))\n",
    "rng = RNGMiddleSquare(seed, 2)\n",
    "\n",
    "# Determine the period.\n",
    "###STOP_EXERCISE"
   ]
  },
  {
   "cell_type": "code",
   "id": "JJ3XddLKJjgV",
   "metadata": {},
   "source": [
    "###START_SOLUTION\n",
    "# First we define the middle square class.\n",
    "class RNGMiddleSquare(RNG):\n",
    "    # For our state, we need the previously generated integer and what\n",
    "    # `n` we are using.\n",
    "    def __init__(self, seed, n):\n",
    "        super().__init__(seed)\n",
    "        self.state = seed\n",
    "        self.n = n\n",
    "\n",
    "    # Here, we define the actual RNG.\n",
    "    def __call__(self):\n",
    "        # The `zfill` method pads the string with 0s, this gives us a string.\n",
    "        self.state = str(self.state**2).zfill(2 * self.n)\n",
    "        # Next, we extract the middle of the string as an integer.\n",
    "        i = int(self.n / 2)\n",
    "        self.state = int(self.state[i:-i])\n",
    "        # We divide by 10^n - 1 so our RN is between 0 and 1.\n",
    "        return self.state / float(10**self.n - 1)"
   ]
  },
  {
   "cell_type": "code",
   "id": "Vcj12ZVPJjgV",
   "metadata": {},
   "source": [
    "# Now we can try it out for n = 2.\n",
    "# Input the random number seed and define the sequence.\n",
    "seed = int(input(\"Please enter a two-digit number:\\n[##] \"))\n",
    "\n",
    "# Create the RNG.\n",
    "rng = RNGMiddleSquare(seed, 2)\n",
    "\n",
    "# We store the current RN in `rn` and the sequence of RNs in `rns`.\n",
    "rn, rns = None, []\n",
    "\n",
    "# Start throwing random numbers.\n",
    "while rn not in rns:\n",
    "    # Append RN to the sequence.\n",
    "    if rn != None:\n",
    "        rns.append(rn)\n",
    "    # Generate the new random number using the middle square method.\n",
    "    rn = rng()\n",
    "    # Print the result.\n",
    "    print(f\"#{len(rns)}: {rn}\")\n",
    "\n",
    "# Print the result.\n",
    "print(\n",
    "    f\"We began with {seed} and\"\n",
    "    f\" have repeated ourselves after {len(rns)} steps\"\n",
    "    f\" with {rn}.\"\n",
    ")\n",
    "\n",
    "# We can now calculate the mean and the variance of the sequence.\n",
    "# Numpy allows us to easily calculate the mean and variance.\n",
    "print(\"mean = \", mean(rns))\n",
    "print(\"variance = \", variance(rns))"
   ]
  },
  {
   "cell_type": "code",
   "id": "aEwA9-iOJjgV",
   "metadata": {},
   "source": [
    "# We can also try it for n = 4.\n",
    "# Input the random number seed and define the sequence.\n",
    "seed = int(input(\"Please enter a four-digit number:\\n[####] \"))\n",
    "\n",
    "# Create the RNG.\n",
    "rng = RNGMiddleSquare(seed, 4)\n",
    "\n",
    "# We store the current RN in `rn` and the sequence of RNs in `rns`.\n",
    "rn, rns = None, []\n",
    "\n",
    "# Start throwing random numbers.\n",
    "while rn not in rns:\n",
    "    # Append RN to the sequence.\n",
    "    if rn != None:\n",
    "        rns.append(rn)\n",
    "    # Generate the new random number using the middle square method.\n",
    "    rn = rng()\n",
    "    # Print the result.\n",
    "    print(f\"#{len(rns)}: {rn}\")\n",
    "\n",
    "# Print the result.\n",
    "print(\n",
    "    f\"We began with {seed} and\"\n",
    "    f\" have repeated ourselves after {len(rns)} steps\"\n",
    "    f\" with {rn}.\"\n",
    ")"
   ]
  },
  {
   "cell_type": "code",
   "id": "x-VGLb46JjgV",
   "metadata": {},
   "source": [
    "# Now, we try out all the seeds for n = 2.\n",
    "# Create a dictionary of periods.\n",
    "periods = {}\n",
    "\n",
    "# For all seeds we iterate between 1 and 99.\n",
    "# We don't use 0, since this has a period of 0.\n",
    "for seed in range(1, 100):\n",
    "    # Create the RNG.\n",
    "    rng = RNGMiddleSquare(seed, 2)\n",
    "\n",
    "    # Determine the period.\n",
    "    rns = rng_sequence(rng)\n",
    "\n",
    "    # Include the period and sequence in the dictionary.\n",
    "    period = len(rns)\n",
    "    if not period in periods:\n",
    "        periods[period] = [[seed, rns]]\n",
    "    else:\n",
    "        periods[period] += [[seed, rns]]\n",
    "\n",
    "# Print out a sorted list of the periods.\n",
    "for period, seeds in sorted([(key, val) for key, val in periods.items()]):\n",
    "    print(\"-\" * 10)\n",
    "    print(f\"period = {period}\")\n",
    "    print(\"-\" * 10)\n",
    "    for seed, rns in seeds:\n",
    "        print(f\"seed = {seed}\")\n",
    "        if len(rns) > 0:\n",
    "            print(\"  mean = \", mean(rns))\n",
    "            print(\"  variance = \", variance(rns))\n",
    "###STOP_SOLUTION"
   ]
  },
  {
   "cell_type": "markdown",
   "id": "RNGs_based_on_modular_arithmetic",
   "metadata": {
    "id": "RNGs_based_on_modular_arithmetic"
   },
   "source": [
    "## RNGs based on modular arithmetic"
   ]
  },
  {
   "cell_type": "markdown",
   "id": "uGXAmQN7JjgV",
   "metadata": {},
   "source": [
    "The middle square can have short periods (bad) and are not even very random (really bad).\n",
    "\n",
    "These types of RNGs were quickly overshadowed by those based on modular arithmetic. Two numbers are of the same modular class if they differ by only multiples of an integer $m$. Thus,\n",
    "\n",
    "$$1 \\equiv 4\\pmod{3} \\equiv 7\\pmod{3} \\equiv 82\\pmod{3}.$$\n",
    "\n",
    "In Python, the mod operator is given by the `%` symbol. Modular arithmetic has some nice properties that allow us to calculate or estimate periods, and it can be done quickly on a computer (a feature that could be relevant when sampling millions of RNs). However, the equivalences can also lead to some unexpected consequences.\n",
    "\n",
    "First, we will explore linear congruential generators. These have the form,\n",
    "\n",
    "$$x_i = a x_{i-1} + c \\mod m, 0 < x_i < m \\in \\mathbb{Z},$$\n",
    "\n",
    "where $a$ is the *multiplier*, a positive integer, $m$ is the *modulus*, also an integer, and $c$ is the *increment*, a non-negative integer. As with all such algorithms, you can convert this into a value between $0$ and $1$ by dividing by the largest element $m$. In general, $a$ should be relatively prime to $m$. When $c \\neq 0$ this type of RNG is called a linear congruential genenerator (LCG) and when $c = 0$ this RNG is called a multiplicative LCG (MLCG). In the examples below, we will focus on the special case of the MLCG."
   ]
  },
  {
   "cell_type": "code",
   "id": "5-AWKEzeJjgV",
   "metadata": {},
   "source": [
    "# We can now define a linear congruential generator.\n",
    "class RNGLCG(RNG):\n",
    "    # For our state, we only need the previously generated integer.\n",
    "    # We give a default value of `c` so this is an MLCG.\n",
    "    def __init__(self, seed, a, m, c=0):\n",
    "        super().__init__(seed)\n",
    "        self.state = seed\n",
    "        self.a = a\n",
    "        self.m = m\n",
    "        self.c = c\n",
    "\n",
    "    # Here, we define the actual RNG.\n",
    "    def __call__(self):\n",
    "        self.state = (self.a * self.state + self.c) % self.m\n",
    "        return self.state / float(self.m - 1)"
   ]
  },
  {
   "cell_type": "markdown",
   "id": "xg6OBEFDJjgV",
   "metadata": {},
   "source": [
    "Now, let us test this RNG by first checking its period, mean, and variance."
   ]
  },
  {
   "cell_type": "code",
   "id": "ol8fgxduJjgV",
   "metadata": {},
   "source": [
    "# Create the RNG.\n",
    "rng = RNGLCG(9, 3, 31)\n",
    "\n",
    "# Find the period.\n",
    "rns = rng_sequence(rng)\n",
    "\n",
    "# Print the period, mean, and variance.\n",
    "print(f\"period = {len(rns)}\")\n",
    "print(f\"mean = {mean(rns)}\")\n",
    "print(f\"variance = {variance(rns)}\")"
   ]
  },
  {
   "cell_type": "markdown",
   "id": "Exercise:_patterns_in_multiplicative_congruential_generator",
   "metadata": {
    "id": "Exercise:_patterns_in_multiplicative_congruential_generator"
   },
   "source": [
    "### Exercise: patterns in multiplicative congruential generator"
   ]
  },
  {
   "cell_type": "markdown",
   "id": "5eora3qrJjgV",
   "metadata": {},
   "source": [
    "Lets investigate some other properties of this RNG.\n",
    "The pairs $(x_i,x_{i-1})$ lie on a plane. Plot their pattern."
   ]
  },
  {
   "cell_type": "code",
   "id": "tJM6n3ZfJjgV",
   "metadata": {},
   "source": [
    "###START_EXERCISE\n",
    "# We can use `matplotlib` to create a figure and axis.\n",
    "fig, ax = plt.subplots()\n",
    "\n",
    "# Use the `scatter` method of `ax` to plot the RNs.\n",
    "xs = [0]\n",
    "ys = [0]\n",
    "ax.scatter(xs, ys)\n",
    "###STOP_EXERCISE"
   ]
  },
  {
   "cell_type": "code",
   "id": "LuzXMEOGJjgV",
   "metadata": {},
   "source": [
    "###START_SOLUTION\n",
    "# Our x values are just the random numbers.\n",
    "xs = rns\n",
    "\n",
    "# Our y values are shifted to the left by one.\n",
    "ys = rns[-1:] + rns[:-1]\n",
    "# This can also be accopmlished with `numpy.roll`.\n",
    "# ys = numpy.roll(rns, 1)\n",
    "\n",
    "# Create the plot.\n",
    "fig, ax = plt.subplots()\n",
    "ax.scatter(xs, ys)\n",
    "\n",
    "# Label each RN by its number in the sequence.\n",
    "for i, rn in enumerate(rns):\n",
    "    ax.annotate(str(i), (xs[i], ys[i]))\n",
    "###STOP_SOLUTION"
   ]
  },
  {
   "cell_type": "markdown",
   "id": "Exercise:_choosing_better_parameters",
   "metadata": {
    "id": "Exercise:_choosing_better_parameters"
   },
   "source": [
    "### Exercise: choosing better parameters"
   ]
  },
  {
   "cell_type": "markdown",
   "id": "ncyY01beJjgl",
   "metadata": {},
   "source": [
    "A better choice of $a$ and $m$ can give our RNG better properties.\n",
    "Create a new RNG with $a = 65539$ and $m = 2^{31}$. Generate a sequence of 1000 RNs using seed = $2^8 - 1$. Make a sequence of points $(x_i, x_{i-1})$ and plot them. Do any patterns emerge?"
   ]
  },
  {
   "cell_type": "code",
   "id": "w6NhykEzJjgl",
   "metadata": {},
   "source": [
    "###START_EXERCISE\n",
    "# You already have the RNGLCG class, so use this, and then plot.\n",
    "###STOP_EXERCISE"
   ]
  },
  {
   "cell_type": "code",
   "id": "cXS5yRn2Jjgl",
   "metadata": {},
   "source": [
    "###START_SOLUTION\n",
    "# Create the random number generator.\n",
    "rng = RNGLCG(2**8 - 1, 65539, 2**31)\n",
    "\n",
    "# Generate the sequence.\n",
    "rns = rng_sequence(rng, 1000)"
   ]
  },
  {
   "cell_type": "code",
   "id": "P9PMu7ViJjgl",
   "metadata": {},
   "source": [
    "# Create the pairs.\n",
    "xs = rns\n",
    "ys = rns[-1:] + rns[:-1]\n",
    "\n",
    "# Create the plot.\n",
    "fig, ax = plt.subplots()\n",
    "ax.scatter(xs, ys)\n",
    "###STOP_SOLUTION"
   ]
  },
  {
   "cell_type": "markdown",
   "id": "wgkfkGILJjgl",
   "metadata": {},
   "source": [
    "Now, given a little more advanced knowledge, let us see if we can find a pattern. Using the same RNG and seed, generate 20002 RNs and make a sequence of points $(x_{i-1}, x_i, x_{i+1})$. Filter these points for $0.50 < x_i < 0.51$. Make a 2-D scatter plot of $(x_{i-1},x_{i+1})$ for these filtered points. Do any patterns emerge?"
   ]
  },
  {
   "cell_type": "code",
   "id": "mJyitaHaJjgl",
   "metadata": {},
   "source": [
    "###START_SOLUTION\n",
    "# Create the random number generator.\n",
    "rng = RNGLCG(2**8 - 1, 65539, 2**31)\n",
    "\n",
    "# Generate the sequence.\n",
    "rns = rng_sequence(rng, 20002)"
   ]
  },
  {
   "cell_type": "code",
   "id": "hU5UzspYJjgl",
   "metadata": {},
   "source": [
    "# Create the pairs.\n",
    "xs = rns[-1:] + rns[:-1]\n",
    "ys = rns[1:] + rns[:1]\n",
    "\n",
    "# Filter the pairs.\n",
    "xs = [x for x, rn in zip(xs, rns) if 0.50 < rn < 0.51]\n",
    "ys = [y for y, rn in zip(ys, rns) if 0.50 < rn < 0.51]\n",
    "\n",
    "# Create the plot.\n",
    "fig, ax = plt.subplots()\n",
    "ax.scatter(xs, ys)\n",
    "\n",
    "# Indeed, we do see a pattern here!\n",
    "###STOP_SOLUTION"
   ]
  },
  {
   "cell_type": "markdown",
   "id": "qTQV6QZmJjgl",
   "metadata": {},
   "source": [
    "So far, we have only been looking in two dimensions, what about in three? Generate 1000 RNs using the same RNG and seed. Then make a 3-D scatter plot with the points $(x_{i-1},x_i,x_{i+1})$."
   ]
  },
  {
   "cell_type": "code",
   "id": "CuKuBC3oJjgl",
   "metadata": {},
   "source": [
    "###START_EXERCISE\n",
    "# The following will create a 3-D scatter plot.\n",
    "\n",
    "# Set your points.\n",
    "xs = [0]\n",
    "ys = [0]\n",
    "zs = [0]\n",
    "\n",
    "# Create the figure and allow to be 3-D.\n",
    "fig = plt.figure()\n",
    "ax = fig.add_subplot(projection=\"3d\")\n",
    "\n",
    "# Create the scatter plot.\n",
    "ax.scatter3D(xs, ys, zs)\n",
    "###STOP_EXERCISE"
   ]
  },
  {
   "cell_type": "code",
   "id": "8EhN8hpWJjgl",
   "metadata": {},
   "source": [
    "###START_SOLUTION\n",
    "# Create the random number generator.\n",
    "rng = RNGLCG(2**8 - 1, 65539, 2**31)\n",
    "\n",
    "# Generate the sequence.\n",
    "rns = rng_sequence(rng, 1000)"
   ]
  },
  {
   "cell_type": "code",
   "id": "Qcw5Jss8Jjgl",
   "metadata": {},
   "source": [
    "# Create the triplets.\n",
    "xs = rns[-1:] + rns[:-1]\n",
    "ys = rns\n",
    "zs = rns[1:] + rns[:1]\n",
    "\n",
    "# Create the figure.\n",
    "fig = plt.figure()\n",
    "ax = fig.add_subplot(projection=\"3d\")\n",
    "ax.scatter3D(xs, ys, zs)\n",
    "\n",
    "# Rotate the view so we can see the pattern.\n",
    "ax.view_init(elev=7, azim=-124)\n",
    "###STOP_SOLUTION"
   ]
  },
  {
   "cell_type": "markdown",
   "id": "cSS4z5hFJjgl",
   "metadata": {},
   "source": [
    "This example is not just pedagogical. In fact, this RNG is called `RANDU`. The authors of Numerical Recipes (3rd ed), share this anecdote:\n",
    "\n",
    "> Even worse, many early generators happened to make particularly bad choices for m and a. One infamous such routine, `RANDU`, with a = 65539 and m = $2^{31}$, was widespread on IBM mainframe computers for many years, and widely copied onto other systems. One of us recalls as a graduate student producing a \"random\" plot with only 11 planes and being told by his computer center's programming consultant that he had misused the random number generator: \"We guarantee that each number is random individually, but we don't guarantee that more than one of them is random.\" That set back our graduate education by at least a year!"
   ]
  },
  {
   "cell_type": "markdown",
   "id": "Combined_Generators",
   "metadata": {
    "id": "Combined_Generators"
   },
   "source": [
    "## Combined Generators"
   ]
  },
  {
   "cell_type": "markdown",
   "id": "uHpoK95tJjgl",
   "metadata": {},
   "source": [
    "In Numerical Recipes (3rd ed), a number of guidelines are given for what constitutes a bad RNG, which is the followed by this \"received wisdom of the present\".\n",
    "\n",
    "> An acceptable random generator must combine at least two (ideally, unrelated) methods. The methods combined should evolve independently and share no state. The combination should be by simple operations that do not produce results less random than their operands.\n",
    "\n",
    "The wisdom behind this statement is relatively straight forward. A A solution to this is to scramble the results again with a second RNG.\n",
    "In fact, you could make the algorithm very complicated by using multiplication or some other math functions. The cost is the ease of programming the algorithm AND, more importantly,\n",
    "the execution time. In many applications, the RNG is the bottleneck.\n",
    "\n",
    "**TODO**\n",
    "* More details here about `Fibonacci` RNGs\n",
    "* Recommendations on how to combine."
   ]
  },
  {
   "cell_type": "markdown",
   "id": "XORshift_RNGs",
   "metadata": {
    "id": "XORshift_RNGs"
   },
   "source": [
    "## XORshift RNGs"
   ]
  },
  {
   "cell_type": "markdown",
   "id": "LwXKBuJ4Jjgl",
   "metadata": {},
   "source": [
    "Modern RNGs still combine two algorithms to remove undesired correlations.\n",
    "However, they use an independent algorithm for the first sequence, so as not to unwittingly combine two correlations that arise from the same class of algorithm.\n",
    "\n",
    "One such popular algorithm is called `XORshift`. Its properties are understood by studying the multiplication of 3 special kinds of binary matrices: the identity matrix $I$, a right-shift matrix $R$, and a left-shift matrix $L$. However, this is type of RNG is typically programmed more efficiently using bit-shift and exclusive OR (XOR) operations (true if exactly one of two inputs is true, false otherwise).\n",
    "\n",
    "The resulting algorithm does not look anything like matrix multiplication, but it really is. This is because a bit shift can be represented on an $n$-bit vector (typically 32-bit or 64-bit) by a matrix with only ones on a sub-diagonal. Thus, to right-shift a bit sequence $\\beta = (b_1,b_2,\\cdots,b_n) \\to \\beta^\\prime = (0,b_1,b_2,\\cdots,b_{n-1})$, you would multiply $\\beta$ by an $n\\times n$ matrix $R$,\n",
    "\n",
    "$$\n",
    "\\beta^\\prime = \\beta R\n",
    "$$\n",
    "\n",
    "with only $1$s above the diagonal.\n",
    "\n",
    "$$\n",
    "R \\equiv\n",
    "\\begin{pmatrix}\n",
    "0 & 1 & 0 & \\cdots & 0 \\\\\n",
    "0 & 0 & 1 & \\cdots & 0 \\\\\n",
    "0 & 0 & 0 & 1 & 0 \\\\\n",
    "\\vdots & \\vdots & \\vdots & \\ddots & 1 \\\\\n",
    "0 & 0 & 0 & 0 & 0 \\\\\n",
    "\\end{pmatrix}\n",
    "$$\n",
    "\n",
    "Similarly, a left-shift matrix has only $1$s on a subdiagonal below the diagonal.\n",
    "\n",
    "$$\n",
    "L =\n",
    "\\begin{pmatrix}\n",
    "0 & 0 & 0 & \\cdots & 0 \\\\\n",
    "1 & 0 & 0 & \\cdots & 0 \\\\\n",
    "0 & 1 & 0 & 0 & 0 \\\\\n",
    "\\vdots & \\vdots & \\vdots & \\ddots & 0 \\\\\n",
    "0 & 0 & 0 & 1 & 0 \\\\\n",
    "\\end{pmatrix}\n",
    "$$\n",
    "\n",
    "Finally, since these are binary matrices, all operations use integer arithmetic modulo 2, *i.e.* all arithmetic operations are defined as normal, but with the result taken as $\\pmod 2$.\n",
    "\n",
    "It is important to note here that the right-shift defined above is a *logical* right shift and not an *arithmetic* right shift. In a logical right shift, the left-most bit is set to zero, while for an arithmetic right-shift the left-most bit does not change. This is important for signed numbers, where the left-most bit gives the sign of the number. In most programming languages, the right-shift operator is defined as the arithmetic right shift and not the logical right shift.\n",
    "\n",
    "The claim is that the series of operations $\\beta T, \\beta T^2 , \\cdots \\beta T^{2^n-1}$, every possible $\\beta$ is produced. This means that the cycle has length $2^n-1$. For most current implementations,\n",
    "\n",
    "$$\n",
    "T = (1_n + L^a)(1_n + R^b)(1_n+L^c)\n",
    "$$\n",
    "\n",
    "which is an $n\\times n$ binary matrix with $(a,b,c)$ bit-shifts left-right-left. Only certain triplets of $(a,b,c)$ have the desired property. A minimal test that $T$ has the desired properties is to check that\n",
    "\n",
    "$$\n",
    "T^{2^n} = T\n",
    "$$\n",
    "\n",
    "holds."
   ]
  },
  {
   "cell_type": "markdown",
   "id": "oZnDYvPqZjNQ",
   "metadata": {
    "id": "Exercise:_implement_bit_shifting"
   },
   "source": [
    "### Exercise: implement bit shifting"
   ]
  },
  {
   "cell_type": "markdown",
   "id": "9e8pn1f7Z3_P",
   "metadata": {},
   "source": [
    "Before we implement a full `XORshift` RNG, we need to build the necessary operators. Using the `sparse` sub-module from `scipy`, define functions that return $R$ and $L$ matrices. We use the `sparse` module to make the calculation more efficient than just full matrix multiplication."
   ]
  },
  {
   "cell_type": "code",
   "id": "IKXmi63xbtr8",
   "metadata": {
    "colab": {
     "base_uri": "https://localhost:8080/"
    },
    "outputId": "49351f64-3550-489b-f9a9-14c935b4de4f"
   },
   "source": [
    "###START_EXERCISE\n",
    "# The following creates a sparse identity matrix with n = 4.\n",
    "im = sp.sparse.eye(4, dtype = np.int32)\n",
    "# Here, the first argument is `n`, and the second argument is the\n",
    "# data type of the matrix. All available `numpy` datatypes can be listed\n",
    "# with the following.\n",
    "print(np.sctypeDict)\n",
    "# Depending on how we perform our modulo arithmetic, we could choose a\n",
    "# more efficient data type for the matrix.\n",
    "\n",
    "# It is possible to print a sparse matrix as an array to check its form.\n",
    "print(im.toarray())\n",
    "\n",
    "# We can also create off-diagonal matrices.\n",
    "om = sp.sparse.diags([1], [1], shape = (4, 4), dtype = np.int32)\n",
    "# The first and second arguments should be lists of the same length.\n",
    "# The first argument is the value to insert along a diagonal of the matrix.\n",
    "# The second argument is the offset for the diagonal.\n",
    "# The `shape` argument gives the matrix dimensions.\n",
    "# This example places 1s one above the main diagonal.\n",
    "print(om.toarray())\n",
    "\n",
    "# We then define the following two methods.\n",
    "def build_rshift(n, dtype = np.int32):\n",
    "  # Actually define the matrix here.\n",
    "  return 0.\n",
    "def build_lshift(n, dtype=np.int32)\n",
    "  # Actually define the matrix here.\n",
    "  return 0.\n",
    "###STOP_EXERCISE"
   ]
  },
  {
   "cell_type": "code",
   "id": "XjTDQqhelzkc",
   "metadata": {
    "colab": {
     "base_uri": "https://localhost:8080/"
    },
    "outputId": "fe133c62-a481-49a9-eb64-18936d04a8fb"
   },
   "source": [
    "###START_SOLUTION\n",
    "# First, we define the method for the right-shift.\n",
    "def build_rshift(n, dtype=np.int32):\n",
    "    \"\"\"\n",
    "    Return a right-shift matrix of dimension `n`.\n",
    "    \"\"\"\n",
    "    return sp.sparse.diags([1], [1], shape=(n, n), dtype=dtype)\n",
    "\n",
    "\n",
    "# Print an example R.\n",
    "r = build_rshift(4)\n",
    "print(f\"R = \\n{r.toarray()}\")\n",
    "\n",
    "\n",
    "# Second, we define the method for the left-shift.\n",
    "def build_lshift(n, dtype=np.int32):\n",
    "    \"\"\"\n",
    "    Return a right-shift matrix of dimension `n`.\n",
    "    \"\"\"\n",
    "    return sp.sparse.diags([1], [-1], shape=(n, n), dtype=dtype)\n",
    "\n",
    "\n",
    "# Print an example L.\n",
    "l = build_lshift(4)\n",
    "print(f\"L = \\n{l.toarray()}\")\n",
    "\n",
    "# We can also check to see if the shift actually works.\n",
    "vec = [1, 1, 1, 1]\n",
    "print(np.array(vec))\n",
    "print(vec * r)\n",
    "print(vec * l)\n",
    "###STOP_SOLUTION"
   ]
  },
  {
   "cell_type": "markdown",
   "id": "DNPDWkLPpHPE",
   "metadata": {},
   "source": [
    "In Python, the right-shift operator is given by `>>` followed the number of positions, and the left-shift operator is given by `<<`. Check that your shift matrices are correctly built."
   ]
  },
  {
   "cell_type": "code",
   "id": "1HQfpitHpvCx",
   "metadata": {
    "colab": {
     "base_uri": "https://localhost:8080/"
    },
    "outputId": "8c41c1f5-d4fe-4882-ccc1-7e4283e14a74"
   },
   "source": [
    "###START_SOLUTION\n",
    "# For simplicity, we work with unsigned 8-bit integers.\n",
    "n = 8\n",
    "r = build_rshift(n)\n",
    "l = build_lshift(n)\n",
    "\n",
    "# We define an integer value to shift.\n",
    "val = np.uint8(120)\n",
    "# Convert it into binary string, strip the leading `0b`, and zero pad.\n",
    "vec = bin(val).lstrip(\"0b\").zfill(8)\n",
    "# Split the string into a vector.\n",
    "vec = [int(char) for char in vec]\n",
    "\n",
    "# Multiply the vector by the right-shift operator.\n",
    "vec_shift = vec * r\n",
    "\n",
    "# Convert back to decimal form.\n",
    "dec = \"\".join([f\"{int(b)}\" % b for b in vec_shift])\n",
    "dec = int(dec, 2)\n",
    "print(f\"matrix right-shifted = {dec}\")\n",
    "\n",
    "# Use the right-shift operator.\n",
    "print(f\"operator right-shifted = {val >> 1}\")\n",
    "\n",
    "# We do the same for left-shifting.\n",
    "vec_shift = vec * l\n",
    "dec = \"\".join([f\"{int(b)}\" % b for b in vec_shift])\n",
    "dec = int(dec, 2)\n",
    "print(f\"matrix left-shifted = {dec}\")\n",
    "print(f\"operator left-shifted = {val << 1}\")\n",
    "###STOP_SOLUTION"
   ]
  },
  {
   "cell_type": "markdown",
   "id": "eor9lsUllebS",
   "metadata": {},
   "source": [
    "We can also consider the general form of $L^a$ and $R^b$. Is there a more efficient way to write $L^a$ then just `L**a`?"
   ]
  },
  {
   "cell_type": "markdown",
   "id": "-Bq0yB0yWtgI",
   "metadata": {
    "id": "Exercise:_determine_suitable_triplets"
   },
   "source": [
    "### Exercise: determine suitable triplets"
   ]
  },
  {
   "cell_type": "markdown",
   "id": "wcA-YpaUW8Gh",
   "metadata": {},
   "source": [
    "Perform this test for the tuples $(1,3,10)$, $(5,17,13)$, and $(2,5,14)$ using 32-bit precision. Which of these are suitable triplets?"
   ]
  },
  {
   "cell_type": "code",
   "id": "3Zc5GGCJJjgl",
   "metadata": {},
   "source": [
    "def make_matrix(a, b, c):\n",
    "    from scipy.sparse import diags\n",
    "\n",
    "    E = sp.sparse.eye(32, dtype=np.int32)\n",
    "    T1 = diags([1], [a], shape=(32, 32), dtype=np.int32) + E\n",
    "    T2 = diags([1], [-b], shape=(32, 32), dtype=np.int32) + E\n",
    "    T3 = diags([1], [c], shape=(32, 32), dtype=np.int32) + E\n",
    "    #\n",
    "    return T1 @ T2 @ T3"
   ]
  },
  {
   "cell_type": "code",
   "id": "t7RpHqzAJjgl",
   "metadata": {},
   "source": [
    "T = make_matrix(5, 17, 13)\n",
    "U = T.todense()\n",
    "for i in range(0, 32):\n",
    "    U = U @ U % 2\n",
    "print((T - U).nonzero())"
   ]
  },
  {
   "cell_type": "markdown",
   "id": "vbXLq4K-Jjgl",
   "metadata": {},
   "source": [
    "Use (a,b,c) = (5,17,13)\n",
    "\n",
    "Choose a number < 10**32-1 and represent it as an `np.array` of length 32, i.e. `3 = [0,0,....0,1,1]`.\n",
    "\n",
    "Right multiply (mod 2) by T and convert the result back to an integer.\n",
    "\n",
    "Now, starting with the integer i, perform the operations:\n",
    "i = i ^ i>>a i = i ^ i<<b i = i ^ i<<c\n",
    "\n",
    "Show the results are equivalent.\n",
    "Hint: make sure your integer doesn't become int64!"
   ]
  },
  {
   "cell_type": "code",
   "id": "oLCaQk5ZJjgl",
   "metadata": {},
   "source": [
    "def func(x, bits):\n",
    "    return np.array([int(i) for i in bin(x)[2:].zfill(bits)])"
   ]
  },
  {
   "cell_type": "code",
   "id": "MBgpDKqYJjgl",
   "metadata": {},
   "source": [
    "numb = np.array(2**30 - 3, dtype=np.int32)"
   ]
  },
  {
   "cell_type": "code",
   "id": "iUnXMAy5Jjgl",
   "metadata": {},
   "source": [
    "print(func(numb, 32))"
   ]
  },
  {
   "cell_type": "code",
   "id": "J03y5caiJjgl",
   "metadata": {},
   "source": [
    "print(c), bin(c)\n",
    "print(func(c, 32))"
   ]
  },
  {
   "cell_type": "code",
   "id": "uwvY4yJ5Jjgl",
   "metadata": {},
   "source": [
    "c = numb ^ numb >> 5\n",
    "c = c.astype(np.int32)\n",
    "c = c ^ (c << 17 & 0xFFFFFFFF)\n",
    "c = c.astype(np.int32)\n",
    "c = c ^ c >> 13\n",
    "c = c.astype(np.int32)"
   ]
  },
  {
   "cell_type": "code",
   "id": "bvP7obd_Jjgl",
   "metadata": {},
   "source": [
    "b = func(numb, 32)"
   ]
  },
  {
   "cell_type": "code",
   "id": "5Fe6f5csJjgl",
   "metadata": {},
   "source": [
    "f = (b @ T) % 2"
   ]
  },
  {
   "cell_type": "code",
   "id": "XaiZUnjXJjgl",
   "metadata": {},
   "source": [
    "print(f)"
   ]
  },
  {
   "cell_type": "markdown",
   "id": "HhWFNy0EJjgl",
   "metadata": {},
   "source": [
    "Implement your own high quality RNG using the triplet (17,31,8).\n",
    "Combine it with another RNG to make it safer."
   ]
  },
  {
   "cell_type": "code",
   "id": "HEHJjX4bJjgl",
   "metadata": {},
   "source": [
    "# Need help or must use c-functions\n",
    "Ran:\n",
    "    def __init__(self, seed):\n",
    "        self.v = np.array(4101842887655102017, dtype=np.ulonglong)\n",
    "        self.u = np.array(np.ulonglong(seed) ^ self.v, dtype=np.ulonglong)\n",
    "        self.w = np.array(1, dtype=np.ulonglong)\n",
    "        self.int64()\n",
    "        self.v = self.u\n",
    "        self.int64()\n",
    "        self.w = self.v\n",
    "        self.int64()\n",
    "\n",
    "    def int64(self):\n",
    "        self.u = self.u * 2862933555777941757 + np.ulonglong(7046029254386353087)\n",
    "        self.v ^= self.v >> 17\n",
    "        self.v ^= self.v << np.uint64(31)\n",
    "        self.v ^= self.v >> np.uint64(8)\n",
    "        self.w = np.uint32(4294957665) * (np.uint32(self.w) & 0xFFFFFFFF) + (\n",
    "            np.uint32(self.w) >> 32\n",
    "        )\n",
    "        x = np.uint64(self.u) ^ np.uint64(np.uint64(self.u) << np.uint64(21))\n",
    "        x ^= x >> np.uint64(35)\n",
    "        x ^= x << np.uint64(4)\n",
    "        state = np.uint64(x + self.v) ^ np.uint64(self.w)\n",
    "        return state\n",
    "\n",
    "    def doub(self):\n",
    "        return 5.42101086242752217e-20 * self.int64()\n",
    "\n",
    "    def int32(self):\n",
    "        return np.uint32(self.int64())"
   ]
  },
  {
   "cell_type": "code",
   "id": "bpMhB3SLJjgl",
   "metadata": {},
   "source": [
    "myran = Ran(17)"
   ]
  },
  {
   "cell_type": "markdown",
   "id": "Tests_of_Random_Number_Generators",
   "metadata": {
    "id": "Tests_of_Random_Number_Generators"
   },
   "source": [
    "## Tests of Random Number Generators"
   ]
  },
  {
   "cell_type": "markdown",
   "id": "sax8QmAzJjgl",
   "metadata": {},
   "source": [
    "Diehard, NIST references.\n",
    "Craps test?"
   ]
  }
 ],
 "metadata": {
  "colab": {
   "collapsed_sections": [
    "Requirements",
    "Introduction",
    "Middle_square_method",
    "Exercise:_implement_the_middle_square_method",
    "RNGs_based_on_modular_arithmetic",
    "Exercise:_patterns_in_multiplicative_congruential_generator",
    "Exercise:_choosing_better_parameters",
    "Combined_Generators",
    "XORshift_RNGs",
    "Exercise:_implement_bit_shifting",
    "Exercise:_determine_suitable_triplets",
    "Tests_of_Random_Number_Generators"
   ],
   "provenance": []
  },
  "kernelspec": {
   "display_name": "Python 3 (ipykernel)",
   "language": "python",
   "name": "python3"
  },
  "language_info": {
   "codemirror_mode": {
    "name": "ipython",
    "version": 3
   },
   "file_extension": ".py",
   "mimetype": "text/x-python",
   "name": "python",
   "nbconvert_exporter": "python",
   "pygments_lexer": "ipython3",
   "version": "3.10.17"
  }
 },
 "nbformat": 4,
 "nbformat_minor": 5
}