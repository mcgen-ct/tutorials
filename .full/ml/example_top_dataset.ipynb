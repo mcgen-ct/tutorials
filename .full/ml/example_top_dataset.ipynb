{
 "cells": [
  {
   "cell_type": "markdown",
   "metadata": {
    "id": "rJYYJQmOWHhl"
   },
   "source": [
    "# Example of ML applications\n"
   ]
  },
  {
   "cell_type": "markdown",
   "metadata": {
    "id": "nJxEBPBMWHhm"
   },
   "source": [
    "In this example we will work with the public [Top Quark Tagging Reference Dataset](https://zenodo.org/records/2603256), which provides the following description:\n",
    "\n",
    "A set of MC simulated training/testing events for the evaluation of top quark tagging architectures.\n",
    "\n",
    "In total 1.2M training events, 400k validation events and 400k test events. Use “train” for training, “val” for validation during the training and “test” for final testing and reporting results.\n",
    "\n",
    "Description\n",
    "\n",
    "* 14 TeV, hadronic tops for signal, qcd diets background, Delphes ATLAS detector card with Pythia8\n",
    "\n",
    "* No MPI/pile-up included\n",
    "\n",
    "* Clustering of  particle-flow entries (produced by Delphes E-flow) into anti-kT 0.8 jets in the pT range [550,650] GeV\n",
    "\n",
    "* All top jets are matched to a parton-level top within ∆R = 0.8, and to all top decay partons within 0.8\n",
    "\n",
    "* Jets are required to have |eta| < 2\n",
    "\n",
    "* The leading 200 jet constituent four-momenta are stored, with zero-padding for jets with fewer than 200\n",
    "\n",
    "* Constituents are sorted by pT, with the highest pT one first\n",
    "\n",
    "* The truth top four-momentum is stored as truth_px etc.\n",
    "\n",
    "* A flag (1 for top, 0 for QCD) is kept for each jet. It is called is_signal_new\n",
    "\n",
    "* The variable \"ttv\" (= test/train/validation) is kept for each jet. It indicates to which dataset the jet belongs. It is redundant as the different sets are already distributed as different files.\n"
   ]
  },
  {
   "cell_type": "markdown",
   "metadata": {
    "id": "ypsFOjltWHhn"
   },
   "source": [
    "With this dataset, which you can download from the provided link, we will exemplify one  Machine Learning tasks: **Classification**.\n",
    "\n",
    "To do so we will need to install different packages"
   ]
  },
  {
   "cell_type": "code",
   "execution_count": 1,
   "metadata": {
    "id": "vec9NuYyWHhn"
   },
   "outputs": [],
   "source": [
    "#!pip install numpy\n",
    "#!pip install matplotlib\n",
    "#!pip install pandas\n",
    "#!pip install scikit-learn\n",
    "#!pip install h5py\n",
    "#!pip install scipy\n",
    "# !pip install tables\n",
    "# pytorch from https://pytorch.org/get-started/locally/"
   ]
  },
  {
   "cell_type": "code",
   "execution_count": 2,
   "metadata": {
    "id": "IIGOrGjSWHho"
   },
   "outputs": [],
   "source": [
    "import os\n",
    "import numpy as np\n",
    "import scipy\n",
    "import matplotlib.pyplot as plt\n",
    "import h5py\n",
    "import pandas as pd\n",
    "import sklearn as sk\n",
    "import torch\n"
   ]
  },
  {
   "cell_type": "markdown",
   "metadata": {
    "id": "kcBLj7aLWHhp"
   },
   "source": [
    "Additionally, download and extract the Top_Quark_Tagging_dataset"
   ]
  },
  {
   "cell_type": "code",
   "execution_count": 3,
   "metadata": {
    "id": "ASZZbT7JZytV"
   },
   "outputs": [],
   "source": [
    "path_train = \"Top_Quark_Tagging_dataset/train.h5\"\n",
    "path_val = \"Top_Quark_Tagging_dataset/val.h5\"\n",
    "path_test = \"Top_Quark_Tagging_dataset/test.h5\""
   ]
  },
  {
   "cell_type": "code",
   "execution_count": 4,
   "metadata": {
    "colab": {
     "base_uri": "https://localhost:8080/"
    },
    "id": "EmE794dtWKl2",
    "outputId": "e09e8b8c-60e5-4009-bdfc-cdce5820db5b"
   },
   "outputs": [],
   "source": [
    "#!mkdir Top_Quark_Tagging_dataset\n",
    "#!wget -O \"Top_Quark_Tagging_dataset/train.h5\" https://zenodo.org/records/2603256/files/train.h5\n",
    "#!wget -O \"Top_Quark_Tagging_dataset/val.h5\" https://zenodo.org/records/2603256/files/val.h5\n",
    "#!wget -O \"Top_Quark_Tagging_dataset/test.h5\" https://zenodo.org/records/2603256/files/test.h5"
   ]
  },
  {
   "cell_type": "code",
   "execution_count": 5,
   "metadata": {
    "id": "pWyNns7EWHhp"
   },
   "outputs": [],
   "source": [
    "def check_dataset_path(path):\n",
    "    return os.path.isfile(path)"
   ]
  },
  {
   "cell_type": "code",
   "execution_count": 6,
   "metadata": {
    "colab": {
     "base_uri": "https://localhost:8080/"
    },
    "id": "26wUzTGpWHhq",
    "outputId": "1cc1567f-58dc-4e32-c5c4-07ab343f4103"
   },
   "outputs": [
    {
     "name": "stdout",
     "output_type": "stream",
     "text": [
      "All good here\n"
     ]
    }
   ],
   "source": [
    "if check_dataset_path(path_train)*check_dataset_path(path_val)*check_dataset_path(path_test) == 0:\n",
    "    print(\"Path not properly set\")\n",
    "else:\n",
    "    print(\"All good here\")"
   ]
  },
  {
   "cell_type": "markdown",
   "metadata": {
    "id": "-m2bSXoPWHhr"
   },
   "source": [
    "# Data preprocessing"
   ]
  },
  {
   "cell_type": "markdown",
   "metadata": {
    "id": "HwyJbFjTWHhs"
   },
   "source": [
    "Let's load the datasets. These are a bit heavy, but things should be okay.\n",
    "\n",
    "To be safe against overfitting, every operation should be decided on the training dataset and applied without changes to the validation and testing datasets.\n",
    "\n",
    "Additionally, to save some memory we won't load the full training dataset"
   ]
  },
  {
   "cell_type": "code",
   "execution_count": 7,
   "metadata": {
    "colab": {
     "base_uri": "https://localhost:8080/"
    },
    "id": "76h6HiS6WHhs",
    "outputId": "fdb9eb79-7346-49ad-df69-732fedaeb0ed"
   },
   "outputs": [
    {
     "data": {
      "text/plain": [
       "(500000, 806)"
      ]
     },
     "execution_count": 7,
     "metadata": {},
     "output_type": "execute_result"
    }
   ],
   "source": [
    "train = pd.read_hdf(path_train,key='table',start=0,stop=500000)\n",
    "train.shape"
   ]
  },
  {
   "cell_type": "code",
   "execution_count": 8,
   "metadata": {
    "colab": {
     "base_uri": "https://localhost:8080/"
    },
    "id": "CttmIL7FWHht",
    "outputId": "01d960c1-aeed-472c-d1d2-e0b2d3602527"
   },
   "outputs": [
    {
     "data": {
      "text/plain": [
       "(100000, 806)"
      ]
     },
     "execution_count": 8,
     "metadata": {},
     "output_type": "execute_result"
    }
   ],
   "source": [
    "val = pd.read_hdf(path_val,key='table',start=0,stop=100000)\n",
    "val.shape"
   ]
  },
  {
   "cell_type": "code",
   "execution_count": 9,
   "metadata": {
    "id": "vuA8CW8fWHhu"
   },
   "outputs": [],
   "source": [
    "#test = pd.read_hdf(path_test,key='table')\n",
    "#test.shape"
   ]
  },
  {
   "cell_type": "markdown",
   "metadata": {
    "id": "R9V1YCBDWHhu"
   },
   "source": [
    "Let's explore what the features are."
   ]
  },
  {
   "cell_type": "code",
   "execution_count": 10,
   "metadata": {
    "colab": {
     "base_uri": "https://localhost:8080/"
    },
    "id": "6bOovgtLWHhv",
    "outputId": "d1a62888-9624-48fa-91dd-53e07ba18ef6"
   },
   "outputs": [
    {
     "data": {
      "text/plain": [
       "Index(['E_0', 'PX_0', 'PY_0', 'PZ_0', 'E_1', 'PX_1', 'PY_1', 'PZ_1', 'E_2',\n",
       "       'PX_2',\n",
       "       ...\n",
       "       'E_199', 'PX_199', 'PY_199', 'PZ_199', 'truthE', 'truthPX', 'truthPY',\n",
       "       'truthPZ', 'ttv', 'is_signal_new'],\n",
       "      dtype='object', length=806)"
      ]
     },
     "execution_count": 10,
     "metadata": {},
     "output_type": "execute_result"
    }
   ],
   "source": [
    "train.keys()"
   ]
  },
  {
   "cell_type": "code",
   "execution_count": 11,
   "metadata": {
    "colab": {
     "base_uri": "https://localhost:8080/",
     "height": 256
    },
    "id": "7csZvanRWHhv",
    "outputId": "004d5427-3c2d-4e63-fc58-053a5fb904f4"
   },
   "outputs": [
    {
     "data": {
      "text/html": [
       "<div>\n",
       "<style scoped>\n",
       "    .dataframe tbody tr th:only-of-type {\n",
       "        vertical-align: middle;\n",
       "    }\n",
       "\n",
       "    .dataframe tbody tr th {\n",
       "        vertical-align: top;\n",
       "    }\n",
       "\n",
       "    .dataframe thead th {\n",
       "        text-align: right;\n",
       "    }\n",
       "</style>\n",
       "<table border=\"1\" class=\"dataframe\">\n",
       "  <thead>\n",
       "    <tr style=\"text-align: right;\">\n",
       "      <th></th>\n",
       "      <th>E_0</th>\n",
       "      <th>PX_0</th>\n",
       "      <th>PY_0</th>\n",
       "      <th>PZ_0</th>\n",
       "      <th>E_1</th>\n",
       "      <th>PX_1</th>\n",
       "      <th>PY_1</th>\n",
       "      <th>PZ_1</th>\n",
       "      <th>E_2</th>\n",
       "      <th>PX_2</th>\n",
       "      <th>...</th>\n",
       "      <th>E_199</th>\n",
       "      <th>PX_199</th>\n",
       "      <th>PY_199</th>\n",
       "      <th>PZ_199</th>\n",
       "      <th>truthE</th>\n",
       "      <th>truthPX</th>\n",
       "      <th>truthPY</th>\n",
       "      <th>truthPZ</th>\n",
       "      <th>ttv</th>\n",
       "      <th>is_signal_new</th>\n",
       "    </tr>\n",
       "  </thead>\n",
       "  <tbody>\n",
       "    <tr>\n",
       "      <th>375</th>\n",
       "      <td>474.071136</td>\n",
       "      <td>-250.347031</td>\n",
       "      <td>-223.651962</td>\n",
       "      <td>-334.738098</td>\n",
       "      <td>103.236237</td>\n",
       "      <td>-48.866222</td>\n",
       "      <td>-56.790775</td>\n",
       "      <td>-71.025490</td>\n",
       "      <td>105.255569</td>\n",
       "      <td>-55.415001</td>\n",
       "      <td>...</td>\n",
       "      <td>0.0</td>\n",
       "      <td>0.0</td>\n",
       "      <td>0.0</td>\n",
       "      <td>0.0</td>\n",
       "      <td>0.0</td>\n",
       "      <td>0.0</td>\n",
       "      <td>0.0</td>\n",
       "      <td>0.0</td>\n",
       "      <td>0</td>\n",
       "      <td>0</td>\n",
       "    </tr>\n",
       "    <tr>\n",
       "      <th>377</th>\n",
       "      <td>150.504532</td>\n",
       "      <td>120.062393</td>\n",
       "      <td>76.852005</td>\n",
       "      <td>-48.274265</td>\n",
       "      <td>82.257057</td>\n",
       "      <td>63.801739</td>\n",
       "      <td>42.754807</td>\n",
       "      <td>-29.454842</td>\n",
       "      <td>48.573559</td>\n",
       "      <td>36.763199</td>\n",
       "      <td>...</td>\n",
       "      <td>0.0</td>\n",
       "      <td>0.0</td>\n",
       "      <td>0.0</td>\n",
       "      <td>0.0</td>\n",
       "      <td>0.0</td>\n",
       "      <td>0.0</td>\n",
       "      <td>0.0</td>\n",
       "      <td>0.0</td>\n",
       "      <td>0</td>\n",
       "      <td>0</td>\n",
       "    </tr>\n",
       "    <tr>\n",
       "      <th>378</th>\n",
       "      <td>251.645386</td>\n",
       "      <td>10.427651</td>\n",
       "      <td>-147.573746</td>\n",
       "      <td>203.564880</td>\n",
       "      <td>104.147797</td>\n",
       "      <td>10.718256</td>\n",
       "      <td>-54.497948</td>\n",
       "      <td>88.101395</td>\n",
       "      <td>78.043213</td>\n",
       "      <td>5.724113</td>\n",
       "      <td>...</td>\n",
       "      <td>0.0</td>\n",
       "      <td>0.0</td>\n",
       "      <td>0.0</td>\n",
       "      <td>0.0</td>\n",
       "      <td>0.0</td>\n",
       "      <td>0.0</td>\n",
       "      <td>0.0</td>\n",
       "      <td>0.0</td>\n",
       "      <td>0</td>\n",
       "      <td>0</td>\n",
       "    </tr>\n",
       "    <tr>\n",
       "      <th>379</th>\n",
       "      <td>451.566132</td>\n",
       "      <td>129.885437</td>\n",
       "      <td>-99.066292</td>\n",
       "      <td>-420.984100</td>\n",
       "      <td>208.410919</td>\n",
       "      <td>59.033958</td>\n",
       "      <td>-46.177090</td>\n",
       "      <td>-194.467941</td>\n",
       "      <td>190.183304</td>\n",
       "      <td>54.069675</td>\n",
       "      <td>...</td>\n",
       "      <td>0.0</td>\n",
       "      <td>0.0</td>\n",
       "      <td>0.0</td>\n",
       "      <td>0.0</td>\n",
       "      <td>0.0</td>\n",
       "      <td>0.0</td>\n",
       "      <td>0.0</td>\n",
       "      <td>0.0</td>\n",
       "      <td>0</td>\n",
       "      <td>0</td>\n",
       "    </tr>\n",
       "    <tr>\n",
       "      <th>380</th>\n",
       "      <td>399.093903</td>\n",
       "      <td>-168.432083</td>\n",
       "      <td>-47.205597</td>\n",
       "      <td>-358.717438</td>\n",
       "      <td>273.691956</td>\n",
       "      <td>-121.926941</td>\n",
       "      <td>-30.803854</td>\n",
       "      <td>-243.088928</td>\n",
       "      <td>152.837219</td>\n",
       "      <td>-44.400204</td>\n",
       "      <td>...</td>\n",
       "      <td>0.0</td>\n",
       "      <td>0.0</td>\n",
       "      <td>0.0</td>\n",
       "      <td>0.0</td>\n",
       "      <td>0.0</td>\n",
       "      <td>0.0</td>\n",
       "      <td>0.0</td>\n",
       "      <td>0.0</td>\n",
       "      <td>0</td>\n",
       "      <td>0</td>\n",
       "    </tr>\n",
       "  </tbody>\n",
       "</table>\n",
       "<p>5 rows × 806 columns</p>\n",
       "</div>"
      ],
      "text/plain": [
       "            E_0        PX_0        PY_0        PZ_0         E_1        PX_1  \\\n",
       "375  474.071136 -250.347031 -223.651962 -334.738098  103.236237  -48.866222   \n",
       "377  150.504532  120.062393   76.852005  -48.274265   82.257057   63.801739   \n",
       "378  251.645386   10.427651 -147.573746  203.564880  104.147797   10.718256   \n",
       "379  451.566132  129.885437  -99.066292 -420.984100  208.410919   59.033958   \n",
       "380  399.093903 -168.432083  -47.205597 -358.717438  273.691956 -121.926941   \n",
       "\n",
       "          PY_1        PZ_1         E_2       PX_2  ...  E_199  PX_199  PY_199  \\\n",
       "375 -56.790775  -71.025490  105.255569 -55.415001  ...    0.0     0.0     0.0   \n",
       "377  42.754807  -29.454842   48.573559  36.763199  ...    0.0     0.0     0.0   \n",
       "378 -54.497948   88.101395   78.043213   5.724113  ...    0.0     0.0     0.0   \n",
       "379 -46.177090 -194.467941  190.183304  54.069675  ...    0.0     0.0     0.0   \n",
       "380 -30.803854 -243.088928  152.837219 -44.400204  ...    0.0     0.0     0.0   \n",
       "\n",
       "     PZ_199  truthE  truthPX  truthPY  truthPZ  ttv  is_signal_new  \n",
       "375     0.0     0.0      0.0      0.0      0.0    0              0  \n",
       "377     0.0     0.0      0.0      0.0      0.0    0              0  \n",
       "378     0.0     0.0      0.0      0.0      0.0    0              0  \n",
       "379     0.0     0.0      0.0      0.0      0.0    0              0  \n",
       "380     0.0     0.0      0.0      0.0      0.0    0              0  \n",
       "\n",
       "[5 rows x 806 columns]"
      ]
     },
     "execution_count": 11,
     "metadata": {},
     "output_type": "execute_result"
    }
   ],
   "source": [
    "train.head()"
   ]
  },
  {
   "cell_type": "code",
   "execution_count": 12,
   "metadata": {
    "colab": {
     "base_uri": "https://localhost:8080/"
    },
    "id": "9hjclmKxWHhv",
    "outputId": "ced5b701-b748-47ba-d33a-6943133a1a3e"
   },
   "outputs": [
    {
     "name": "stdout",
     "output_type": "stream",
     "text": [
      "<class 'pandas.core.frame.DataFrame'>\n",
      "Index: 500000 entries, 375 to 706\n",
      "Columns: 806 entries, E_0 to is_signal_new\n",
      "dtypes: float32(804), int64(2)\n",
      "memory usage: 1.5 GB\n"
     ]
    }
   ],
   "source": [
    "train.info()"
   ]
  },
  {
   "cell_type": "code",
   "execution_count": 13,
   "metadata": {
    "colab": {
     "base_uri": "https://localhost:8080/",
     "height": 350
    },
    "id": "e_3-MqwDWHhv",
    "outputId": "7f3bb2d7-9586-4e0e-85a8-4f8a7ffb1883"
   },
   "outputs": [
    {
     "data": {
      "text/html": [
       "<div>\n",
       "<style scoped>\n",
       "    .dataframe tbody tr th:only-of-type {\n",
       "        vertical-align: middle;\n",
       "    }\n",
       "\n",
       "    .dataframe tbody tr th {\n",
       "        vertical-align: top;\n",
       "    }\n",
       "\n",
       "    .dataframe thead th {\n",
       "        text-align: right;\n",
       "    }\n",
       "</style>\n",
       "<table border=\"1\" class=\"dataframe\">\n",
       "  <thead>\n",
       "    <tr style=\"text-align: right;\">\n",
       "      <th></th>\n",
       "      <th>E_0</th>\n",
       "      <th>PX_0</th>\n",
       "      <th>PY_0</th>\n",
       "      <th>PZ_0</th>\n",
       "      <th>E_1</th>\n",
       "      <th>PX_1</th>\n",
       "      <th>PY_1</th>\n",
       "      <th>PZ_1</th>\n",
       "      <th>E_2</th>\n",
       "      <th>PX_2</th>\n",
       "      <th>...</th>\n",
       "      <th>E_199</th>\n",
       "      <th>PX_199</th>\n",
       "      <th>PY_199</th>\n",
       "      <th>PZ_199</th>\n",
       "      <th>truthE</th>\n",
       "      <th>truthPX</th>\n",
       "      <th>truthPY</th>\n",
       "      <th>truthPZ</th>\n",
       "      <th>ttv</th>\n",
       "      <th>is_signal_new</th>\n",
       "    </tr>\n",
       "  </thead>\n",
       "  <tbody>\n",
       "    <tr>\n",
       "      <th>count</th>\n",
       "      <td>500000.000000</td>\n",
       "      <td>500000.000000</td>\n",
       "      <td>500000.000000</td>\n",
       "      <td>500000.000000</td>\n",
       "      <td>500000.000000</td>\n",
       "      <td>500000.000000</td>\n",
       "      <td>500000.000000</td>\n",
       "      <td>500000.000000</td>\n",
       "      <td>500000.000000</td>\n",
       "      <td>500000.000000</td>\n",
       "      <td>...</td>\n",
       "      <td>500000.0</td>\n",
       "      <td>500000.0</td>\n",
       "      <td>500000.0</td>\n",
       "      <td>500000.0</td>\n",
       "      <td>500000.000000</td>\n",
       "      <td>500000.000000</td>\n",
       "      <td>500000.000000</td>\n",
       "      <td>500000.000000</td>\n",
       "      <td>500000.0</td>\n",
       "      <td>500000.000000</td>\n",
       "    </tr>\n",
       "    <tr>\n",
       "      <th>mean</th>\n",
       "      <td>233.519699</td>\n",
       "      <td>0.098696</td>\n",
       "      <td>-0.212851</td>\n",
       "      <td>0.242043</td>\n",
       "      <td>129.961075</td>\n",
       "      <td>-0.004187</td>\n",
       "      <td>-0.036495</td>\n",
       "      <td>-0.010762</td>\n",
       "      <td>86.655083</td>\n",
       "      <td>-0.039681</td>\n",
       "      <td>...</td>\n",
       "      <td>0.0</td>\n",
       "      <td>0.0</td>\n",
       "      <td>0.0</td>\n",
       "      <td>0.0</td>\n",
       "      <td>437.723267</td>\n",
       "      <td>-0.581312</td>\n",
       "      <td>-0.836096</td>\n",
       "      <td>-1.487478</td>\n",
       "      <td>0.0</td>\n",
       "      <td>0.498324</td>\n",
       "    </tr>\n",
       "    <tr>\n",
       "      <th>std</th>\n",
       "      <td>173.302368</td>\n",
       "      <td>121.680588</td>\n",
       "      <td>121.754112</td>\n",
       "      <td>234.382004</td>\n",
       "      <td>82.246124</td>\n",
       "      <td>65.151344</td>\n",
       "      <td>65.181419</td>\n",
       "      <td>123.130104</td>\n",
       "      <td>51.657852</td>\n",
       "      <td>42.780273</td>\n",
       "      <td>...</td>\n",
       "      <td>0.0</td>\n",
       "      <td>0.0</td>\n",
       "      <td>0.0</td>\n",
       "      <td>0.0</td>\n",
       "      <td>502.190857</td>\n",
       "      <td>296.309082</td>\n",
       "      <td>296.934662</td>\n",
       "      <td>503.197083</td>\n",
       "      <td>0.0</td>\n",
       "      <td>0.499998</td>\n",
       "    </tr>\n",
       "    <tr>\n",
       "      <th>min</th>\n",
       "      <td>23.743198</td>\n",
       "      <td>-609.698792</td>\n",
       "      <td>-634.309448</td>\n",
       "      <td>-1939.883179</td>\n",
       "      <td>0.000000</td>\n",
       "      <td>-284.398834</td>\n",
       "      <td>-293.485077</td>\n",
       "      <td>-928.762024</td>\n",
       "      <td>0.000000</td>\n",
       "      <td>-179.685425</td>\n",
       "      <td>...</td>\n",
       "      <td>0.0</td>\n",
       "      <td>0.0</td>\n",
       "      <td>0.0</td>\n",
       "      <td>0.0</td>\n",
       "      <td>0.000000</td>\n",
       "      <td>-1398.610474</td>\n",
       "      <td>-1487.769287</td>\n",
       "      <td>-3928.353760</td>\n",
       "      <td>0.0</td>\n",
       "      <td>0.000000</td>\n",
       "    </tr>\n",
       "    <tr>\n",
       "      <th>25%</th>\n",
       "      <td>124.773357</td>\n",
       "      <td>-82.606472</td>\n",
       "      <td>-82.834406</td>\n",
       "      <td>-97.847517</td>\n",
       "      <td>77.015837</td>\n",
       "      <td>-49.665770</td>\n",
       "      <td>-49.699996</td>\n",
       "      <td>-59.298316</td>\n",
       "      <td>50.812329</td>\n",
       "      <td>-34.131699</td>\n",
       "      <td>...</td>\n",
       "      <td>0.0</td>\n",
       "      <td>0.0</td>\n",
       "      <td>0.0</td>\n",
       "      <td>0.0</td>\n",
       "      <td>0.000000</td>\n",
       "      <td>0.000000</td>\n",
       "      <td>-0.596871</td>\n",
       "      <td>0.000000</td>\n",
       "      <td>0.0</td>\n",
       "      <td>0.000000</td>\n",
       "    </tr>\n",
       "    <tr>\n",
       "      <th>50%</th>\n",
       "      <td>182.505470</td>\n",
       "      <td>-0.094346</td>\n",
       "      <td>-0.194142</td>\n",
       "      <td>-0.051609</td>\n",
       "      <td>107.595936</td>\n",
       "      <td>-0.090482</td>\n",
       "      <td>-0.124214</td>\n",
       "      <td>-0.011520</td>\n",
       "      <td>73.617519</td>\n",
       "      <td>-0.087450</td>\n",
       "      <td>...</td>\n",
       "      <td>0.0</td>\n",
       "      <td>0.0</td>\n",
       "      <td>0.0</td>\n",
       "      <td>0.0</td>\n",
       "      <td>0.000000</td>\n",
       "      <td>0.000000</td>\n",
       "      <td>0.000000</td>\n",
       "      <td>0.000000</td>\n",
       "      <td>0.0</td>\n",
       "      <td>0.000000</td>\n",
       "    </tr>\n",
       "    <tr>\n",
       "      <th>75%</th>\n",
       "      <td>280.929466</td>\n",
       "      <td>82.905062</td>\n",
       "      <td>82.645300</td>\n",
       "      <td>97.636534</td>\n",
       "      <td>156.691650</td>\n",
       "      <td>49.577889</td>\n",
       "      <td>49.644739</td>\n",
       "      <td>59.032970</td>\n",
       "      <td>105.757202</td>\n",
       "      <td>34.006890</td>\n",
       "      <td>...</td>\n",
       "      <td>0.0</td>\n",
       "      <td>0.0</td>\n",
       "      <td>0.0</td>\n",
       "      <td>0.0</td>\n",
       "      <td>756.618073</td>\n",
       "      <td>0.000000</td>\n",
       "      <td>0.000000</td>\n",
       "      <td>0.000000</td>\n",
       "      <td>0.0</td>\n",
       "      <td>1.000000</td>\n",
       "    </tr>\n",
       "    <tr>\n",
       "      <th>max</th>\n",
       "      <td>2183.859863</td>\n",
       "      <td>627.447693</td>\n",
       "      <td>592.888916</td>\n",
       "      <td>2094.136475</td>\n",
       "      <td>986.571777</td>\n",
       "      <td>290.820709</td>\n",
       "      <td>285.188049</td>\n",
       "      <td>937.811218</td>\n",
       "      <td>616.976929</td>\n",
       "      <td>187.953934</td>\n",
       "      <td>...</td>\n",
       "      <td>0.0</td>\n",
       "      <td>0.0</td>\n",
       "      <td>0.0</td>\n",
       "      <td>0.0</td>\n",
       "      <td>3992.799316</td>\n",
       "      <td>1514.508545</td>\n",
       "      <td>1237.761108</td>\n",
       "      <td>3313.775146</td>\n",
       "      <td>0.0</td>\n",
       "      <td>1.000000</td>\n",
       "    </tr>\n",
       "  </tbody>\n",
       "</table>\n",
       "<p>8 rows × 806 columns</p>\n",
       "</div>"
      ],
      "text/plain": [
       "                 E_0           PX_0           PY_0           PZ_0  \\\n",
       "count  500000.000000  500000.000000  500000.000000  500000.000000   \n",
       "mean      233.519699       0.098696      -0.212851       0.242043   \n",
       "std       173.302368     121.680588     121.754112     234.382004   \n",
       "min        23.743198    -609.698792    -634.309448   -1939.883179   \n",
       "25%       124.773357     -82.606472     -82.834406     -97.847517   \n",
       "50%       182.505470      -0.094346      -0.194142      -0.051609   \n",
       "75%       280.929466      82.905062      82.645300      97.636534   \n",
       "max      2183.859863     627.447693     592.888916    2094.136475   \n",
       "\n",
       "                 E_1           PX_1           PY_1           PZ_1  \\\n",
       "count  500000.000000  500000.000000  500000.000000  500000.000000   \n",
       "mean      129.961075      -0.004187      -0.036495      -0.010762   \n",
       "std        82.246124      65.151344      65.181419     123.130104   \n",
       "min         0.000000    -284.398834    -293.485077    -928.762024   \n",
       "25%        77.015837     -49.665770     -49.699996     -59.298316   \n",
       "50%       107.595936      -0.090482      -0.124214      -0.011520   \n",
       "75%       156.691650      49.577889      49.644739      59.032970   \n",
       "max       986.571777     290.820709     285.188049     937.811218   \n",
       "\n",
       "                 E_2           PX_2  ...     E_199    PX_199    PY_199  \\\n",
       "count  500000.000000  500000.000000  ...  500000.0  500000.0  500000.0   \n",
       "mean       86.655083      -0.039681  ...       0.0       0.0       0.0   \n",
       "std        51.657852      42.780273  ...       0.0       0.0       0.0   \n",
       "min         0.000000    -179.685425  ...       0.0       0.0       0.0   \n",
       "25%        50.812329     -34.131699  ...       0.0       0.0       0.0   \n",
       "50%        73.617519      -0.087450  ...       0.0       0.0       0.0   \n",
       "75%       105.757202      34.006890  ...       0.0       0.0       0.0   \n",
       "max       616.976929     187.953934  ...       0.0       0.0       0.0   \n",
       "\n",
       "         PZ_199         truthE        truthPX        truthPY        truthPZ  \\\n",
       "count  500000.0  500000.000000  500000.000000  500000.000000  500000.000000   \n",
       "mean        0.0     437.723267      -0.581312      -0.836096      -1.487478   \n",
       "std         0.0     502.190857     296.309082     296.934662     503.197083   \n",
       "min         0.0       0.000000   -1398.610474   -1487.769287   -3928.353760   \n",
       "25%         0.0       0.000000       0.000000      -0.596871       0.000000   \n",
       "50%         0.0       0.000000       0.000000       0.000000       0.000000   \n",
       "75%         0.0     756.618073       0.000000       0.000000       0.000000   \n",
       "max         0.0    3992.799316    1514.508545    1237.761108    3313.775146   \n",
       "\n",
       "            ttv  is_signal_new  \n",
       "count  500000.0  500000.000000  \n",
       "mean        0.0       0.498324  \n",
       "std         0.0       0.499998  \n",
       "min         0.0       0.000000  \n",
       "25%         0.0       0.000000  \n",
       "50%         0.0       0.000000  \n",
       "75%         0.0       1.000000  \n",
       "max         0.0       1.000000  \n",
       "\n",
       "[8 rows x 806 columns]"
      ]
     },
     "execution_count": 13,
     "metadata": {},
     "output_type": "execute_result"
    }
   ],
   "source": [
    "train.describe()"
   ]
  },
  {
   "cell_type": "markdown",
   "metadata": {
    "id": "3h9dVUeSWHhw"
   },
   "source": [
    "We see how we have a **balanced dataset** (the mean of \"is_signal_new\" is 0.5. Let's distinguish between features and labels. Also, truthE, truthpx, truthpy, truthpz should be apart since it's only valid for tops"
   ]
  },
  {
   "cell_type": "code",
   "execution_count": 14,
   "metadata": {
    "colab": {
     "base_uri": "https://localhost:8080/"
    },
    "id": "8yQPbzDHWHhw",
    "outputId": "5ed3ea5a-ce80-445b-bf8f-1ed7101c2eb1"
   },
   "outputs": [
    {
     "name": "stdout",
     "output_type": "stream",
     "text": [
      "(500000, 800) (500000,) (250838, 4)\n"
     ]
    }
   ],
   "source": [
    "train_features = train.drop(columns=['truthE','truthPX','truthPY','truthPZ','ttv','is_signal_new'])\n",
    "train_labels = train['is_signal_new']\n",
    "top_momenta = train[['truthE','truthPX','truthPY','truthPZ']][train_labels==0]\n",
    "print(train_features.shape,train_labels.shape,top_momenta.shape)"
   ]
  },
  {
   "cell_type": "code",
   "execution_count": 15,
   "metadata": {
    "colab": {
     "base_uri": "https://localhost:8080/"
    },
    "id": "l2-QFnkPWHhx",
    "outputId": "cac33b62-7d84-4e19-8581-3d6b3735edb9"
   },
   "outputs": [
    {
     "name": "stdout",
     "output_type": "stream",
     "text": [
      "(100000, 800) (100000,) (49810, 4)\n"
     ]
    }
   ],
   "source": [
    "val_features = val.drop(columns=['truthE','truthPX','truthPY','truthPZ','ttv','is_signal_new'])\n",
    "val_labels = val['is_signal_new']\n",
    "val_top_momenta = val[['truthE','truthPX','truthPY','truthPZ']][val_labels==0]\n",
    "print(val_features.shape,val_labels.shape,val_top_momenta.shape)"
   ]
  },
  {
   "cell_type": "code",
   "execution_count": 16,
   "metadata": {
    "colab": {
     "base_uri": "https://localhost:8080/"
    },
    "id": "ivZxOm0GWHhx",
    "outputId": "72a4a96f-10d3-41a5-cce2-960e2c19ba13"
   },
   "outputs": [
    {
     "data": {
      "text/plain": [
       "(250838, (250838, 800), 249162)"
      ]
     },
     "execution_count": 16,
     "metadata": {},
     "output_type": "execute_result"
    }
   ],
   "source": [
    "np.sum(train_labels==0),train_features[train_labels==0].shape,np.sum(train_labels==1)"
   ]
  },
  {
   "cell_type": "code",
   "execution_count": 17,
   "metadata": {
    "colab": {
     "base_uri": "https://localhost:8080/",
     "height": 350
    },
    "id": "B-Sz3nAqWHhx",
    "outputId": "30baba53-26b9-4a91-90c7-a073d016f1cb"
   },
   "outputs": [
    {
     "data": {
      "text/html": [
       "<div>\n",
       "<style scoped>\n",
       "    .dataframe tbody tr th:only-of-type {\n",
       "        vertical-align: middle;\n",
       "    }\n",
       "\n",
       "    .dataframe tbody tr th {\n",
       "        vertical-align: top;\n",
       "    }\n",
       "\n",
       "    .dataframe thead th {\n",
       "        text-align: right;\n",
       "    }\n",
       "</style>\n",
       "<table border=\"1\" class=\"dataframe\">\n",
       "  <thead>\n",
       "    <tr style=\"text-align: right;\">\n",
       "      <th></th>\n",
       "      <th>E_0</th>\n",
       "      <th>PX_0</th>\n",
       "      <th>PY_0</th>\n",
       "      <th>PZ_0</th>\n",
       "      <th>E_1</th>\n",
       "      <th>PX_1</th>\n",
       "      <th>PY_1</th>\n",
       "      <th>PZ_1</th>\n",
       "      <th>E_2</th>\n",
       "      <th>PX_2</th>\n",
       "      <th>...</th>\n",
       "      <th>PY_197</th>\n",
       "      <th>PZ_197</th>\n",
       "      <th>E_198</th>\n",
       "      <th>PX_198</th>\n",
       "      <th>PY_198</th>\n",
       "      <th>PZ_198</th>\n",
       "      <th>E_199</th>\n",
       "      <th>PX_199</th>\n",
       "      <th>PY_199</th>\n",
       "      <th>PZ_199</th>\n",
       "    </tr>\n",
       "  </thead>\n",
       "  <tbody>\n",
       "    <tr>\n",
       "      <th>count</th>\n",
       "      <td>250838.000000</td>\n",
       "      <td>250838.000000</td>\n",
       "      <td>250838.000000</td>\n",
       "      <td>250838.000000</td>\n",
       "      <td>250838.000000</td>\n",
       "      <td>250838.000000</td>\n",
       "      <td>250838.000000</td>\n",
       "      <td>250838.000000</td>\n",
       "      <td>250838.000000</td>\n",
       "      <td>250838.000000</td>\n",
       "      <td>...</td>\n",
       "      <td>250838.0</td>\n",
       "      <td>250838.0</td>\n",
       "      <td>250838.0</td>\n",
       "      <td>250838.0</td>\n",
       "      <td>250838.0</td>\n",
       "      <td>250838.0</td>\n",
       "      <td>250838.0</td>\n",
       "      <td>250838.0</td>\n",
       "      <td>250838.0</td>\n",
       "      <td>250838.0</td>\n",
       "    </tr>\n",
       "    <tr>\n",
       "      <th>mean</th>\n",
       "      <td>287.215698</td>\n",
       "      <td>0.327478</td>\n",
       "      <td>0.064826</td>\n",
       "      <td>0.879631</td>\n",
       "      <td>151.365646</td>\n",
       "      <td>0.064748</td>\n",
       "      <td>0.134530</td>\n",
       "      <td>0.349442</td>\n",
       "      <td>95.309280</td>\n",
       "      <td>0.056802</td>\n",
       "      <td>...</td>\n",
       "      <td>0.0</td>\n",
       "      <td>0.0</td>\n",
       "      <td>0.0</td>\n",
       "      <td>0.0</td>\n",
       "      <td>0.0</td>\n",
       "      <td>0.0</td>\n",
       "      <td>0.0</td>\n",
       "      <td>0.0</td>\n",
       "      <td>0.0</td>\n",
       "      <td>0.0</td>\n",
       "    </tr>\n",
       "    <tr>\n",
       "      <th>std</th>\n",
       "      <td>207.597610</td>\n",
       "      <td>142.754608</td>\n",
       "      <td>142.669281</td>\n",
       "      <td>291.299957</td>\n",
       "      <td>96.558273</td>\n",
       "      <td>73.221466</td>\n",
       "      <td>73.247002</td>\n",
       "      <td>146.657776</td>\n",
       "      <td>59.407509</td>\n",
       "      <td>45.851921</td>\n",
       "      <td>...</td>\n",
       "      <td>0.0</td>\n",
       "      <td>0.0</td>\n",
       "      <td>0.0</td>\n",
       "      <td>0.0</td>\n",
       "      <td>0.0</td>\n",
       "      <td>0.0</td>\n",
       "      <td>0.0</td>\n",
       "      <td>0.0</td>\n",
       "      <td>0.0</td>\n",
       "      <td>0.0</td>\n",
       "    </tr>\n",
       "    <tr>\n",
       "      <th>min</th>\n",
       "      <td>23.743198</td>\n",
       "      <td>-609.698792</td>\n",
       "      <td>-634.309448</td>\n",
       "      <td>-1939.883179</td>\n",
       "      <td>0.000000</td>\n",
       "      <td>-284.398834</td>\n",
       "      <td>-293.485077</td>\n",
       "      <td>-928.762024</td>\n",
       "      <td>0.000000</td>\n",
       "      <td>-179.685425</td>\n",
       "      <td>...</td>\n",
       "      <td>0.0</td>\n",
       "      <td>0.0</td>\n",
       "      <td>0.0</td>\n",
       "      <td>0.0</td>\n",
       "      <td>0.0</td>\n",
       "      <td>0.0</td>\n",
       "      <td>0.0</td>\n",
       "      <td>0.0</td>\n",
       "      <td>0.0</td>\n",
       "      <td>0.0</td>\n",
       "    </tr>\n",
       "    <tr>\n",
       "      <th>25%</th>\n",
       "      <td>150.413422</td>\n",
       "      <td>-97.496674</td>\n",
       "      <td>-97.611715</td>\n",
       "      <td>-126.480492</td>\n",
       "      <td>87.534700</td>\n",
       "      <td>-54.833226</td>\n",
       "      <td>-54.822844</td>\n",
       "      <td>-72.054712</td>\n",
       "      <td>53.300901</td>\n",
       "      <td>-35.030373</td>\n",
       "      <td>...</td>\n",
       "      <td>0.0</td>\n",
       "      <td>0.0</td>\n",
       "      <td>0.0</td>\n",
       "      <td>0.0</td>\n",
       "      <td>0.0</td>\n",
       "      <td>0.0</td>\n",
       "      <td>0.0</td>\n",
       "      <td>0.0</td>\n",
       "      <td>0.0</td>\n",
       "      <td>0.0</td>\n",
       "    </tr>\n",
       "    <tr>\n",
       "      <th>50%</th>\n",
       "      <td>226.934143</td>\n",
       "      <td>0.198023</td>\n",
       "      <td>0.615853</td>\n",
       "      <td>0.255935</td>\n",
       "      <td>125.762245</td>\n",
       "      <td>-0.020492</td>\n",
       "      <td>0.287976</td>\n",
       "      <td>0.172867</td>\n",
       "      <td>81.219894</td>\n",
       "      <td>0.062273</td>\n",
       "      <td>...</td>\n",
       "      <td>0.0</td>\n",
       "      <td>0.0</td>\n",
       "      <td>0.0</td>\n",
       "      <td>0.0</td>\n",
       "      <td>0.0</td>\n",
       "      <td>0.0</td>\n",
       "      <td>0.0</td>\n",
       "      <td>0.0</td>\n",
       "      <td>0.0</td>\n",
       "      <td>0.0</td>\n",
       "    </tr>\n",
       "    <tr>\n",
       "      <th>75%</th>\n",
       "      <td>354.181137</td>\n",
       "      <td>97.861605</td>\n",
       "      <td>97.628479</td>\n",
       "      <td>128.260685</td>\n",
       "      <td>185.753586</td>\n",
       "      <td>55.102282</td>\n",
       "      <td>55.040820</td>\n",
       "      <td>72.491726</td>\n",
       "      <td>119.165270</td>\n",
       "      <td>35.183098</td>\n",
       "      <td>...</td>\n",
       "      <td>0.0</td>\n",
       "      <td>0.0</td>\n",
       "      <td>0.0</td>\n",
       "      <td>0.0</td>\n",
       "      <td>0.0</td>\n",
       "      <td>0.0</td>\n",
       "      <td>0.0</td>\n",
       "      <td>0.0</td>\n",
       "      <td>0.0</td>\n",
       "      <td>0.0</td>\n",
       "    </tr>\n",
       "    <tr>\n",
       "      <th>max</th>\n",
       "      <td>2183.859863</td>\n",
       "      <td>627.447693</td>\n",
       "      <td>592.888916</td>\n",
       "      <td>2094.136475</td>\n",
       "      <td>986.571777</td>\n",
       "      <td>290.820709</td>\n",
       "      <td>285.188049</td>\n",
       "      <td>937.811218</td>\n",
       "      <td>616.976929</td>\n",
       "      <td>187.953934</td>\n",
       "      <td>...</td>\n",
       "      <td>0.0</td>\n",
       "      <td>0.0</td>\n",
       "      <td>0.0</td>\n",
       "      <td>0.0</td>\n",
       "      <td>0.0</td>\n",
       "      <td>0.0</td>\n",
       "      <td>0.0</td>\n",
       "      <td>0.0</td>\n",
       "      <td>0.0</td>\n",
       "      <td>0.0</td>\n",
       "    </tr>\n",
       "  </tbody>\n",
       "</table>\n",
       "<p>8 rows × 800 columns</p>\n",
       "</div>"
      ],
      "text/plain": [
       "                 E_0           PX_0           PY_0           PZ_0  \\\n",
       "count  250838.000000  250838.000000  250838.000000  250838.000000   \n",
       "mean      287.215698       0.327478       0.064826       0.879631   \n",
       "std       207.597610     142.754608     142.669281     291.299957   \n",
       "min        23.743198    -609.698792    -634.309448   -1939.883179   \n",
       "25%       150.413422     -97.496674     -97.611715    -126.480492   \n",
       "50%       226.934143       0.198023       0.615853       0.255935   \n",
       "75%       354.181137      97.861605      97.628479     128.260685   \n",
       "max      2183.859863     627.447693     592.888916    2094.136475   \n",
       "\n",
       "                 E_1           PX_1           PY_1           PZ_1  \\\n",
       "count  250838.000000  250838.000000  250838.000000  250838.000000   \n",
       "mean      151.365646       0.064748       0.134530       0.349442   \n",
       "std        96.558273      73.221466      73.247002     146.657776   \n",
       "min         0.000000    -284.398834    -293.485077    -928.762024   \n",
       "25%        87.534700     -54.833226     -54.822844     -72.054712   \n",
       "50%       125.762245      -0.020492       0.287976       0.172867   \n",
       "75%       185.753586      55.102282      55.040820      72.491726   \n",
       "max       986.571777     290.820709     285.188049     937.811218   \n",
       "\n",
       "                 E_2           PX_2  ...    PY_197    PZ_197     E_198  \\\n",
       "count  250838.000000  250838.000000  ...  250838.0  250838.0  250838.0   \n",
       "mean       95.309280       0.056802  ...       0.0       0.0       0.0   \n",
       "std        59.407509      45.851921  ...       0.0       0.0       0.0   \n",
       "min         0.000000    -179.685425  ...       0.0       0.0       0.0   \n",
       "25%        53.300901     -35.030373  ...       0.0       0.0       0.0   \n",
       "50%        81.219894       0.062273  ...       0.0       0.0       0.0   \n",
       "75%       119.165270      35.183098  ...       0.0       0.0       0.0   \n",
       "max       616.976929     187.953934  ...       0.0       0.0       0.0   \n",
       "\n",
       "         PX_198    PY_198    PZ_198     E_199    PX_199    PY_199    PZ_199  \n",
       "count  250838.0  250838.0  250838.0  250838.0  250838.0  250838.0  250838.0  \n",
       "mean        0.0       0.0       0.0       0.0       0.0       0.0       0.0  \n",
       "std         0.0       0.0       0.0       0.0       0.0       0.0       0.0  \n",
       "min         0.0       0.0       0.0       0.0       0.0       0.0       0.0  \n",
       "25%         0.0       0.0       0.0       0.0       0.0       0.0       0.0  \n",
       "50%         0.0       0.0       0.0       0.0       0.0       0.0       0.0  \n",
       "75%         0.0       0.0       0.0       0.0       0.0       0.0       0.0  \n",
       "max         0.0       0.0       0.0       0.0       0.0       0.0       0.0  \n",
       "\n",
       "[8 rows x 800 columns]"
      ]
     },
     "execution_count": 17,
     "metadata": {},
     "output_type": "execute_result"
    }
   ],
   "source": [
    "train_features[train_labels==0].describe()"
   ]
  },
  {
   "cell_type": "markdown",
   "metadata": {
    "id": "t5E40l2VWHhy"
   },
   "source": [
    "We can start exploring the distributions to see how things look like. For instance, the $p_T$ distribution of the leading constituent."
   ]
  },
  {
   "cell_type": "code",
   "execution_count": 18,
   "metadata": {
    "colab": {
     "base_uri": "https://localhost:8080/",
     "height": 453
    },
    "id": "O8tBjUs2WHhy",
    "outputId": "adf8e468-8447-4998-875d-7db768ca9f1a"
   },
   "outputs": [
    {
     "data": {
      "image/png": "[encoded data removed]",
      "text/plain": [
       "<Figure size 640x480 with 1 Axes>"
      ]
     },
     "metadata": {},
     "output_type": "display_data"
    }
   ],
   "source": [
    "leading_pT = np.sqrt(train_features[\"PX_0\"]**2+train_features[\"PY_0\"]**2)\n",
    "plt.hist(leading_pT[train_labels==0],bins=np.arange(0,600,10),histtype='step',color='blue',label='QCD',density=True)\n",
    "plt.hist(leading_pT[train_labels==1],bins=np.arange(0,600,10),histtype='step',color='red',label='Top',density=True)\n",
    "plt.legend(loc='upper right')\n",
    "plt.ylabel('Density')\n",
    "plt.xlabel('Leading constituent $p_T$')\n",
    "plt.show()"
   ]
  },
  {
   "cell_type": "markdown",
   "metadata": {
    "id": "Z4wjp7A9WHhy"
   },
   "source": [
    "Already we see a nice difference! The Top is softer than the background for the leading constituent. We can explain this by looking at the jet mass distribution. Because the cosntituents are zero-padded, we can obtain the total momentum by summing carefully. I prefer to work in numpy, so I'll transform everything to numpy."
   ]
  },
  {
   "cell_type": "code",
   "execution_count": 19,
   "metadata": {
    "id": "YubG3B2TWHhy"
   },
   "outputs": [],
   "source": [
    "train_features = train_features.to_numpy()\n",
    "train_labels = train_labels.to_numpy()\n",
    "top_momenta = top_momenta.to_numpy()"
   ]
  },
  {
   "cell_type": "code",
   "execution_count": 20,
   "metadata": {
    "id": "adPrwj2iWHhy"
   },
   "outputs": [],
   "source": [
    "val_features = val_features.to_numpy()\n",
    "val_labels = val_labels.to_numpy()\n",
    "val_top_momenta = val_top_momenta.to_numpy()"
   ]
  },
  {
   "cell_type": "code",
   "execution_count": 21,
   "metadata": {
    "colab": {
     "base_uri": "https://localhost:8080/"
    },
    "id": "HzHEYZoSWHhz",
    "outputId": "65f81f45-425a-4693-dea4-b64080c0d169"
   },
   "outputs": [
    {
     "name": "stdout",
     "output_type": "stream",
     "text": [
      "(500000,) (500000,) (500000,) (500000,)\n"
     ]
    }
   ],
   "source": [
    "totalE = np.sum(train_features[:,0:801:4],axis=1)\n",
    "totalPX = np.sum(train_features[:,1:801:4],axis=1)\n",
    "totalPY = np.sum(train_features[:,2:801:4],axis=1)\n",
    "totalPZ = np.sum(train_features[:,3:801:4],axis=1)\n",
    "print(totalE.shape,totalPX.shape,totalPY.shape,totalPZ.shape)"
   ]
  },
  {
   "cell_type": "code",
   "execution_count": 22,
   "metadata": {
    "id": "NO-X4vKIWHhz"
   },
   "outputs": [
    {
     "name": "stderr",
     "output_type": "stream",
     "text": [
      "/tmp/ipykernel_26730/446176953.py:2: RuntimeWarning: invalid value encountered in sqrt\n",
      "  total_mass = np.where(total_mass > 0, np.sqrt(total_mass),0)\n"
     ]
    }
   ],
   "source": [
    "total_mass = totalE**2-totalPX**2-totalPY**2-totalPZ**2\n",
    "total_mass = np.where(total_mass > 0, np.sqrt(total_mass),0)"
   ]
  },
  {
   "cell_type": "code",
   "execution_count": 23,
   "metadata": {
    "colab": {
     "base_uri": "https://localhost:8080/"
    },
    "id": "Q4R5PjEpWHh0",
    "outputId": "0179e13c-c4e1-4ede-eb01-25b86e0e23b5"
   },
   "outputs": [
    {
     "data": {
      "text/plain": [
       "array([ 37.394016,  46.99734 ,  61.648197, ..., 172.09827 , 175.09676 ,\n",
       "       198.52327 ], dtype=float32)"
      ]
     },
     "execution_count": 23,
     "metadata": {},
     "output_type": "execute_result"
    }
   ],
   "source": [
    "total_mass"
   ]
  },
  {
   "cell_type": "code",
   "execution_count": 24,
   "metadata": {
    "colab": {
     "base_uri": "https://localhost:8080/",
     "height": 449
    },
    "id": "zqmZEzafWHh0",
    "outputId": "17961bc2-2325-4d6c-e505-cb2c4674d66b"
   },
   "outputs": [
    {
     "data": {
      "image/png": "[encoded data removed]",
      "text/plain": [
       "<Figure size 640x480 with 1 Axes>"
      ]
     },
     "metadata": {},
     "output_type": "display_data"
    }
   ],
   "source": [
    "plt.hist(total_mass[train_labels==0],bins=np.arange(0,350,10),histtype='step',color='blue',label='QCD',density=True)\n",
    "plt.hist(total_mass[train_labels==1],bins=np.arange(0,350,10),histtype='step',color='red',label='Top',density=True)\n",
    "plt.legend(loc='upper right')\n",
    "plt.ylabel('Density')\n",
    "plt.xlabel('Jet mass')\n",
    "plt.savefig('mass.png')\n",
    "plt.show()"
   ]
  },
  {
   "cell_type": "markdown",
   "metadata": {
    "id": "31B6Cf1DWHh0"
   },
   "source": [
    "The jet mass is centered around the top mass for Top jets, while it's softer for QCD jets. Is there any relationship between mass and the leading constituent $p_T$?"
   ]
  },
  {
   "cell_type": "code",
   "execution_count": 25,
   "metadata": {
    "colab": {
     "base_uri": "https://localhost:8080/"
    },
    "id": "JqaEKOYNWHh0",
    "outputId": "00feb41c-ff58-4184-c3dd-136e7ece211a"
   },
   "outputs": [
    {
     "data": {
      "text/plain": [
       "PearsonRResult(statistic=-0.47825946644683004, pvalue=0.0)"
      ]
     },
     "execution_count": 25,
     "metadata": {},
     "output_type": "execute_result"
    }
   ],
   "source": [
    "scipy.stats.pearsonr(total_mass,leading_pT)"
   ]
  },
  {
   "cell_type": "code",
   "execution_count": 26,
   "metadata": {
    "colab": {
     "base_uri": "https://localhost:8080/",
     "height": 466
    },
    "id": "0HozSxJCWHh0",
    "outputId": "f1cce47d-2ec3-43ec-acf7-aa09e7fbfe4c"
   },
   "outputs": [
    {
     "data": {
      "text/plain": [
       "Text(0, 0.5, 'Leading $p_T$')"
      ]
     },
     "execution_count": 26,
     "metadata": {},
     "output_type": "execute_result"
    },
    {
     "data": {
      "image/png": "[encoded data removed]",
      "text/plain": [
       "<Figure size 640x480 with 1 Axes>"
      ]
     },
     "metadata": {},
     "output_type": "display_data"
    }
   ],
   "source": [
    "plt.scatter(total_mass[train_labels==0],leading_pT[train_labels==0],c='blue')\n",
    "plt.scatter(total_mass[train_labels==1],leading_pT[train_labels==1],c='red')\n",
    "plt.xlabel('Jet mass')\n",
    "plt.ylabel('Leading $p_T$')"
   ]
  },
  {
   "cell_type": "markdown",
   "metadata": {
    "id": "AkCk3ueWWHh0"
   },
   "source": [
    "So, yes, but this doesn't look particularly useful. We can also look at other **global observables** . To do everything, its useful to compute the multiplicity. Because the energy is positive, we just need to check what's the first zero energy. We define a mask that can be used later on when using graphs."
   ]
  },
  {
   "cell_type": "code",
   "execution_count": 27,
   "metadata": {
    "colab": {
     "base_uri": "https://localhost:8080/"
    },
    "id": "sWp40f6xWHh0",
    "outputId": "616900c5-24e0-4f5d-9385-aeb68b4931cf"
   },
   "outputs": [
    {
     "name": "stdout",
     "output_type": "stream",
     "text": [
      "(500000,)\n"
     ]
    }
   ],
   "source": [
    "train_mask = (train_features[:,0:801:4] > 0)\n",
    "multiplicity = np.argmin(train_mask,axis=1)\n",
    "print(multiplicity.shape)"
   ]
  },
  {
   "cell_type": "code",
   "execution_count": 28,
   "metadata": {
    "colab": {
     "base_uri": "https://localhost:8080/"
    },
    "id": "LZW1erIfWHh0",
    "outputId": "cda64305-f038-4885-b0cf-d9191c05cd73"
   },
   "outputs": [
    {
     "name": "stdout",
     "output_type": "stream",
     "text": [
      "(100000,)\n"
     ]
    }
   ],
   "source": [
    "val_mask = (val_features[:,0:801:4] > 0)\n",
    "val_multiplicity = np.argmin(val_mask,axis=1)\n",
    "print(val_multiplicity.shape)"
   ]
  },
  {
   "cell_type": "code",
   "execution_count": 29,
   "metadata": {
    "colab": {
     "base_uri": "https://localhost:8080/",
     "height": 449
    },
    "id": "oFSOhMGbWHh0",
    "outputId": "78f50d52-8a00-44a0-ba76-2183995930bc"
   },
   "outputs": [
    {
     "data": {
      "image/png": "[encoded data removed]",
      "text/plain": [
       "<Figure size 640x480 with 1 Axes>"
      ]
     },
     "metadata": {},
     "output_type": "display_data"
    }
   ],
   "source": [
    "plt.hist(multiplicity[train_labels==0],bins=np.arange(-0.5,200.5,1),histtype='step',color='blue',label='QCD',density=True)\n",
    "plt.hist(multiplicity[train_labels==1],bins=np.arange(-0.5,200.5,1),histtype='step',color='red',label='Top',density=True)\n",
    "plt.legend(loc='upper right')\n",
    "plt.ylabel('Density')\n",
    "plt.xlabel('Multiplicity')\n",
    "plt.savefig('multiplicity.png')\n",
    "plt.show()"
   ]
  },
  {
   "cell_type": "code",
   "execution_count": 30,
   "metadata": {
    "colab": {
     "base_uri": "https://localhost:8080/",
     "height": 466
    },
    "id": "HjmiJA1aWHh1",
    "outputId": "bd47183b-edbb-41cb-e46d-3591796c716a"
   },
   "outputs": [
    {
     "data": {
      "text/plain": [
       "Text(0, 0.5, 'Multiplicity')"
      ]
     },
     "execution_count": 30,
     "metadata": {},
     "output_type": "execute_result"
    },
    {
     "data": {
      "image/png": "[encoded data removed]",
      "text/plain": [
       "<Figure size 640x480 with 1 Axes>"
      ]
     },
     "metadata": {},
     "output_type": "display_data"
    }
   ],
   "source": [
    "plt.scatter(total_mass[train_labels==0],multiplicity[train_labels==0],c='blue')\n",
    "plt.scatter(total_mass[train_labels==1],multiplicity[train_labels==1],c='red')\n",
    "plt.xlabel('Jet mass')\n",
    "plt.ylabel('Multiplicity')"
   ]
  },
  {
   "cell_type": "markdown",
   "metadata": {
    "id": "Pl4VYfkiWHh1"
   },
   "source": [
    "Let's compute the average $p_T$ (it's not the best observable but it's faster to compute). To do this, we need to move from (E,px,py,pz) to (pT,eta,phi,mass)."
   ]
  },
  {
   "cell_type": "code",
   "execution_count": 31,
   "metadata": {
    "id": "o0L7YPgWWHh1"
   },
   "outputs": [],
   "source": [
    "def Epxpypz_to_pTetaphimass(vec):\n",
    "    E, px, py, pz = vec[0], vec[1], vec[2], vec[3]\n",
    "    pT = np.sqrt(vec[1]**2+vec[2]**2)\n",
    "    phi = np.arctan2(vec[2],vec[2])\n",
    "    mass = np.sqrt(E**2-px**2-py**2-pz**2) if E**2-px**2-py**2-pz**2 > 0 else 0\n",
    "    eta = np.arctanh(pz/np.sqrt(px**2+py**2+pz**2))\n",
    "    return np.array([pT,eta,phi,mass])"
   ]
  },
  {
   "cell_type": "code",
   "execution_count": 32,
   "metadata": {
    "id": "rINt7-WeWHh1"
   },
   "outputs": [],
   "source": [
    "av_pT = np.zeros(len(train_features))\n",
    "for nevent in range(len(train_features)):\n",
    "    av_pT[nevent]=np.mean(np.sqrt(train_features[nevent,1:4*multiplicity[nevent]:4]**2+train_features[nevent,2:4*multiplicity[nevent]:4]**2))"
   ]
  },
  {
   "cell_type": "code",
   "execution_count": 33,
   "metadata": {
    "colab": {
     "base_uri": "https://localhost:8080/"
    },
    "id": "3QcPfUCOWHh1",
    "outputId": "3d73374c-9bf2-4969-9251-593251f0efe8"
   },
   "outputs": [
    {
     "data": {
      "text/plain": [
       "(499999, 500000)"
      ]
     },
     "execution_count": 33,
     "metadata": {},
     "output_type": "execute_result"
    }
   ],
   "source": [
    "nevent,len(train_features)"
   ]
  },
  {
   "cell_type": "code",
   "execution_count": 34,
   "metadata": {
    "colab": {
     "base_uri": "https://localhost:8080/",
     "height": 453
    },
    "id": "ixmh7witWHh1",
    "outputId": "4b8fc71d-949f-4dfa-9f58-d3715e8dfc76"
   },
   "outputs": [
    {
     "data": {
      "image/png": "[encoded data removed]",
      "text/plain": [
       "<Figure size 640x480 with 1 Axes>"
      ]
     },
     "metadata": {},
     "output_type": "display_data"
    }
   ],
   "source": [
    "plt.hist(av_pT[train_labels==0],bins=np.arange(-0.5,200.5,1),histtype='step',color='blue',label='QCD',density=True)\n",
    "plt.hist(av_pT[train_labels==1],bins=np.arange(-0.5,200.5,1),histtype='step',color='red',label='Top',density=True)\n",
    "plt.legend(loc='upper right')\n",
    "plt.ylabel('Density')\n",
    "plt.xlabel(r'$\\langle p_{T} \\rangle$')\n",
    "plt.savefig('av_pT.png')\n",
    "plt.show()"
   ]
  },
  {
   "cell_type": "code",
   "execution_count": 35,
   "metadata": {
    "colab": {
     "base_uri": "https://localhost:8080/",
     "height": 449
    },
    "id": "Dv52_XsqWHh2",
    "outputId": "74d87763-8ce6-436a-9c55-3a176b97b0cd"
   },
   "outputs": [
    {
     "data": {
      "image/png": "[encoded data removed]",
      "text/plain": [
       "<Figure size 640x480 with 1 Axes>"
      ]
     },
     "metadata": {},
     "output_type": "display_data"
    }
   ],
   "source": [
    "plt.scatter(total_mass[train_labels==0],av_pT[train_labels==0],c='blue',label='QCD')\n",
    "plt.scatter(total_mass[train_labels==1],av_pT[train_labels==1],c='red',label='Top')\n",
    "plt.legend(loc='upper right')\n",
    "plt.xlabel('Jet mass')\n",
    "plt.ylabel(r'$\\langle p_{T} \\rangle$')\n",
    "plt.legend(loc='upper right')\n",
    "plt.savefig('mass_av_pT.png')\n",
    "plt.show()"
   ]
  },
  {
   "cell_type": "markdown",
   "metadata": {
    "id": "9WcG0G56WHh3"
   },
   "source": [
    "# Baseline Classifier"
   ]
  },
  {
   "cell_type": "markdown",
   "metadata": {
    "id": "JdOH_MMXWHh3"
   },
   "source": [
    "We can use these two features to train a baseline classifier, let's use the simplest possible: a logistic regressor."
   ]
  },
  {
   "cell_type": "code",
   "execution_count": 36,
   "metadata": {
    "id": "eHZaXcCrWHh3"
   },
   "outputs": [],
   "source": [
    "from sklearn.linear_model import LogisticRegression\n",
    "lr = LogisticRegression()"
   ]
  },
  {
   "cell_type": "code",
   "execution_count": 37,
   "metadata": {
    "colab": {
     "base_uri": "https://localhost:8080/",
     "height": 92
    },
    "id": "vpCoSRLfWHh3",
    "outputId": "2b2080c7-e687-4772-9fcc-505df1752f2a"
   },
   "outputs": [
    {
     "name": "stdout",
     "output_type": "stream",
     "text": [
      "(500000, 2)\n"
     ]
    },
    {
     "data": {
      "text/html": [
       "<style>#sk-container-id-1 {\n",
       "  /* Definition of color scheme common for light and dark mode */\n",
       "  --sklearn-color-text: black;\n",
       "  --sklearn-color-line: gray;\n",
       "  /* Definition of color scheme for unfitted estimators */\n",
       "  --sklearn-color-unfitted-level-0: #fff5e6;\n",
       "  --sklearn-color-unfitted-level-1: #f6e4d2;\n",
       "  --sklearn-color-unfitted-level-2: #ffe0b3;\n",
       "  --sklearn-color-unfitted-level-3: chocolate;\n",
       "  /* Definition of color scheme for fitted estimators */\n",
       "  --sklearn-color-fitted-level-0: #f0f8ff;\n",
       "  --sklearn-color-fitted-level-1: #d4ebff;\n",
       "  --sklearn-color-fitted-level-2: #b3dbfd;\n",
       "  --sklearn-color-fitted-level-3: cornflowerblue;\n",
       "\n",
       "  /* Specific color for light theme */\n",
       "  --sklearn-color-text-on-default-background: var(--sg-text-color, var(--theme-code-foreground, var(--jp-content-font-color1, black)));\n",
       "  --sklearn-color-background: var(--sg-background-color, var(--theme-background, var(--jp-layout-color0, white)));\n",
       "  --sklearn-color-border-box: var(--sg-text-color, var(--theme-code-foreground, var(--jp-content-font-color1, black)));\n",
       "  --sklearn-color-icon: #696969;\n",
       "\n",
       "  @media (prefers-color-scheme: dark) {\n",
       "    /* Redefinition of color scheme for dark theme */\n",
       "    --sklearn-color-text-on-default-background: var(--sg-text-color, var(--theme-code-foreground, var(--jp-content-font-color1, white)));\n",
       "    --sklearn-color-background: var(--sg-background-color, var(--theme-background, var(--jp-layout-color0, #111)));\n",
       "    --sklearn-color-border-box: var(--sg-text-color, var(--theme-code-foreground, var(--jp-content-font-color1, white)));\n",
       "    --sklearn-color-icon: #878787;\n",
       "  }\n",
       "}\n",
       "\n",
       "#sk-container-id-1 {\n",
       "  color: var(--sklearn-color-text);\n",
       "}\n",
       "\n",
       "#sk-container-id-1 pre {\n",
       "  padding: 0;\n",
       "}\n",
       "\n",
       "#sk-container-id-1 input.sk-hidden--visually {\n",
       "  border: 0;\n",
       "  clip: rect(1px 1px 1px 1px);\n",
       "  clip: rect(1px, 1px, 1px, 1px);\n",
       "  height: 1px;\n",
       "  margin: -1px;\n",
       "  overflow: hidden;\n",
       "  padding: 0;\n",
       "  position: absolute;\n",
       "  width: 1px;\n",
       "}\n",
       "\n",
       "#sk-container-id-1 div.sk-dashed-wrapped {\n",
       "  border: 1px dashed var(--sklearn-color-line);\n",
       "  margin: 0 0.4em 0.5em 0.4em;\n",
       "  box-sizing: border-box;\n",
       "  padding-bottom: 0.4em;\n",
       "  background-color: var(--sklearn-color-background);\n",
       "}\n",
       "\n",
       "#sk-container-id-1 div.sk-container {\n",
       "  /* jupyter's `normalize.less` sets `[hidden] { display: none; }`\n",
       "     but bootstrap.min.css set `[hidden] { display: none !important; }`\n",
       "     so we also need the `!important` here to be able to override the\n",
       "     default hidden behavior on the sphinx rendered scikit-learn.org.\n",
       "     See: https://github.com/scikit-learn/scikit-learn/issues/21755 */\n",
       "  display: inline-block !important;\n",
       "  position: relative;\n",
       "}\n",
       "\n",
       "#sk-container-id-1 div.sk-text-repr-fallback {\n",
       "  display: none;\n",
       "}\n",
       "\n",
       "div.sk-parallel-item,\n",
       "div.sk-serial,\n",
       "div.sk-item {\n",
       "  /* draw centered vertical line to link estimators */\n",
       "  background-image: linear-gradient(var(--sklearn-color-text-on-default-background), var(--sklearn-color-text-on-default-background));\n",
       "  background-size: 2px 100%;\n",
       "  background-repeat: no-repeat;\n",
       "  background-position: center center;\n",
       "}\n",
       "\n",
       "/* Parallel-specific style estimator block */\n",
       "\n",
       "#sk-container-id-1 div.sk-parallel-item::after {\n",
       "  content: \"\";\n",
       "  width: 100%;\n",
       "  border-bottom: 2px solid var(--sklearn-color-text-on-default-background);\n",
       "  flex-grow: 1;\n",
       "}\n",
       "\n",
       "#sk-container-id-1 div.sk-parallel {\n",
       "  display: flex;\n",
       "  align-items: stretch;\n",
       "  justify-content: center;\n",
       "  background-color: var(--sklearn-color-background);\n",
       "  position: relative;\n",
       "}\n",
       "\n",
       "#sk-container-id-1 div.sk-parallel-item {\n",
       "  display: flex;\n",
       "  flex-direction: column;\n",
       "}\n",
       "\n",
       "#sk-container-id-1 div.sk-parallel-item:first-child::after {\n",
       "  align-self: flex-end;\n",
       "  width: 50%;\n",
       "}\n",
       "\n",
       "#sk-container-id-1 div.sk-parallel-item:last-child::after {\n",
       "  align-self: flex-start;\n",
       "  width: 50%;\n",
       "}\n",
       "\n",
       "#sk-container-id-1 div.sk-parallel-item:only-child::after {\n",
       "  width: 0;\n",
       "}\n",
       "\n",
       "/* Serial-specific style estimator block */\n",
       "\n",
       "#sk-container-id-1 div.sk-serial {\n",
       "  display: flex;\n",
       "  flex-direction: column;\n",
       "  align-items: center;\n",
       "  background-color: var(--sklearn-color-background);\n",
       "  padding-right: 1em;\n",
       "  padding-left: 1em;\n",
       "}\n",
       "\n",
       "\n",
       "/* Toggleable style: style used for estimator/Pipeline/ColumnTransformer box that is\n",
       "clickable and can be expanded/collapsed.\n",
       "- Pipeline and ColumnTransformer use this feature and define the default style\n",
       "- Estimators will overwrite some part of the style using the `sk-estimator` class\n",
       "*/\n",
       "\n",
       "/* Pipeline and ColumnTransformer style (default) */\n",
       "\n",
       "#sk-container-id-1 div.sk-toggleable {\n",
       "  /* Default theme specific background. It is overwritten whether we have a\n",
       "  specific estimator or a Pipeline/ColumnTransformer */\n",
       "  background-color: var(--sklearn-color-background);\n",
       "}\n",
       "\n",
       "/* Toggleable label */\n",
       "#sk-container-id-1 label.sk-toggleable__label {\n",
       "  cursor: pointer;\n",
       "  display: block;\n",
       "  width: 100%;\n",
       "  margin-bottom: 0;\n",
       "  padding: 0.5em;\n",
       "  box-sizing: border-box;\n",
       "  text-align: center;\n",
       "}\n",
       "\n",
       "#sk-container-id-1 label.sk-toggleable__label-arrow:before {\n",
       "  /* Arrow on the left of the label */\n",
       "  content: \"▸\";\n",
       "  float: left;\n",
       "  margin-right: 0.25em;\n",
       "  color: var(--sklearn-color-icon);\n",
       "}\n",
       "\n",
       "#sk-container-id-1 label.sk-toggleable__label-arrow:hover:before {\n",
       "  color: var(--sklearn-color-text);\n",
       "}\n",
       "\n",
       "/* Toggleable content - dropdown */\n",
       "\n",
       "#sk-container-id-1 div.sk-toggleable__content {\n",
       "  max-height: 0;\n",
       "  max-width: 0;\n",
       "  overflow: hidden;\n",
       "  text-align: left;\n",
       "  /* unfitted */\n",
       "  background-color: var(--sklearn-color-unfitted-level-0);\n",
       "}\n",
       "\n",
       "#sk-container-id-1 div.sk-toggleable__content.fitted {\n",
       "  /* fitted */\n",
       "  background-color: var(--sklearn-color-fitted-level-0);\n",
       "}\n",
       "\n",
       "#sk-container-id-1 div.sk-toggleable__content pre {\n",
       "  margin: 0.2em;\n",
       "  border-radius: 0.25em;\n",
       "  color: var(--sklearn-color-text);\n",
       "  /* unfitted */\n",
       "  background-color: var(--sklearn-color-unfitted-level-0);\n",
       "}\n",
       "\n",
       "#sk-container-id-1 div.sk-toggleable__content.fitted pre {\n",
       "  /* unfitted */\n",
       "  background-color: var(--sklearn-color-fitted-level-0);\n",
       "}\n",
       "\n",
       "#sk-container-id-1 input.sk-toggleable__control:checked~div.sk-toggleable__content {\n",
       "  /* Expand drop-down */\n",
       "  max-height: 200px;\n",
       "  max-width: 100%;\n",
       "  overflow: auto;\n",
       "}\n",
       "\n",
       "#sk-container-id-1 input.sk-toggleable__control:checked~label.sk-toggleable__label-arrow:before {\n",
       "  content: \"▾\";\n",
       "}\n",
       "\n",
       "/* Pipeline/ColumnTransformer-specific style */\n",
       "\n",
       "#sk-container-id-1 div.sk-label input.sk-toggleable__control:checked~label.sk-toggleable__label {\n",
       "  color: var(--sklearn-color-text);\n",
       "  background-color: var(--sklearn-color-unfitted-level-2);\n",
       "}\n",
       "\n",
       "#sk-container-id-1 div.sk-label.fitted input.sk-toggleable__control:checked~label.sk-toggleable__label {\n",
       "  background-color: var(--sklearn-color-fitted-level-2);\n",
       "}\n",
       "\n",
       "/* Estimator-specific style */\n",
       "\n",
       "/* Colorize estimator box */\n",
       "#sk-container-id-1 div.sk-estimator input.sk-toggleable__control:checked~label.sk-toggleable__label {\n",
       "  /* unfitted */\n",
       "  background-color: var(--sklearn-color-unfitted-level-2);\n",
       "}\n",
       "\n",
       "#sk-container-id-1 div.sk-estimator.fitted input.sk-toggleable__control:checked~label.sk-toggleable__label {\n",
       "  /* fitted */\n",
       "  background-color: var(--sklearn-color-fitted-level-2);\n",
       "}\n",
       "\n",
       "#sk-container-id-1 div.sk-label label.sk-toggleable__label,\n",
       "#sk-container-id-1 div.sk-label label {\n",
       "  /* The background is the default theme color */\n",
       "  color: var(--sklearn-color-text-on-default-background);\n",
       "}\n",
       "\n",
       "/* On hover, darken the color of the background */\n",
       "#sk-container-id-1 div.sk-label:hover label.sk-toggleable__label {\n",
       "  color: var(--sklearn-color-text);\n",
       "  background-color: var(--sklearn-color-unfitted-level-2);\n",
       "}\n",
       "\n",
       "/* Label box, darken color on hover, fitted */\n",
       "#sk-container-id-1 div.sk-label.fitted:hover label.sk-toggleable__label.fitted {\n",
       "  color: var(--sklearn-color-text);\n",
       "  background-color: var(--sklearn-color-fitted-level-2);\n",
       "}\n",
       "\n",
       "/* Estimator label */\n",
       "\n",
       "#sk-container-id-1 div.sk-label label {\n",
       "  font-family: monospace;\n",
       "  font-weight: bold;\n",
       "  display: inline-block;\n",
       "  line-height: 1.2em;\n",
       "}\n",
       "\n",
       "#sk-container-id-1 div.sk-label-container {\n",
       "  text-align: center;\n",
       "}\n",
       "\n",
       "/* Estimator-specific */\n",
       "#sk-container-id-1 div.sk-estimator {\n",
       "  font-family: monospace;\n",
       "  border: 1px dotted var(--sklearn-color-border-box);\n",
       "  border-radius: 0.25em;\n",
       "  box-sizing: border-box;\n",
       "  margin-bottom: 0.5em;\n",
       "  /* unfitted */\n",
       "  background-color: var(--sklearn-color-unfitted-level-0);\n",
       "}\n",
       "\n",
       "#sk-container-id-1 div.sk-estimator.fitted {\n",
       "  /* fitted */\n",
       "  background-color: var(--sklearn-color-fitted-level-0);\n",
       "}\n",
       "\n",
       "/* on hover */\n",
       "#sk-container-id-1 div.sk-estimator:hover {\n",
       "  /* unfitted */\n",
       "  background-color: var(--sklearn-color-unfitted-level-2);\n",
       "}\n",
       "\n",
       "#sk-container-id-1 div.sk-estimator.fitted:hover {\n",
       "  /* fitted */\n",
       "  background-color: var(--sklearn-color-fitted-level-2);\n",
       "}\n",
       "\n",
       "/* Specification for estimator info (e.g. \"i\" and \"?\") */\n",
       "\n",
       "/* Common style for \"i\" and \"?\" */\n",
       "\n",
       ".sk-estimator-doc-link,\n",
       "a:link.sk-estimator-doc-link,\n",
       "a:visited.sk-estimator-doc-link {\n",
       "  float: right;\n",
       "  font-size: smaller;\n",
       "  line-height: 1em;\n",
       "  font-family: monospace;\n",
       "  background-color: var(--sklearn-color-background);\n",
       "  border-radius: 1em;\n",
       "  height: 1em;\n",
       "  width: 1em;\n",
       "  text-decoration: none !important;\n",
       "  margin-left: 1ex;\n",
       "  /* unfitted */\n",
       "  border: var(--sklearn-color-unfitted-level-1) 1pt solid;\n",
       "  color: var(--sklearn-color-unfitted-level-1);\n",
       "}\n",
       "\n",
       ".sk-estimator-doc-link.fitted,\n",
       "a:link.sk-estimator-doc-link.fitted,\n",
       "a:visited.sk-estimator-doc-link.fitted {\n",
       "  /* fitted */\n",
       "  border: var(--sklearn-color-fitted-level-1) 1pt solid;\n",
       "  color: var(--sklearn-color-fitted-level-1);\n",
       "}\n",
       "\n",
       "/* On hover */\n",
       "div.sk-estimator:hover .sk-estimator-doc-link:hover,\n",
       ".sk-estimator-doc-link:hover,\n",
       "div.sk-label-container:hover .sk-estimator-doc-link:hover,\n",
       ".sk-estimator-doc-link:hover {\n",
       "  /* unfitted */\n",
       "  background-color: var(--sklearn-color-unfitted-level-3);\n",
       "  color: var(--sklearn-color-background);\n",
       "  text-decoration: none;\n",
       "}\n",
       "\n",
       "div.sk-estimator.fitted:hover .sk-estimator-doc-link.fitted:hover,\n",
       ".sk-estimator-doc-link.fitted:hover,\n",
       "div.sk-label-container:hover .sk-estimator-doc-link.fitted:hover,\n",
       ".sk-estimator-doc-link.fitted:hover {\n",
       "  /* fitted */\n",
       "  background-color: var(--sklearn-color-fitted-level-3);\n",
       "  color: var(--sklearn-color-background);\n",
       "  text-decoration: none;\n",
       "}\n",
       "\n",
       "/* Span, style for the box shown on hovering the info icon */\n",
       ".sk-estimator-doc-link span {\n",
       "  display: none;\n",
       "  z-index: 9999;\n",
       "  position: relative;\n",
       "  font-weight: normal;\n",
       "  right: .2ex;\n",
       "  padding: .5ex;\n",
       "  margin: .5ex;\n",
       "  width: min-content;\n",
       "  min-width: 20ex;\n",
       "  max-width: 50ex;\n",
       "  color: var(--sklearn-color-text);\n",
       "  box-shadow: 2pt 2pt 4pt #999;\n",
       "  /* unfitted */\n",
       "  background: var(--sklearn-color-unfitted-level-0);\n",
       "  border: .5pt solid var(--sklearn-color-unfitted-level-3);\n",
       "}\n",
       "\n",
       ".sk-estimator-doc-link.fitted span {\n",
       "  /* fitted */\n",
       "  background: var(--sklearn-color-fitted-level-0);\n",
       "  border: var(--sklearn-color-fitted-level-3);\n",
       "}\n",
       "\n",
       ".sk-estimator-doc-link:hover span {\n",
       "  display: block;\n",
       "}\n",
       "\n",
       "/* \"?\"-specific style due to the `<a>` HTML tag */\n",
       "\n",
       "#sk-container-id-1 a.estimator_doc_link {\n",
       "  float: right;\n",
       "  font-size: 1rem;\n",
       "  line-height: 1em;\n",
       "  font-family: monospace;\n",
       "  background-color: var(--sklearn-color-background);\n",
       "  border-radius: 1rem;\n",
       "  height: 1rem;\n",
       "  width: 1rem;\n",
       "  text-decoration: none;\n",
       "  /* unfitted */\n",
       "  color: var(--sklearn-color-unfitted-level-1);\n",
       "  border: var(--sklearn-color-unfitted-level-1) 1pt solid;\n",
       "}\n",
       "\n",
       "#sk-container-id-1 a.estimator_doc_link.fitted {\n",
       "  /* fitted */\n",
       "  border: var(--sklearn-color-fitted-level-1) 1pt solid;\n",
       "  color: var(--sklearn-color-fitted-level-1);\n",
       "}\n",
       "\n",
       "/* On hover */\n",
       "#sk-container-id-1 a.estimator_doc_link:hover {\n",
       "  /* unfitted */\n",
       "  background-color: var(--sklearn-color-unfitted-level-3);\n",
       "  color: var(--sklearn-color-background);\n",
       "  text-decoration: none;\n",
       "}\n",
       "\n",
       "#sk-container-id-1 a.estimator_doc_link.fitted:hover {\n",
       "  /* fitted */\n",
       "  background-color: var(--sklearn-color-fitted-level-3);\n",
       "}\n",
       "</style><div id=\"sk-container-id-1\" class=\"sk-top-container\"><div class=\"sk-text-repr-fallback\"><pre>LogisticRegression()</pre><b>In a Jupyter environment, please rerun this cell to show the HTML representation or trust the notebook. <br />On GitHub, the HTML representation is unable to render, please try loading this page with nbviewer.org.</b></div><div class=\"sk-container\" hidden><div class=\"sk-item\"><div class=\"sk-estimator fitted sk-toggleable\"><input class=\"sk-toggleable__control sk-hidden--visually\" id=\"sk-estimator-id-1\" type=\"checkbox\" checked><label for=\"sk-estimator-id-1\" class=\"sk-toggleable__label fitted sk-toggleable__label-arrow fitted\">&nbsp;&nbsp;LogisticRegression<a class=\"sk-estimator-doc-link fitted\" rel=\"noreferrer\" target=\"_blank\" href=\"https://scikit-learn.org/1.4/modules/generated/sklearn.linear_model.LogisticRegression.html\">?<span>Documentation for LogisticRegression</span></a><span class=\"sk-estimator-doc-link fitted\">i<span>Fitted</span></span></label><div class=\"sk-toggleable__content fitted\"><pre>LogisticRegression()</pre></div> </div></div></div></div>"
      ],
      "text/plain": [
       "LogisticRegression()"
      ]
     },
     "execution_count": 37,
     "metadata": {},
     "output_type": "execute_result"
    }
   ],
   "source": [
    "X_train = np.vstack([total_mass,av_pT]).T\n",
    "print(X_train.shape)\n",
    "lr.fit(X_train,train_labels)"
   ]
  },
  {
   "cell_type": "code",
   "execution_count": 38,
   "metadata": {
    "id": "cKot0ONhWHh3"
   },
   "outputs": [],
   "source": [
    "proba_lr = lr.predict_proba(X_train)[:,1]\n",
    "assignment_lr = lr.predict(X_train) # it's just 0 if proba < 0.5 and 1 otherwise"
   ]
  },
  {
   "cell_type": "code",
   "execution_count": 39,
   "metadata": {
    "colab": {
     "base_uri": "https://localhost:8080/"
    },
    "id": "bPDKIUiRWHh3",
    "outputId": "11de1217-a85a-4642-c8da-1caf324ee8db"
   },
   "outputs": [
    {
     "data": {
      "text/plain": [
       "array([0.01346516, 0.00784004, 0.0170622 , ..., 0.88837949, 0.82817595,\n",
       "       0.92391527])"
      ]
     },
     "execution_count": 39,
     "metadata": {},
     "output_type": "execute_result"
    }
   ],
   "source": [
    "proba_lr"
   ]
  },
  {
   "cell_type": "markdown",
   "metadata": {
    "id": "r9lCduU9WHh3"
   },
   "source": [
    "Let's see how the probability region looks"
   ]
  },
  {
   "cell_type": "code",
   "execution_count": 40,
   "metadata": {
    "colab": {
     "base_uri": "https://localhost:8080/",
     "height": 449
    },
    "id": "XT_X_R-4WHh3",
    "outputId": "e45749f6-cbef-4443-f59f-5f30865b146a"
   },
   "outputs": [
    {
     "data": {
      "image/png": "[encoded data removed]",
      "text/plain": [
       "<Figure size 640x480 with 1 Axes>"
      ]
     },
     "metadata": {},
     "output_type": "display_data"
    }
   ],
   "source": [
    "plt.hist(proba_lr[train_labels==0],bins=np.linspace(0,1,50),histtype='step',color='blue',label='QCD',density=True)\n",
    "plt.hist(proba_lr[train_labels==1],bins=np.linspace(0,1,50),histtype='step',color='red',label='Top',density=True)\n",
    "plt.legend(loc='upper right')\n",
    "plt.ylabel('Density')\n",
    "plt.xlabel('Probability')\n",
    "plt.savefig('proba_lr.png')\n",
    "plt.show()"
   ]
  },
  {
   "cell_type": "code",
   "execution_count": 41,
   "metadata": {
    "colab": {
     "base_uri": "https://localhost:8080/",
     "height": 455
    },
    "id": "tMYWc4JIWHh4",
    "outputId": "cbb9678d-e634-4e16-e599-094e33216aba"
   },
   "outputs": [
    {
     "data": {
      "image/png": "[encoded data removed]",
      "text/plain": [
       "<Figure size 640x480 with 2 Axes>"
      ]
     },
     "metadata": {},
     "output_type": "display_data"
    }
   ],
   "source": [
    "x1=np.linspace(0,350,100)\n",
    "x2=np.linspace(0,200,100)\n",
    "X1toplot,X2toplot=np.meshgrid(x1,x2)\n",
    "#plt.xlim(0.0,0.2)\n",
    "#plt.ylim(0.0,0.2)\n",
    "plt.scatter(total_mass[train_labels==0],av_pT[train_labels==0],c='blue',alpha=0.1,label='QCD')\n",
    "plt.scatter(total_mass[train_labels==1],av_pT[train_labels==1],c='red',alpha=0.1,label='Top')\n",
    "Z=(np.asarray([lr.predict_proba(np.asarray([el[0],el[1]]).reshape(1,-1))[0,1] for el in np.c_[X1toplot.ravel(), X2toplot.ravel()]])).reshape(X1toplot.shape)\n",
    "\n",
    "contour = plt.contourf(X1toplot,X2toplot,Z,levels=[0,0.5,1],alpha=0.6)\n",
    "plt.colorbar(contour)\n",
    "\n",
    "\n",
    "plt.xlim(0,350)\n",
    "plt.ylim(0,200)\n",
    "plt.xlabel('Jet mass')\n",
    "plt.ylabel(r'$\\langle p_{T} \\rangle$')\n",
    "plt.legend(loc='upper right')\n",
    "plt.savefig('classifier_space_lr.png')\n",
    "plt.show()"
   ]
  },
  {
   "cell_type": "markdown",
   "metadata": {
    "id": "goFEX1CjWHh4"
   },
   "source": [
    "To evaluate the model, we need metrics. The logistic regressor outputs a probability and a hard assignment"
   ]
  },
  {
   "cell_type": "code",
   "execution_count": 44,
   "metadata": {
    "colab": {
     "base_uri": "https://localhost:8080/"
    },
    "id": "27NBIxBuWHh4",
    "outputId": "99187572-0131-4642-f535-f01b61e332d1"
   },
   "outputs": [
    {
     "name": "stdout",
     "output_type": "stream",
     "text": [
      "0.891444 0.910334261676372\n"
     ]
    }
   ],
   "source": [
    "from sklearn.metrics import accuracy_score, roc_auc_score, confusion_matrix\n",
    "print(accuracy_score(train_labels,assignment_lr),roc_auc_score(train_labels,proba_lr))"
   ]
  },
  {
   "cell_type": "markdown",
   "metadata": {
    "id": "WaDex_bYWHh4"
   },
   "source": [
    "Let's show the confusion matrix: row is true class, column predicted class."
   ]
  },
  {
   "cell_type": "code",
   "execution_count": 45,
   "metadata": {
    "colab": {
     "base_uri": "https://localhost:8080/"
    },
    "id": "TBf6Cc1oWHh4",
    "outputId": "d2c57072-166e-4eaf-e4bd-786d1ac2db34"
   },
   "outputs": [
    {
     "data": {
      "text/plain": [
       "array([[210189,  40649],\n",
       "       [ 13629, 235533]])"
      ]
     },
     "execution_count": 45,
     "metadata": {},
     "output_type": "execute_result"
    }
   ],
   "source": [
    "confusion_matrix(train_labels,assignment_lr)"
   ]
  },
  {
   "cell_type": "markdown",
   "metadata": {
    "id": "nFiQ8_0fWHh4"
   },
   "source": [
    "We see how many more QCD are tagged as tops than QCD as tops. This can be seen from the 2d plot above."
   ]
  },
  {
   "cell_type": "markdown",
   "metadata": {
    "id": "S1O2IEygWHh5"
   },
   "source": [
    "Let's plot the ROC Curve. There are many ways to plot, we'll do (FPR,TPR) so that up and left is better."
   ]
  },
  {
   "cell_type": "code",
   "execution_count": 46,
   "metadata": {
    "id": "253L01x_WHh5"
   },
   "outputs": [],
   "source": [
    "from sklearn.metrics import roc_curve\n",
    "fpr_lr, tpr_lr, thr_lr = roc_curve(train_labels,proba_lr)"
   ]
  },
  {
   "cell_type": "code",
   "execution_count": 47,
   "metadata": {
    "colab": {
     "base_uri": "https://localhost:8080/",
     "height": 449
    },
    "id": "JGQNScjtWHh5",
    "outputId": "8e6f2fe5-d155-48bd-fe9b-84497d02c895"
   },
   "outputs": [
    {
     "data": {
      "image/png": "[encoded data removed]",
      "text/plain": [
       "<Figure size 640x480 with 1 Axes>"
      ]
     },
     "metadata": {},
     "output_type": "display_data"
    }
   ],
   "source": [
    "plt.plot(fpr_lr,tpr_lr,label='Logistic Regression '+str(round(roc_auc_score(train_labels,proba_lr),3)))\n",
    "plt.plot(np.linspace(0,1,10),np.linspace(0,1,10),linestyle='dashed',color='black',label='Random')\n",
    "plt.xlabel('FPR')\n",
    "plt.ylabel('TPR')\n",
    "plt.legend(loc='lower right')\n",
    "plt.savefig('roc_curve.png')"
   ]
  },
  {
   "cell_type": "markdown",
   "metadata": {
    "id": "USn6JeelWHh5"
   },
   "source": [
    "Evaluate on validation"
   ]
  },
  {
   "cell_type": "code",
   "execution_count": 48,
   "metadata": {
    "id": "1Y8p8xzxWHh5"
   },
   "outputs": [],
   "source": [
    "val_total_mass = np.sum(val_features[:,0:801:4],axis=1)**2-np.sum(val_features[:,1:801:4],axis=1)**2-np.sum(val_features[:,2:801:4],axis=1)**2-np.sum(val_features[:,3:801:4],axis=1)**2\n",
    "val_total_mass = np.where(val_total_mass > 0, np.sqrt(val_total_mass),0)"
   ]
  },
  {
   "cell_type": "code",
   "execution_count": 49,
   "metadata": {
    "colab": {
     "base_uri": "https://localhost:8080/"
    },
    "id": "598iHdJbWHh5",
    "outputId": "0893c0ee-3cf6-4297-d588-65a10814dab0"
   },
   "outputs": [
    {
     "data": {
      "text/plain": [
       "array([ 29.406233, 157.04945 , 226.96985 , ..., 173.36552 , 184.85028 ,\n",
       "       130.6595  ], dtype=float32)"
      ]
     },
     "execution_count": 49,
     "metadata": {},
     "output_type": "execute_result"
    }
   ],
   "source": [
    "val_total_mass"
   ]
  },
  {
   "cell_type": "code",
   "execution_count": 50,
   "metadata": {
    "id": "AYTvowx6WHh5"
   },
   "outputs": [],
   "source": [
    "val_av_pT = np.zeros(len(val_features))\n",
    "for nevent in range(len(val_features)):\n",
    "    val_av_pT[nevent]=np.mean(np.sqrt(val_features[nevent,1:4*val_multiplicity[nevent]:4]**2+val_features[nevent,2:4*val_multiplicity[nevent]:4]**2))"
   ]
  },
  {
   "cell_type": "code",
   "execution_count": 51,
   "metadata": {
    "colab": {
     "base_uri": "https://localhost:8080/"
    },
    "id": "W7yMOFTAWHh6",
    "outputId": "53ec88e3-10c6-47c9-eabd-df6dfdbaedf9"
   },
   "outputs": [
    {
     "name": "stdout",
     "output_type": "stream",
     "text": [
      "(100000, 2)\n"
     ]
    }
   ],
   "source": [
    "X_val = np.vstack([val_total_mass,val_av_pT]).T\n",
    "print(X_val.shape)\n",
    "val_proba_lr = lr.predict_proba(X_val)[:,1]\n",
    "val_assignmnet_lr = lr.predict(X_val)"
   ]
  },
  {
   "cell_type": "code",
   "execution_count": 52,
   "metadata": {
    "colab": {
     "base_uri": "https://localhost:8080/",
     "height": 449
    },
    "id": "-PFPK2rqWHh6",
    "outputId": "6a55034a-0cba-4dde-a096-5917b0fb3e68"
   },
   "outputs": [
    {
     "data": {
      "image/png": "[encoded data removed]",
      "text/plain": [
       "<Figure size 640x480 with 1 Axes>"
      ]
     },
     "metadata": {},
     "output_type": "display_data"
    }
   ],
   "source": [
    "plt.hist(val_proba_lr[val_labels==0],bins=np.linspace(0,1,50),histtype='step',color='blue',label='QCD',density=True)\n",
    "plt.hist(val_proba_lr[val_labels==1],bins=np.linspace(0,1,50),histtype='step',color='red',label='Top',density=True)\n",
    "plt.legend(loc='upper right')\n",
    "plt.ylabel('Density')\n",
    "plt.xlabel('Probability')\n",
    "plt.show()"
   ]
  },
  {
   "cell_type": "code",
   "execution_count": 53,
   "metadata": {
    "colab": {
     "base_uri": "https://localhost:8080/"
    },
    "id": "Ry6WXLlpWHh6",
    "outputId": "ad894c79-8ce4-4be8-d0e8-63294a091fb4"
   },
   "outputs": [
    {
     "name": "stdout",
     "output_type": "stream",
     "text": [
      "0.89114 0.9103360564526553\n"
     ]
    }
   ],
   "source": [
    "print(accuracy_score(val_labels,val_assignmnet_lr),roc_auc_score(val_labels,val_proba_lr))"
   ]
  },
  {
   "cell_type": "code",
   "execution_count": 54,
   "metadata": {
    "id": "UgIxUhfVWHh6"
   },
   "outputs": [],
   "source": [
    "val_fpr_lr, val_tpr_lr, val_thr_lr = roc_curve(val_labels,val_proba_lr)"
   ]
  },
  {
   "cell_type": "code",
   "execution_count": 55,
   "metadata": {
    "colab": {
     "base_uri": "https://localhost:8080/",
     "height": 466
    },
    "id": "epR32ypLWHh6",
    "outputId": "4fcdb289-b27c-4e83-a665-f04cc75920f5"
   },
   "outputs": [
    {
     "data": {
      "text/plain": [
       "<matplotlib.legend.Legend at 0x7d0a7f1b3f70>"
      ]
     },
     "execution_count": 55,
     "metadata": {},
     "output_type": "execute_result"
    },
    {
     "data": {
      "image/png": "[encoded data removed]",
      "text/plain": [
       "<Figure size 640x480 with 1 Axes>"
      ]
     },
     "metadata": {},
     "output_type": "display_data"
    }
   ],
   "source": [
    "plt.plot(val_fpr_lr,val_tpr_lr,label='Logistic Regression '+str(round(roc_auc_score(val_labels,val_proba_lr),3)))\n",
    "plt.plot(np.linspace(0,1,10),np.linspace(0,1,10),linestyle='dashed',color='black',label='Random')\n",
    "plt.xlabel('FPR')\n",
    "plt.ylabel('TPR')\n",
    "plt.legend(loc='lower right')"
   ]
  },
  {
   "cell_type": "markdown",
   "metadata": {
    "id": "mZTmSxYmWHh6"
   },
   "source": [
    "## Exercise:\n",
    "\n",
    "Redo this using the $C_{3}$ coefficient defined [here](https://arxiv.org/pdf/1305.0007) instead of the average $p_T$. It's much slower to compute, that's why we do not use it here."
   ]
  },
  {
   "cell_type": "markdown",
   "metadata": {
    "id": "ALykhMLxWHh6"
   },
   "source": [
    "# A home-made DeepSets classifier: [ParticleFlow Network](http://arxiv.org/abs/1810.05165)"
   ]
  },
  {
   "cell_type": "markdown",
   "metadata": {
    "id": "CM3GYdOXWHh7"
   },
   "source": [
    "We will do a ParticleFlow network but in 4-momenta space, without using the ($p_{T}$,$\\eta$,$\\phi$) representation. This will probably cost some performance, but it takes a bit longer to preprocess 1M events. You probably want to do that (and maybe try a CNN there as well!)"
   ]
  },
  {
   "cell_type": "markdown",
   "metadata": {
    "id": "MS9xbKLpWHh7"
   },
   "source": [
    "We'll define a custom Dataset and a custom Neural Network class in Pytorch.\n",
    "\n",
    "Our dataset should have features, label and mask to indicate which particles are zero-padded"
   ]
  },
  {
   "cell_type": "code",
   "execution_count": 56,
   "metadata": {
    "id": "_G0fk9rNWHh7"
   },
   "outputs": [],
   "source": [
    "class CustomDataset(torch.utils.data.Dataset):\n",
    "    \"\"\"\n",
    "    Joins the x and y into a dataset, so that it can be used by the pythorch syntax.\n",
    "    \"\"\"\n",
    "\n",
    "    def __init__(self, x, y,m):\n",
    "        self.x = torch.tensor(x).to(torch.float)\n",
    "        self.y = torch.tensor(y).to(torch.float)\n",
    "        self.m = torch.tensor(m).to(torch.float)\n",
    "\n",
    "    def __len__(self):\n",
    "        return len(self.x)\n",
    "\n",
    "    def __getitem__(self, idx):\n",
    "        if torch.is_tensor(idx):\n",
    "            idx = idx.tolist()\n",
    "        sample = [self.x[idx], self.y[idx],self.m[idx]]\n",
    "        return sample"
   ]
  },
  {
   "cell_type": "markdown",
   "metadata": {
    "id": "vzVWZAV8WHh7"
   },
   "source": [
    "Let's standarize the dataset,otherwise the training gets really hard"
   ]
  },
  {
   "cell_type": "code",
   "execution_count": 57,
   "metadata": {
    "id": "XE2SWCB0WHh7"
   },
   "outputs": [],
   "source": [
    "maxE = np.max(train_features[:,0:801:4])\n",
    "maxPX = np.max(np.abs(train_features[:,1:801:4]))\n",
    "maxPY = np.max(np.abs(train_features[:,2:801:4]))\n",
    "maxPZ = np.max(np.abs(train_features[:,3:801:4]))\n",
    "\n",
    "meanE = np.mean(train_features[:,0:801:4].flatten()[train_mask.flatten()])\n",
    "meanPX = np.mean(train_features[:,1:801:4].flatten()[train_mask.flatten()])\n",
    "meanPY = np.mean(train_features[:,2:801:4].flatten()[train_mask.flatten()])\n",
    "meanPZ = np.mean(train_features[:,3:801:4].flatten()[train_mask.flatten()])\n",
    "\n",
    "stdE = np.std(train_features[:,0:801:4].flatten()[train_mask.flatten()])\n",
    "stdPX = np.std(train_features[:,1:801:4].flatten()[train_mask.flatten()])\n",
    "stdPY = np.std(train_features[:,2:801:4].flatten()[train_mask.flatten()])\n",
    "stdPZ = np.std(train_features[:,3:801:4].flatten()[train_mask.flatten()])"
   ]
  },
  {
   "cell_type": "code",
   "execution_count": 58,
   "metadata": {
    "colab": {
     "base_uri": "https://localhost:8080/"
    },
    "id": "3FhIoXx-WHh7",
    "outputId": "0c38dd0b-c2fd-4caa-fa9a-41fd90ba61db"
   },
   "outputs": [
    {
     "name": "stdout",
     "output_type": "stream",
     "text": [
      "2183.8599 627.4477 634.30945 2094.1365\n"
     ]
    }
   ],
   "source": [
    "print(maxE,maxPX,maxPY,maxPZ)"
   ]
  },
  {
   "cell_type": "code",
   "execution_count": 59,
   "metadata": {
    "colab": {
     "base_uri": "https://localhost:8080/"
    },
    "id": "73MpqFQKWHh7",
    "outputId": "640a1f90-c624-4491-c46e-e8432bb6614b"
   },
   "outputs": [
    {
     "name": "stdout",
     "output_type": "stream",
     "text": [
      "18.611986 -0.0044181882 -0.009700178 -0.00618418\n",
      "49.125217 22.124771 22.137777 42.191326\n"
     ]
    }
   ],
   "source": [
    "print(meanE,meanPX,meanPY,meanPZ)\n",
    "print(stdE,stdPX,stdPY,stdPZ)"
   ]
  },
  {
   "cell_type": "code",
   "execution_count": 60,
   "metadata": {
    "id": "9TOkiqbOWHh8"
   },
   "outputs": [],
   "source": [
    "'''\n",
    "train_features[:,0:801:4]*=1/maxE\n",
    "train_features[:,1:801:4]*=1/maxPX\n",
    "train_features[:,2:801:4]*=1/maxPY\n",
    "train_features[:,3:801:4]*=1/maxPZ\n",
    "'''\n",
    "train_features[:,0:801:4]=(train_features[:,0:801:4]-meanE)/stdE\n",
    "train_features[:,1:801:4]=(train_features[:,1:801:4]-meanPX)/stdPX\n",
    "train_features[:,2:801:4]=(train_features[:,2:801:4]-meanPY)/stdPY\n",
    "train_features[:,3:801:4]=(train_features[:,3:801:4]-meanPZ)/stdPZ"
   ]
  },
  {
   "cell_type": "code",
   "execution_count": 61,
   "metadata": {
    "colab": {
     "base_uri": "https://localhost:8080/",
     "height": 482
    },
    "id": "QqfZq_a2WHh8",
    "outputId": "3fbc2a23-4720-4442-b106-f922887215ba"
   },
   "outputs": [
    {
     "data": {
      "text/plain": [
       "Text(0.5, 0, 'Standarized Energy')"
      ]
     },
     "execution_count": 61,
     "metadata": {},
     "output_type": "execute_result"
    },
    {
     "data": {
      "image/png": "[encoded data removed]",
      "text/plain": [
       "<Figure size 640x480 with 1 Axes>"
      ]
     },
     "metadata": {},
     "output_type": "display_data"
    }
   ],
   "source": [
    "plt.hist(train_features[:,0:801:4].flatten()[train_mask.flatten()],bins=100);\n",
    "plt.xlabel('Standarized Energy')"
   ]
  },
  {
   "cell_type": "code",
   "execution_count": 62,
   "metadata": {
    "colab": {
     "base_uri": "https://localhost:8080/",
     "height": 486
    },
    "id": "F-38C7iZWHh8",
    "outputId": "9e4f631a-8a4d-452e-ebaa-37aeea924509"
   },
   "outputs": [
    {
     "data": {
      "text/plain": [
       "Text(0.5, 0, 'Standarized $p_x$')"
      ]
     },
     "execution_count": 62,
     "metadata": {},
     "output_type": "execute_result"
    },
    {
     "data": {
      "image/png": "[encoded data removed]",
      "text/plain": [
       "<Figure size 640x480 with 1 Axes>"
      ]
     },
     "metadata": {},
     "output_type": "display_data"
    }
   ],
   "source": [
    "plt.hist(train_features[:,1:801:4].flatten()[train_mask.flatten()],bins=100);\n",
    "plt.xlabel('Standarized $p_x$')"
   ]
  },
  {
   "cell_type": "markdown",
   "metadata": {
    "id": "FqQ9hPSgWHh8"
   },
   "source": [
    "We standarize the validation dataset using the same parameters"
   ]
  },
  {
   "cell_type": "code",
   "execution_count": 63,
   "metadata": {
    "id": "23xRM_I_WHh8"
   },
   "outputs": [],
   "source": [
    "val_features[:,0:801:4]=(val_features[:,0:801:4]-meanE)/stdE\n",
    "val_features[:,1:801:4]=(val_features[:,1:801:4]-meanPX)/stdPX\n",
    "val_features[:,2:801:4]=(val_features[:,2:801:4]-meanPY)/stdPY\n",
    "val_features[:,3:801:4]=(val_features[:,3:801:4]-meanPZ)/stdPZ"
   ]
  },
  {
   "cell_type": "code",
   "execution_count": 64,
   "metadata": {
    "id": "54iu-BXTWHh8"
   },
   "outputs": [],
   "source": [
    "train_torch = CustomDataset(train_features.reshape((len(train_features),200,4)),train_labels,train_mask)\n",
    "val_torch = CustomDataset(val_features.reshape((len(val_features),200,4)),val_labels,val_mask)"
   ]
  },
  {
   "cell_type": "markdown",
   "metadata": {
    "id": "JmTJiIX3WHh9"
   },
   "source": [
    "Let's free some memory"
   ]
  },
  {
   "cell_type": "code",
   "execution_count": 65,
   "metadata": {
    "id": "h1TImqkHWHh9"
   },
   "outputs": [
    {
     "data": {
      "text/plain": [
       "'\\ndel train\\ndel X_train\\ndel val\\ndel X_val\\ndel train_features\\ndel val_features\\ndel train_mask\\ndel val_mask\\n'"
      ]
     },
     "execution_count": 65,
     "metadata": {},
     "output_type": "execute_result"
    }
   ],
   "source": [
    "'''\n",
    "del train\n",
    "del X_train\n",
    "del val\n",
    "del X_val\n",
    "del train_features\n",
    "del val_features\n",
    "del train_mask\n",
    "del val_mask\n",
    "'''"
   ]
  },
  {
   "cell_type": "markdown",
   "metadata": {
    "id": "iTKK_U0FWHh9"
   },
   "source": [
    "Our model consists of two neural networks, one evaluated per particle and one evaluated over all particles in an event"
   ]
  },
  {
   "cell_type": "code",
   "execution_count": 66,
   "metadata": {
    "id": "6OfKU0bkWHh9"
   },
   "outputs": [],
   "source": [
    "from torch import nn\n",
    "from torch.nn.modules import Module\n",
    "from torch.utils.data import DataLoader"
   ]
  },
  {
   "cell_type": "code",
   "execution_count": 67,
   "metadata": {
    "id": "6auRtLFMWHh9"
   },
   "outputs": [],
   "source": [
    "\n",
    "# Define model\n",
    "class PseudoParticleFlow(nn.Module):\n",
    "    def __init__(self,dim_input=4,inner_dim=64,layers_Phi=[(64, nn.ReLU()),(64, nn.ReLU()),(64, nn.ReLU())],layers_F=[(64, nn.ReLU()),(64, nn.ReLU()),(64, nn.ReLU())]): # example of layers_data=[(layer1, nn.ReLU()), (layer2, nn.ReLU()), (output_size, nn.Sigmoid())]\n",
    "        super(PseudoParticleFlow, self).__init__()\n",
    "        self.flatten = nn.Flatten()\n",
    "        self.Phi = nn.ModuleList()\n",
    "        self.F = nn.ModuleList()\n",
    "        self.input_size = dim_input  # Can be useful later ...\n",
    "        self.inner_dim = inner_dim  # Can be useful later ...\n",
    "        input_size = dim_input\n",
    "        for size, activation in layers_Phi:\n",
    "            self.Phi.append(nn.Linear(input_size, size))\n",
    "            input_size = size  # For the next layer\n",
    "            if activation is not None:\n",
    "                assert isinstance(activation, Module), \\\n",
    "                    \"Each tuples should contain a size (int) and a torch.nn.modules.Module.\"\n",
    "                self.Phi.append(activation)\n",
    "        self.Phi.append(nn.Linear(input_size, inner_dim))\n",
    "\n",
    "        input_size = inner_dim\n",
    "        for size, activation in layers_F:\n",
    "            self.F.append(nn.Linear(input_size, size))\n",
    "            input_size = size  # For the next layer\n",
    "            if activation is not None:\n",
    "                assert isinstance(activation, Module), \\\n",
    "                    \"Each tuples should contain a size (int) and a torch.nn.modules.Module.\"\n",
    "                self.F.append(activation)\n",
    "        self.F.append(nn.Linear(input_size, 1))\n",
    "        self.F.append(nn.Sigmoid())\n",
    "\n",
    "    def forward(self, x,m):\n",
    "        output = x\n",
    "        for layer in self.Phi:\n",
    "            output = layer(output)\n",
    "            #print(output.shape)\n",
    "        ### this uses the mask to remove zero-padded particles when performing the averaging\n",
    "        output = torch.einsum('ijk,ij->ik',output,m)/(torch.einsum('ik,ik->i',m,m).unsqueeze(1))\n",
    "        #output = torch.stack((torch.masked.masked_tensor(output[:,:,0], m),torch.masked.masked_tensor(output[:,:,0], m)),dim=-1)\n",
    "        #print(output.shape)\n",
    "        #output = torch.mean(output,1)\n",
    "        #print(output.shape)\n",
    "        for layer in self.F:\n",
    "            output = layer(output)\n",
    "            #print(output.shape)\n",
    "        return output\n",
    "\n",
    "    def latent(self, x,m):\n",
    "        output = x\n",
    "        for layer in self.Phi:\n",
    "            output = layer(output)\n",
    "            #print(output.shape)\n",
    "        ### this uses the mask to remove zero-padded particles when performing the averaging\n",
    "        output = torch.einsum('ijk,ij->ik',output,m)/(torch.einsum('ik,ik->i',m,m).unsqueeze(1))\n",
    "        return output\n",
    "\n",
    "    def proba_from_latent(self, ell):\n",
    "        output = ell\n",
    "        for layer in self.F:\n",
    "            output = layer(output)\n",
    "            #print(output.shape)\n",
    "        return output\n",
    "\n",
    "    def loss_function(self,y,t):\n",
    "        #loss_fn = nn.MSELoss(reduction='mean')\n",
    "        loss_fn = nn.BCELoss()\n",
    "\n",
    "        return loss_fn(y,t)\n",
    "\n",
    "    def reset_weights(self):\n",
    "        for m in self.Phi:\n",
    "            if isinstance(m, nn.Conv2d) or isinstance(m, nn.Linear):\n",
    "                m.reset_parameters()\n",
    "        for m in self.F:\n",
    "            if isinstance(m, nn.Conv2d) or isinstance(m, nn.Linear):\n",
    "                m.reset_parameters()"
   ]
  },
  {
   "cell_type": "markdown",
   "metadata": {
    "id": "R9Vmu2pZWHh9"
   },
   "source": [
    "We can define training, testing and predicting functions"
   ]
  },
  {
   "cell_type": "code",
   "execution_count": 68,
   "metadata": {
    "id": "klBkiw1ZWHh9"
   },
   "outputs": [],
   "source": [
    "def train(model,optimizer,train_dataset,batch_size=1024):\n",
    "    model.train()\n",
    "    device = torch.device(\"cpu\")#\"cuda:0\" if torch.cuda.is_available() else \"cpu\")\n",
    "    train_dataset_batched = DataLoader(train_dataset,batch_size=batch_size,shuffle=True)\n",
    "    total_loss = 0\n",
    "    for batch, (X, y,M) in enumerate(train_dataset_batched):\n",
    "        X, y, M  = X.to(device), y.to(device), M.to(device)\n",
    "        #print(torch.mean(y))\n",
    "        optimizer.zero_grad()  # Clear gradients.\n",
    "        pred = model(X,M)[:,0]  # Forward pass.\n",
    "        #print(pred.shape,y.shape)\n",
    "        loss = model.loss_function(pred,y)  # Loss computation.\n",
    "        loss.backward()  # Backward pass.\n",
    "        optimizer.step()  # Update model parameters.\n",
    "        total_loss += loss.item()\n",
    "\n",
    "    return total_loss / len(train_dataset_batched.dataset)\n",
    "\n",
    "def test(model, test_dataset,batch_size=1024):\n",
    "    model.eval()\n",
    "    device = torch.device(\"cpu\")#\"cuda:0\" if torch.cuda.is_available() else \"cpu\")\n",
    "    test_dataset_batched = DataLoader(test_dataset,batch_size=batch_size,shuffle=False)\n",
    "    total_loss = 0\n",
    "    for batch, (X, y,M) in enumerate(test_dataset_batched):\n",
    "        X, y, M  = X.to(device), y.to(device), M.to(device)\n",
    "        pred = model(X,M)[:,0]  # Forward pass.\n",
    "        loss = model.loss_function(pred,y)  # Loss computation.\n",
    "        total_loss += loss.item()\n",
    "\n",
    "    return total_loss / len(test_dataset_batched.dataset)\n",
    "\n",
    "def predict_proba(model,test_dataset,batch_size=1024):\n",
    "    model.eval()\n",
    "    device = torch.device(\"cpu\")#\"cuda:0\" if torch.cuda.is_available() else \"cpu\")\n",
    "    test_dataset_batched = DataLoader(test_dataset,batch_size=batch_size,shuffle=False)\n",
    "    truths = np.zeros(len(test_dataset))\n",
    "    preds = np.zeros(len(test_dataset))\n",
    "    initial_index = 0\n",
    "    final_index = 0\n",
    "    for batch, (X, y,M) in enumerate(test_dataset_batched):\n",
    "        final_index+=len(y)\n",
    "        truths[initial_index:final_index]=y.detach().cpu().numpy()\n",
    "        X, y, M  = X.to(device), y.to(device), M.to(device)\n",
    "        pred = model(X,M)[:,0]  # Forward pass.\n",
    "        preds[initial_index:final_index] = pred.detach().cpu().numpy()\n",
    "        initial_index+=len(y)\n",
    "    return truths, preds\n",
    "\n",
    "def predict(model,test_dataset,batch_size=1024):\n",
    "    model.eval()\n",
    "    device = torch.device(\"cpu\")#\"cuda:0\" if torch.cuda.is_available() else \"cpu\")\n",
    "    test_dataset_batched = DataLoader(test_dataset,batch_size=batch_size,shuffle=False)\n",
    "    truths = np.zeros(len(test_dataset))\n",
    "    preds = np.zeros(len(test_dataset))\n",
    "    initial_index = 0\n",
    "    final_index = 0\n",
    "    for batch, (X, y,M) in enumerate(test_dataset_batched):\n",
    "        final_index+=len(y)\n",
    "        truths[initial_index:final_index]=y.detach().cpu().numpy()\n",
    "        X, y, M  = X.to(device), y.to(device), M.to(device)\n",
    "        pred = model(X,M)[:,0]  # Forward pass.\n",
    "        preds[initial_index:final_index] = pred.detach().cpu().numpy()\n",
    "        preds[initial_index:final_index] = np.where(preds[initial_index:final_index]>0.5,1,0)\n",
    "        initial_index+=len(y)\n",
    "    return truths, preds\n",
    "\n",
    "def latent(model,test_dataset,batch_size=1024):\n",
    "    model.eval()\n",
    "    device = torch.device(\"cpu\")#\"cuda:0\" if torch.cuda.is_available() else \"cpu\")\n",
    "    test_dataset_batched = DataLoader(test_dataset,batch_size=batch_size,shuffle=False)\n",
    "    latent_variables = np.zeros((len(test_dataset),model.inner_dim))\n",
    "    initial_index = 0\n",
    "    final_index = 0\n",
    "    for batch, (X, y,M) in enumerate(test_dataset_batched):\n",
    "        final_index+=len(y)\n",
    "        X, y, M  = X.to(device), y.to(device), M.to(device)\n",
    "        pred = model.latent(X,M)  # Forward pass.\n",
    "        latent_variables[initial_index:final_index] = pred.detach().cpu().numpy()\n",
    "        initial_index+=len(y)\n",
    "    return latent_variables\n"
   ]
  },
  {
   "cell_type": "markdown",
   "metadata": {
    "id": "ASNsnQiGWHh-"
   },
   "source": [
    "With this, we initialize our model. We can save and load models"
   ]
  },
  {
   "cell_type": "code",
   "execution_count": 69,
   "metadata": {
    "colab": {
     "base_uri": "https://localhost:8080/"
    },
    "id": "bTO6gCyXWHh-",
    "outputId": "696218af-9515-4007-9531-8b40b94a121b"
   },
   "outputs": [
    {
     "name": "stdout",
     "output_type": "stream",
     "text": [
      "Loaded existing model\n"
     ]
    },
    {
     "data": {
      "text/plain": [
       "PseudoParticleFlow(\n",
       "  (flatten): Flatten(start_dim=1, end_dim=-1)\n",
       "  (Phi): ModuleList(\n",
       "    (0): Linear(in_features=4, out_features=64, bias=True)\n",
       "    (1): ReLU()\n",
       "    (2): Linear(in_features=64, out_features=64, bias=True)\n",
       "    (3): ReLU()\n",
       "    (4): Linear(in_features=64, out_features=64, bias=True)\n",
       "    (5): ReLU()\n",
       "    (6): Linear(in_features=64, out_features=64, bias=True)\n",
       "  )\n",
       "  (F): ModuleList(\n",
       "    (0): Linear(in_features=64, out_features=64, bias=True)\n",
       "    (1): ReLU()\n",
       "    (2): Linear(in_features=64, out_features=64, bias=True)\n",
       "    (3): ReLU()\n",
       "    (4): Linear(in_features=64, out_features=64, bias=True)\n",
       "    (5): ReLU()\n",
       "    (6): Linear(in_features=64, out_features=1, bias=True)\n",
       "    (7): Sigmoid()\n",
       "  )\n",
       ")"
      ]
     },
     "execution_count": 69,
     "metadata": {},
     "output_type": "execute_result"
    }
   ],
   "source": [
    "model = PseudoParticleFlow()\n",
    "model_path = 'saved_model.pth'\n",
    "try:\n",
    "    model.load_state_dict(torch.load(model_path))\n",
    "    print(\"Loaded existing model\")\n",
    "except:\n",
    "    print(\"New model\")\n",
    "device = torch.device(\"cpu\")#\"cuda:0\" if torch.cuda.is_available() else \"cpu\")\n",
    "model.to(device)"
   ]
  },
  {
   "cell_type": "markdown",
   "metadata": {
    "id": "sKRwAFa9WHh-"
   },
   "source": [
    "You can always start over by resetting the weights as commented below"
   ]
  },
  {
   "cell_type": "code",
   "execution_count": 70,
   "metadata": {
    "id": "Vd4PgxZ6WHh_"
   },
   "outputs": [],
   "source": [
    "#model.reset_weights()"
   ]
  },
  {
   "cell_type": "markdown",
   "metadata": {
    "id": "ME_blh34WHh_"
   },
   "source": [
    "We define the optimizer that we'll use for training"
   ]
  },
  {
   "cell_type": "code",
   "execution_count": 71,
   "metadata": {
    "id": "ZE1x6d9KWHh_"
   },
   "outputs": [],
   "source": [
    "learning_rate = 0.01\n",
    "optimizer = torch.optim.Adam(model.parameters(), lr=learning_rate)"
   ]
  },
  {
   "cell_type": "markdown",
   "metadata": {
    "id": "cPoGX49HWHh_"
   },
   "source": [
    "Now the epochs"
   ]
  },
  {
   "cell_type": "code",
   "execution_count": 72,
   "metadata": {
    "id": "Xn4v5n96WHh_"
   },
   "outputs": [],
   "source": [
    "nepochs = 30\n",
    "npatience = 5"
   ]
  },
  {
   "cell_type": "code",
   "execution_count": 73,
   "metadata": {
    "colab": {
     "base_uri": "https://localhost:8080/"
    },
    "id": "m8JBfVgaWHh_",
    "outputId": "c4e8329f-e532-4123-9f17-08e12288d1b8"
   },
   "outputs": [
    {
     "name": "stdout",
     "output_type": "stream",
     "text": [
      "tensor([23., 43.])\n",
      "tensor([[ 0.3905, -0.8942, -0.8179, -0.6296],\n",
      "        [-0.0974,  0.4896,  0.3201, -0.1127]])\n"
     ]
    }
   ],
   "source": [
    "print(torch.einsum('ik,ik->i',train_torch[:2][2],train_torch[:2][2]))\n",
    "print(torch.einsum('ijk,ij->ik',train_torch[:2][0],train_torch[:2][2])/(torch.einsum('ik,ik->i',train_torch[:2][2],train_torch[:2][2]).unsqueeze(1)))"
   ]
  },
  {
   "cell_type": "code",
   "execution_count": 74,
   "metadata": {
    "id": "OZnW1M3vWHh_"
   },
   "outputs": [],
   "source": [
    "#totalE[0]/(maxE*multiplicity[0]),totalE[1]/(maxE*multiplicity[1])"
   ]
  },
  {
   "cell_type": "markdown",
   "metadata": {
    "id": "gq7Y_e0ZWHh_"
   },
   "source": [
    "And let's train. We'll use the validation to test to avoid overfitting (this you shouldn't do if you're actually using the validation dataset to select the best model, you should either cross-validate or separate the training into actual training and evaluation datasets)"
   ]
  },
  {
   "cell_type": "code",
   "execution_count": null,
   "metadata": {
    "colab": {
     "base_uri": "https://localhost:8080/"
    },
    "id": "RwD4WcStWHiA",
    "outputId": "ad74eed1-7bb9-4340-ee48-94f6703bee9f",
    "scrolled": true
   },
   "outputs": [],
   "source": [
    "val_loss_aux = 1000\n",
    "times = 0\n",
    "for epoch in range(1, nepochs+1):\n",
    "    loss = train(model, optimizer,train_torch,batch_size=1024)\n",
    "    val_loss = test(model,val_torch,batch_size=1024)\n",
    "    print(f'Epoch: {epoch:02d}, Loss: {loss:.8f},Val Loss: {val_loss:.8f}, Learning Rate: {learning_rate:.6f}')\n",
    "    if epoch == 0:\n",
    "        val_loss_aux = val_loss\n",
    "        times = 0\n",
    "        continue\n",
    "\n",
    "    if loss < val_loss_aux:\n",
    "        val_loss_aux = val_loss\n",
    "        times = 0\n",
    "    else:\n",
    "        times+=1\n",
    "\n",
    "    if times == npatience:\n",
    "        learning_rate*=0.1\n",
    "        optimizer = torch.optim.Adam(model.parameters(), lr=learning_rate)\n",
    "    if times == 2*npatience:\n",
    "        break\n",
    "    torch.save(model.state_dict(),model_path)\n"
   ]
  },
  {
   "cell_type": "markdown",
   "metadata": {
    "id": "VxiuNJk8WHiA"
   },
   "source": [
    "Once the model is slightly trained, we can obtain the predictions and do the same analysis"
   ]
  },
  {
   "cell_type": "code",
   "execution_count": 77,
   "metadata": {
    "id": "7N_kREO1WHiA"
   },
   "outputs": [],
   "source": [
    "val_labels_NN, val_proba_NN = predict_proba(model,val_torch,batch_size=128)\n",
    "val_assignmnet_NN = np.where(val_proba_NN>0.5,1,0)"
   ]
  },
  {
   "cell_type": "code",
   "execution_count": 78,
   "metadata": {
    "colab": {
     "base_uri": "https://localhost:8080/"
    },
    "id": "l1ZnDVivWHiA",
    "outputId": "c3d6aea6-0de6-4b1b-c6aa-a55820652986"
   },
   "outputs": [
    {
     "data": {
      "text/plain": [
       "array([[39974,  9836],\n",
       "       [ 7765, 42425]])"
      ]
     },
     "execution_count": 78,
     "metadata": {},
     "output_type": "execute_result"
    }
   ],
   "source": [
    "confusion_matrix(val_labels_NN,val_assignmnet_NN)"
   ]
  },
  {
   "cell_type": "code",
   "execution_count": 79,
   "metadata": {
    "colab": {
     "base_uri": "https://localhost:8080/",
     "height": 449
    },
    "id": "hhDmstFZWHiA",
    "outputId": "ebf5c86c-a3dd-40ec-c0fa-7119024faa26"
   },
   "outputs": [
    {
     "data": {
      "image/png": "[encoded data removed]",
      "text/plain": [
       "<Figure size 640x480 with 1 Axes>"
      ]
     },
     "metadata": {},
     "output_type": "display_data"
    }
   ],
   "source": [
    "plt.hist(val_proba_NN[val_labels_NN==0],bins=np.linspace(0,1,50),histtype='step',color='blue',label='QCD',density=True)\n",
    "plt.hist(val_proba_NN[val_labels_NN==1],bins=np.linspace(0,1,50),histtype='step',color='red',label='Top',density=True)\n",
    "plt.legend(loc='upper right')\n",
    "plt.ylabel('Density')\n",
    "plt.xlabel('Probability')\n",
    "plt.savefig('proba_NN.png')\n",
    "plt.show()"
   ]
  },
  {
   "cell_type": "code",
   "execution_count": 80,
   "metadata": {
    "colab": {
     "base_uri": "https://localhost:8080/"
    },
    "id": "hb3OaaXlWHiA",
    "outputId": "89b88244-6abf-48b9-d542-5f3fee233bd0"
   },
   "outputs": [
    {
     "name": "stdout",
     "output_type": "stream",
     "text": [
      "0.82399 0.8963330392490867\n"
     ]
    }
   ],
   "source": [
    "print(accuracy_score(val_labels_NN,val_assignmnet_NN),roc_auc_score(val_labels_NN,val_proba_NN))"
   ]
  },
  {
   "cell_type": "code",
   "execution_count": 81,
   "metadata": {
    "id": "YgYWl9DLWHiA"
   },
   "outputs": [],
   "source": [
    "val_fpr_NN, val_tpr_NN, val_thr_NN = roc_curve(val_labels_NN,val_proba_NN)"
   ]
  },
  {
   "cell_type": "code",
   "execution_count": 82,
   "metadata": {
    "colab": {
     "base_uri": "https://localhost:8080/",
     "height": 449
    },
    "id": "xqvK6bB1WHiB",
    "outputId": "d9540a8d-2655-4cc4-93ac-30022f05ffea"
   },
   "outputs": [
    {
     "data": {
      "image/png": "[encoded data removed]",
      "text/plain": [
       "<Figure size 640x480 with 1 Axes>"
      ]
     },
     "metadata": {},
     "output_type": "display_data"
    }
   ],
   "source": [
    "plt.plot(val_fpr_lr,val_tpr_lr,label='Logistic Regression '+str(round(roc_auc_score(val_labels,val_proba_lr),3)))\n",
    "plt.plot(val_fpr_NN,val_tpr_NN,label='Deep Sets '+str(round(roc_auc_score(val_labels_NN,val_proba_NN),3)))\n",
    "plt.plot(np.linspace(0,1,10),np.linspace(0,1,10),linestyle='dashed',color='black',label='Random')\n",
    "plt.xlabel('FPR')\n",
    "plt.ylabel('TPR')\n",
    "plt.legend(loc='lower right')\n",
    "plt.savefig('roc_NN.png')"
   ]
  },
  {
   "cell_type": "markdown",
   "metadata": {
    "id": "jl6Gg08QWHiB"
   },
   "source": [
    "Here the performance is not that impressive. This is because the architecture is not huge and we are not using the full dataset and training for a long time.\n",
    "\n",
    "Now the interpretation is more difficult of course...\n",
    "\n",
    "We can try to interpret the latent space"
   ]
  },
  {
   "cell_type": "code",
   "execution_count": 83,
   "metadata": {
    "id": "6RjL3OmxWHiB"
   },
   "outputs": [],
   "source": [
    "val_latent_variables_NN = latent(model,val_torch,batch_size=128)"
   ]
  },
  {
   "cell_type": "code",
   "execution_count": 84,
   "metadata": {
    "colab": {
     "base_uri": "https://localhost:8080/"
    },
    "id": "ccZpvlW_WHiB",
    "outputId": "a1ef25ef-a63e-476b-f000-4e7a1ec3fb15"
   },
   "outputs": [
    {
     "data": {
      "text/plain": [
       "(100000, 64)"
      ]
     },
     "execution_count": 84,
     "metadata": {},
     "output_type": "execute_result"
    }
   ],
   "source": [
    "val_latent_variables_NN.shape"
   ]
  },
  {
   "cell_type": "code",
   "execution_count": 85,
   "metadata": {
    "colab": {
     "base_uri": "https://localhost:8080/",
     "height": 449
    },
    "id": "6vj5TRw0WHiB",
    "outputId": "45436904-8005-4d02-e234-3cfeba75ffd5"
   },
   "outputs": [
    {
     "data": {
      "image/png": "[encoded data removed]",
      "text/plain": [
       "<Figure size 640x480 with 1 Axes>"
      ]
     },
     "metadata": {},
     "output_type": "display_data"
    }
   ],
   "source": [
    "plt.hist(val_latent_variables_NN[val_labels_NN==0,0],bins=np.linspace(0,1,50),histtype='step',color='blue',label='QCD',density=True)\n",
    "plt.hist(val_latent_variables_NN[val_labels_NN==1,0],bins=np.linspace(0,1,50),histtype='step',color='red',label='Top',density=True)\n",
    "plt.legend(loc='upper right')\n",
    "plt.ylabel('Density')\n",
    "plt.xlabel('Latent variable 1')\n",
    "plt.savefig('latent_1.png')\n",
    "plt.show()"
   ]
  },
  {
   "cell_type": "code",
   "execution_count": 86,
   "metadata": {
    "colab": {
     "base_uri": "https://localhost:8080/",
     "height": 449
    },
    "id": "CIefeC4QWHiB",
    "outputId": "cc7b1533-3a0b-4ab3-a3d9-e7c3b0afcc52"
   },
   "outputs": [
    {
     "data": {
      "image/png": "[encoded data removed]",
      "text/plain": [
       "<Figure size 640x480 with 1 Axes>"
      ]
     },
     "metadata": {},
     "output_type": "display_data"
    }
   ],
   "source": [
    "plt.hist(val_latent_variables_NN[val_labels_NN==0,1],bins=np.linspace(0,1,50),histtype='step',color='blue',label='QCD',density=True)\n",
    "plt.hist(val_latent_variables_NN[val_labels_NN==1,1],bins=np.linspace(0,1,50),histtype='step',color='red',label='Top',density=True)\n",
    "plt.legend(loc='upper right')\n",
    "plt.ylabel('Density')\n",
    "plt.xlabel('Latent variable 2')\n",
    "plt.savefig('latent_2.png')\n",
    "plt.show()"
   ]
  },
  {
   "cell_type": "code",
   "execution_count": 87,
   "metadata": {
    "colab": {
     "base_uri": "https://localhost:8080/",
     "height": 1000
    },
    "id": "DIIvcKmkbRmR",
    "outputId": "6c9777f1-0856-4229-a5a5-aceb6b8a3810"
   },
   "outputs": [
    {
     "name": "stderr",
     "output_type": "stream",
     "text": [
      "/home/mszewc/.local/lib/python3.10/site-packages/numpy/lib/histograms.py:885: RuntimeWarning: invalid value encountered in divide\n",
      "  return n/db/n.sum(), bin_edges\n"
     ]
    },
    {
     "data": {
      "text/plain": [
       "<Figure size 640x480 with 0 Axes>"
      ]
     },
     "metadata": {},
     "output_type": "display_data"
    }
   ],
   "source": [
    "for nlatent_dim in range(model.inner_dim):\n",
    "  plt.hist(val_latent_variables_NN[val_labels_NN==0,nlatent_dim],bins=np.linspace(0,1,50),histtype='step',color='blue',label='QCD',density=True)\n",
    "  plt.hist(val_latent_variables_NN[val_labels_NN==1,nlatent_dim],bins=np.linspace(0,1,50),histtype='step',color='red',label='Top',density=True)\n",
    "  plt.legend(loc='upper right')\n",
    "  plt.ylabel('Density')\n",
    "  plt.xlabel('Latent variable '+str(nlatent_dim+1))\n",
    "  #plt.savefig('latent_'+str(nlatent_dim+1)+'.png')\n",
    "  plt.clf()"
   ]
  },
  {
   "cell_type": "code",
   "execution_count": 88,
   "metadata": {
    "colab": {
     "base_uri": "https://localhost:8080/",
     "height": 1000
    },
    "id": "BH4JB70Mbncc",
    "outputId": "1c90d0a6-57af-4918-b1de-14a540a7b90e"
   },
   "outputs": [
    {
     "data": {
      "text/plain": [
       "<Figure size 640x480 with 0 Axes>"
      ]
     },
     "metadata": {},
     "output_type": "display_data"
    }
   ],
   "source": [
    "for nlatent_dim1 in range(model.inner_dim):\n",
    "    for nlatent_dim2 in range(nlatent_dim1+1,model.inner_dim):\n",
    "        if nlatent_dim1>2 or nlatent_dim2>3:\n",
    "            break\n",
    "        plt.scatter(val_latent_variables_NN[val_labels_NN==0,nlatent_dim1],val_latent_variables_NN[val_labels_NN==0,nlatent_dim2],c='blue',alpha=0.1,label='QCD')\n",
    "        plt.scatter(val_latent_variables_NN[val_labels_NN==1,nlatent_dim1],val_latent_variables_NN[val_labels_NN==1,nlatent_dim2],c='red',alpha=0.1,label='Top')\n",
    "    \n",
    "    \n",
    "    \n",
    "        #plt.xlim(0,1)\n",
    "        #plt.ylim(0,1)\n",
    "        plt.xlabel('Latent variable '+str(nlatent_dim1+1))\n",
    "        plt.ylabel('Latent variable '+str(nlatent_dim2+1))\n",
    "        plt.legend(loc='upper right')\n",
    "        #plt.savefig('classifier_space_NN'+str(nlatent_dim1+1)+'_'+str(nlatent_dim2+1)+'.png')\n",
    "        plt.clf()"
   ]
  },
  {
   "cell_type": "markdown",
   "metadata": {
    "id": "V6udcbDPbqgK"
   },
   "source": [
    "If the latent dimension is equal to 2, we can do the same plots as before"
   ]
  },
  {
   "cell_type": "code",
   "execution_count": 89,
   "metadata": {
    "id": "JEo2Y-CTWHiB"
   },
   "outputs": [],
   "source": [
    "if model.inner_dim == 2:\n",
    "    x1=np.linspace(0,1,100)\n",
    "    x2=np.linspace(0,1,100)\n",
    "    X1toplot,X2toplot=np.meshgrid(x1,x2)\n",
    "    #plt.xlim(0.0,0.2)\n",
    "    #plt.ylim(0.0,0.2)\n",
    "    plt.scatter(val_latent_variables_NN[val_labels_NN==0,0],val_latent_variables_NN[val_labels_NN==0,1],c='blue',alpha=0.1,label='QCD')\n",
    "    plt.scatter(val_latent_variables_NN[val_labels_NN==1,0],val_latent_variables_NN[val_labels_NN==1,1],c='red',alpha=0.1,label='Top')\n",
    "    Z=(np.asarray([model.proba_from_latent(torch.tensor(np.asarray([el[0],el[1]]).reshape(1,-1),dtype=torch.float)).detach().numpy()[0] for el in np.c_[X1toplot.ravel(), X2toplot.ravel()]])).reshape(X1toplot.shape)\n",
    "    \n",
    "    contour = plt.contourf(X1toplot,X2toplot,Z,levels=[0,0.5,1],alpha=0.6)\n",
    "    plt.colorbar(contour)\n",
    "    \n",
    "    \n",
    "    #plt.xlim(0,1)\n",
    "    #plt.ylim(0,1)\n",
    "    plt.xlabel('Latent variable 1')\n",
    "    plt.ylabel('Latent variable 2')\n",
    "    plt.legend(loc='upper right')\n",
    "    plt.savefig('classifier_space_NN.png')\n",
    "    plt.show()"
   ]
  },
  {
   "cell_type": "markdown",
   "metadata": {
    "id": "utlbZuT0WHiB"
   },
   "source": [
    "# Exercises\n",
    "\n",
    "* Repeat this with different inner dimension (don't break your computer!). To explore the latent space, you can use tools like t-SNE or PCA\n",
    "* Reframe this as a regression task, learn the $C_3$ coefficient from the constituents. This could use the same architecture but a different loss function.\n",
    "* Use a similar architecture for a GAN to generate tops or QCD jets (or both! but you'll find differences)."
   ]
  },
  {
   "cell_type": "code",
   "execution_count": null,
   "metadata": {
    "id": "VdtflfYwWHiB"
   },
   "outputs": [],
   "source": []
  }
 ],
 "metadata": {
  "colab": {
   "provenance": []
  },
  "kernelspec": {
   "display_name": "Python 3 (ipykernel)",
   "language": "python",
   "name": "python3"
  },
  "language_info": {
   "codemirror_mode": {
    "name": "ipython",
    "version": 3
   },
   "file_extension": ".py",
   "mimetype": "text/x-python",
   "name": "python",
   "nbconvert_exporter": "python",
   "pygments_lexer": "ipython3",
   "version": "3.10.12"
  }
 },
 "nbformat": 4,
 "nbformat_minor": 4
}
