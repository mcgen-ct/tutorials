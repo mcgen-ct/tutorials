{
 "cells": [
  {
   "cell_type": "markdown",
   "metadata": {
    "id": "Visualization"
   },
   "source": [
    "# Visualization"
   ]
  },
  {
   "cell_type": "markdown",
   "metadata": {
    "id": "Requirements"
   },
   "source": [
    "## Requirements"
   ]
  },
  {
   "cell_type": "code",
   "execution_count": null,
   "metadata": {},
   "outputs": [],
   "source": [
    "# Redirect the C output of Pythia to the notebook.\n",
    "!pip install wurlitzer\n",
    "from wurlitzer import sys_pipes_forever\n",
    "\n",
    "sys_pipes_forever()"
   ]
  },
  {
   "cell_type": "code",
   "execution_count": null,
   "metadata": {},
   "outputs": [],
   "source": [
    "# Install and import the Pythia module.\n",
    "!pip install pythia8mc\n",
    "import pythia8mc as pythia8"
   ]
  },
  {
   "cell_type": "code",
   "execution_count": null,
   "metadata": {},
   "outputs": [],
   "source": [
    "!wget -q -N https://gitlab.com/mcgen-ct/tutorials/-/raw/main/vistas/visualization.py\n",
    "!wget -q -N https://gitlab.com/mcgen-ct/tutorials/-/raw/main/vistas/status_meaning.py"
   ]
  },
  {
   "cell_type": "code",
   "execution_count": null,
   "metadata": {},
   "outputs": [],
   "source": [
    "import math\n",
    "import visualization"
   ]
  },
  {
   "cell_type": "code",
   "execution_count": null,
   "metadata": {},
   "outputs": [],
   "source": [
    "# Define settings for the visualization.\n",
    "settings = {\n",
    "    # Removes carbon copies.\n",
    "    \"remove_copy\": True,\n",
    "    # Includes beam remnants.\n",
    "    \"beam_remnant\": True,\n",
    "    # Scale factor for visualization.\n",
    "    \"scale_factor\": 1,\n",
    "    # Boost mode: None, \"cm_incoming\", \"cm_outgoing\".\n",
    "    \"boost_mode\": None,\n",
    "    # Scaling type: \"unit\", \"energy\", \"log_energy\".\n",
    "    \"scaling_type\": \"unit\",\n",
    "    # Rescaling: \"none\", \"total_distance_based\", \"category_distance_based\".\n",
    "    \"rescaling_type\": \"category_distance_based\",\n",
    "    # Base length added to each track.\n",
    "    \"base_length\": 40,\n",
    "    # Shows color connections.\n",
    "    \"color_connection\": True,\n",
    "    # Includes multi-parton interactions.\n",
    "    \"mpi\": True,\n",
    "    # Define where the MPI locations are shifted from the hard process.\n",
    "    \"mpi_location\": [\n",
    "        # Shift in x, cos(25 degrees).\n",
    "        1 / math.sqrt(2) * math.cos(math.radians(25)) * 30,\n",
    "        # Shift in y, sin(25 degrees).\n",
    "        1 / math.sqrt(2) * math.sin(math.radians(25)) * 30,\n",
    "        # Shift in z.\n",
    "        0.0,\n",
    "    ],\n",
    "}"
   ]
  },
  {
   "cell_type": "code",
   "execution_count": null,
   "metadata": {},
   "outputs": [],
   "source": [
    "# Create and configure a Pythia instance.\n",
    "pythia = pythia8.Pythia()\n",
    "\n",
    "# Configure Pythia here. We can look at top production for example.\n",
    "pythia.readString(\"Top:gg2ttbar = on\")\n",
    "\n",
    "# Initialize Pythia and print the event.\n",
    "pythia.init()\n",
    "pythia.next()\n",
    "pythia.event.list()\n",
    "\n",
    "# Initialize the Visualization class\n",
    "vistas = visualization.Visualization(pythia, settings, \"test.json\")\n",
    "vistas.get_json();"
   ]
  }
 ],
 "metadata": {
  "colab": {
   "collapsed_sections": [
    "Requirements"
   ],
   "provenance": []
  },
  "kernelspec": {
   "display_name": "Python 3 (ipykernel)",
   "language": "python",
   "name": "python3"
  },
  "language_info": {
   "codemirror_mode": {
    "name": "ipython",
    "version": 3
   }
  }
 },
 "nbformat": 4,
 "nbformat_minor": 0
}