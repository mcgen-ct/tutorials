{
 "cells": [
  {
   "cell_type": "code",
   "execution_count": null,
   "metadata": {},
   "outputs": [],
   "source": [
    "# Import the necessary modules.\n",
    "import pkg_resources, sys, imp"
   ]
  },
  {
   "cell_type": "code",
   "execution_count": null,
   "metadata": {},
   "outputs": [],
   "source": [
    "# Define the requirements for all notebooks.\n",
    "ipynbs = {\n",
    "    \"mc/hadronization.ipynb\": [\"numpy\", \"matplotlib\", \"math\"],\n",
    "    \"mc/hard_process.ipynb\": [\"pythia8mc\", \"wurlitzer\", \"numpy\", \"math\"],\n",
    "    \"mc/integrate.ipynb\": [\"numpy\", \"matplotlib\", \"math\"],\n",
    "    \"mc/parton_shower.ipynb\": [\"matplotlib\", \"numpy\"],\n",
    "    \"mc/rng.ipynb\": [\"numpy\", \"scipy\", \"sys\", \"math\", \"inspect\", \"time\", \"matplotlib\"],\n",
    "    \"ml/autodiff.ipynb\": [\"matplotlib\", \"numpy\", \"torch\", \"jax\", \"graphviz\"],\n",
    "    \"ml/classify.ipynb\": [\n",
    "        \"os\",\n",
    "        \"numpy\",\n",
    "        \"matplotlib\",\n",
    "        \"pandas\",\n",
    "        \"numpy\",\n",
    "        \"urllib\",\n",
    "        \"bs4\",\n",
    "        \"sklearn\",\n",
    "    ],\n",
    "    \"ml/decision_trees_random_forests_boosted_decision_trees.ipynb\": [\n",
    "        \"os\",\n",
    "        \"sys\",\n",
    "        \"numpy\",\n",
    "        \"matplotlib\",\n",
    "        \"pandas\",\n",
    "        \"cv2\",\n",
    "        \"scipy\",\n",
    "        \"sklearn\",\n",
    "        \"xgboost\",\n",
    "    ],\n",
    "    \"ml/example_top_dataset.ipynb\": [\n",
    "        \"os\",\n",
    "        \"numpy\",\n",
    "        \"scipy\",\n",
    "        \"matplotlib\",\n",
    "        \"h5py\",\n",
    "        \"pandas\",\n",
    "        \"sklearn\",\n",
    "        \"torch\",\n",
    "    ],\n",
    "    \"ml/flows.ipynb\": [\n",
    "        \"os\",\n",
    "        \"sys\",\n",
    "        \"numpy\",\n",
    "        \"scipy\",\n",
    "        \"matplotlib\",\n",
    "        \"torch\",\n",
    "        \"tqdm\",\n",
    "        \"nflows\",\n",
    "    ],\n",
    "    \"ml/neural_networks.ipynb\": [\"matplotlib\", \"numpy\"],\n",
    "    \"ml/neural_networks_jax_pytorch_tensorflow.ipynb\": [\n",
    "        \"os\",\n",
    "        \"sys\",\n",
    "        \"numpy\",\n",
    "        \"math\",\n",
    "        \"scipy\",\n",
    "        \"matplotlib\",\n",
    "        \"jax\",\n",
    "        \"time\",\n",
    "        \"torch\",\n",
    "        \"tensorflow\",\n",
    "        \"sklearn\",\n",
    "    ],\n",
    "    \"ml/regression.ipynb\": [\"os\", \"numpy\", \"matplotlib\", \"sklearn\", \"scipy\"],\n",
    "    \"ml/unsupervised.ipynb\": [\"os\", \"numpy\", \"matplotlib\", \"sklearn\"],\n",
    "    \"pythia/tuning.ipynb\": [\"pythia8mc\", \"wurlitzer\", \"matplotlib\", \"numpy\", \"math\"],\n",
    "    \"pythia/worksheet.ipynb\": [\n",
    "        \"pythia8mc\",\n",
    "        \"wurlitzer\",\n",
    "        \"matplotlib\",\n",
    "        \"os\",\n",
    "        \"argparse\",\n",
    "    ],\n",
    "}"
   ]
  },
  {
   "cell_type": "code",
   "execution_count": null,
   "metadata": {},
   "outputs": [],
   "source": [
    "# Create the version database.\n",
    "versions = {}\n",
    "for ipynb, modules in ipynb.items():\n",
    "    for module in modules:\n",
    "        # Check if the module has already been added.\n",
    "        if module in versions:\n",
    "            continue\n",
    "\n",
    "        # Try to query the module with pip.\n",
    "        try:\n",
    "            info = !pip show {module}\n",
    "        except:\n",
    "            info = []\n",
    "        for line in info:\n",
    "            if line.startswith(\"Version:\"):\n",
    "                versions[module] = line.replace(\"Version:\", \"\").strip()\n",
    "                break\n",
    "        if module in versions:\n",
    "            continue\n",
    "\n",
    "        # Determine the module version using the dunder member.\n",
    "        try:\n",
    "            versions[module] = eval(f\"{module}.__version__\")\n",
    "            continue\n",
    "        except:\n",
    "            pass\n",
    "\n",
    "        # Determine the module version using package resources.\n",
    "        try:\n",
    "            versions[module] = pkg_resources.get_distribution(module).version\n",
    "        except:\n",
    "            versions[module] = \"built-in\"\n",
    "            print(f\"Setting module `{module}` as built-in.\")\n",
    "\n",
    "# Determine the Python version.\n",
    "versions[\"python\"] = sys.version"
   ]
  },
  {
   "cell_type": "code",
   "execution_count": null,
   "metadata": {},
   "outputs": [],
   "source": [
    "# Determine the Python version.\n",
    "versions[\"python\"] = sys.version"
   ]
  },
  {
   "cell_type": "code",
   "execution_count": null,
   "metadata": {},
   "outputs": [],
   "source": [
    "# Print the requirements.\n",
    "for ipynb, modules in sorted([(ipynb, modules) for ipynb, modules in ipynbs.items()]):\n",
    "    modules = sorted([f\"`{module}`\" for module in modules])\n",
    "    modules = \", \".join(modules)\n",
    "    print(f\"* [`{ipynb}`]({ipynb}): {modules}\")"
   ]
  },
  {
   "cell_type": "code",
   "execution_count": null,
   "metadata": {},
   "outputs": [],
   "source": [
    "# Print the versions.\n",
    "modules = sorted([(module, version) for module, version in versions.items()])\n",
    "for module, version in modules:\n",
    "    if version != None:\n",
    "        print(f\"* `{module}`: `{version}`\")"
   ]
  }
 ],
 "metadata": {
  "colab": {
   "collapsed_sections": [],
   "provenance": []
  },
  "kernelspec": {
   "display_name": "Python 3 (ipykernel)",
   "language": "python",
   "name": "python3"
  },
  "language_info": {
   "codemirror_mode": {
    "name": "ipython",
    "version": 3
   }
  }
 },
 "nbformat": 4,
 "nbformat_minor": 0
}