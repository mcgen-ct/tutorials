{
  "nbformat": 4,
  "nbformat_minor": 0,
  "metadata": {
    "colab": {
      "provenance": []
    },
    "kernelspec": {
      "name": "python3",
      "display_name": "Python 3"
    },
    "language_info": {
      "name": "python"
    }
  },
  "cells": [
    {
      "cell_type": "code",
      "execution_count": 2,
      "metadata": {
        "id": "LR9ZrFFrTT3A"
      },
      "outputs": [],
      "source": [
        "# Import the necessary modules.\n",
        "import pkg_resources, sys"
      ]
    },
    {
      "cell_type": "code",
      "source": [
        "# Define the requirements for all notebooks.\n",
        "requirements = {\n",
        "    \"mc/hadronization.py\": [\"numpy\", \"matplotlib\", \"math\"],\n",
        "    \"mc/hard_process\": [\"pythia8mc\", \"wurlitzer\", \"numpy\", \"math\"],\n",
        "    \"mc/integrate.ipynb\": [\"numpy\", \"matplotlib\", \"math\"],\n",
        "    \"mc/parton_shower.ipynb\": [\"matplotlib\", \"numpy\"],\n",
        "    \"mc/rng.ipynb\": [\"numpy\", \"scipy\", \"sys\", \"math\", \"inspect\", \"time\", \"matplotlib\"],\n",
        "    \"ml/autodiff.ipynb\": [\"matplotlib\", \"numpy\", \"torch\", \"jax\", \"graphviz\"],\n",
        "    \"ml/classify.ipynb\": [\"os\", \"numpy\", \"matplotlib\", \"pandas\", \"numpy\", \"urllib\", \"bs4\", \"sklearn\"],\n",
        "    \"ml/decision_trees_random_forests_boosted_decision_trees.ipynb\": [\"os\", \"sys\", \"numpy\", \"matplotlib\", \"pandas\", \"cv2\", \"scipy\", \"sklearn\", \"xgboost\"],\n",
        "    \"ml/example_top_dataset.ipynb\": [\"os\", \"numpy\", \"scipy\", \"matplotlib\", \"h5py\", \"pandas\", \"sklearn\", \"torch\"],\n",
        "    \"ml/flows.ipynb\": [\"os\", \"sys\", \"numpy\", \"scipy\", \"matplotlib\", \"torch\", \"tqdm\", \"nflows\"],\n",
        "    \"ml/neural_networks.ipynb\": [\"matplotlib\", \"numpy\"],\n",
        "    \"ml/neural_networks_jax_pytorch_tensorflow.ipynb\": [\"os\", \"sys\", \"numpy\", \"math\", \"scipy\", \"matplotlib\", \"jax\", \"time\", \"torch\", \"tensorflow\", \"sklearn\"],\n",
        "    \"ml/regression.ipynb\": [\"os\", \"numpy\", \"matplotlib\", \"sklearn\", \"scipy\"],\n",
        "    \"ml/unsupervised.ipynb\": [\"os\", \"numpy\", \"matplotlib\", \"sklearn\", \"mpl_toolkits\"],\n",
        "    \"pythia/tuning.ipynb\": [\"pythia8mc\", \"wurlitzer\", \"matplotlib\", \"numpy\", \"math\"],\n",
        "    \"pythia/worksheet.ipynb\": [\"pythia8mc\", \"wurlitzer\", \"matplotlib\", \"os\", \"argparse\"],\n",
        "\n",
        "}"
      ],
      "metadata": {
        "id": "4WgwyacEaJyI"
      },
      "execution_count": 3,
      "outputs": []
    },
    {
      "cell_type": "code",
      "source": [
        "# Create the version database.\n",
        "versions = {}\n",
        "for notebook, modules in requirements.items():\n",
        "    for module in modules:\n",
        "\n",
        "        # Check if the module has already been added.\n",
        "        if module in versions:\n",
        "            continue\n",
        "\n",
        "        # Check if the module is built in.\n",
        "        if module in sys.builtin_module_names:\n",
        "            versions[module] = sys.version\n",
        "            continue\n",
        "\n",
        "        # Try to load the module.\n",
        "        try:\n",
        "            exec(f\"import {module}\")\n",
        "        except:\n",
        "            # Try to install and load the module.\n",
        "            try:\n",
        "                !pip install -q {module}\n",
        "                exec(f\"import {module}\")\n",
        "            except:\n",
        "                pass\n",
        "\n",
        "        # Determine the module version using the dunder member.\n",
        "        try:\n",
        "            versions[module] = eval(f\"{module}.__version__\")\n",
        "            continue\n",
        "        except:\n",
        "            pass\n",
        "\n",
        "        # Determine the module version using package resources.\n",
        "        try:\n",
        "            versions[module] = pkg_resources.get_distribution(module).version\n",
        "        except:\n",
        "            versions[module] = None\n",
        "            print(f\"Could not find version for module `{module}`.\")"
      ],
      "metadata": {
        "colab": {
          "base_uri": "https://localhost:8080/"
        },
        "id": "AIH_9mqdViSS",
        "outputId": "900ae350-2580-4cc8-ae0b-0e1675b55887"
      },
      "execution_count": 20,
      "outputs": [
        {
          "output_type": "stream",
          "name": "stdout",
          "text": [
            "Could not find version for module `inspect`.\n",
            "Could not find version for module `os`.\n",
            "Could not find version for module `urllib`.\n",
            "Could not find version for module `mpl_toolkits`.\n"
          ]
        }
      ]
    },
    {
      "cell_type": "code",
      "source": [
        "# Determine the Python version.\n",
        "versions[\"python\"] = sys.version"
      ],
      "metadata": {
        "id": "bJGVdy3cTdeY"
      },
      "execution_count": 21,
      "outputs": []
    },
    {
      "cell_type": "code",
      "source": [
        "# Print the result.\n",
        "modules = sorted([(module, version) for module, version in versions.items()])\n",
        "for module, version in modules:\n",
        "    if version != None:\n",
        "        print(f\"* `{module}`: `{version}`\")"
      ],
      "metadata": {
        "colab": {
          "base_uri": "https://localhost:8080/"
        },
        "id": "dsjbrB9XTtQT",
        "outputId": "b140bcaf-f83b-4d6f-ff9d-59e0f8e4354b"
      },
      "execution_count": 22,
      "outputs": [
        {
          "output_type": "stream",
          "name": "stdout",
          "text": [
            "* `argparse`: `1.1`\n",
            "* `bs4`: `4.13.4`\n",
            "* `cv2`: `4.11.0`\n",
            "* `graphviz`: `0.21`\n",
            "* `h5py`: `3.14.0`\n",
            "* `jax`: `0.5.2`\n",
            "* `math`: `3.11.13 (main, Jun  4 2025, 08:57:29) [GCC 11.4.0]`\n",
            "* `matplotlib`: `3.10.0`\n",
            "* `nflows`: `0.14`\n",
            "* `numpy`: `2.0.2`\n",
            "* `pandas`: `2.2.2`\n",
            "* `pythia8mc`: `8.315.0`\n",
            "* `python`: `3.11.13 (main, Jun  4 2025, 08:57:29) [GCC 11.4.0]`\n",
            "* `scipy`: `1.15.3`\n",
            "* `sklearn`: `1.6.1`\n",
            "* `sys`: `3.11.13 (main, Jun  4 2025, 08:57:29) [GCC 11.4.0]`\n",
            "* `tensorflow`: `2.18.0`\n",
            "* `time`: `3.11.13 (main, Jun  4 2025, 08:57:29) [GCC 11.4.0]`\n",
            "* `torch`: `2.6.0+cu124`\n",
            "* `tqdm`: `4.67.1`\n",
            "* `wurlitzer`: `3.1.1`\n",
            "* `xgboost`: `2.1.4`\n"
          ]
        }
      ]
    },
    {
      "cell_type": "code",
      "source": [],
      "metadata": {
        "id": "X2N-bvSxvo-D"
      },
      "execution_count": null,
      "outputs": []
    }
  ]
}